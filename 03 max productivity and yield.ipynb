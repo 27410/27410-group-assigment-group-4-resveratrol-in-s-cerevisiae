{
 "cells": [
  {
   "cell_type": "markdown",
   "metadata": {},
   "source": [
    "#### Calculate theoretical maximum yields for chosen product for suitable carbon sources"
   ]
  },
  {
   "cell_type": "code",
   "execution_count": 1,
   "metadata": {},
   "outputs": [],
   "source": [
    "# https://github.com/27410/group-assignment-2021-Group-69420-lycopene-production-in-S.cerevisiae/blob/644cd817bfcb7013fc665df730ee4ef62d44e6b3//03_theoretical_yields.ipynb"
   ]
  },
  {
   "cell_type": "code",
   "execution_count": 2,
   "metadata": {},
   "outputs": [],
   "source": [
    "from cobra.io import read_sbml_model"
   ]
  },
  {
   "cell_type": "code",
   "execution_count": 5,
   "metadata": {},
   "outputs": [],
   "source": [
    "model = read_sbml_model('data/models/iMM904.xml')"
   ]
  },
  {
   "cell_type": "markdown",
   "metadata": {},
   "source": [
    "#####"
   ]
  },
  {
   "cell_type": "code",
   "execution_count": null,
   "metadata": {},
   "outputs": [],
   "source": [
    "\n",
    "with model:\n",
    "    model.objective = model.reactions.CrtI #Setting the objective to the reaction, which is producing Lycopene\n",
    "    lycopene_production = model.optimize().objective_value\n",
    "    print('Maximum productivity of lycopene =', lycopene_production, 'mmol/gDW*h')\n",
    "\n",
    "    glc_uptake_flux = model.reactions.r_1714.flux \n",
    "    max_yield = lycopene_production / (-1*glc_uptake_flux)\n",
    "    print('Maximum theoretical yield =', max_yield, 'mmol-lyco/mmol-glc')\n",
    "    \n",
    "# Factors for conversion from mol to C-mol\n",
    "cv_glc = 6   # Glucose\n",
    "cv_lyco = 40 # Lycopene\n",
    "\n",
    "lyco_prod_cmol = (lycopene_production)/(cv_lyco)\n",
    "lyco_yield_cmol = (max_yield*cv_lyco)/(cv_glc)\n",
    "print('Maximum productivity of lycopene =', lyco_prod_cmol, 'cmol-lyco/gDW*h')\n",
    "print('Maximum theoretical yield =', lyco_yield_cmol, 'cmol-lyco/cmol-glc')\n",
    "\"\"\""
   ]
  },
  {
   "cell_type": "code",
   "execution_count": null,
   "metadata": {},
   "outputs": [],
   "source": [
    "# increase glucose concentration for increased product concentration\n",
    "# Checking medium composition via the extracellular exchange reactions\n",
    "\"\"\"\n",
    "for m in model.medium.items():\n",
    "    print(model.reactions.get_by_id(m[0]), \"|\", model.reactions.get_by_id(m[0]).name, \"| conc. =\", m[1])\n",
    "\n",
    "medium_glc_ex = model.reactions.get_by_id('r_1714')\n",
    "\n",
    "medium = model.medium\n",
    "with model: #modification are done locally within the indent\n",
    "    growth_rate = model.optimize().objective_value\n",
    "    print(\"At glucose concentration = {}:\".format(medium[medium_glc_ex.id]), \"Maximum theoretical growth rate =\", growth_rate, \"h^-1\")\n",
    "    \n",
    "    medium[medium_glc_ex.id] = 1000 #glucose level is changed \n",
    "    model.medium = medium\n",
    "    \n",
    "    growth_rate = model.optimize().objective_value\n",
    "    print(\"At glucose concentration = {}:\".format(medium[medium_glc_ex.id]), \"Maximum theoretical growth rate =\", growth_rate, \"h^-1\")\n",
    "\n",
    "medium = model.medium\n",
    "with model:\n",
    "    model.objective = model.reactions.CrtI #Setting the objective to the reaction, which is producing Lycopene\n",
    "    lycopene_production = model.optimize().objective_value\n",
    "    print(\"At glucose concentration = {}:\".format(medium[medium_glc_ex.id]))\n",
    "    print('Maximum theoretical productivity of lycopene =', lycopene_production, 'mmol/(gDW*h^-1)')\n",
    "    \n",
    "    glc_uptake_flux = model.reactions.r_1714.flux \n",
    "    max_yield = lycopene_production / (-1*glc_uptake_flux)\n",
    "    print('Maximum theoretical yield =', max_yield, 'mmol-lyco/mmol-glc\\n')\n",
    "    \n",
    "    medium[medium_glc_ex.id] = 700\n",
    "    model.medium = medium\n",
    "\n",
    "    lycopene_production = model.optimize().objective_value\n",
    "    glc_uptake_flux = model.reactions.r_1714.flux\n",
    "    max_yield = lycopene_production / (-1*glc_uptake_flux)\n",
    "    print(\"At glucose concentration = {}:\".format(medium[medium_glc_ex.id]))\n",
    "    print('Maximum theoretical productivity of lycopene =', lycopene_production, 'mmol/(gDW*h*^-1)')\n",
    "    print('Maximum theoretical yield =', max_yield, 'mmol-lyco/mmol-glc\\n')\n",
    "\"\"\""
   ]
  },
  {
   "cell_type": "code",
   "execution_count": null,
   "metadata": {},
   "outputs": [],
   "source": [
    "# comparison with literature values?"
   ]
  },
  {
   "cell_type": "markdown",
   "metadata": {},
   "source": [
    "#### Plot phenotypic phase planes for relevant process conditions (anaerobic vs aerobic, what does make more sense?)"
   ]
  },
  {
   "cell_type": "code",
   "execution_count": 1,
   "metadata": {},
   "outputs": [],
   "source": [
    "# https://github.com/27410/group-assignment-2021-Group-69420-lycopene-production-in-S.cerevisiae/blob/644cd817bfcb7013fc665df730ee4ef62d44e6b3//04_phenotype_phase_plane_analysis.ipynb"
   ]
  },
  {
   "cell_type": "markdown",
   "metadata": {},
   "source": [
    "#### Computationally enumerate all potential production pathways to your chosen product (even if it is a native product) and score them by different metrics (yield, number of steps added)"
   ]
  },
  {
   "cell_type": "code",
   "execution_count": null,
   "metadata": {},
   "outputs": [],
   "source": []
  },
  {
   "cell_type": "markdown",
   "metadata": {},
   "source": [
    "#### Compute gene knockout strategies using algorithms like OptKnock, OptGene and OptCOuple"
   ]
  },
  {
   "cell_type": "code",
   "execution_count": null,
   "metadata": {},
   "outputs": [],
   "source": []
  },
  {
   "cell_type": "markdown",
   "metadata": {},
   "source": [
    "#### Compute over-expression and down-regulation targets"
   ]
  },
  {
   "cell_type": "code",
   "execution_count": null,
   "metadata": {},
   "outputs": [],
   "source": []
  },
  {
   "cell_type": "markdown",
   "metadata": {},
   "source": [
    "#### Compute co-factor swap targets"
   ]
  },
  {
   "cell_type": "code",
   "execution_count": null,
   "metadata": {},
   "outputs": [],
   "source": []
  },
  {
   "cell_type": "markdown",
   "metadata": {},
   "source": [
    "#### Assess your predicted strain designs using simulations and pathway visualizations"
   ]
  },
  {
   "cell_type": "code",
   "execution_count": null,
   "metadata": {},
   "outputs": [],
   "source": []
  },
  {
   "cell_type": "markdown",
   "metadata": {},
   "source": [
    "#### Simulate batch cultivations using dynamic FB"
   ]
  },
  {
   "cell_type": "code",
   "execution_count": null,
   "metadata": {},
   "outputs": [],
   "source": []
  }
 ],
 "metadata": {
  "kernelspec": {
   "display_name": "python3.6",
   "language": "python",
   "name": "python3.6"
  },
  "language_info": {
   "codemirror_mode": {
    "name": "ipython",
    "version": 3
   },
   "file_extension": ".py",
   "mimetype": "text/x-python",
   "name": "python",
   "nbconvert_exporter": "python",
   "pygments_lexer": "ipython3",
   "version": "3.6.12"
  }
 },
 "nbformat": 4,
 "nbformat_minor": 4
}
