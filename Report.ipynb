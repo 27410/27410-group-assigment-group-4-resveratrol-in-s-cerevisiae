{
 "cells": [
  {
   "cell_type": "markdown",
   "metadata": {},
   "source": [
    "# Resveratrol production in Saccharomyces cerevisiae"
   ]
  },
  {
   "cell_type": "markdown",
   "metadata": {},
   "source": [
    "## 1. Introduction"
   ]
  },
  {
   "cell_type": "markdown",
   "metadata": {},
   "source": [
    "### 1.1 Literature review of the compound (<500 words)"
   ]
  },
  {
   "cell_type": "markdown",
   "metadata": {},
   "source": [
    "### 1.2 Literature review of the cell factory (<500 words)"
   ]
  },
  {
   "cell_type": "markdown",
   "metadata": {},
   "source": [
    "## 2. Problem definition (<300 words)"
   ]
  },
  {
   "cell_type": "markdown",
   "metadata": {},
   "source": [
    "## 3. *If Project category II:* Selection and assessment of existing GSM (<500 words)"
   ]
  },
  {
   "cell_type": "markdown",
   "metadata": {},
   "source": [
    "Saccharomyces cerevisiae is used more than any other yeast species as a cell factory for resveratrol production. Throughout the years, many different strains have been annotated, curated and improved due to the high interest in industrial applications and de novo synthesis of products. Nevertheless, no GSMM is currently available for the specific strain that is used for resveratrol production optimization, the CEN.PK102-5B. \n",
    "\n",
    "In order to choose the optimal GSM available, we compared the models iMM904 and Yeast8 using memote by the Novo Nordisk Foundation Center for Biosustainability. iMM904was reconstructed based on the existing GSM iND750 and validated by comparing 2,888 in silico single-gene deletion strain growth phenotype predictions to published experimental data, where the predicted intracellular flux changes were consistent with previously published data (Mo et al., 2009).  Yeast8 is the current consensus genome-scale metabolic model of Saccharomyces cerevisiae, continuously updated and tracked on a GitHub repository.  For its development, several databases were used for gene annotation, resulting in an enriched GSM (Lu et al., 2019). \n",
    "\n",
    "#### GSM comparison using memote. "
   ]
  },
  {
   "cell_type": "markdown",
   "metadata": {},
   "source": [
    "| Model | Total metabolites | Total reactions  | Total Genes  | Metabolic coverage  | Total Score (%) |\n",
    "|----------------------|-----------------|------------------|--------------------|--------------|---------------------|\n",
    "| iMM904 | 1,226 | 1,577 | 905 | 1.74 | 81 |\n",
    "| Yeast8 | 2,744 | 4,063 | 1,160 | 3.50 | 65 |"
   ]
  },
  {
   "cell_type": "markdown",
   "metadata": {},
   "source": [
    "Although iMM904 had an overall higher score than Yeast8, we decided to go for the model with more reactions, metabolites, and genes, expecting that the complexity of the network can provide an ideal canvas for the engineering and optimization of S. cerevisiae for resveratrol production. "
   ]
  },
  {
   "cell_type": "markdown",
   "metadata": {},
   "source": [
    "## 4. Computer-Aided Cell Factory Engineering (<1500 words if Category II project; <500 words for Category I project)"
   ]
  },
  {
   "cell_type": "markdown",
   "metadata": {},
   "source": [
    "#### Maximal theoretical yields and productivity"
   ]
  },
  {
   "cell_type": "markdown",
   "metadata": {},
   "source": [
    "The maximum theoretical productiviy and yield of resveratrol were calculated with  different glucose concentrations, 1, 4 and 10 mmol/(g DW • h-1). \n",
    "As we can see in the following results, the biomass, yield and resveratrol increase with the glucose concentration."
   ]
  },
  {
   "cell_type": "markdown",
   "metadata": {},
   "source": [
    "| Glucose <br>[mmol/gDW•h-1] | Maximum productivity <br> [mmol/gDW•h-1] | Yield <br> [mmol-resv/mmol-gluc] | Growth rate <br> h^{1} |\n",
    "|------------------------| ------------------------------------------------|----------------------------|-------------|\n",
    "| 1  | 0.155 | 0.155 | 0.082 | \n",
    "| 4  | 1.122 | 0.280 | 0.337 |\n",
    "| 10 | 3.054 | 0.305 | 0.847 |"
   ]
  },
  {
   "cell_type": "markdown",
   "metadata": {},
   "source": [
    "#### Phenotypic phase planes for relevant conditions"
   ]
  },
  {
   "cell_type": "markdown",
   "metadata": {},
   "source": [
    "To have a better understanding of our model and to allow for further optimization of the GSM, the glucose and oxygen uptake rates were plotted against and the biomass and resveratrol prodcution rates. A minimum biomass of 50% of the initial objective was imposed in the model to assure the resources were allocated both in the growth reaction and the resveratrol-producing reactiom.\n",
    "\n",
    "The following figure reflects the linear relantionship between the biomass and glucose uptake. The more glucose, the more biomass. However, we were also interested in knowing what the maximum glucose concentration could be. As we can se in the second figure, the biomass decreases significantly after a glucose concentration of 600 mmol/gDWh<sup>-1. "
   ]
  },
  {
   "cell_type": "markdown",
   "metadata": {},
   "source": [
    "This escenario is unrealistic since such a hihg concentration will never be supplied to the medium."
   ]
  },
  {
   "cell_type": "markdown",
   "metadata": {},
   "source": [
    "<img src=\"/Users/abril/Documents/DTU/CFD_Resveratrol/27410-group-assigment-group-4-resveratrol-in-s-cerevisiae/figures/biomas_vs_glucose4.png\"> \n",
    "<img src=\"/Users/abril/Documents/DTU/CFD_Resveratrol/27410-group-assigment-group-4-resveratrol-in-s-cerevisiae/figures/biomass_glucose_max.png\"> "
   ]
  },
  {
   "cell_type": "markdown",
   "metadata": {},
   "source": [
    "Resveratrol production is not possible in anaerobic conditions, therefore different O2 concentrations were plotted to reach optimal solution for biomass growth and resveratrol prodcution. Optimal oxygen uptake was set to 4, as well as glucose concentration based in literature findings. RODRIGO HERE THE REFERENCE FOR GLUCOSE AND OXYGEN."
   ]
  },
  {
   "cell_type": "markdown",
   "metadata": {},
   "source": [
    "<img src=\"/Users/abril/Documents/DTU/CFD_Resveratrol/27410-group-assigment-group-4-resveratrol-in-s-cerevisiae/figures/o2_4_glucose4.png\"> "
   ]
  },
  {
   "cell_type": "markdown",
   "metadata": {},
   "source": [
    "### Dynamic FBA"
   ]
  },
  {
   "cell_type": "markdown",
   "metadata": {},
   "source": [
    "A dynamic FBA was performed on the model to have a visualization of how the fluxes of biomass, O2, glucose and resveratrol behave together. As we can see in the picture, while the glucose concentration decreases, resveratrol prodcution and biomass."
   ]
  },
  {
   "cell_type": "markdown",
   "metadata": {},
   "source": [
    "<img src=\"/Users/abril/Documents/DTU/CFD_Resveratrol/27410-group-assigment-group-4-resveratrol-in-s-cerevisiae/figures/dfba.png\"> "
   ]
  },
  {
   "cell_type": "markdown",
   "metadata": {},
   "source": [
    "## 5. Discussion (<500 words)"
   ]
  },
  {
   "cell_type": "markdown",
   "metadata": {},
   "source": [
    "## 6. Conclusion (<200 words)"
   ]
  },
  {
   "cell_type": "markdown",
   "metadata": {},
   "source": [
    "## References"
   ]
  },
  {
   "cell_type": "code",
   "execution_count": null,
   "metadata": {},
   "outputs": [],
   "source": []
  }
 ],
 "metadata": {
  "kernelspec": {
   "display_name": "Python 3.10.7 64-bit",
   "language": "python",
   "name": "python3"
  },
  "language_info": {
   "codemirror_mode": {
    "name": "ipython",
    "version": 3
   },
   "file_extension": ".py",
   "mimetype": "text/x-python",
   "name": "python",
   "nbconvert_exporter": "python",
   "pygments_lexer": "ipython3",
   "version": "3.10.7"
  },
  "vscode": {
   "interpreter": {
    "hash": "aee8b7b246df8f9039afb4144a1f6fd8d2ca17a180786b69acc140d282b71a49"
   }
  }
 },
 "nbformat": 4,
 "nbformat_minor": 4
}
