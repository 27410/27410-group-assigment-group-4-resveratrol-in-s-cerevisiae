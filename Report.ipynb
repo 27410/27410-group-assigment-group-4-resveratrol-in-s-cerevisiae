{
 "cells": [
  {
   "cell_type": "markdown",
   "metadata": {},
   "source": [
    "# Resveratrol production in Saccharomyces cerevisiae"
   ]
  },
  {
   "cell_type": "markdown",
   "metadata": {},
   "source": [
    "## 1. Introduction"
   ]
  },
  {
   "cell_type": "markdown",
   "metadata": {},
   "source": [
    "### 1.1 Literature review of the compound"
   ]
  },
  {
   "cell_type": "markdown",
   "metadata": {},
   "source": [
    "Resveratrol (Trans 3,5,4 trihydroxystilbene) is a polyphenolic stilbenoid generally produced by grapevines (Vitis vinifera) and other plants in response to attack by pathogenic micro-organisms, UV radiation or wounding (Becker et al., 2003).  It has a molecular weight of 228.25 g/mol and its molecular formula is C14H12O3. It exists in two geometrical conformations: cis and trans, the first form being formed upon exposure to UV and visible radiation and the latter being the most stable (Dhingra et al., 2021). \n",
    "\n",
    "As it functions as an anti-oxidant and anti-mutagen it has been deployed to treat cancer by promoting cell cycle arrest thereby leading to apoptosis, and can also be used as a cardio-protective agent against fatal heart conditions. \n",
    "\n",
    " \n",
    "\n",
    "Even though resveratrol has diverse applications, the bioavailability of this drug is quite low and cannot be administered orally. This is due to extensive glucuronidation and sulfation in the liver, this makes the metabolism of the drug quite slower. \n",
    "\n",
    " \n",
    " \n",
    "\n",
    "Despite low bioavailability resveratrol shows neuroprotective potential in vitro and in vivo. This property is being potentially used against Alzheimer Disease. (Dhingra et al., 2021) \n",
    "\n",
    " \n",
    "\n",
    "Resveratrol is used as a food supplement because helps increase lean mass and reduces weight, fat mass, body mass index (Tabrizi, 2018)\n",
    " \n",
    "\n",
    "Resveratrol is currently being used in skin-care formulations due to its skin protection and regeneration properties. It prevents premature skin ageing by blocking type B UV radiation and accelerates wound healing, which could potentially be used after surgery for a faster recovery. (Leis et al., 2022) \n",
    "\n",
    " \n",
    "\n",
    "Trans-resveratrol is the commercially used isomer due to its higher stability than the cis-resveratrol isomer. (Dhingra et al., 2021) "
   ]
  },
  {
   "cell_type": "markdown",
   "metadata": {},
   "source": [
    "<img src = \"figures/Rodrigo1.png\">"
   ]
  },
  {
   "cell_type": "markdown",
   "metadata": {},
   "source": [
    "Figure 1. Resveratrol biosynthesis. (Becker et al., 2003)"
   ]
  },
  {
   "cell_type": "markdown",
   "metadata": {},
   "source": [
    "### 1.2 Literature review of the cell factory"
   ]
  },
  {
   "cell_type": "markdown",
   "metadata": {},
   "source": [
    "Yeast (Saccharomyces cerevisiae) has been traditionally used as a cell factory for hundreds of years, mainly to produce ethanol in the form of beer and wine. Its importance in the food industry can’t be understated; it’s used heavily in the production of all the alcoholic beverages worldwide (including beer, wine and spirits), in bread manufacturing, cider, fermentation of cacao beans, to name a few. (Stewart, 2014) \n",
    "\n",
    "S. cerevisiae is recognized by the FDA as a GRAS microorganism (Generally Regarded As Safe)  (Yamada, 2021). It was the first eukaryote genome to be sequenced, which was published in in 1996,  and it’s  currently the most widely researched microorganism (Stewart, 2014).  \n",
    "\n",
    "S. cerevisiae is a robust single cell organism that can be cultured easily in inexpensive medium and has a doubling time of 1.25 - 2 h at 30 °C. The ability to culture it as a haploid makes it an interesting choice for genetic engineering as it simplifies the isolation between mutants and haploid-hybrids. In its haploid form it contains 16 chromosomes, 6275 genes and 12 million base pairs.  \n",
    "\n",
    "Since the publication of its genome, S. cerevisiae has been of great interest to rationally manipulate its genome for commercial purposes.  "
   ]
  },
  {
   "cell_type": "markdown",
   "metadata": {},
   "source": [
    "## 2. Problem definition"
   ]
  },
  {
   "cell_type": "markdown",
   "metadata": {},
   "source": [
    "In 2021, the global market size of resveratrol was 82.1 million and it has a compound annual growth rate of 7.1 % [1]. Due to a rapidly increasing demand of resveratrol in the future for several applications such as health products and disease treatments, it becomes necessary to produce it in a large-scale process. Even though plants are the natural resource of resveratrol, the production is not sufficient, since it is limited by high costs, low titers, and complex extractions, purification, and concentration processes. The bioproduction of resveratrol in Saccharomyces cerevisiae could reduce the currently high price of 1.86 USD/mg [2]. Microorganisms including S. cerevisiae are common producers of pharmaceuticals and other bioproducts in industry because they grow quickly, can synthesize a high variety of different products and are easy to downstream. (Ibrahim, G.G. et al., 2021)\n",
    "\n",
    "Using genetic and metabolic enginnering technologies, S. cerevisiae strains can be adapted for the heterologous production of resveratrol on a chosen substrate such as glucose. Since the production rate of heterologous products are often low further development steps are necessary. Computer aided technologies for genetic and metabolic modelling are valuable tools to detect by-product, production limitations due to a low precursor supply, low activity of enzymes or other limiting factors. (Wang, Jian et al., 2018)"
   ]
  },
  {
   "cell_type": "markdown",
   "metadata": {},
   "source": [
    "## 3. Selection and assessment of existing GSM"
   ]
  },
  {
   "cell_type": "markdown",
   "metadata": {},
   "source": [
    "Saccharomyces cerevisiae is used more than any other yeast species as a cell factory for resveratrol production. Throughout the years, many different strains have been annotated, curated and improved due to the high interest in industrial applications and de novo synthesis of products. Nevertheless, no GSMM is currently available for the specific strain that is used for resveratrol production optimization, the CEN.PK102-5B. \n",
    "\n",
    "In order to choose the optimal GSM available, we compared the models iMM904 and Yeast8 using memote by the Novo Nordisk Foundation Center for Biosustainability. iMM904was reconstructed based on the existing GSM iND750 and validated by comparing 2,888 in silico single-gene deletion strain growth phenotype predictions to published experimental data, where the predicted intracellular flux changes were consistent with previously published data (Mo et al., 2009).  Yeast8 is the current consensus genome-scale metabolic model of Saccharomyces cerevisiae, continuously updated and tracked on a GitHub repository.  For its development, several databases were used for gene annotation, resulting in an enriched GSM (Lu et al., 2019). \n",
    "\n",
    "#### GSM comparison using memote. "
   ]
  },
  {
   "cell_type": "markdown",
   "metadata": {},
   "source": [
    "| Model | Total metabolites | Total reactions  | Total Genes  | Metabolic coverage  | Total Score (%) |\n",
    "|----------------------|-----------------|------------------|--------------------|--------------|---------------------|\n",
    "| iMM904 | 1,226 | 1,577 | 905 | 1.74 | 81 |\n",
    "| Yeast8 | 2,744 | 4,063 | 1,160 | 3.50 | 65 |"
   ]
  },
  {
   "cell_type": "markdown",
   "metadata": {},
   "source": [
    "Although iMM904 had an overall higher score than Yeast8, we decided to go for the model with more reactions, metabolites, and genes, expecting that the complexity of the network can provide an ideal canvas for the engineering and optimization of S. cerevisiae for resveratrol production. "
   ]
  },
  {
   "cell_type": "markdown",
   "metadata": {},
   "source": [
    "## 4. Computer-Aided Cell Factory Engineering"
   ]
  },
  {
   "cell_type": "markdown",
   "metadata": {},
   "source": [
    "### Construction and Potential Production Pathways"
   ]
  },
  {
   "cell_type": "markdown",
   "metadata": {},
   "source": [
    "As mentioned before, the natural way of production of resveratrol comes from plants. Diverse studies for producing resveratrol from genetically modified organisms have been presented since 2003 (https://www.ncbi.nlm.nih.gov/pmc/articles/PMC8226833/ ). The main reason of that interest is to produce this metabolite in higher yields and productivity. In that way decrease the production costs of this compound (https://www.researchgate.net/publication/321150377 ). Since the research of the heterologous production from Saccharomyces cerevisiae of resveratrol started, two main types of substrates have been considered: phenylalanine and p-coumaric acid (https://www.ncbi.nlm.nih.gov/pmc/articles/PMC8226833/). Despite good yields have been found with the use of p-coumaric acid as substrate, the price of the substrate seemed to be a limiting factor for upscaling that process. During the last years, an effort of finding more accessible substrates for this production have been evaluated. One of the best trials for producing resveratrol from glucose was presented in 2015 (http://dx.doi.org/10.1016/j.ymben.2015.08.007  ). In the next table, a summary of three articles representing the main branches of resveratrol production as means of the three main studied substrates is presented: "
   ]
  },
  {
   "cell_type": "markdown",
   "metadata": {},
   "source": [
    "| Author <br> | Substrate <br> | GM Strain <br>  |  Reported Yield <br> |\n",
    "|------------------------| ------------------------------------------------|----------------------------|-------------|\n",
    "| (Li, 2015)  | Glucose | Saccharomyces cerevisiae + TAL + 4CL1 + VST1  | 2.10 mg/g glucose  | \n",
    "| (Becker, 2003) | Coumaric Acid | Saccharomyces cerevisiae + 4CL1 + VST1  | 6.25 mg/g coumaric acid  |\n",
    "| (Trantas, 2009) | Phenylalanine | Saccharomyces cerevisiae + PAL + C4H + VST1  | 0.18 mg/g phenylalanine |"
   ]
  },
  {
   "cell_type": "markdown",
   "metadata": {},
   "source": [
    "The three explained baseline examples were modeled by using the selected yeast model (Yeast8) and by adding their respective heterologous reactions. In the next table, a general description of the metabolites, products and stoichiometry considered for  each of the added reactions is showed. "
   ]
  },
  {
   "cell_type": "markdown",
   "metadata": {},
   "source": [
    "| Added Reaction <br> | Reactants <br> | Products <br>  |  Reference (Rhea) <br> |\n",
    "|------------------------| ------------------------------------------------|----------------------------|-------------|\n",
    "| TAL  | L-tyrosine | (E).4.coumarate + NH4  |https://www.rhea-db.org/rhea/24906  | \n",
    "| 4CL1 | 4-coumarate (ATP AND CoA) | 4-coumaryl CoA + AMP + diphosphate  | https://www.rhea-db.org/rhea/19641   |\n",
    "| VST1  | 4-Coumaryl CoA + 3 Malonyl CoA + (3 H+) |Trans-reveratrol + 4 CO2 + 4 CoA | https://www.rhea-db.org/rhea/11936 | \n",
    "| PAL | L-Phenylalanine |   (E)Cinnamate + NH4  | https://www.rhea-db.org/rhea/21384 \n",
    "| C4H | (E)Cinnamate + O2 + reduced FMNH (NADPH hemoprotein reductase)  |   (E) 4-Coumarate + H + H2O + Oxidized FMN    |   https://www.rhea-db.org/rhea/10608 "
   ]
  },
  {
   "cell_type": "markdown",
   "metadata": {},
   "source": [
    "The maximum productivity as means of the optimized flux of the resveratrol production heterologous reaction (VST1) were calculated. For all these calculations a baseline of 1 mmol/(gDW/h) flux of substrate related exchange reaction was considered: "
   ]
  },
  {
   "cell_type": "markdown",
   "metadata": {},
   "source": [
    "| Substrate <br> | GSM <br> | Preliminary Maimum Productivity <br>  |  Preliminary Optimal Yield  (Rhea) <br> |     Cost (USD/kg)**\n",
    "|------------------------| ------------------------------------------------|----------------------------|-------------|---------------|\n",
    "| Glucose  | Yeast8 + TAL + 4CL1 + VST1  | (0.310 mmol/(gDW/h)   |0.310 mol/mol_substrate  | 0.55 USD/kg    |\n",
    "| Coumaric Acid | Yeast8 + 4CL1 + VST1  | 0.679 mmol/(gDW/h)   | 0.679 mol/mol_substrate     |  55 USD/kg   |\n",
    "| Phenylalanine  | Yeast8 + PAL + C4H + VST1 |0.296 mmol/(gDW/h)  | 0.296 mol/mol_substrate | 10 USD/kg |"
   ]
  },
  {
   "cell_type": "markdown",
   "metadata": {},
   "source": [
    "** Based on bulk prices from https://www.alibaba.com "
   ]
  },
  {
   "cell_type": "markdown",
   "metadata": {},
   "source": [
    "In order to select the model that would be used for the future analysis, a comparison of the presented yields in literature, predicted yields by the model and cost of the substrate was made. It is important to mention that because the three models had a flux substrate consumption of 1 mmol/(gDW/h), a productivity of 1 mmol/(gDW/h) is equal to a yield of 1 mmol /mmol_substrate.  As it can be observed, the p-coumaric acid fed strain presented the highest predicted yield, followed by glucose and phenylalanine. It is important to highlight that this relation between higher and lower yields is the same as the reported ones. Possibly the difference of the yields is because in the modeling other factors such as medium optimization and minimum growth rate are not considered for this first analysis.  \n",
    "\n",
    " \n",
    "\n",
    "By following a discussion of the results, the team decided to work with the strain that consumes glucose as main carbon source. The main reason is that the Yield was not low and at the same time the price of glucose is clearly lower than the other substrates. The idea is that if good results of the optimized GSM are presented, probably the glucose model would have a better opportunity to compete in the current market. \n",
    "\n",
    " \n",
    "\n",
    "In the next figure a representation of the used biosynthesis pathway (in dark blue lines) is presented: "
   ]
  },
  {
   "cell_type": "markdown",
   "metadata": {},
   "source": [
    "<img src=\"figures/Ivan.png\"> "
   ]
  },
  {
   "cell_type": "markdown",
   "metadata": {},
   "source": [
    "### Maximal theoretical yields and productivity"
   ]
  },
  {
   "cell_type": "markdown",
   "metadata": {},
   "source": [
    "The maximum theoretical productiviy and yield of resveratrol were calculated with  different glucose concentrations, 1, 4 and 10 mmol/(g DW • h-1). \n",
    "As we can see in the following results, the biomass, yield and resveratrol increase with the glucose concentration."
   ]
  },
  {
   "cell_type": "markdown",
   "metadata": {},
   "source": [
    "| Glucose <br>[mmol/gDW•h-1] | Maximum productivity <br> [mmol/gDW•h-1] | Yield <br> [mmol-resv/mmol-gluc] | Growth rate <br> h^{1} |\n",
    "|------------------------| ------------------------------------------------|----------------------------|-------------|\n",
    "| 1  | 0.155 | 0.155 | 0.082 | \n",
    "| 4  | 1.122 | 0.280 | 0.337 |\n",
    "| 10 | 3.054 | 0.305 | 0.847 |"
   ]
  },
  {
   "cell_type": "markdown",
   "metadata": {},
   "source": [
    "### Phenotypic phase planes for relevant conditions"
   ]
  },
  {
   "cell_type": "markdown",
   "metadata": {},
   "source": [
    "To have a better understanding of our model and to allow for further optimization of the GSM, the glucose and oxygen uptake rates were plotted against and the biomass and resveratrol prodcution rates. A minimum biomass of 50% of the initial objective was imposed in the model to assure the resources were allocated both in the growth reaction and the resveratrol-producing reactiom.\n",
    "\n",
    "The following figure reflects the linear relantionship between the biomass and glucose uptake. The more glucose, the more biomass. However, we were also interested in knowing what the maximum glucose concentration could be. As we can se in the second figure, the biomass decreases significantly after a glucose concentration of 600 mmol/gDWh<sup>-1. "
   ]
  },
  {
   "cell_type": "markdown",
   "metadata": {},
   "source": [
    "This escenario is unrealistic since such a hihg concentration will never be supplied to the medium."
   ]
  },
  {
   "cell_type": "markdown",
   "metadata": {},
   "source": [
    "<img src=\"figures/biomas_vs_glucose4.png\"> \n",
    "<img src=\"figures/biomass_glucose_max.png\"> "
   ]
  },
  {
   "cell_type": "markdown",
   "metadata": {},
   "source": [
    "Resveratrol production is not possible in anaerobic conditions, therefore different O2 concentrations were plotted to reach optimal solution for biomass growth and resveratrol prodcution. Optimal oxygen uptake was set to 4 mmol/(gDW h), as well as glucose concentration based in literature findings. RODRIGO HERE THE REFERENCE FOR GLUCOSE AND OXYGEN."
   ]
  },
  {
   "cell_type": "markdown",
   "metadata": {},
   "source": [
    "<img src=\"figures/o2_4_glucose4.png\"> "
   ]
  },
  {
   "cell_type": "markdown",
   "metadata": {},
   "source": [
    "### Overexpression and Downregulation"
   ]
  },
  {
   "cell_type": "markdown",
   "metadata": {},
   "source": [
    "Identifying reactions for amplification or deletion in order to enhance the production of the target molecule is an essential step within metabolic engineering and for the designof the strain. The following part, the screening method called flux scanning based on enforced objective flux (FSEOF) is applied to find those reactions for overexpression and downregulation or knock-out. []\n",
    "\n",
    "The method screens all metabolic fluxes during the linear, step-by-step increase of the objective flux. After nine steps, the objective flux has increased by 90%. The left figure below show the increase of resveratrol flux in the host with a glucose uptake of 1 mmol/(gDW h) (orange) and with an uptake of 10 mmol/(gDW h) (blue). On the right side, all identified reactions are shown."
   ]
  },
  {
   "cell_type": "markdown",
   "metadata": {},
   "source": [
    "<img src=\"figures/05.allreactions.png\"> "
   ]
  },
  {
   "cell_type": "markdown",
   "metadata": {},
   "source": [
    "#### Downregulation"
   ]
  },
  {
   "cell_type": "markdown",
   "metadata": {},
   "source": [
    "For the down regulation of reactions, a filters were applied to find those reactions that decrease while the objective flux increases. For filtering out reactions with less significance another filter was applied. In order to check the results, the fluxes of the identified reactions were calculated with a flux balance analysis once with the objective to grow where no product is produced and once with the objective to produce the target molecule. The comparison shows that the identified reactions had lower fluxes when the resveratrol production was maximized."
   ]
  },
  {
   "cell_type": "markdown",
   "metadata": {},
   "source": [
    "<img src=\"figures/05.down.png\">"
   ]
  },
  {
   "cell_type": "markdown",
   "metadata": {},
   "source": [
    "<img src=\"figures/05.downtable.png\">"
   ]
  },
  {
   "cell_type": "markdown",
   "metadata": {},
   "source": [
    "#### Overexpression"
   ]
  },
  {
   "cell_type": "markdown",
   "metadata": {},
   "source": [
    "In a similar manner, the reactions for amplifications were filtered out. Firstly, only reactions were considered that have an increasing flux while the resveratrol flux is maximized and secondly reactions with a possible high impact were selected. The reactions shown in the figure below are listed in the table too."
   ]
  },
  {
   "cell_type": "markdown",
   "metadata": {},
   "source": [
    "<img src=\"figures/05.over.png\">"
   ]
  },
  {
   "cell_type": "markdown",
   "metadata": {},
   "source": [
    "The table shows the drastic increase of the reaction 'ACCOAC' which synthesiyes malonyl-CoA which is highly demanded for the resveratrol production. Similarly, the 'ACS' reaction provides valuable precursors and has an direct impact."
   ]
  },
  {
   "attachments": {
    "05.overtable.png": {
     "image/png": "[encoded data removed]"
    }
   },
   "cell_type": "markdown",
   "metadata": {},
   "source": [
    "<img src=\"figures/05.overtable.png\">"
   ]
  },
  {
   "cell_type": "markdown",
   "metadata": {},
   "source": [
    "We can not simulate the effect of the overexpression or downregulation in a flux balance analysis because if we use the fba with an objective to grow then the organism will not produce resveratrol at all since it is not mandatory for the cell to work. If we set the objective of the fba to the production of resveratrol then it optimizes the fluxes in order to have the best possible.\n",
    "Furthermore, the amplified reaction rates do not necessarily lead to an increase of the product since the regulation of the network is complex and it might be compensated somewhere else."
   ]
  },
  {
   "cell_type": "markdown",
   "metadata": {},
   "source": [
    "### Co-factor Swap"
   ]
  },
  {
   "cell_type": "markdown",
   "metadata": {},
   "source": [
    "In the microbial metabolism, enzymes often have specific binding characteristics leading to preferred currency metabolites such as the major two examples NAD(H) and NADP(H). Based on that, the metabolism can be divided into enzymes of anabolic reactions that reduce NADP+ to NADPH and enzymes of the oxidative phosphorylation that reduce NAD+ to NADH.\n",
    "\n",
    "For the strain engineering, it is of interest to computationally predict optimal binding specificities including a possible co-factor swap. In this section, the CofactorSwapOptimization function from cameo is applied to detect reaction with co-factor pairs. It is not only identifying those reactions but also filters for reactions where a swap of the co-factors has an positive influence of the flux of the objective. In this case, the objective is the yield of resveratrol on glucose and the following top 5 reactions where detected:"
   ]
  },
  {
   "cell_type": "markdown",
   "metadata": {},
   "source": [
    "<img src=\"figures/06.swap.png\">"
   ]
  },
  {
   "cell_type": "markdown",
   "metadata": {},
   "source": [
    "The reactions with the highest fitness where the reactions for alcohol dehydrogenase (ethanol to acetaldehyde), isocitrate dehydrogenase (NADP), glyceraldehyde-3-phosphate dehydrogenase. Unfortunately, the effects of the swap could not be simulated because of syntax errors in the function for swapping co-factors for single reactions."
   ]
  },
  {
   "cell_type": "markdown",
   "metadata": {},
   "source": [
    "### Knock Out Strategy\n",
    "\n",
    "#### Single-gene/reaction-deletion\n",
    "\n",
    "In order to evaluate possible knockouts that could improve the productivity and yield of resveratrol on the model, a first attempt of using the single-gene-deletion and single-reaction-deletion was executed. This is a cobrapy tool that allow to knock out one by one all the reactions/genes available in the model and evaluate the results for an optimized value (in this case the resveratrol productivity). Surprisingly, both methods showed that the maximum (previously obtained) productivity of 3.317 mmol/gDWh could not be optimized (with exception of two reactions that will be discussed later). The results for single-reaction-deletion and single-gene-deletion are showed in the next pictures (where the overall maximum productivities are showed):\n"
   ]
  },
  {
   "cell_type": "markdown",
   "metadata": {},
   "source": [
    "<img src=\"figures/Ivan2.png\"> "
   ]
  },
  {
   "cell_type": "markdown",
   "metadata": {},
   "source": [
    "Figure: Ten maximum resveratrol productivities obtained when knocking out of the respective reaction (id)."
   ]
  },
  {
   "cell_type": "markdown",
   "metadata": {},
   "source": [
    "<img src=\"figures/Ivan3.png\"> "
   ]
  },
  {
   "cell_type": "markdown",
   "metadata": {},
   "source": [
    "Figure: Ten maximum resveratrol productivities obtained when knocking out of the respective gene (id)."
   ]
  },
  {
   "cell_type": "markdown",
   "metadata": {},
   "source": [
    "As it can be observed, the only deletions that increased the productivity were the GROWTH and ATPM reactions. It is evident that the GROWTH reaction cannot be knocked out because the biomass is needed for producing the resveratrol. But what we can see from here is that probably there is a direct competion from the use of precursors for biomass instead of resveratrol. In the case of the ATPM, this is related to the regeneration of ATP, an essential reaction for the surveillance of the cell (in other words, a similar case than the biomass (GROWTH) production). \n",
    "\n"
   ]
  },
  {
   "cell_type": "markdown",
   "metadata": {},
   "source": [
    "#### Manually Derived Strategies\n",
    "\n",
    "By considering that the selected pathway produces resveratrol from glucose by using Tyrosine and Malonyl-Coenzyme A as metabolite precursors, two pathways were analyzed: the tyrosine/phenylalanine /tryptophan synthesis pathway and the glycolysis.\n"
   ]
  },
  {
   "cell_type": "markdown",
   "metadata": {},
   "source": [
    "-\tFor the tyrosine/phenylalanine /tryptophan synthesis pathway, a manual approach for optimizing the production of tyrosine was executed. In figure XX the analyzed pathway is showed. As it can be observed, for Saccharomyces cerevisiae this pathway from D-erithrose-4-phosphate to tyrosine is almost linear. Just two branches can be detected as deviations to the tyrosine production.  These branches are detected as reaction chorismate to anthranilate (4.1.3.27/ Reaction  ID “ANS” in model) and reaction from prephenate to phenyl pyruvate (4. 2 . 1. 51/ Reaction ID  \"PPNDH\" in model), as a proposal for optimizing the yield is knocking out this reactions. "
   ]
  },
  {
   "cell_type": "markdown",
   "metadata": {},
   "source": [
    "<img src = \"figures/Ivan4.png\">"
   ]
  },
  {
   "cell_type": "markdown",
   "metadata": {},
   "source": [
    "A similar approach was followed for the glycolysis/ gluconeogenesis pathway. In this case the production of malonyl coA is optimized. The production of malonyl coA is linearly related with the production of Acetyl-coA in the glycolysis pathway.  In the next figure an overview of the glycolysis pathway showing in green the available reaction for the current GSM is presented. Possible detected reactions that could be knocked out for improving the production of Acetyl coA were detected. For instance, the two acetaldehyde to ethanol reactions (1.1.1.1 and 1.1.1.2 with model reactions ID \" ALCD2ir\" and \":\" ALCD2x_copy2” ) and Fructose 1,6-DP to fructose 6P (3.1.3.11 with reaction id “FBP”)."
   ]
  },
  {
   "cell_type": "markdown",
   "metadata": {},
   "source": [
    "<img src =\"figures/Ivan5.png\">"
   ]
  },
  {
   "cell_type": "markdown",
   "metadata": {},
   "source": [
    "The results obtained by knocking out the discussed reactions are showed in the next table:"
   ]
  },
  {
   "cell_type": "markdown",
   "metadata": {},
   "source": [
    "| KO Reaction <br> | Model ID <br> | Resveratrol Productivity (mmol/gDWh) <br>  | \n",
    "|------------------------| ------------------------------------------------|----------------------------|\n",
    "| Chorismate to anthranilate  | ANS  | 3.317   |\n",
    "| Prephenate to phenyl pyruvate | PPNDH  | 3.317   | \n",
    "| Acetaldehyde to ethanol 1  | ALCD2ir |3.317 | \n",
    "| Acetaldehyde to ethanol 2  | ALCD2x |3.317 |\n",
    "| Fructose 1,6-DP to fructose 6P  | FBP |3.317 |"
   ]
  },
  {
   "cell_type": "markdown",
   "metadata": {},
   "source": [
    "### FBA and Dynamic FBA"
   ]
  },
  {
   "cell_type": "markdown",
   "metadata": {},
   "source": [
    "To visualize the pathway of the target molecule resveratrol, the reaction data from a flux balance analysis was included. The model has a glucose uptake of 4 mmol/(gDW H) and a maximized resveratrol production of 0.63 mmol/(gDW H). Unfortunately, the pathway could not be completed and stops at L-tyrosine. Even though the model and the reaction data both have the following reactions and the corresponding values, no connection could be found.\n",
    "The color scale ranges from blue for negative fluxes, grey for fluxes around 0 mmol"
   ]
  },
  {
   "cell_type": "markdown",
   "metadata": {},
   "source": [
    "<img src=\"figures/saved_map.png\">"
   ]
  },
  {
   "cell_type": "markdown",
   "metadata": {},
   "source": [
    "A dynamic FBA was performed on the model to have a visualization of how the fluxes of biomass, O2, glucose and resveratrol behave together. As we can see in the picture, while the glucose concentration decreases, resveratrol prodcution and biomass increases."
   ]
  },
  {
   "cell_type": "markdown",
   "metadata": {},
   "source": [
    "<img src=\"figures/dfba.png\"> "
   ]
  },
  {
   "cell_type": "markdown",
   "metadata": {},
   "source": [
    "## 5. Discussion"
   ]
  },
  {
   "cell_type": "markdown",
   "metadata": {},
   "source": [
    "In this study, we modified S. cerevisiae strain for production of resveratrol. To simulate this, certain significant reactions for production of resveratrol as part of a heterologous pathway and were able to successfully produce resveratrol with a productivity rate of 3.054 mmol/gDW•h-1 at glucose concentrations of 10 mmol/gDW•h-1. For GSM selection, yeast8 model was chosen even with an average score as the reaction network was well established in comparison to iMM904 model. Multiple phenotypic phase plots were designed to study the effects of glucose against production of biomass and resveratrol and a clear linear relationship is observed. Since, resveratrol production pathway can only be carried out in aerobic conditions, we obtained an optimal oxygen uptake rate of approximately 4 mmol/(gDW h).  A dynamic flux balance analysis was conducted to check the efficiency of our cell factory. We can observe a gradual increase in the biomass concentration and product (resveratrol) concentration as the glucose concentration gradually declines. Multiple metabolic models were studied, and 5 knockout reactions were selected which can be implemented in experimental studies. However, in our module, it did not depict any change in biomass or product concentration. In order to screen for targets for downregulation and overexpression, FSEOF (flux scanning based on enforced objective flux) analysis was carried out, wherein reactions were segregated based on positive and negative flux of the reactions. Reactions with decreasing flux with increasing resveratrol production were categorized as downregulation targets and reactions with increasing flux w.r.t increasing resveratrol production were categorized as overexpression targets. Finally, the model is screened for reactions which can undergo cofactor swapping. Multiple reactions were identified however the effects of cofactor swap cannot be observed due to certain syntax errors. The data obtained from this following study can only be analyzed further with experimental validation.  "
   ]
  },
  {
   "cell_type": "markdown",
   "metadata": {},
   "source": [
    "## 6. Conclusion"
   ]
  },
  {
   "cell_type": "markdown",
   "metadata": {},
   "source": [
    "It can be observed from this research study that resveratrol production can be achieved via addition of significant reactions in the yeast8 model.  The system is optimized to provide a high productivity rate in comparison to the glucose concentration considered. Significant computational mechanisms were carried out including analysis of phenotypic phase planes, dynamic flux analysis and screening reactions for identification of downregulation, overexpression and cofactor swap targets. These results can be further considered to design experimental protocol to validate the efficiency of the model. With successful implementation of these strategies in the S. cerevisiae model, resveratrol production can be developed to be more sustainable. "
   ]
  },
  {
   "cell_type": "markdown",
   "metadata": {},
   "source": [
    "## References"
   ]
  },
  {
   "cell_type": "markdown",
   "metadata": {},
   "source": [
    "[1] https://www.taiwannews.com.tw/en/news/4650609, (20.11.2022, 21:00)\n",
    "\n",
    "[2] https://www.sigmaaldrich.com/CA/en/product/sigma/r5010, (20.11.2022, 21:00)\n",
    "\n",
    "Ibrahim, G.G.; Yan, J.; Xu, L.; Yang, M.; Yan, Y. Resveratrol Production in Yeast Hosts: Current Status and Perspectives. Biomolecules 2021, 11, 830. https://doi.org/10.3390/biom11060830.\n",
    "\n",
    "Wang, Jian & Yang, Yaping & Yan, Yajun. (2018). Bioproduction of Resveratrol. 10.1007/978-3-319-67903-7_3.\n",
    "\n",
    "Choi HS, Lee SY, Kim TY, Woo HM. In silico identification of gene amplification targets for improvement of lycopene production. Appl Environ Microbiol. 2010 May;76(10):3097-105. doi: 10.1128/AEM.00115-10.\n",
    "\n",
    "Zachary A. King and Adam M. Feist.\n",
    "Optimizing Cofactor Specificity of Oxidoreductase Enzymes for the Generation of Microbial Production Strains—OptSwap.\n",
    "Industrial Biotechnology.Aug 2013.236-246.http://doi.org/10.1089/ind.2013.0005\n",
    "\n",
    "Leis, K., Pisanko, K., Jundziłł, A., Mazur, E., Męcińska-Jundziłł, K., & Witmanowski, H. (2022). Resveratrol as a factor preventing skin aging and affecting its regeneration. Advances in Dermatology and Allergology, 39(3), 439–445. https://doi.org/10.5114/ada.2022.117547\n",
    "\n",
    "Li, M., Kildegaard, K. R., Chen, Y., Rodriguez, A., Borodina, I., & Nielsen, J. (2015). De novo production of resveratrol from glucose or ethanol by engineered Saccharomyces cerevisiae. Metabolic Engineering, 32, 1-11. https://doi.org/10.1016/j.ymben.2015.08.007\n",
    "\n",
    "Beekwilder, J., Wolswinkel, R., Jonker, H., Hall, R., de Vos, C. R., & Bovy, A. (2006). Production of resveratrol in recombinant microorganisms. Applied and environmental microbiology, 72(8), 5670-5672.  https://doi.org/10.1128/AEM.00609-06\n",
    "\n",
    "Trantas, E., Panopoulos, N., & Ververidis, F. (2009). Metabolic engineering of the complete pathway leading to heterologous biosynthesis of various flavonoids and stilbenoids in Saccharomyces cerevisiae. Metabolic engineering, 11(6), 355-366. https://doi.org/10.1016/j.ymben.2009.07.004\n",
    "\n",
    "\n",
    "BECKER, J., ARMSTRONG, G., VANDERMERWE, M., LAMBRECHTS, M., VIVIER, M., &amp; PRETORIUS, I. (2003). Metabolic Engineering of for the synthesis of the wine-related antioxidant resveratrol. FEMS Yeast Research, 4(1), 79–85. https://doi.org/10.1016/s1567-1356(03)00157-0 \n",
    "\n",
    "Dhingra, A. K., Rathi, V., &amp; Chopra, B. (2021). Resveratrol. Naturally Occurring Chemicals Against Alzheimer's Disease, 33–47. https://doi.org/10.1016/b978-0-12-819212-2.00037-2 \n",
    "\n",
    "Stewart, G. G. (2014). Saccharomyces | saccharomyces cerevisiae. Encyclopedia of Food Microbiology, 309–315. https://doi.org/10.1016/b978-0-12-384730-0.00292-5 \n",
    "\n",
    "Tabrizi, R., Tamtaji, O. R., Lankarani, K. B., Akbari, M., Dadgostar, E., Dabbaghmanesh, M. H., Kolahdooz, F., Shamshirian, A., Momen-Heravi, M., &amp; Asemi, Z. (2018). The effects of resveratrol intake on weight loss: A systematic review and meta-analysis of randomized controlled trials. Critical Reviews in Food Science and Nutrition, 60(3), 375–390. https://doi.org/10.1080/10408398.2018.1529654\n",
    "\n",
    "Mitsui, R., &amp; Yamada, R. (2021). Saccharomyces cerevisiae as a microbial cell factory. Microbial Cell Factories Engineering for Production of Biomolecules, 319–333. https://doi.org/10.1016/b978-0-12-821477-0.00004-0 \n"
   ]
  }
 ],
 "metadata": {
  "kernelspec": {
   "display_name": "course02502",
   "language": "python",
   "name": "course02502"
  },
  "language_info": {
   "codemirror_mode": {
    "name": "ipython",
    "version": 3
   },
   "file_extension": ".py",
   "mimetype": "text/x-python",
   "name": "python",
   "nbconvert_exporter": "python",
   "pygments_lexer": "ipython3",
   "version": "3.10.4"
  },
  "vscode": {
   "interpreter": {
    "hash": "8c3d4d9970fc5c09c50d9318a9c7fbf4d0159e4b28833276f5678ee22bded273"
   }
  }
 },
 "nbformat": 4,
 "nbformat_minor": 4
}
