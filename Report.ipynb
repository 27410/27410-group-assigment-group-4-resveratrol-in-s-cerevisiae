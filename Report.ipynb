{
 "cells": [
  {
   "cell_type": "markdown",
   "metadata": {},
   "source": [
    "# Resveratrol production in Saccharomyces cerevisiae"
   ]
  },
  {
   "cell_type": "markdown",
   "metadata": {},
   "source": [
    "## 1. Introduction"
   ]
  },
  {
   "cell_type": "markdown",
   "metadata": {},
   "source": [
    "### 1.1 Literature review of the compound (<500 words)"
   ]
  },
  {
   "cell_type": "markdown",
   "metadata": {},
   "source": [
    "### 1.2 Literature review of the cell factory (<500 words)"
   ]
  },
  {
   "cell_type": "markdown",
   "metadata": {},
   "source": [
    "## 2. Problem definition (<300 words)"
   ]
  },
  {
   "cell_type": "markdown",
   "metadata": {},
   "source": [
    "## 3. *If Project category II:* Selection and assessment of existing GSM (<500 words)"
   ]
  },
  {
   "cell_type": "markdown",
   "metadata": {},
   "source": [
    "Saccharomyces cerevisiae is used more than any other yeast species as a cell factory for resveratrol production. Throughout the years, many different strains have been annotated, curated and improved due to the high interest in industrial applications and de novo synthesis of products. Nevertheless, no GSMM is currently available for the specific strain that is used for resveratrol production optimization, the CEN.PK102-5B. \n",
    "\n",
    "In order to choose the optimal GSM available, we compared the models iMM904 and Yeast8 using memote by the Novo Nordisk Foundation Center for Biosustainability. iMM904was reconstructed based on the existing GSM iND750 and validated by comparing 2,888 in silico single-gene deletion strain growth phenotype predictions to published experimental data, where the predicted intracellular flux changes were consistent with previously published data (Mo et al., 2009).  Yeast8 is the current consensus genome-scale metabolic model of Saccharomyces cerevisiae, continuously updated and tracked on a GitHub repository.  For its development, several databases were used for gene annotation, resulting in an enriched GSM (Lu et al., 2019). \n",
    "\n",
    "#### GSM comparison using memote. "
   ]
  },
  {
   "cell_type": "markdown",
   "metadata": {},
   "source": [
    "| Model | Total metabolites | Total reactions  | Total Genes  | Metabolic coverage  | Total Score (%) |\n",
    "|----------------------|-----------------|------------------|--------------------|--------------|---------------------|\n",
    "| iMM904 | 1,226 | 1,577 | 905 | 1.74 | 81 |\n",
    "| Yeast8 | 2,744 | 4,063 | 1,160 | 3.50 | 65 |"
   ]
  },
  {
   "cell_type": "markdown",
   "metadata": {},
   "source": [
    "Although iMM904 had an overall higher score than Yeast8, we decided to go for the model with more reactions, metabolites, and genes, expecting that the complexity of the network can provide an ideal canvas for the engineering and optimization of S. cerevisiae for resveratrol production. "
   ]
  },
  {
   "cell_type": "markdown",
   "metadata": {},
   "source": [
    "## 4. Computer-Aided Cell Factory Engineering (<1500 words if Category II project; <500 words for Category I project)"
   ]
  },
  {
   "cell_type": "markdown",
   "metadata": {},
   "source": [
    "#### Maximal theoretical yields and productivity"
   ]
  },
  {
   "cell_type": "markdown",
   "metadata": {},
   "source": [
    "The maximum theoretical productiviy and yield of resveratrol were calculated with two different glucose concentrations, 1 and 10 mmol/(g DW • h-1).\n",
    "| Glucose [mmol/gDW•h-1] | Maximum resveratrol productivity [mmol/gDW•h-1] | Yield [mmol-glc/mmol-resv] | Growth rate |\n",
    "|------------------------| ------------------------------------------------|----------------------------|--------|\n",
    "| 1 | 0.1552 | 3.054 | 0.082 | \n",
    "| 10 | 0.1552 | 0.305 | 0.847 |"
   ]
  },
  {
   "cell_type": "markdown",
   "metadata": {},
   "source": [
    "#### Phenotypic phase planes for relevant conditions"
   ]
  },
  {
   "cell_type": "markdown",
   "metadata": {},
   "source": [
    "To have a better understanding of our model and to allow for further optimization of the GSM, the glucose and oxygen uptake rates were plotted against and the biomass and resveratrol prodcution rates. "
   ]
  },
  {
   "cell_type": "markdown",
   "metadata": {},
   "source": [
    "<img src=\"files/image.png\">"
   ]
  },
  {
   "cell_type": "markdown",
   "metadata": {},
   "source": [
    "## 5. Discussion (<500 words)"
   ]
  },
  {
   "cell_type": "markdown",
   "metadata": {},
   "source": [
    "## 6. Conclusion (<200 words)"
   ]
  },
  {
   "cell_type": "markdown",
   "metadata": {},
   "source": [
    "## References"
   ]
  },
  {
   "cell_type": "code",
   "execution_count": null,
   "metadata": {},
   "outputs": [],
   "source": []
  }
 ],
 "metadata": {
  "kernelspec": {
   "display_name": "Python 3.10.7 ('.venv': venv)",
   "language": "python",
   "name": "python3"
  },
  "language_info": {
   "codemirror_mode": {
    "name": "ipython",
    "version": 3
   },
   "file_extension": ".py",
   "mimetype": "text/x-python",
   "name": "python",
   "nbconvert_exporter": "python",
   "pygments_lexer": "ipython3",
   "version": "3.10.7"
  },
  "vscode": {
   "interpreter": {
    "hash": "4ad25b57962b0cddfe387bbbfd47a390a3687636eb6a16c64fb60bcd3f49932b"
   }
  }
 },
 "nbformat": 4,
 "nbformat_minor": 4
}
