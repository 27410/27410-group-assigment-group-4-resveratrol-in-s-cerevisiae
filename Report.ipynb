{
 "cells": [
  {
   "cell_type": "markdown",
   "metadata": {},
   "source": [
    "# Resveratrol production in Saccharomyces cerevisiae"
   ]
  },
  {
   "cell_type": "markdown",
   "metadata": {},
   "source": [
    "## 1. Introduction"
   ]
  },
  {
   "cell_type": "markdown",
   "metadata": {},
   "source": [
    "### 1.1 Literature review of the compound (<500 words)"
   ]
  },
  {
   "cell_type": "markdown",
   "metadata": {},
   "source": [
    "### 1.2 Literature review of the cell factory (<500 words)"
   ]
  },
  {
   "cell_type": "markdown",
   "metadata": {},
   "source": [
    "## 2. Problem definition (<300 words)"
   ]
  },
  {
   "cell_type": "markdown",
   "metadata": {},
   "source": [
    "In 2021, the global market size of resveratrol was 82.1 million and it has a compound annual growth rate of 7.1 % [1]. Due to a rapidly increasing demand of resveratrol in the future for several applications such as health products and disease treatments, it becomes necessary to produce it in a large-scale process. Even though plants are the natural resource of resveratrol, the production is not sufficient, since it is limited by high costs, low titers, and complex extractions, purification, and concentration processes. The bioproduction of resveratrol in Saccharomyces cerevisiae could reduce the currently high price of 1.86 USD/mg [2]. Microorganisms including S. cerevisiae are common producers of pharmaceuticals and other bioproducts in industry because they grow quickly, can synthesize a high variety of different products and are easy to downstream. [3]\n",
    "\n",
    "Using genetic and metabolic enginnering technologies, S. cerevisiae strains can be adapted for the heterologous production of resveratrol on a chosen substrate such as glucose. Since the production rate of heterologous products are often low further development steps are necessary. Computer aided technologies for genetic and metabolic modelling are valuable tools to detect by-product, production limitations due to a low precursor supply, low activity of enzymes or other limiting factors. [4]\n",
    "\n",
    "[1] https://www.taiwannews.com.tw/en/news/4650609, (20.11.2022, 21:00)\n",
    "\n",
    "[2] https://www.sigmaaldrich.com/CA/en/product/sigma/r5010, (20.11.2022, 21:00)\n",
    "\n",
    "[3] Ibrahim, G.G.; Yan, J.; Xu, L.; Yang, M.; Yan, Y. Resveratrol Production in Yeast Hosts: Current Status and Perspectives. Biomolecules 2021, 11, 830. https://doi.org/10.3390/biom11060830.\n",
    "\n",
    "[4] Wang, Jian & Yang, Yaping & Yan, Yajun. (2018). Bioproduction of Resveratrol. 10.1007/978-3-319-67903-7_3."
   ]
  },
  {
   "cell_type": "markdown",
   "metadata": {},
   "source": [
    "## 3. Selection and assessment of existing GSM (<500 words)"
   ]
  },
  {
   "cell_type": "markdown",
   "metadata": {},
   "source": [
    "## 4. Computer-Aided Cell Factory Engineering (<1500 words if Category II project; <500 words for Category I project)"
   ]
  },
  {
   "cell_type": "markdown",
   "metadata": {},
   "source": [
    "## 5. Discussion (<500 words)"
   ]
  },
  {
   "cell_type": "markdown",
   "metadata": {},
   "source": [
    "## 6. Conclusion (<200 words)"
   ]
  },
  {
   "cell_type": "markdown",
   "metadata": {},
   "source": [
    "## References"
   ]
  },
  {
   "cell_type": "code",
   "execution_count": null,
   "metadata": {},
   "outputs": [],
   "source": []
  }
 ],
 "metadata": {
  "kernelspec": {
   "display_name": "course02502",
   "language": "python",
   "name": "course02502"
  },
  "language_info": {
   "codemirror_mode": {
    "name": "ipython",
    "version": 3
   },
   "file_extension": ".py",
   "mimetype": "text/x-python",
   "name": "python",
   "nbconvert_exporter": "python",
   "pygments_lexer": "ipython3",
   "version": "3.10.4"
  }
 },
 "nbformat": 4,
 "nbformat_minor": 4
}
