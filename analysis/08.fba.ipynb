{
 "cells": [
  {
   "cell_type": "markdown",
   "metadata": {},
   "source": [
    "##  Simulations of strain design"
   ]
  },
  {
   "cell_type": "code",
   "execution_count": 20,
   "metadata": {},
   "outputs": [],
   "source": [
    "# in this section we simulate the different strain design that we have proposed before\n",
    "import pandas as pd\n",
    "import numpy as np\n",
    "import matplotlib.pyplot as plt\n",
    "from cobra.io import read_sbml_model\n",
    "from cameo import fba, pfba, flux_variability_analysis\n",
    "from cameo.core import manipulation"
   ]
  },
  {
   "cell_type": "code",
   "execution_count": null,
   "metadata": {},
   "outputs": [],
   "source": [
    "from cameo.visualization.plotting.with_plotly import PlotlyPlotter\n",
    "plotter = PlotlyPlotter()\n",
    "\n",
    "from cameo.strain_design.deterministic.flux_variability_based import FSEOF\n",
    "from cameo.strain_design.deterministic import DifferentialFVA"
   ]
  },
  {
   "cell_type": "code",
   "execution_count": 37,
   "metadata": {},
   "outputs": [],
   "source": [
    "# Verify working directory and change it if needed\n",
    "import os\n",
    "os.getcwd()\n",
    "os.chdir(\"C:/Users/Deborah/anaconda3/envs/cellfactorydesign/27410-group-assigment-group-4-resveratrol-in-s-cerevisiae/\") #change accordingly"
   ]
  },
  {
   "cell_type": "code",
   "execution_count": 3,
   "metadata": {},
   "outputs": [],
   "source": [
    "# Read the heterologous model\n",
    "model = read_sbml_model(\"data/models/yeast8_resv_glc.xml\")"
   ]
  },
  {
   "cell_type": "markdown",
   "metadata": {},
   "source": [
    "#### Flux Balance Analysis of the heterologous model with the default settings"
   ]
  },
  {
   "cell_type": "code",
   "execution_count": 4,
   "metadata": {},
   "outputs": [],
   "source": [
    "# reference model with maximized biomass production and default parameters\n",
    "m_ref=model.copy()"
   ]
  },
  {
   "cell_type": "code",
   "execution_count": 10,
   "metadata": {},
   "outputs": [
    {
     "name": "stdout",
     "output_type": "stream",
     "text": [
      "flux of oxygen uptake:  -2.3315329209467555 unit\n",
      "flux of glucose uptake:  -1.0 unit\n",
      "flux of biomass production:  0.08192806489430403 unit\n",
      "flux of resveratrol production:  0.0 unit\n"
     ]
    },
    {
     "data": {
      "text/html": [
       "<div>\n",
       "<style scoped>\n",
       "    .dataframe tbody tr th:only-of-type {\n",
       "        vertical-align: middle;\n",
       "    }\n",
       "\n",
       "    .dataframe tbody tr th {\n",
       "        vertical-align: top;\n",
       "    }\n",
       "\n",
       "    .dataframe thead th {\n",
       "        text-align: right;\n",
       "    }\n",
       "</style>\n",
       "<table border=\"1\" class=\"dataframe\">\n",
       "  <thead>\n",
       "    <tr style=\"text-align: right;\">\n",
       "      <th></th>\n",
       "      <th>flux</th>\n",
       "    </tr>\n",
       "  </thead>\n",
       "  <tbody>\n",
       "    <tr>\n",
       "      <th>FERCOXOXI</th>\n",
       "      <td>9.037760</td>\n",
       "    </tr>\n",
       "    <tr>\n",
       "      <th>ATPtm</th>\n",
       "      <td>6.330327</td>\n",
       "    </tr>\n",
       "    <tr>\n",
       "      <th>ATPS3m</th>\n",
       "      <td>5.734898</td>\n",
       "    </tr>\n",
       "    <tr>\n",
       "      <th>PIt2m</th>\n",
       "      <td>5.162975</td>\n",
       "    </tr>\n",
       "    <tr>\n",
       "      <th>UBICRED</th>\n",
       "      <td>4.518880</td>\n",
       "    </tr>\n",
       "    <tr>\n",
       "      <th>...</th>\n",
       "      <td>...</td>\n",
       "    </tr>\n",
       "    <tr>\n",
       "      <th>EX_glc__D_e</th>\n",
       "      <td>-1.000000</td>\n",
       "    </tr>\n",
       "    <tr>\n",
       "      <th>CO2tm</th>\n",
       "      <td>-1.832126</td>\n",
       "    </tr>\n",
       "    <tr>\n",
       "      <th>EX_o2_e</th>\n",
       "      <td>-2.331533</td>\n",
       "    </tr>\n",
       "    <tr>\n",
       "      <th>H2Ot</th>\n",
       "      <td>-4.338799</td>\n",
       "    </tr>\n",
       "    <tr>\n",
       "      <th>H2Otm</th>\n",
       "      <td>-8.278286</td>\n",
       "    </tr>\n",
       "  </tbody>\n",
       "</table>\n",
       "<p>4067 rows × 1 columns</p>\n",
       "</div>"
      ],
      "text/plain": [
       "                 flux\n",
       "FERCOXOXI    9.037760\n",
       "ATPtm        6.330327\n",
       "ATPS3m       5.734898\n",
       "PIt2m        5.162975\n",
       "UBICRED      4.518880\n",
       "...               ...\n",
       "EX_glc__D_e -1.000000\n",
       "CO2tm       -1.832126\n",
       "EX_o2_e     -2.331533\n",
       "H2Ot        -4.338799\n",
       "H2Otm       -8.278286\n",
       "\n",
       "[4067 rows x 1 columns]"
      ]
     },
     "execution_count": 10,
     "metadata": {},
     "output_type": "execute_result"
    }
   ],
   "source": [
    "fba1=fba(m_ref, objective=m_ref.reactions.GROWTH)\n",
    "fba_ref=fba1.data_frame\n",
    "fba_ref.sort_values(by='flux', ascending=False, inplace=True)\n",
    "print('flux of oxygen uptake: ', fba_ref.loc['EX_o2_e'][0], 'unit')\n",
    "print('flux of glucose uptake: ', fba_ref.loc['EX_glc__D_e'][0], 'unit')\n",
    "print('flux of biomass production: ', fba_ref.loc['GROWTH'][0], 'unit')\n",
    "print('flux of resveratrol production: ', fba_ref.loc['VVVST1'][0], 'unit')\n",
    "fba_ref"
   ]
  },
  {
   "cell_type": "markdown",
   "metadata": {},
   "source": [
    "#### Flux Balance Analysis of the heterologous model with increased glucose uptake"
   ]
  },
  {
   "cell_type": "code",
   "execution_count": 9,
   "metadata": {},
   "outputs": [],
   "source": [
    "# new model copy for optimizing growth of yeast by increasing the glucose uptake\n",
    "m_glu=model.copy()"
   ]
  },
  {
   "cell_type": "code",
   "execution_count": 13,
   "metadata": {},
   "outputs": [
    {
     "name": "stdout",
     "output_type": "stream",
     "text": [
      "Default glucose bounds:  (-10.0, -10.0)\n",
      "New glucose bounds:  (-10.0, -10.0)\n",
      "flux of oxygen uptake:  -22.065526992398787 unit\n",
      "flux of glucose uptake:  -10.0 unit\n",
      "flux of biomass production:  0.8471925464573381 unit\n",
      "flux of resveratrol production:  0.0 unit\n"
     ]
    },
    {
     "data": {
      "text/html": [
       "<div>\n",
       "<style scoped>\n",
       "    .dataframe tbody tr th:only-of-type {\n",
       "        vertical-align: middle;\n",
       "    }\n",
       "\n",
       "    .dataframe tbody tr th {\n",
       "        vertical-align: top;\n",
       "    }\n",
       "\n",
       "    .dataframe thead th {\n",
       "        text-align: right;\n",
       "    }\n",
       "</style>\n",
       "<table border=\"1\" class=\"dataframe\">\n",
       "  <thead>\n",
       "    <tr style=\"text-align: right;\">\n",
       "      <th></th>\n",
       "      <th>flux</th>\n",
       "    </tr>\n",
       "  </thead>\n",
       "  <tbody>\n",
       "    <tr>\n",
       "      <th>FERCOXOXI</th>\n",
       "      <td>85.280142</td>\n",
       "    </tr>\n",
       "    <tr>\n",
       "      <th>ATPtm</th>\n",
       "      <td>60.187375</td>\n",
       "    </tr>\n",
       "    <tr>\n",
       "      <th>ATPS3m</th>\n",
       "      <td>55.296138</td>\n",
       "    </tr>\n",
       "    <tr>\n",
       "      <th>PIt2m</th>\n",
       "      <td>48.116143</td>\n",
       "    </tr>\n",
       "    <tr>\n",
       "      <th>EX_h2o_e</th>\n",
       "      <td>42.822040</td>\n",
       "    </tr>\n",
       "    <tr>\n",
       "      <th>...</th>\n",
       "      <td>...</td>\n",
       "    </tr>\n",
       "    <tr>\n",
       "      <th>EX_glc__D_e</th>\n",
       "      <td>-10.000000</td>\n",
       "    </tr>\n",
       "    <tr>\n",
       "      <th>CO2tm</th>\n",
       "      <td>-18.654943</td>\n",
       "    </tr>\n",
       "    <tr>\n",
       "      <th>EX_o2_e</th>\n",
       "      <td>-22.065527</td>\n",
       "    </tr>\n",
       "    <tr>\n",
       "      <th>H2Ot</th>\n",
       "      <td>-42.822040</td>\n",
       "    </tr>\n",
       "    <tr>\n",
       "      <th>H2Otm</th>\n",
       "      <td>-80.040105</td>\n",
       "    </tr>\n",
       "  </tbody>\n",
       "</table>\n",
       "<p>4067 rows × 1 columns</p>\n",
       "</div>"
      ],
      "text/plain": [
       "                  flux\n",
       "FERCOXOXI    85.280142\n",
       "ATPtm        60.187375\n",
       "ATPS3m       55.296138\n",
       "PIt2m        48.116143\n",
       "EX_h2o_e     42.822040\n",
       "...                ...\n",
       "EX_glc__D_e -10.000000\n",
       "CO2tm       -18.654943\n",
       "EX_o2_e     -22.065527\n",
       "H2Ot        -42.822040\n",
       "H2Otm       -80.040105\n",
       "\n",
       "[4067 rows x 1 columns]"
      ]
     },
     "execution_count": 13,
     "metadata": {},
     "output_type": "execute_result"
    }
   ],
   "source": [
    "print('Default glucose bounds: ', m_glu.reactions.EX_glc__D_e.bounds) #show default glucose uptake\n",
    "\n",
    "manipulation.increase_flux(m_glu.reactions.EX_glc__D_e, -1.0, -10.0) # increasing the uptake of glucose from -1.0 to -10.0\n",
    "print('New glucose bounds: ', m_glu.reactions.EX_glc__D_e.bounds) # check if the boundaries were updated\n",
    "\n",
    "# flux balance analysis to see the effects on the oxygen uptake, growth and our product\n",
    "fba2=fba(m_glu, objective=m_glu.reactions.GROWTH)\n",
    "fba_glu=fba2.data_frame\n",
    "fba_glu.sort_values(by='flux', ascending=False, inplace=True)\n",
    "print('flux of oxygen uptake: ', fba_glu.loc['EX_o2_e'][0], 'unit')\n",
    "print('flux of glucose uptake: ', fba_glu.loc['EX_glc__D_e'][0], 'unit')\n",
    "print('flux of biomass production: ', fba_glu.loc['GROWTH'][0], 'unit')\n",
    "print('flux of resveratrol production: ', fba_glu.loc['VVVST1'][0], 'unit')\n",
    "fba_glu"
   ]
  },
  {
   "cell_type": "markdown",
   "metadata": {},
   "source": [
    "We can see that an increased uptake of glucose directly impacts the growth of the host linearly. The growth has increased from 0.082 to 0.84. The product flux is still zero. Therefore, we set the target now to the production of our product:"
   ]
  },
  {
   "cell_type": "code",
   "execution_count": 12,
   "metadata": {},
   "outputs": [],
   "source": [
    "#### Flux Balance Analysis with increased glucose uptake and resveratrol production as objective"
   ]
  },
  {
   "cell_type": "code",
   "execution_count": 15,
   "metadata": {},
   "outputs": [
    {
     "name": "stdout",
     "output_type": "stream",
     "text": [
      "flux of oxygen uptake:  -10.564224665058838 unit\n",
      "flux of glucose uptake:  -10.0 unit\n",
      "flux of biomass production:  0.0 unit\n",
      "flux of resveratrol production:  3.189404860318783 unit\n"
     ]
    },
    {
     "data": {
      "text/html": [
       "<div>\n",
       "<style scoped>\n",
       "    .dataframe tbody tr th:only-of-type {\n",
       "        vertical-align: middle;\n",
       "    }\n",
       "\n",
       "    .dataframe tbody tr th {\n",
       "        vertical-align: top;\n",
       "    }\n",
       "\n",
       "    .dataframe thead th {\n",
       "        text-align: right;\n",
       "    }\n",
       "</style>\n",
       "<table border=\"1\" class=\"dataframe\">\n",
       "  <thead>\n",
       "    <tr style=\"text-align: right;\">\n",
       "      <th></th>\n",
       "      <th>flux</th>\n",
       "    </tr>\n",
       "  </thead>\n",
       "  <tbody>\n",
       "    <tr>\n",
       "      <th>FERCOXOXI</th>\n",
       "      <td>42.256899</td>\n",
       "    </tr>\n",
       "    <tr>\n",
       "      <th>EX_h2o_e</th>\n",
       "      <td>40.863571</td>\n",
       "    </tr>\n",
       "    <tr>\n",
       "      <th>ATPtm</th>\n",
       "      <td>33.990997</td>\n",
       "    </tr>\n",
       "    <tr>\n",
       "      <th>ATPS3m</th>\n",
       "      <td>33.990997</td>\n",
       "    </tr>\n",
       "    <tr>\n",
       "      <th>UBICRED</th>\n",
       "      <td>21.128449</td>\n",
       "    </tr>\n",
       "    <tr>\n",
       "      <th>...</th>\n",
       "      <td>...</td>\n",
       "    </tr>\n",
       "    <tr>\n",
       "      <th>AKGCITtm</th>\n",
       "      <td>-8.769958</td>\n",
       "    </tr>\n",
       "    <tr>\n",
       "      <th>EX_glc__D_e</th>\n",
       "      <td>-10.000000</td>\n",
       "    </tr>\n",
       "    <tr>\n",
       "      <th>EX_o2_e</th>\n",
       "      <td>-10.564225</td>\n",
       "    </tr>\n",
       "    <tr>\n",
       "      <th>H2Otm</th>\n",
       "      <td>-38.972858</td>\n",
       "    </tr>\n",
       "    <tr>\n",
       "      <th>H2Ot</th>\n",
       "      <td>-40.863571</td>\n",
       "    </tr>\n",
       "  </tbody>\n",
       "</table>\n",
       "<p>4067 rows × 1 columns</p>\n",
       "</div>"
      ],
      "text/plain": [
       "                  flux\n",
       "FERCOXOXI    42.256899\n",
       "EX_h2o_e     40.863571\n",
       "ATPtm        33.990997\n",
       "ATPS3m       33.990997\n",
       "UBICRED      21.128449\n",
       "...                ...\n",
       "AKGCITtm     -8.769958\n",
       "EX_glc__D_e -10.000000\n",
       "EX_o2_e     -10.564225\n",
       "H2Otm       -38.972858\n",
       "H2Ot        -40.863571\n",
       "\n",
       "[4067 rows x 1 columns]"
      ]
     },
     "execution_count": 15,
     "metadata": {},
     "output_type": "execute_result"
    }
   ],
   "source": [
    "# copy of the model with the new objective of resveratrol\n",
    "m_res=model.copy()\n",
    "\n",
    "# increasing the uptake of glucose from -1.0 to -10.0\n",
    "manipulation.increase_flux(m_res.reactions.EX_glc__D_e, -1.0, -10.0)\n",
    "\n",
    "fba3=fba(m_res, objective=m_res.reactions.VVVST1)\n",
    "fba_res=fba3.data_frame\n",
    "fba_res.sort_values(by='flux', ascending=False, inplace=True)\n",
    "print('flux of oxygen uptake: ', fba_res.loc['EX_o2_e'][0], 'unit')\n",
    "print('flux of glucose uptake: ', fba_res.loc['EX_glc__D_e'][0], 'unit')\n",
    "print('flux of biomass production: ', fba_res.loc['GROWTH'][0], 'unit')\n",
    "print('flux of resveratrol production: ', fba_res.loc['VVVST1'][0], 'unit')\n",
    "fba_res"
   ]
  },
  {
   "cell_type": "markdown",
   "metadata": {},
   "source": [
    "Even if we use the glucose of 10 [unit], we can see that the production of resveratrol leads to the death of the cell. Therefore, in the following model, we increase the growth of the host by higher glucose uptake and set a boundary for the growth of the host. The target of the model is still the resveratrol production."
   ]
  },
  {
   "cell_type": "markdown",
   "metadata": {},
   "source": [
    "#### Flux Balance Analysis with increased glucose uptake, minimum growth rate of yeast and resveratrol target"
   ]
  },
  {
   "cell_type": "code",
   "execution_count": 16,
   "metadata": {},
   "outputs": [
    {
     "name": "stdout",
     "output_type": "stream",
     "text": [
      "flux of oxygen uptake:  -15.821180645580405 unit\n",
      "flux of glucose uptake:  -10.0 unit\n",
      "flux of biomass production:  0.4 unit\n",
      "flux of resveratrol production:  1.6947190788672892 unit\n"
     ]
    },
    {
     "data": {
      "text/html": [
       "<div>\n",
       "<style scoped>\n",
       "    .dataframe tbody tr th:only-of-type {\n",
       "        vertical-align: middle;\n",
       "    }\n",
       "\n",
       "    .dataframe tbody tr th {\n",
       "        vertical-align: top;\n",
       "    }\n",
       "\n",
       "    .dataframe thead th {\n",
       "        text-align: right;\n",
       "    }\n",
       "</style>\n",
       "<table border=\"1\" class=\"dataframe\">\n",
       "  <thead>\n",
       "    <tr style=\"text-align: right;\">\n",
       "      <th></th>\n",
       "      <th>flux</th>\n",
       "    </tr>\n",
       "  </thead>\n",
       "  <tbody>\n",
       "    <tr>\n",
       "      <th>FERCOXOXI</th>\n",
       "      <td>61.876794</td>\n",
       "    </tr>\n",
       "    <tr>\n",
       "      <th>ATPtm</th>\n",
       "      <td>45.330542</td>\n",
       "    </tr>\n",
       "    <tr>\n",
       "      <th>ATPS3m</th>\n",
       "      <td>42.720620</td>\n",
       "    </tr>\n",
       "    <tr>\n",
       "      <th>EX_h2o_e</th>\n",
       "      <td>41.721151</td>\n",
       "    </tr>\n",
       "    <tr>\n",
       "      <th>UBICRED</th>\n",
       "      <td>30.938397</td>\n",
       "    </tr>\n",
       "    <tr>\n",
       "      <th>...</th>\n",
       "      <td>...</td>\n",
       "    </tr>\n",
       "    <tr>\n",
       "      <th>EX_glc__D_e</th>\n",
       "      <td>-10.000000</td>\n",
       "    </tr>\n",
       "    <tr>\n",
       "      <th>CO2tm</th>\n",
       "      <td>-10.135733</td>\n",
       "    </tr>\n",
       "    <tr>\n",
       "      <th>EX_o2_e</th>\n",
       "      <td>-15.821181</td>\n",
       "    </tr>\n",
       "    <tr>\n",
       "      <th>H2Ot</th>\n",
       "      <td>-41.721151</td>\n",
       "    </tr>\n",
       "    <tr>\n",
       "      <th>H2Otm</th>\n",
       "      <td>-56.134747</td>\n",
       "    </tr>\n",
       "  </tbody>\n",
       "</table>\n",
       "<p>4067 rows × 1 columns</p>\n",
       "</div>"
      ],
      "text/plain": [
       "                  flux\n",
       "FERCOXOXI    61.876794\n",
       "ATPtm        45.330542\n",
       "ATPS3m       42.720620\n",
       "EX_h2o_e     41.721151\n",
       "UBICRED      30.938397\n",
       "...                ...\n",
       "EX_glc__D_e -10.000000\n",
       "CO2tm       -10.135733\n",
       "EX_o2_e     -15.821181\n",
       "H2Ot        -41.721151\n",
       "H2Otm       -56.134747\n",
       "\n",
       "[4067 rows x 1 columns]"
      ]
     },
     "execution_count": 16,
     "metadata": {},
     "output_type": "execute_result"
    }
   ],
   "source": [
    "m_res_glu=model.copy()\n",
    "\n",
    "# increasing the glucose uptake\n",
    "manipulation.increase_flux(m_res_glu.reactions.EX_glc__D_e, -1.0, -10.0)\n",
    "\n",
    "# setting the constraint of having a minimum growth of 0.3 [unit]\n",
    "m_res_glu.reactions.GROWTH.bounds=(0.4, 1000)\n",
    "\n",
    "# flux balance analysis to see the effects on the oxygen uptake, growth and our product\n",
    "fba4=fba(m_res_glu, objective=m_res_glu.reactions.VVVST1)\n",
    "fba_res_glu=fba4.data_frame\n",
    "fba_res_glu.sort_values(by='flux', ascending=False, inplace=True)\n",
    "print('flux of oxygen uptake: ', fba_res_glu.loc['EX_o2_e'][0], 'unit')\n",
    "print('flux of glucose uptake: ', fba_res_glu.loc['EX_glc__D_e'][0], 'unit')\n",
    "print('flux of biomass production: ', fba_res_glu.loc['GROWTH'][0], 'unit')\n",
    "print('flux of resveratrol production: ', fba_res_glu.loc['VVVST1'][0], 'unit')\n",
    "fba_res_glu"
   ]
  },
  {
   "cell_type": "markdown",
   "metadata": {},
   "source": [
    "So, now the flux of the product is lower due to cell growth but the cells are still alive."
   ]
  },
  {
   "cell_type": "markdown",
   "metadata": {},
   "source": [
    "#### Parsimonious FBA for last cenario"
   ]
  },
  {
   "cell_type": "code",
   "execution_count": 19,
   "metadata": {},
   "outputs": [
    {
     "name": "stdout",
     "output_type": "stream",
     "text": [
      "Biomass bounds:  (0.4, 1000)\n",
      "Glucose bounds:  (-10.0, -10.0)\n",
      "flux of oxygen uptake:  -15.821180645583794 unit\n",
      "flux of glucose uptake:  -10.0 unit\n",
      "flux of biomass production:  0.4 unit\n",
      "flux of resveratrol production:  1.6947190788672892 unit\n"
     ]
    },
    {
     "data": {
      "text/html": [
       "<div>\n",
       "<style scoped>\n",
       "    .dataframe tbody tr th:only-of-type {\n",
       "        vertical-align: middle;\n",
       "    }\n",
       "\n",
       "    .dataframe tbody tr th {\n",
       "        vertical-align: top;\n",
       "    }\n",
       "\n",
       "    .dataframe thead th {\n",
       "        text-align: right;\n",
       "    }\n",
       "</style>\n",
       "<table border=\"1\" class=\"dataframe\">\n",
       "  <thead>\n",
       "    <tr style=\"text-align: right;\">\n",
       "      <th></th>\n",
       "      <th>flux</th>\n",
       "    </tr>\n",
       "  </thead>\n",
       "  <tbody>\n",
       "    <tr>\n",
       "      <th>FERCOXOXI</th>\n",
       "      <td>61.876794</td>\n",
       "    </tr>\n",
       "    <tr>\n",
       "      <th>ATPtm</th>\n",
       "      <td>45.380305</td>\n",
       "    </tr>\n",
       "    <tr>\n",
       "      <th>ATPS3m</th>\n",
       "      <td>42.820147</td>\n",
       "    </tr>\n",
       "    <tr>\n",
       "      <th>EX_h2o_e</th>\n",
       "      <td>41.721151</td>\n",
       "    </tr>\n",
       "    <tr>\n",
       "      <th>UBICRED</th>\n",
       "      <td>30.938397</td>\n",
       "    </tr>\n",
       "    <tr>\n",
       "      <th>...</th>\n",
       "      <td>...</td>\n",
       "    </tr>\n",
       "    <tr>\n",
       "      <th>EX_glc__D_e</th>\n",
       "      <td>-10.000000</td>\n",
       "    </tr>\n",
       "    <tr>\n",
       "      <th>CO2tm</th>\n",
       "      <td>-10.285024</td>\n",
       "    </tr>\n",
       "    <tr>\n",
       "      <th>EX_o2_e</th>\n",
       "      <td>-15.821181</td>\n",
       "    </tr>\n",
       "    <tr>\n",
       "      <th>H2Ot</th>\n",
       "      <td>-41.721151</td>\n",
       "    </tr>\n",
       "    <tr>\n",
       "      <th>H2Otm</th>\n",
       "      <td>-56.333802</td>\n",
       "    </tr>\n",
       "  </tbody>\n",
       "</table>\n",
       "<p>4067 rows × 1 columns</p>\n",
       "</div>"
      ],
      "text/plain": [
       "                  flux\n",
       "FERCOXOXI    61.876794\n",
       "ATPtm        45.380305\n",
       "ATPS3m       42.820147\n",
       "EX_h2o_e     41.721151\n",
       "UBICRED      30.938397\n",
       "...                ...\n",
       "EX_glc__D_e -10.000000\n",
       "CO2tm       -10.285024\n",
       "EX_o2_e     -15.821181\n",
       "H2Ot        -41.721151\n",
       "H2Otm       -56.333802\n",
       "\n",
       "[4067 rows x 1 columns]"
      ]
     },
     "execution_count": 19,
     "metadata": {},
     "output_type": "execute_result"
    }
   ],
   "source": [
    "print('Biomass bounds: ', m_res_glu.reactions.GROWTH.bounds)\n",
    "print('Glucose bounds: ', m_res_glu.reactions.EX_glc__D_e.bounds)\n",
    "\n",
    "pfba=pfba(m_res_glu, objective=m_res_glu.reactions.VVVST1)\n",
    "pfba_res=pfba.data_frame\n",
    "pfba_res.sort_values(by='flux', ascending=False, inplace=True)\n",
    "print('flux of oxygen uptake: ', pfba_res.loc['EX_o2_e'][0], 'unit')\n",
    "print('flux of glucose uptake: ', pfba_res.loc['EX_glc__D_e'][0], 'unit')\n",
    "print('flux of biomass production: ', pfba_res.loc['GROWTH'][0], 'unit')\n",
    "print('flux of resveratrol production: ', pfba_res.loc['VVVST1'][0], 'unit')\n",
    "pfba_res"
   ]
  },
  {
   "cell_type": "markdown",
   "metadata": {},
   "source": [
    "#### Flux Variabilty Analysis"
   ]
  },
  {
   "cell_type": "code",
   "execution_count": 26,
   "metadata": {},
   "outputs": [
    {
     "name": "stdout",
     "output_type": "stream",
     "text": [
      "lower bound of oxygen uptake:  -42.08932636798315    and   upper bound of oxygen uptake:  -6.862714391742457\n",
      "lower bound of glucose uptake:  -10.0    and   upper bound of glucose uptake:  -10.0\n",
      "lower bound of biomass production:  0.4    and   upper bound of biomass production:  0.8471925464547586\n",
      "lower bound of resveratrol production:  0.0    and   upper bound of resveratrol production:  1.6947190788696214\n",
      "Wall time: 1min 48s\n"
     ]
    },
    {
     "data": {
      "text/html": [
       "<div>\n",
       "<style scoped>\n",
       "    .dataframe tbody tr th:only-of-type {\n",
       "        vertical-align: middle;\n",
       "    }\n",
       "\n",
       "    .dataframe tbody tr th {\n",
       "        vertical-align: top;\n",
       "    }\n",
       "\n",
       "    .dataframe thead th {\n",
       "        text-align: right;\n",
       "    }\n",
       "</style>\n",
       "<table border=\"1\" class=\"dataframe\">\n",
       "  <thead>\n",
       "    <tr style=\"text-align: right;\">\n",
       "      <th></th>\n",
       "      <th>lower_bound</th>\n",
       "      <th>upper_bound</th>\n",
       "    </tr>\n",
       "  </thead>\n",
       "  <tbody>\n",
       "    <tr>\n",
       "      <th>HEXCCOAtrm</th>\n",
       "      <td>-1000.000000</td>\n",
       "      <td>1000.000000</td>\n",
       "    </tr>\n",
       "    <tr>\n",
       "      <th>ACONTa</th>\n",
       "      <td>-1000.000000</td>\n",
       "      <td>1000.000000</td>\n",
       "    </tr>\n",
       "    <tr>\n",
       "      <th>PC160181trmmm</th>\n",
       "      <td>-1000.000000</td>\n",
       "      <td>1000.000000</td>\n",
       "    </tr>\n",
       "    <tr>\n",
       "      <th>AKGt</th>\n",
       "      <td>-1000.000000</td>\n",
       "      <td>1000.000000</td>\n",
       "    </tr>\n",
       "    <tr>\n",
       "      <th>HDCEAtlp</th>\n",
       "      <td>-1000.000000</td>\n",
       "      <td>1000.000000</td>\n",
       "    </tr>\n",
       "    <tr>\n",
       "      <th>...</th>\n",
       "      <td>...</td>\n",
       "      <td>...</td>\n",
       "    </tr>\n",
       "    <tr>\n",
       "      <th>EX_nh4_e</th>\n",
       "      <td>-43.234315</td>\n",
       "      <td>-2.859822</td>\n",
       "    </tr>\n",
       "    <tr>\n",
       "      <th>EX_o2_e</th>\n",
       "      <td>-42.089326</td>\n",
       "      <td>-6.862714</td>\n",
       "    </tr>\n",
       "    <tr>\n",
       "      <th>EX_glc__D_e</th>\n",
       "      <td>-10.000000</td>\n",
       "      <td>-10.000000</td>\n",
       "    </tr>\n",
       "    <tr>\n",
       "      <th>H2Ot</th>\n",
       "      <td>-154.669139</td>\n",
       "      <td>-15.681733</td>\n",
       "    </tr>\n",
       "    <tr>\n",
       "      <th>H2Otm</th>\n",
       "      <td>-263.637724</td>\n",
       "      <td>-22.850918</td>\n",
       "    </tr>\n",
       "  </tbody>\n",
       "</table>\n",
       "<p>4067 rows × 2 columns</p>\n",
       "</div>"
      ],
      "text/plain": [
       "               lower_bound  upper_bound\n",
       "HEXCCOAtrm    -1000.000000  1000.000000\n",
       "ACONTa        -1000.000000  1000.000000\n",
       "PC160181trmmm -1000.000000  1000.000000\n",
       "AKGt          -1000.000000  1000.000000\n",
       "HDCEAtlp      -1000.000000  1000.000000\n",
       "...                    ...          ...\n",
       "EX_nh4_e        -43.234315    -2.859822\n",
       "EX_o2_e         -42.089326    -6.862714\n",
       "EX_glc__D_e     -10.000000   -10.000000\n",
       "H2Ot           -154.669139   -15.681733\n",
       "H2Otm          -263.637724   -22.850918\n",
       "\n",
       "[4067 rows x 2 columns]"
      ]
     },
     "execution_count": 26,
     "metadata": {},
     "output_type": "execute_result"
    }
   ],
   "source": [
    "%%time\n",
    "fva_res = flux_variability_analysis(m_res_glu)\n",
    "fva=fva_res.data_frame.sort_values(by='upper_bound', ascending=False)\n",
    "print('lower bound of oxygen uptake: ', fva.loc['EX_o2_e'][0], '   and   upper bound of oxygen uptake: ', fva.loc['EX_o2_e'][1])\n",
    "print('lower bound of glucose uptake: ', fva.loc['EX_glc__D_e'][0], '   and   upper bound of glucose uptake: ', fva.loc['EX_glc__D_e'][1])\n",
    "print('lower bound of biomass production: ', fva.loc['GROWTH'][0], '   and   upper bound of biomass production: ', fva.loc['GROWTH'][1])\n",
    "print('lower bound of resveratrol production: ', fva.loc['VVVST1'][0], '   and   upper bound of resveratrol production: ', fva.loc['VVVST1'][1])\n",
    "fva"
   ]
  },
  {
   "cell_type": "markdown",
   "metadata": {},
   "source": [
    "#### Saving the flux data and the model as json files"
   ]
  },
  {
   "cell_type": "code",
   "execution_count": 27,
   "metadata": {},
   "outputs": [],
   "source": [
    "import json\n",
    "import xmltodict\n",
    "os.chdir(\"C:/Users/Deborah/anaconda3/envs/cellfactorydesign/27410-group-assigment-group-4-resveratrol-in-s-cerevisiae/data/models/\")\n",
    "\n",
    "with open('yeast8_resv_glc.xml') as xml_file:\n",
    "    data_dict = xmltodict.parse(xml_file.read())\n",
    "    json_data = json.dumps(data_dict)\n",
    "with open(\"data.json\", \"w\") as json_file:\n",
    "        json_file.write(json_data)"
   ]
  },
  {
   "cell_type": "code",
   "execution_count": 36,
   "metadata": {},
   "outputs": [],
   "source": [
    "import json\n",
    "import xmltodict\n",
    "os.chdir(\"C:/Users/Deborah/anaconda3/envs/cellfactorydesign/27410-group-assigment-group-4-resveratrol-in-s-cerevisiae/data/models/\")\n",
    "\n",
    "json_fba=fba_res_glu.to_json(orient=\"values\")\n",
    "parsed=json.loads(json_fba)\n",
    "file=json.dumps(parsed, indent=4)\n",
    "with open(\"fba_res_glu.json\", \"w\") as json_file:\n",
    "        json_file.write(file)"
   ]
  },
  {
   "cell_type": "markdown",
   "metadata": {},
   "source": [
    "#### Find dead end reactions"
   ]
  },
  {
   "cell_type": "code",
   "execution_count": 12,
   "metadata": {},
   "outputs": [],
   "source": [
    "from cameo.flux_analysis import structural\n",
    "m_dead_end=m_res_glu.copy()"
   ]
  },
  {
   "cell_type": "code",
   "execution_count": 23,
   "metadata": {},
   "outputs": [
    {
     "ename": "NameError",
     "evalue": "name 'structural' is not defined",
     "output_type": "error",
     "traceback": [
      "\u001b[1;31m---------------------------------------------------------------------------\u001b[0m",
      "\u001b[1;31mNameError\u001b[0m                                 Traceback (most recent call last)",
      "\u001b[1;32m<ipython-input-23-242141aed69b>\u001b[0m in \u001b[0;36m<module>\u001b[1;34m\u001b[0m\n\u001b[0;32m      1\u001b[0m \u001b[1;31m# Identify reactions that are structurally prevented from carrying flux (dead ends).\u001b[0m\u001b[1;33m\u001b[0m\u001b[1;33m\u001b[0m\u001b[1;33m\u001b[0m\u001b[0m\n\u001b[1;32m----> 2\u001b[1;33m \u001b[0mdead_end\u001b[0m\u001b[1;33m=\u001b[0m\u001b[0mstructural\u001b[0m\u001b[1;33m.\u001b[0m\u001b[0mfind_dead_end_reactions\u001b[0m\u001b[1;33m(\u001b[0m\u001b[0mm_dead_end\u001b[0m\u001b[1;33m)\u001b[0m\u001b[1;33m\u001b[0m\u001b[1;33m\u001b[0m\u001b[0m\n\u001b[0m\u001b[0;32m      3\u001b[0m \u001b[0mlist\u001b[0m\u001b[1;33m(\u001b[0m\u001b[0mdead_end\u001b[0m\u001b[1;33m)\u001b[0m\u001b[1;33m[\u001b[0m\u001b[1;33m:\u001b[0m\u001b[1;36m5\u001b[0m\u001b[1;33m]\u001b[0m\u001b[1;33m\u001b[0m\u001b[1;33m\u001b[0m\u001b[0m\n",
      "\u001b[1;31mNameError\u001b[0m: name 'structural' is not defined"
     ]
    }
   ],
   "source": [
    "# Identify reactions that are structurally prevented from carrying flux (dead ends).\n",
    "dead_end=structural.find_dead_end_reactions(m_dead_end)\n",
    "r_deadend=list(dead_end)"
   ]
  },
  {
   "cell_type": "code",
   "execution_count": 14,
   "metadata": {},
   "outputs": [
    {
     "name": "stdout",
     "output_type": "stream",
     "text": [
      "NADTRA3: dgmp_m + nad_c --> dgmp_c + nad_m\n",
      "R06: h_c + pac_c --> 4hphac_c\n",
      "CARESTHYD: ac_c + h_c + hqn_c --> 4hphac_c + h2o_c\n",
      "ADDEGMADGLMPMAT11223967: dolmanp_r + s_3994 <=> dolp_r + s_3995\n",
      "DOCOSACTlp: atp_lp + coa_lp + docosac_lp <=> amp_lp + docoscoa_lp + ppi_lp\n",
      "ISO6ALPDGLU: h2o_c + isomal_c <=> glc__D_c + s_3951\n",
      "DEX6ALPDGLU: 2.0 h2o_c + starch_c <=> 2.0 glc__D_c\n",
      "r_4705: tchola_e --> tchola_copy1_c\n",
      "DBGPMAMAMAMAMAMAMAMAMBGBGDA1212131213121616141413: h_r + s_3911 + s_3996 <=> dolp_r + s_4001\n",
      "FALDH: fald_c + gthrd_c + nad_c --> Sfglutth_c + h_c + nadh_c\n"
     ]
    }
   ],
   "source": [
    "for r in r_deadend[:10]:\n",
    "    print(r)\n",
    "    #id=m_dead_end.reactions.get_by_id(r)\n",
    "    #print(id.id, id.name, id.reaction, id.bounds)"
   ]
  },
  {
   "cell_type": "markdown",
   "metadata": {},
   "source": [
    "#### Flux Scanning based on Enforced Objective Flux"
   ]
  },
  {
   "cell_type": "markdown",
   "metadata": {},
   "source": [
    "### Differential Flux Variability Analysis"
   ]
  },
  {
   "cell_type": "code",
   "execution_count": 63,
   "metadata": {},
   "outputs": [],
   "source": [
    "# Set the original model as reference to be compared with a set of models where n-reaction bounds are varied\n",
    "reference_model = m_res_glu.copy()\n",
    "biomass_rxn = reference_model.reactions.BIOMASS_SC5_notrace\n",
    "target = reference_model.metabolites.trans_resv"
   ]
  },
  {
   "cell_type": "code",
   "execution_count": 64,
   "metadata": {},
   "outputs": [],
   "source": [
    "diff_fva = DifferentialFVA(design_space_model=m_res_glu,\n",
    "                           reference_model=reference_model,\n",
    "                           objective=target,\n",
    "                           variables=[biomass_rxn],\n",
    "                           normalize_ranges_by=biomass_rxn,\n",
    "                           points=10)"
   ]
  },
  {
   "cell_type": "code",
   "execution_count": 65,
   "metadata": {},
   "outputs": [
    {
     "data": {
      "text/html": [
       "<span>biomass: 0.12794</span>"
      ],
      "text/plain": [
       "<IPython.core.display.HTML object>"
      ]
     },
     "metadata": {},
     "output_type": "display_data"
    },
    {
     "data": {
      "text/html": [
       "<span>production: 0.716157</span>"
      ],
      "text/plain": [
       "<IPython.core.display.HTML object>"
      ]
     },
     "metadata": {},
     "output_type": "display_data"
    },
    {
     "data": {
      "text/html": [
       "<div>\n",
       "<style scoped>\n",
       "    .dataframe tbody tr th:only-of-type {\n",
       "        vertical-align: middle;\n",
       "    }\n",
       "\n",
       "    .dataframe tbody tr th {\n",
       "        vertical-align: top;\n",
       "    }\n",
       "\n",
       "    .dataframe thead th {\n",
       "        text-align: right;\n",
       "    }\n",
       "</style>\n",
       "<table border=\"1\" class=\"dataframe\">\n",
       "  <thead>\n",
       "    <tr style=\"text-align: right;\">\n",
       "      <th></th>\n",
       "      <th>lower_bound</th>\n",
       "      <th>upper_bound</th>\n",
       "      <th>gaps</th>\n",
       "      <th>normalized_gaps</th>\n",
       "      <th>biomass</th>\n",
       "      <th>production</th>\n",
       "      <th>KO</th>\n",
       "      <th>flux_reversal</th>\n",
       "      <th>suddenly_essential</th>\n",
       "      <th>free_flux</th>\n",
       "      <th>reaction</th>\n",
       "      <th>excluded</th>\n",
       "    </tr>\n",
       "    <tr>\n",
       "      <th>reaction</th>\n",
       "      <th></th>\n",
       "      <th></th>\n",
       "      <th></th>\n",
       "      <th></th>\n",
       "      <th></th>\n",
       "      <th></th>\n",
       "      <th></th>\n",
       "      <th></th>\n",
       "      <th></th>\n",
       "      <th></th>\n",
       "      <th></th>\n",
       "      <th></th>\n",
       "    </tr>\n",
       "  </thead>\n",
       "  <tbody>\n",
       "    <tr>\n",
       "      <th>PGL</th>\n",
       "      <td>0.000371</td>\n",
       "      <td>0.000371</td>\n",
       "      <td>-0.802099</td>\n",
       "      <td>-2.784754</td>\n",
       "      <td>0.12794</td>\n",
       "      <td>0.716157</td>\n",
       "      <td>False</td>\n",
       "      <td>False</td>\n",
       "      <td>False</td>\n",
       "      <td>False</td>\n",
       "      <td>PGL</td>\n",
       "      <td>False</td>\n",
       "    </tr>\n",
       "    <tr>\n",
       "      <th>GND</th>\n",
       "      <td>0.000371</td>\n",
       "      <td>0.000371</td>\n",
       "      <td>-0.802099</td>\n",
       "      <td>-2.784754</td>\n",
       "      <td>0.12794</td>\n",
       "      <td>0.716157</td>\n",
       "      <td>False</td>\n",
       "      <td>False</td>\n",
       "      <td>False</td>\n",
       "      <td>False</td>\n",
       "      <td>GND</td>\n",
       "      <td>False</td>\n",
       "    </tr>\n",
       "    <tr>\n",
       "      <th>G6PDH2r</th>\n",
       "      <td>0.000000</td>\n",
       "      <td>0.000000</td>\n",
       "      <td>-0.801635</td>\n",
       "      <td>-2.784754</td>\n",
       "      <td>0.12794</td>\n",
       "      <td>0.716157</td>\n",
       "      <td>True</td>\n",
       "      <td>False</td>\n",
       "      <td>False</td>\n",
       "      <td>False</td>\n",
       "      <td>G6PDH2r</td>\n",
       "      <td>False</td>\n",
       "    </tr>\n",
       "    <tr>\n",
       "      <th>PDHm</th>\n",
       "      <td>0.209950</td>\n",
       "      <td>0.209950</td>\n",
       "      <td>-0.498439</td>\n",
       "      <td>-0.819831</td>\n",
       "      <td>0.12794</td>\n",
       "      <td>0.716157</td>\n",
       "      <td>False</td>\n",
       "      <td>False</td>\n",
       "      <td>False</td>\n",
       "      <td>False</td>\n",
       "      <td>PDHm</td>\n",
       "      <td>False</td>\n",
       "    </tr>\n",
       "    <tr>\n",
       "      <th>CSm</th>\n",
       "      <td>0.130346</td>\n",
       "      <td>0.130346</td>\n",
       "      <td>-0.398933</td>\n",
       "      <td>-0.819831</td>\n",
       "      <td>0.12794</td>\n",
       "      <td>0.716157</td>\n",
       "      <td>False</td>\n",
       "      <td>False</td>\n",
       "      <td>False</td>\n",
       "      <td>False</td>\n",
       "      <td>CSm</td>\n",
       "      <td>False</td>\n",
       "    </tr>\n",
       "    <tr>\n",
       "      <th>...</th>\n",
       "      <td>...</td>\n",
       "      <td>...</td>\n",
       "      <td>...</td>\n",
       "      <td>...</td>\n",
       "      <td>...</td>\n",
       "      <td>...</td>\n",
       "      <td>...</td>\n",
       "      <td>...</td>\n",
       "      <td>...</td>\n",
       "      <td>...</td>\n",
       "      <td>...</td>\n",
       "      <td>...</td>\n",
       "    </tr>\n",
       "    <tr>\n",
       "      <th>PYK</th>\n",
       "      <td>16.792033</td>\n",
       "      <td>16.792033</td>\n",
       "      <td>-0.929957</td>\n",
       "      <td>69.685565</td>\n",
       "      <td>0.12794</td>\n",
       "      <td>0.716157</td>\n",
       "      <td>False</td>\n",
       "      <td>False</td>\n",
       "      <td>False</td>\n",
       "      <td>False</td>\n",
       "      <td>PYK</td>\n",
       "      <td>False</td>\n",
       "    </tr>\n",
       "    <tr>\n",
       "      <th>GAPD</th>\n",
       "      <td>18.291976</td>\n",
       "      <td>18.291976</td>\n",
       "      <td>0.253771</td>\n",
       "      <td>80.310856</td>\n",
       "      <td>0.12794</td>\n",
       "      <td>0.716157</td>\n",
       "      <td>False</td>\n",
       "      <td>False</td>\n",
       "      <td>False</td>\n",
       "      <td>False</td>\n",
       "      <td>GAPD</td>\n",
       "      <td>False</td>\n",
       "    </tr>\n",
       "    <tr>\n",
       "      <th>PGK</th>\n",
       "      <td>-18.291976</td>\n",
       "      <td>-18.291976</td>\n",
       "      <td>0.253771</td>\n",
       "      <td>80.310856</td>\n",
       "      <td>0.12794</td>\n",
       "      <td>0.716157</td>\n",
       "      <td>False</td>\n",
       "      <td>False</td>\n",
       "      <td>False</td>\n",
       "      <td>False</td>\n",
       "      <td>PGK</td>\n",
       "      <td>False</td>\n",
       "    </tr>\n",
       "    <tr>\n",
       "      <th>ENO</th>\n",
       "      <td>18.291976</td>\n",
       "      <td>18.291976</td>\n",
       "      <td>0.417820</td>\n",
       "      <td>80.880736</td>\n",
       "      <td>0.12794</td>\n",
       "      <td>0.716157</td>\n",
       "      <td>False</td>\n",
       "      <td>False</td>\n",
       "      <td>False</td>\n",
       "      <td>False</td>\n",
       "      <td>ENO</td>\n",
       "      <td>False</td>\n",
       "    </tr>\n",
       "    <tr>\n",
       "      <th>PGM</th>\n",
       "      <td>-18.291976</td>\n",
       "      <td>-18.291976</td>\n",
       "      <td>0.417820</td>\n",
       "      <td>80.880736</td>\n",
       "      <td>0.12794</td>\n",
       "      <td>0.716157</td>\n",
       "      <td>False</td>\n",
       "      <td>False</td>\n",
       "      <td>False</td>\n",
       "      <td>False</td>\n",
       "      <td>PGM</td>\n",
       "      <td>False</td>\n",
       "    </tr>\n",
       "  </tbody>\n",
       "</table>\n",
       "<p>82 rows × 12 columns</p>\n",
       "</div>"
      ],
      "text/plain": [
       "          lower_bound  upper_bound      gaps  normalized_gaps  biomass  \\\n",
       "reaction                                                                 \n",
       "PGL          0.000371     0.000371 -0.802099        -2.784754  0.12794   \n",
       "GND          0.000371     0.000371 -0.802099        -2.784754  0.12794   \n",
       "G6PDH2r      0.000000     0.000000 -0.801635        -2.784754  0.12794   \n",
       "PDHm         0.209950     0.209950 -0.498439        -0.819831  0.12794   \n",
       "CSm          0.130346     0.130346 -0.398933        -0.819831  0.12794   \n",
       "...               ...          ...       ...              ...      ...   \n",
       "PYK         16.792033    16.792033 -0.929957        69.685565  0.12794   \n",
       "GAPD        18.291976    18.291976  0.253771        80.310856  0.12794   \n",
       "PGK        -18.291976   -18.291976  0.253771        80.310856  0.12794   \n",
       "ENO         18.291976    18.291976  0.417820        80.880736  0.12794   \n",
       "PGM        -18.291976   -18.291976  0.417820        80.880736  0.12794   \n",
       "\n",
       "          production     KO  flux_reversal  suddenly_essential  free_flux  \\\n",
       "reaction                                                                    \n",
       "PGL         0.716157  False          False               False      False   \n",
       "GND         0.716157  False          False               False      False   \n",
       "G6PDH2r     0.716157   True          False               False      False   \n",
       "PDHm        0.716157  False          False               False      False   \n",
       "CSm         0.716157  False          False               False      False   \n",
       "...              ...    ...            ...                 ...        ...   \n",
       "PYK         0.716157  False          False               False      False   \n",
       "GAPD        0.716157  False          False               False      False   \n",
       "PGK         0.716157  False          False               False      False   \n",
       "ENO         0.716157  False          False               False      False   \n",
       "PGM         0.716157  False          False               False      False   \n",
       "\n",
       "         reaction  excluded  \n",
       "reaction                     \n",
       "PGL           PGL     False  \n",
       "GND           GND     False  \n",
       "G6PDH2r   G6PDH2r     False  \n",
       "PDHm         PDHm     False  \n",
       "CSm           CSm     False  \n",
       "...           ...       ...  \n",
       "PYK           PYK     False  \n",
       "GAPD         GAPD     False  \n",
       "PGK           PGK     False  \n",
       "ENO           ENO     False  \n",
       "PGM           PGM     False  \n",
       "\n",
       "[82 rows x 12 columns]"
      ]
     },
     "metadata": {},
     "output_type": "display_data"
    },
    {
     "data": {
      "text/html": [],
      "text/plain": [
       "<cameo.strain_design.deterministic.flux_variability_based.DifferentialFVAResult at 0x2651f9b4188>"
      ]
     },
     "execution_count": 65,
     "metadata": {},
     "output_type": "execute_result"
    }
   ],
   "source": [
    "result = diff_fva.run(surface_only=True)\n",
    "result"
   ]
  },
  {
   "cell_type": "code",
   "execution_count": null,
   "metadata": {},
   "outputs": [],
   "source": [
    "# Visualize the reaction rate changes in escher map\n",
    "result.display_on_map(5, map_name=\"iMM904.Central carbon metabolism\")"
   ]
  }
 ],
 "metadata": {
  "kernelspec": {
   "display_name": "cellfactorydesign",
   "language": "python",
   "name": "cellfactorydesign"
  },
  "language_info": {
   "codemirror_mode": {
    "name": "ipython",
    "version": 3
   },
   "file_extension": ".py",
   "mimetype": "text/x-python",
   "name": "python",
   "nbconvert_exporter": "python",
   "pygments_lexer": "ipython3",
   "version": "3.7.6"
  },
  "vscode": {
   "interpreter": {
    "hash": "4ad25b57962b0cddfe387bbbfd47a390a3687636eb6a16c64fb60bcd3f49932b"
   }
  }
 },
 "nbformat": 4,
 "nbformat_minor": 4
}
