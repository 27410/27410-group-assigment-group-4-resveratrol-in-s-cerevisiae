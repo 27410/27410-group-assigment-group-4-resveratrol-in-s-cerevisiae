{
 "cells": [
  {
   "cell_type": "code",
   "execution_count": 40,
   "id": "bbbc5e80",
   "metadata": {},
   "outputs": [],
   "source": [
    "import pytest\n",
    "import hashlib\n",
    "from cobra.io import read_sbml_model\n",
    "from cobra import Reaction, Metabolite\n",
    "\n",
    "# Read model (resveratrol from glucose, S. cervisae)\n",
    "model = read_sbml_model('../data/models/yeast_resv_phen.xml')\n"
   ]
  },
  {
   "cell_type": "code",
   "execution_count": 43,
   "id": "80cf82bf",
   "metadata": {},
   "outputs": [
    {
     "data": {
      "text/plain": [
       "{'EX_fe2_e': 999999.0,\n",
       " 'EX_glc__D_e': 10.0,\n",
       " 'EX_h2o_e': 999999.0,\n",
       " 'EX_h_e': 999999.0,\n",
       " 'EX_k_e': 999999.0,\n",
       " 'EX_na1_e': 999999.0,\n",
       " 'EX_so4_e': 999999.0,\n",
       " 'EX_nh4_e': 999999.0,\n",
       " 'EX_o2_e': 2.0,\n",
       " 'EX_phe__L_e': 10.0,\n",
       " 'EX_pi_e': 999999.0}"
      ]
     },
     "execution_count": 43,
     "metadata": {},
     "output_type": "execute_result"
    }
   ],
   "source": [
    "medium = model.medium\n",
    "medium[\"EX_phe__L_e\"] = 10.0\n",
    "model.medium = medium\n",
    "\n",
    "model.medium"
   ]
  },
  {
   "cell_type": "markdown",
   "id": "83ac8678",
   "metadata": {},
   "source": [
    "## Lets find in the main model the reactions that we will knock-out"
   ]
  },
  {
   "cell_type": "code",
   "execution_count": 44,
   "id": "15616c62",
   "metadata": {},
   "outputs": [
    {
     "data": {
      "text/html": [
       "\n",
       "        <table>\n",
       "            <tr>\n",
       "                <td><strong>Reaction identifier</strong></td><td>ANS</td>\n",
       "            </tr><tr>\n",
       "                <td><strong>Name</strong></td><td>Anthranilate synthase</td>\n",
       "            </tr><tr>\n",
       "                <td><strong>Memory address</strong></td>\n",
       "                <td>0x26d38322b80</td>\n",
       "            </tr><tr>\n",
       "                <td><strong>Stoichiometry</strong></td>\n",
       "                <td>\n",
       "                    <p style='text-align:right'>chor_c + gln__L_c --> anth_c + glu__L_c + h_c + pyr_c</p>\n",
       "                    <p style='text-align:right'>Chorismate + L-Glutamine --> Anthranilate + L-Glutamate + H+ + Pyruvate</p>\n",
       "                </td>\n",
       "            </tr><tr>\n",
       "                <td><strong>GPR</strong></td><td>YER090W and YKL211C</td>\n",
       "            </tr><tr>\n",
       "                <td><strong>Lower bound</strong></td><td>0.0</td>\n",
       "            </tr><tr>\n",
       "                <td><strong>Upper bound</strong></td><td>999999.0</td>\n",
       "            </tr>\n",
       "        </table>\n",
       "        "
      ],
      "text/plain": [
       "<Reaction ANS at 0x26d38322b80>"
      ]
     },
     "execution_count": 44,
     "metadata": {},
     "output_type": "execute_result"
    }
   ],
   "source": [
    "\n",
    "#-\tManual_ko_1: From chorismate to anthranilate (4.1.3.27) \n",
    "model.reactions.ANS"
   ]
  },
  {
   "cell_type": "code",
   "execution_count": 45,
   "id": "7994357f",
   "metadata": {},
   "outputs": [
    {
     "data": {
      "text/html": [
       "\n",
       "        <table>\n",
       "            <tr>\n",
       "                <td><strong>Reaction identifier</strong></td><td>PPNDH</td>\n",
       "            </tr><tr>\n",
       "                <td><strong>Name</strong></td><td>Prephenate dehydratase</td>\n",
       "            </tr><tr>\n",
       "                <td><strong>Memory address</strong></td>\n",
       "                <td>0x26d3a8ee760</td>\n",
       "            </tr><tr>\n",
       "                <td><strong>Stoichiometry</strong></td>\n",
       "                <td>\n",
       "                    <p style='text-align:right'>h_c + pphn_c --> co2_c + h2o_c + phpyr_c</p>\n",
       "                    <p style='text-align:right'>H+ + Prephenate --> CO2 CO2 + H2O H2O + Phenylpyruvate</p>\n",
       "                </td>\n",
       "            </tr><tr>\n",
       "                <td><strong>GPR</strong></td><td>YNL316C</td>\n",
       "            </tr><tr>\n",
       "                <td><strong>Lower bound</strong></td><td>0.0</td>\n",
       "            </tr><tr>\n",
       "                <td><strong>Upper bound</strong></td><td>999999.0</td>\n",
       "            </tr>\n",
       "        </table>\n",
       "        "
      ],
      "text/plain": [
       "<Reaction PPNDH at 0x26d3a8ee760>"
      ]
     },
     "execution_count": 45,
     "metadata": {},
     "output_type": "execute_result"
    }
   ],
   "source": [
    "# Manual_ko_2:  From prephenate to phenyl pyruvate (4. 2 . 1. 51) \n",
    "model.reactions.PPNDH"
   ]
  },
  {
   "cell_type": "code",
   "execution_count": 46,
   "id": "165e94c4",
   "metadata": {},
   "outputs": [
    {
     "data": {
      "text/html": [
       "\n",
       "        <table>\n",
       "            <tr>\n",
       "                <td><strong>Reaction identifier</strong></td><td>ALCD2ir</td>\n",
       "            </tr><tr>\n",
       "                <td><strong>Name</strong></td><td>Alcohol dehydrogenase reverse rxn acetaldehyde ethanol</td>\n",
       "            </tr><tr>\n",
       "                <td><strong>Memory address</strong></td>\n",
       "                <td>0x26d382319d0</td>\n",
       "            </tr><tr>\n",
       "                <td><strong>Stoichiometry</strong></td>\n",
       "                <td>\n",
       "                    <p style='text-align:right'>acald_c + h_c + nadh_c --> etoh_c + nad_c</p>\n",
       "                    <p style='text-align:right'>Acetaldehyde + H+ + Nicotinamide adenine dinucleotide - reduced --> Ethanol + Nicotinamide adenine dinucleotide</p>\n",
       "                </td>\n",
       "            </tr><tr>\n",
       "                <td><strong>GPR</strong></td><td>YOL086C or YGL256W or YBR145W</td>\n",
       "            </tr><tr>\n",
       "                <td><strong>Lower bound</strong></td><td>0.0</td>\n",
       "            </tr><tr>\n",
       "                <td><strong>Upper bound</strong></td><td>999999.0</td>\n",
       "            </tr>\n",
       "        </table>\n",
       "        "
      ],
      "text/plain": [
       "<Reaction ALCD2ir at 0x26d382319d0>"
      ]
     },
     "execution_count": 46,
     "metadata": {},
     "output_type": "execute_result"
    }
   ],
   "source": [
    "# Manual_ko_3: 1.1.1.1 acetaldehyde to ethanol Reaction ID \"id\":\":\" ALCD2ir\"\n",
    "model.reactions.ALCD2ir"
   ]
  },
  {
   "cell_type": "code",
   "execution_count": 47,
   "id": "043330fc",
   "metadata": {},
   "outputs": [
    {
     "data": {
      "text/html": [
       "\n",
       "        <table>\n",
       "            <tr>\n",
       "                <td><strong>Reaction identifier</strong></td><td>ALCD2x_copy2</td>\n",
       "            </tr><tr>\n",
       "                <td><strong>Name</strong></td><td>Alcohol dehydrogenase (ethanol)</td>\n",
       "            </tr><tr>\n",
       "                <td><strong>Memory address</strong></td>\n",
       "                <td>0x26d3825b310</td>\n",
       "            </tr><tr>\n",
       "                <td><strong>Stoichiometry</strong></td>\n",
       "                <td>\n",
       "                    <p style='text-align:right'>etoh_c + nad_c <=> acald_c + h_c + nadh_c</p>\n",
       "                    <p style='text-align:right'>Ethanol + Nicotinamide adenine dinucleotide <=> Acetaldehyde + H+ + Nicotinamide adenine dinucleotide - reduced</p>\n",
       "                </td>\n",
       "            </tr><tr>\n",
       "                <td><strong>GPR</strong></td><td>YDL168W</td>\n",
       "            </tr><tr>\n",
       "                <td><strong>Lower bound</strong></td><td>-999999.0</td>\n",
       "            </tr><tr>\n",
       "                <td><strong>Upper bound</strong></td><td>999999.0</td>\n",
       "            </tr>\n",
       "        </table>\n",
       "        "
      ],
      "text/plain": [
       "<Reaction ALCD2x_copy2 at 0x26d3825b310>"
      ]
     },
     "execution_count": 47,
     "metadata": {},
     "output_type": "execute_result"
    }
   ],
   "source": [
    "# Manual_ko_4: 1.1.1.2\tacetaldehyde to ethanol 2 Reaction ID \"id\":\"ALCD2x_copy2\"\n",
    "model.reactions.ALCD2x_copy2"
   ]
  },
  {
   "cell_type": "code",
   "execution_count": 48,
   "id": "e96ca316",
   "metadata": {},
   "outputs": [
    {
     "data": {
      "text/html": [
       "\n",
       "        <table>\n",
       "            <tr>\n",
       "                <td><strong>Reaction identifier</strong></td><td>FBP</td>\n",
       "            </tr><tr>\n",
       "                <td><strong>Name</strong></td><td>Fructose-bisphosphatase</td>\n",
       "            </tr><tr>\n",
       "                <td><strong>Memory address</strong></td>\n",
       "                <td>0x26d3a579fa0</td>\n",
       "            </tr><tr>\n",
       "                <td><strong>Stoichiometry</strong></td>\n",
       "                <td>\n",
       "                    <p style='text-align:right'>fdp_c + h2o_c --> f6p_c + pi_c</p>\n",
       "                    <p style='text-align:right'>D-Fructose 1,6-bisphosphate + H2O H2O --> D-Fructose 6-phosphate + Phosphate</p>\n",
       "                </td>\n",
       "            </tr><tr>\n",
       "                <td><strong>GPR</strong></td><td>YLR377C</td>\n",
       "            </tr><tr>\n",
       "                <td><strong>Lower bound</strong></td><td>0.0</td>\n",
       "            </tr><tr>\n",
       "                <td><strong>Upper bound</strong></td><td>999999.0</td>\n",
       "            </tr>\n",
       "        </table>\n",
       "        "
      ],
      "text/plain": [
       "<Reaction FBP at 0x26d3a579fa0>"
      ]
     },
     "execution_count": 48,
     "metadata": {},
     "output_type": "execute_result"
    }
   ],
   "source": [
    "# Manual_ko_5:  Fructose 1,6-DP to fructose 6P (3.1.3.11) \"id\":\"FBP\"\n",
    "\n",
    "model.reactions.FBP"
   ]
  },
  {
   "cell_type": "markdown",
   "id": "41c80830",
   "metadata": {},
   "source": [
    "\n",
    "\n",
    "\n",
    "## First Model (Manual_ko_1)\n",
    "### From chorismate to anthranilate (Enzyme: 4.1.3.27) "
   ]
  },
  {
   "cell_type": "code",
   "execution_count": 73,
   "id": "9fe2b527",
   "metadata": {},
   "outputs": [
    {
     "data": {
      "text/plain": [
       "{'EX_fe2_e': 999999.0,\n",
       " 'EX_glc__D_e': 10.0,\n",
       " 'EX_h2o_e': 999999.0,\n",
       " 'EX_h_e': 999999.0,\n",
       " 'EX_k_e': 999999.0,\n",
       " 'EX_na1_e': 999999.0,\n",
       " 'EX_so4_e': 999999.0,\n",
       " 'EX_nh4_e': 999999.0,\n",
       " 'EX_o2_e': 2.0,\n",
       " 'EX_phe__L_e': 100.0,\n",
       " 'EX_pi_e': 999999.0}"
      ]
     },
     "execution_count": 73,
     "metadata": {},
     "output_type": "execute_result"
    }
   ],
   "source": [
    "# Read model (resveratrol from glucose, S. cervisae)\n",
    "model_Manual_ko_1 = read_sbml_model('../data/models/yeast_resv_phen.xml')\n",
    "medium = model_Manual_ko_1.medium\n",
    "medium[\"EX_phe__L_e\"] = 100.0\n",
    "model_Manual_ko_1.medium = medium\n",
    "model_Manual_ko_1.medium"
   ]
  },
  {
   "cell_type": "code",
   "execution_count": 74,
   "id": "cb870dad",
   "metadata": {},
   "outputs": [],
   "source": [
    "#Knock out changes the boundaries to zero\n",
    "model_Manual_ko_1.reactions.ANS.knock_out()"
   ]
  },
  {
   "cell_type": "code",
   "execution_count": 75,
   "id": "62e0c8f3",
   "metadata": {},
   "outputs": [
    {
     "data": {
      "text/html": [
       "\n",
       "        <table>\n",
       "            <tr>\n",
       "                <td><strong>Reaction identifier</strong></td><td>ANS</td>\n",
       "            </tr><tr>\n",
       "                <td><strong>Name</strong></td><td>Anthranilate synthase</td>\n",
       "            </tr><tr>\n",
       "                <td><strong>Memory address</strong></td>\n",
       "                <td>0x26d3f933be0</td>\n",
       "            </tr><tr>\n",
       "                <td><strong>Stoichiometry</strong></td>\n",
       "                <td>\n",
       "                    <p style='text-align:right'>chor_c + gln__L_c --> anth_c + glu__L_c + h_c + pyr_c</p>\n",
       "                    <p style='text-align:right'>Chorismate + L-Glutamine --> Anthranilate + L-Glutamate + H+ + Pyruvate</p>\n",
       "                </td>\n",
       "            </tr><tr>\n",
       "                <td><strong>GPR</strong></td><td>YER090W and YKL211C</td>\n",
       "            </tr><tr>\n",
       "                <td><strong>Lower bound</strong></td><td>0</td>\n",
       "            </tr><tr>\n",
       "                <td><strong>Upper bound</strong></td><td>0</td>\n",
       "            </tr>\n",
       "        </table>\n",
       "        "
      ],
      "text/plain": [
       "<Reaction ANS at 0x26d3f933be0>"
      ]
     },
     "execution_count": 75,
     "metadata": {},
     "output_type": "execute_result"
    }
   ],
   "source": [
    "model_Manual_ko_1.reactions.ANS"
   ]
  },
  {
   "cell_type": "code",
   "execution_count": 76,
   "id": "32c0966a",
   "metadata": {},
   "outputs": [
    {
     "data": {
      "text/html": [
       "\n",
       "        <table>\n",
       "            <tr>\n",
       "                <td><strong>Reaction identifier</strong></td><td>STS</td>\n",
       "            </tr><tr>\n",
       "                <td><strong>Name</strong></td><td></td>\n",
       "            </tr><tr>\n",
       "                <td><strong>Memory address</strong></td>\n",
       "                <td>0x26d403b4d90</td>\n",
       "            </tr><tr>\n",
       "                <td><strong>Stoichiometry</strong></td>\n",
       "                <td>\n",
       "                    <p style='text-align:right'>e4_coumaroyl_coa + 3.0 h_c + 3.0 malcoa_c --> 4.0 co2_c + 4.0 coa_c + trans_resv</p>\n",
       "                    <p style='text-align:right'>+ 3.0 H+ + 3.0 Malonyl CoA C24H33N7O19P3S --> 4.0 CO2 CO2 + 4.0 Coenzyme A +</p>\n",
       "                </td>\n",
       "            </tr><tr>\n",
       "                <td><strong>GPR</strong></td><td></td>\n",
       "            </tr><tr>\n",
       "                <td><strong>Lower bound</strong></td><td>0.0</td>\n",
       "            </tr><tr>\n",
       "                <td><strong>Upper bound</strong></td><td>999999.0</td>\n",
       "            </tr>\n",
       "        </table>\n",
       "        "
      ],
      "text/plain": [
       "<Reaction STS at 0x26d403b4d90>"
      ]
     },
     "execution_count": 76,
     "metadata": {},
     "output_type": "execute_result"
    }
   ],
   "source": [
    "# Yield and productivity from section 3\n",
    "model_Manual_ko_1.reactions.get_by_id('STS')"
   ]
  },
  {
   "cell_type": "code",
   "execution_count": 77,
   "id": "cce4e1cf",
   "metadata": {},
   "outputs": [
    {
     "name": "stdout",
     "output_type": "stream",
     "text": [
      "Maximum resveratrol productivity =  -1.4210769787781044e-32 mmol/gDW*h\n",
      "Maximum theoretical yield is =  -5.66950502991682e-32 mmol/gDW*h\n"
     ]
    }
   ],
   "source": [
    "with model_Manual_ko_1:\n",
    "   # model_Manual_ko_1.reactions.ANS.knock_out()\n",
    "    model_Manual_ko_1.objective = model_Manual_ko_1.reactions.STS\n",
    "    \n",
    "    resveratrol_max_production = model_Manual_ko_1.optimize().objective_value\n",
    "    print(\"Maximum resveratrol productivity = \",resveratrol_max_production , \"mmol/gDW*h\")\n",
    "\n",
    "    glucose_uptake_flux = model_Manual_ko_1.reactions.EX_glc__D_e.flux #Glucose exchange reaction\n",
    "    max_yield = resveratrol_max_production / (-1*glucose_uptake_flux)\n",
    "    print(\"Maximum theoretical yield is = \", max_yield, \"mmol/gDW*h\")\n",
    "    \n",
    "    # Calculation in C-mol (TBD)\n",
    "#resv_max_prod_cmol = (resveratrol_max_production)/(resveatrol)\n",
    "#resv_max_yield_cmol = (max_yield*resveatrol)/(glucose)\n",
    "#print('Maximum productivity of lycopene =', resv_max_prod_cmol, 'cmol-resv/gDW*h')\n",
    "#print('Maximum theoretical yield =', resv_max_yield_cmol, 'cmol-resv/cmol-glucose')\n"
   ]
  },
  {
   "cell_type": "markdown",
   "id": "25e06bf3",
   "metadata": {},
   "source": [
    "\n",
    "\n",
    "\n",
    "## Second Model (Manual_ko_2)\n",
    "### From prephenate to phenyl pyruvate (Enzyme 4. 2 . 1. 51) "
   ]
  },
  {
   "cell_type": "code",
   "execution_count": 54,
   "id": "3b7a54d3",
   "metadata": {},
   "outputs": [
    {
     "data": {
      "text/plain": [
       "{'EX_fe2_e': 999999.0,\n",
       " 'EX_glc__D_e': 10.0,\n",
       " 'EX_h2o_e': 999999.0,\n",
       " 'EX_h_e': 999999.0,\n",
       " 'EX_k_e': 999999.0,\n",
       " 'EX_na1_e': 999999.0,\n",
       " 'EX_so4_e': 999999.0,\n",
       " 'EX_nh4_e': 999999.0,\n",
       " 'EX_o2_e': 2.0,\n",
       " 'EX_phe__L_e': 10.0,\n",
       " 'EX_pi_e': 999999.0}"
      ]
     },
     "execution_count": 54,
     "metadata": {},
     "output_type": "execute_result"
    }
   ],
   "source": [
    "# Read model (resveratrol from glucose, S. cervisae)\n",
    "model_Manual_ko_2 = read_sbml_model('../data/models/yeast_resv_phen.xml')\n",
    "medium = model_Manual_ko_2.medium\n",
    "medium[\"EX_phe__L_e\"] = 10.0\n",
    "model_Manual_ko_2.medium = medium\n",
    "model_Manual_ko_2.medium"
   ]
  },
  {
   "cell_type": "code",
   "execution_count": 55,
   "id": "494a7c40",
   "metadata": {},
   "outputs": [
    {
     "data": {
      "text/html": [
       "\n",
       "        <table>\n",
       "            <tr>\n",
       "                <td><strong>Reaction identifier</strong></td><td>PPNDH</td>\n",
       "            </tr><tr>\n",
       "                <td><strong>Name</strong></td><td>Prephenate dehydratase</td>\n",
       "            </tr><tr>\n",
       "                <td><strong>Memory address</strong></td>\n",
       "                <td>0x26d3880be80</td>\n",
       "            </tr><tr>\n",
       "                <td><strong>Stoichiometry</strong></td>\n",
       "                <td>\n",
       "                    <p style='text-align:right'>h_c + pphn_c --> co2_c + h2o_c + phpyr_c</p>\n",
       "                    <p style='text-align:right'>H+ + Prephenate --> CO2 CO2 + H2O H2O + Phenylpyruvate</p>\n",
       "                </td>\n",
       "            </tr><tr>\n",
       "                <td><strong>GPR</strong></td><td>YNL316C</td>\n",
       "            </tr><tr>\n",
       "                <td><strong>Lower bound</strong></td><td>0</td>\n",
       "            </tr><tr>\n",
       "                <td><strong>Upper bound</strong></td><td>0</td>\n",
       "            </tr>\n",
       "        </table>\n",
       "        "
      ],
      "text/plain": [
       "<Reaction PPNDH at 0x26d3880be80>"
      ]
     },
     "execution_count": 55,
     "metadata": {},
     "output_type": "execute_result"
    }
   ],
   "source": [
    "#Knock out changes the boundaries to zero\n",
    "model_Manual_ko_2.reactions.PPNDH.knock_out()\n",
    "model_Manual_ko_2.reactions.PPNDH"
   ]
  },
  {
   "cell_type": "code",
   "execution_count": 56,
   "id": "532a07d5",
   "metadata": {},
   "outputs": [
    {
     "name": "stdout",
     "output_type": "stream",
     "text": [
      "Maximum resveratrol productivity =  -1.5407439555097887e-33 mmol/gDW*h\n",
      "Maximum theoretical yield is =  -6.146926405835929e-33 mmol/gDW*h\n"
     ]
    },
    {
     "data": {
      "text/html": [
       "\n",
       "        <table>\n",
       "            <tr>\n",
       "                <td><strong>Reaction identifier</strong></td><td>PPNDH</td>\n",
       "            </tr><tr>\n",
       "                <td><strong>Name</strong></td><td>Prephenate dehydratase</td>\n",
       "            </tr><tr>\n",
       "                <td><strong>Memory address</strong></td>\n",
       "                <td>0x26d3880be80</td>\n",
       "            </tr><tr>\n",
       "                <td><strong>Stoichiometry</strong></td>\n",
       "                <td>\n",
       "                    <p style='text-align:right'>h_c + pphn_c --> co2_c + h2o_c + phpyr_c</p>\n",
       "                    <p style='text-align:right'>H+ + Prephenate --> CO2 CO2 + H2O H2O + Phenylpyruvate</p>\n",
       "                </td>\n",
       "            </tr><tr>\n",
       "                <td><strong>GPR</strong></td><td>YNL316C</td>\n",
       "            </tr><tr>\n",
       "                <td><strong>Lower bound</strong></td><td>0</td>\n",
       "            </tr><tr>\n",
       "                <td><strong>Upper bound</strong></td><td>0</td>\n",
       "            </tr>\n",
       "        </table>\n",
       "        "
      ],
      "text/plain": [
       "<Reaction PPNDH at 0x26d3880be80>"
      ]
     },
     "execution_count": 56,
     "metadata": {},
     "output_type": "execute_result"
    }
   ],
   "source": [
    "with model_Manual_ko_2:\n",
    "    model_Manual_ko_2.objective = model_Manual_ko_2.reactions.STS\n",
    "    model_Manual_ko_2.reactions.PPNDH.knock_out()\n",
    "    \n",
    "    #also knocking out glucose exchange reaction just to see if there is effect\n",
    "    #model_Manual_ko_2.reactions.GLCt1.knock_out()\n",
    "    resveratrol_max_production = model_Manual_ko_2.optimize().objective_value\n",
    "    print(\"Maximum resveratrol productivity = \",resveratrol_max_production , \"mmol/gDW*h\")\n",
    "\n",
    "    glucose_uptake_flux = model_Manual_ko_2.reactions.EX_glc__D_e.flux #Glucose exchange reaction\n",
    "    max_yield = resveratrol_max_production / (-1*glucose_uptake_flux)\n",
    "    print(\"Maximum theoretical yield is = \", max_yield, \"mmol/gDW*h\")\n",
    "model_Manual_ko_2.reactions.PPNDH"
   ]
  },
  {
   "cell_type": "markdown",
   "id": "f9e5f3ee",
   "metadata": {},
   "source": [
    "## Third Model (Manual_ko_3)¶\n",
    "### (Enz. 1.1.1.1) acetaldehyde to ethanol Reaction ID \"id\":\":\" ALCD2ir\""
   ]
  },
  {
   "cell_type": "code",
   "execution_count": 16,
   "id": "a776a735",
   "metadata": {},
   "outputs": [],
   "source": [
    "# Read model (resveratrol from glucose, S. cervisae)\n",
    "model_Manual_ko_3 = read_sbml_model('../data/models/yeast_resv_phen.xml')"
   ]
  },
  {
   "cell_type": "code",
   "execution_count": 17,
   "id": "2daa1722",
   "metadata": {},
   "outputs": [
    {
     "name": "stdout",
     "output_type": "stream",
     "text": [
      "Maximum resveratrol productivity =  -1.4210769787781044e-32 mmol/gDW*h\n",
      "Maximum theoretical yield is =  -5.66950502991682e-32 mmol/gDW*h\n"
     ]
    },
    {
     "data": {
      "text/html": [
       "\n",
       "        <table>\n",
       "            <tr>\n",
       "                <td><strong>Reaction identifier</strong></td><td>ALCD2ir</td>\n",
       "            </tr><tr>\n",
       "                <td><strong>Name</strong></td><td>Alcohol dehydrogenase reverse rxn acetaldehyde ethanol</td>\n",
       "            </tr><tr>\n",
       "                <td><strong>Memory address</strong></td>\n",
       "                <td>0x26d2ed1e160</td>\n",
       "            </tr><tr>\n",
       "                <td><strong>Stoichiometry</strong></td>\n",
       "                <td>\n",
       "                    <p style='text-align:right'>acald_c + h_c + nadh_c --> etoh_c + nad_c</p>\n",
       "                    <p style='text-align:right'>Acetaldehyde + H+ + Nicotinamide adenine dinucleotide - reduced --> Ethanol + Nicotinamide adenine dinucleotide</p>\n",
       "                </td>\n",
       "            </tr><tr>\n",
       "                <td><strong>GPR</strong></td><td>YOL086C or YGL256W or YBR145W</td>\n",
       "            </tr><tr>\n",
       "                <td><strong>Lower bound</strong></td><td>0.0</td>\n",
       "            </tr><tr>\n",
       "                <td><strong>Upper bound</strong></td><td>999999.0</td>\n",
       "            </tr>\n",
       "        </table>\n",
       "        "
      ],
      "text/plain": [
       "<Reaction ALCD2ir at 0x26d2ed1e160>"
      ]
     },
     "execution_count": 17,
     "metadata": {},
     "output_type": "execute_result"
    }
   ],
   "source": [
    "with model_Manual_ko_3:\n",
    "    model_Manual_ko_3.objective = model_Manual_ko_3.reactions.STS\n",
    "    model_Manual_ko_3.reactions.ALCD2ir.knock_out()\n",
    "    \n",
    "    #also knocking out glucose exchange reaction just to see if there is effect\n",
    "    #model_Manual_ko_2.reactions.GLCt1.knock_out()\n",
    "    resveratrol_max_production = model_Manual_ko_3.optimize().objective_value\n",
    "    print(\"Maximum resveratrol productivity = \",resveratrol_max_production , \"mmol/gDW*h\")\n",
    "\n",
    "    glucose_uptake_flux = model_Manual_ko_3.reactions.EX_glc__D_e.flux #Glucose exchange reaction\n",
    "    max_yield = resveratrol_max_production / (-1*glucose_uptake_flux)\n",
    "    print(\"Maximum theoretical yield is = \", max_yield, \"mmol/gDW*h\")\n",
    "model_Manual_ko_3.reactions.ALCD2ir"
   ]
  },
  {
   "cell_type": "markdown",
   "id": "c4fe78a9",
   "metadata": {},
   "source": [
    "## Fourth Model (Manual_ko_4)¶\n",
    "### (Enz. 1.1.1.2) acetaldehyde to ethanol Reaction ID \"id\":\":\" ALCD2x_copy2\"\n"
   ]
  },
  {
   "cell_type": "code",
   "execution_count": 18,
   "id": "099d6f84",
   "metadata": {},
   "outputs": [],
   "source": [
    "# Read model (resveratrol from glucose, S. cervisae)\n",
    "model_Manual_ko_4 = read_sbml_model('../data/models/yeast_resv.xml')\n",
    "model_Manual_ko_4.reactions.ALCD2x_copy2.knock_out()\n",
    "model_Manual_ko_4.reactions.ALCD2ir.knock_out()"
   ]
  },
  {
   "cell_type": "code",
   "execution_count": 19,
   "id": "f37ebaf5",
   "metadata": {},
   "outputs": [
    {
     "name": "stdout",
     "output_type": "stream",
     "text": [
      "Maximum resveratrol productivity =  1.1785714285714306 mmol/gDW*h\n",
      "Maximum theoretical yield is =  0.11785714285714306 mmol/gDW*h\n"
     ]
    },
    {
     "data": {
      "text/html": [
       "\n",
       "        <table>\n",
       "            <tr>\n",
       "                <td><strong>Reaction identifier</strong></td><td>ALCD2x_copy2</td>\n",
       "            </tr><tr>\n",
       "                <td><strong>Name</strong></td><td>Alcohol dehydrogenase (ethanol)</td>\n",
       "            </tr><tr>\n",
       "                <td><strong>Memory address</strong></td>\n",
       "                <td>0x26d30b639a0</td>\n",
       "            </tr><tr>\n",
       "                <td><strong>Stoichiometry</strong></td>\n",
       "                <td>\n",
       "                    <p style='text-align:right'>etoh_c + nad_c --> acald_c + h_c + nadh_c</p>\n",
       "                    <p style='text-align:right'>Ethanol + Nicotinamide adenine dinucleotide --> Acetaldehyde + H+ + Nicotinamide adenine dinucleotide - reduced</p>\n",
       "                </td>\n",
       "            </tr><tr>\n",
       "                <td><strong>GPR</strong></td><td>YDL168W</td>\n",
       "            </tr><tr>\n",
       "                <td><strong>Lower bound</strong></td><td>0</td>\n",
       "            </tr><tr>\n",
       "                <td><strong>Upper bound</strong></td><td>0</td>\n",
       "            </tr>\n",
       "        </table>\n",
       "        "
      ],
      "text/plain": [
       "<Reaction ALCD2x_copy2 at 0x26d30b639a0>"
      ]
     },
     "execution_count": 19,
     "metadata": {},
     "output_type": "execute_result"
    }
   ],
   "source": [
    "with model_Manual_ko_4:\n",
    "    model_Manual_ko_4.objective = model_Manual_ko_4.reactions.VVVST1\n",
    "    model_Manual_ko_4.reactions.ALCD2x_copy2.knock_out()\n",
    "    #model_Manual_ko_4.reactions.ALCD2ir.knock_out()\n",
    "    \n",
    "    resveratrol_max_production = model_Manual_ko_4.optimize().objective_value\n",
    "    print(\"Maximum resveratrol productivity = \",resveratrol_max_production , \"mmol/gDW*h\")\n",
    "\n",
    "    glucose_uptake_flux = model_Manual_ko_4.reactions.EX_glc__D_e.flux #Glucose exchange reaction\n",
    "    max_yield = resveratrol_max_production / (-1*glucose_uptake_flux)\n",
    "    print(\"Maximum theoretical yield is = \", max_yield, \"mmol/gDW*h\")\n",
    "model_Manual_ko_4.reactions.ALCD2x_copy2"
   ]
  },
  {
   "cell_type": "markdown",
   "id": "57559814",
   "metadata": {},
   "source": [
    "## Fifth Model (Manual_ko_5)¶\n",
    "### Fructose 1,6-DP to fructose 6P (3.1.3.11) \"id\":\"FBP\""
   ]
  },
  {
   "cell_type": "code",
   "execution_count": 20,
   "id": "4b48d129",
   "metadata": {},
   "outputs": [],
   "source": [
    "model_Manual_ko_5 = read_sbml_model('../data/models/yeast_resv.xml')\n",
    "model_Manual_ko_5.reactions.FBP.knock_out()\n"
   ]
  },
  {
   "cell_type": "code",
   "execution_count": 21,
   "id": "43ebef90",
   "metadata": {},
   "outputs": [
    {
     "name": "stdout",
     "output_type": "stream",
     "text": [
      "Maximum resveratrol productivity =  1.1785714285714282 mmol/gDW*h\n",
      "Maximum theoretical yield is =  0.11785714285714281 mmol/gDW*h\n"
     ]
    },
    {
     "data": {
      "text/html": [
       "\n",
       "        <table>\n",
       "            <tr>\n",
       "                <td><strong>Reaction identifier</strong></td><td>FBP</td>\n",
       "            </tr><tr>\n",
       "                <td><strong>Name</strong></td><td>Fructose-bisphosphatase</td>\n",
       "            </tr><tr>\n",
       "                <td><strong>Memory address</strong></td>\n",
       "                <td>0x26d31e2cbb0</td>\n",
       "            </tr><tr>\n",
       "                <td><strong>Stoichiometry</strong></td>\n",
       "                <td>\n",
       "                    <p style='text-align:right'>fdp_c + h2o_c --> f6p_c + pi_c</p>\n",
       "                    <p style='text-align:right'>D-Fructose 1,6-bisphosphate + H2O H2O --> D-Fructose 6-phosphate + Phosphate</p>\n",
       "                </td>\n",
       "            </tr><tr>\n",
       "                <td><strong>GPR</strong></td><td>YLR377C</td>\n",
       "            </tr><tr>\n",
       "                <td><strong>Lower bound</strong></td><td>0</td>\n",
       "            </tr><tr>\n",
       "                <td><strong>Upper bound</strong></td><td>0</td>\n",
       "            </tr>\n",
       "        </table>\n",
       "        "
      ],
      "text/plain": [
       "<Reaction FBP at 0x26d31e2cbb0>"
      ]
     },
     "execution_count": 21,
     "metadata": {},
     "output_type": "execute_result"
    }
   ],
   "source": [
    "with model_Manual_ko_5:\n",
    "    model_Manual_ko_5.objective = model_Manual_ko_5.reactions.VVVST1\n",
    "    model_Manual_ko_5.reactions.FBP.knock_out()\n",
    "    #model_Manual_ko_4.reactions.ALCD2ir.knock_out()\n",
    "    \n",
    "    resveratrol_max_production = model_Manual_ko_5.optimize().objective_value\n",
    "    print(\"Maximum resveratrol productivity = \",resveratrol_max_production , \"mmol/gDW*h\")\n",
    "\n",
    "    glucose_uptake_flux = model_Manual_ko_5.reactions.EX_glc__D_e.flux #Glucose exchange reaction\n",
    "    max_yield = resveratrol_max_production / (-1*glucose_uptake_flux)\n",
    "    print(\"Maximum theoretical yield is = \", max_yield, \"mmol/gDW*h\")\n",
    "model_Manual_ko_5.reactions.FBP"
   ]
  },
  {
   "cell_type": "markdown",
   "id": "b2832b01",
   "metadata": {},
   "source": [
    "## Single Deletions (https://cobrapy.readthedocs.io/en/latest/deletions.html)\n",
    "### By general analysis of de flux using cobrapy"
   ]
  },
  {
   "cell_type": "code",
   "execution_count": 81,
   "id": "22cb17bb",
   "metadata": {},
   "outputs": [
    {
     "data": {
      "text/plain": [
       "{'EX_fe2_e': 999999.0,\n",
       " 'EX_glc__D_e': 10.0,\n",
       " 'EX_h2o_e': 999999.0,\n",
       " 'EX_h_e': 999999.0,\n",
       " 'EX_k_e': 999999.0,\n",
       " 'EX_na1_e': 999999.0,\n",
       " 'EX_so4_e': 999999.0,\n",
       " 'EX_nh4_e': 999999.0,\n",
       " 'EX_o2_e': 2.0,\n",
       " 'EX_phe__L_e': 100.0,\n",
       " 'EX_pi_e': 999999.0}"
      ]
     },
     "execution_count": 81,
     "metadata": {},
     "output_type": "execute_result"
    }
   ],
   "source": [
    "from cobra.flux_analysis import (\n",
    "    single_gene_deletion, single_reaction_deletion, double_gene_deletion,\n",
    "    double_reaction_deletion)\n",
    "model_single_deletions = read_sbml_model('../data/models/yeast_resv_phen.xml')\n",
    "\n",
    "medium = model_single_deletions.medium\n",
    "medium[\"EX_phe__L_e\"] = 100.0\n",
    "model_single_deletions.medium = medium\n",
    "model_single_deletions.medium\n"
   ]
  },
  {
   "cell_type": "code",
   "execution_count": 82,
   "id": "70732aa2",
   "metadata": {},
   "outputs": [
    {
     "data": {
      "text/html": [
       "\n",
       "        <table>\n",
       "            <tr>\n",
       "                <td><strong>Name</strong></td>\n",
       "                <td>iMM904</td>\n",
       "            </tr><tr>\n",
       "                <td><strong>Memory address</strong></td>\n",
       "                <td>0x026d3364feb0</td>\n",
       "            </tr><tr>\n",
       "                <td><strong>Number of metabolites</strong></td>\n",
       "                <td>1230</td>\n",
       "            </tr><tr>\n",
       "                <td><strong>Number of reactions</strong></td>\n",
       "                <td>1581</td>\n",
       "            </tr><tr>\n",
       "                <td><strong>Number of groups</strong></td>\n",
       "                <td>0</td>\n",
       "            </tr><tr>\n",
       "                <td><strong>Objective expression</strong></td>\n",
       "                <td>1.0*BIOMASS_SC5_notrace - 1.0*BIOMASS_SC5_notrace_reverse_93090</td>\n",
       "            </tr><tr>\n",
       "                <td><strong>Compartments</strong></td>\n",
       "                <td>cytosol, extracellular space, mitochondria, peroxisome/glyoxysome, endoplasmic reticulum, vacuole, golgi apparatus, nucleus</td>\n",
       "            </tr>\n",
       "          </table>"
      ],
      "text/plain": [
       "<Model iMM904 at 0x26d3364feb0>"
      ]
     },
     "execution_count": 82,
     "metadata": {},
     "output_type": "execute_result"
    }
   ],
   "source": [
    "model_single_deletions"
   ]
  },
  {
   "cell_type": "code",
   "execution_count": 83,
   "id": "114b8971",
   "metadata": {},
   "outputs": [
    {
     "data": {
      "text/html": [
       "<div>\n",
       "<style scoped>\n",
       "    .dataframe tbody tr th:only-of-type {\n",
       "        vertical-align: middle;\n",
       "    }\n",
       "\n",
       "    .dataframe tbody tr th {\n",
       "        vertical-align: top;\n",
       "    }\n",
       "\n",
       "    .dataframe thead th {\n",
       "        text-align: right;\n",
       "    }\n",
       "</style>\n",
       "<table border=\"1\" class=\"dataframe\">\n",
       "  <thead>\n",
       "    <tr style=\"text-align: right;\">\n",
       "      <th></th>\n",
       "      <th>ids</th>\n",
       "      <th>growth</th>\n",
       "      <th>status</th>\n",
       "    </tr>\n",
       "  </thead>\n",
       "  <tbody>\n",
       "    <tr>\n",
       "      <th>0</th>\n",
       "      <td>{2HP6MPMOm}</td>\n",
       "      <td>0.0</td>\n",
       "      <td>optimal</td>\n",
       "    </tr>\n",
       "    <tr>\n",
       "      <th>1</th>\n",
       "      <td>{2HPMMBQMOm}</td>\n",
       "      <td>0.0</td>\n",
       "      <td>optimal</td>\n",
       "    </tr>\n",
       "    <tr>\n",
       "      <th>2</th>\n",
       "      <td>{ACGAM6PS}</td>\n",
       "      <td>0.0</td>\n",
       "      <td>optimal</td>\n",
       "    </tr>\n",
       "    <tr>\n",
       "      <th>3</th>\n",
       "      <td>{ACHBSm}</td>\n",
       "      <td>0.0</td>\n",
       "      <td>optimal</td>\n",
       "    </tr>\n",
       "    <tr>\n",
       "      <th>4</th>\n",
       "      <td>{2MPPALtm}</td>\n",
       "      <td>0.0</td>\n",
       "      <td>optimal</td>\n",
       "    </tr>\n",
       "    <tr>\n",
       "      <th>5</th>\n",
       "      <td>{AHSERL}</td>\n",
       "      <td>0.0</td>\n",
       "      <td>optimal</td>\n",
       "    </tr>\n",
       "    <tr>\n",
       "      <th>6</th>\n",
       "      <td>{13GS}</td>\n",
       "      <td>0.0</td>\n",
       "      <td>optimal</td>\n",
       "    </tr>\n",
       "    <tr>\n",
       "      <th>7</th>\n",
       "      <td>{ACCOAC}</td>\n",
       "      <td>0.0</td>\n",
       "      <td>optimal</td>\n",
       "    </tr>\n",
       "    <tr>\n",
       "      <th>8</th>\n",
       "      <td>{AHCYStm}</td>\n",
       "      <td>0.0</td>\n",
       "      <td>optimal</td>\n",
       "    </tr>\n",
       "    <tr>\n",
       "      <th>9</th>\n",
       "      <td>{ACALDtm}</td>\n",
       "      <td>0.0</td>\n",
       "      <td>optimal</td>\n",
       "    </tr>\n",
       "    <tr>\n",
       "      <th>10</th>\n",
       "      <td>{ACCOACrm}</td>\n",
       "      <td>0.0</td>\n",
       "      <td>optimal</td>\n",
       "    </tr>\n",
       "    <tr>\n",
       "      <th>11</th>\n",
       "      <td>{2HPMBQMTm}</td>\n",
       "      <td>0.0</td>\n",
       "      <td>optimal</td>\n",
       "    </tr>\n",
       "    <tr>\n",
       "      <th>12</th>\n",
       "      <td>{ACACT7p}</td>\n",
       "      <td>0.0</td>\n",
       "      <td>optimal</td>\n",
       "    </tr>\n",
       "    <tr>\n",
       "      <th>13</th>\n",
       "      <td>{ACGSm}</td>\n",
       "      <td>0.0</td>\n",
       "      <td>optimal</td>\n",
       "    </tr>\n",
       "    <tr>\n",
       "      <th>14</th>\n",
       "      <td>{AGAT_SC}</td>\n",
       "      <td>0.0</td>\n",
       "      <td>optimal</td>\n",
       "    </tr>\n",
       "    <tr>\n",
       "      <th>15</th>\n",
       "      <td>{2MBACt}</td>\n",
       "      <td>0.0</td>\n",
       "      <td>optimal</td>\n",
       "    </tr>\n",
       "    <tr>\n",
       "      <th>16</th>\n",
       "      <td>{EX_epistest_SC_e}</td>\n",
       "      <td>0.0</td>\n",
       "      <td>optimal</td>\n",
       "    </tr>\n",
       "    <tr>\n",
       "      <th>17</th>\n",
       "      <td>{2MBTOHt}</td>\n",
       "      <td>0.0</td>\n",
       "      <td>optimal</td>\n",
       "    </tr>\n",
       "    <tr>\n",
       "      <th>18</th>\n",
       "      <td>{2MPPALt}</td>\n",
       "      <td>0.0</td>\n",
       "      <td>optimal</td>\n",
       "    </tr>\n",
       "    <tr>\n",
       "      <th>19</th>\n",
       "      <td>{13BGH}</td>\n",
       "      <td>0.0</td>\n",
       "      <td>optimal</td>\n",
       "    </tr>\n",
       "    <tr>\n",
       "      <th>20</th>\n",
       "      <td>{AHMMPS}</td>\n",
       "      <td>0.0</td>\n",
       "      <td>optimal</td>\n",
       "    </tr>\n",
       "    <tr>\n",
       "      <th>21</th>\n",
       "      <td>{ACGAMPM}</td>\n",
       "      <td>0.0</td>\n",
       "      <td>optimal</td>\n",
       "    </tr>\n",
       "    <tr>\n",
       "      <th>22</th>\n",
       "      <td>{ACACT8p}</td>\n",
       "      <td>0.0</td>\n",
       "      <td>optimal</td>\n",
       "    </tr>\n",
       "    <tr>\n",
       "      <th>23</th>\n",
       "      <td>{2DHPtm}</td>\n",
       "      <td>0.0</td>\n",
       "      <td>optimal</td>\n",
       "    </tr>\n",
       "    <tr>\n",
       "      <th>24</th>\n",
       "      <td>{2HBO}</td>\n",
       "      <td>0.0</td>\n",
       "      <td>optimal</td>\n",
       "    </tr>\n",
       "    <tr>\n",
       "      <th>25</th>\n",
       "      <td>{ACACT6p}</td>\n",
       "      <td>0.0</td>\n",
       "      <td>optimal</td>\n",
       "    </tr>\n",
       "    <tr>\n",
       "      <th>26</th>\n",
       "      <td>{AHCi}</td>\n",
       "      <td>0.0</td>\n",
       "      <td>optimal</td>\n",
       "    </tr>\n",
       "    <tr>\n",
       "      <th>27</th>\n",
       "      <td>{ACACT9p}</td>\n",
       "      <td>0.0</td>\n",
       "      <td>optimal</td>\n",
       "    </tr>\n",
       "    <tr>\n",
       "      <th>28</th>\n",
       "      <td>{2OBUTtm}</td>\n",
       "      <td>0.0</td>\n",
       "      <td>optimal</td>\n",
       "    </tr>\n",
       "    <tr>\n",
       "      <th>29</th>\n",
       "      <td>{EX_epist_e}</td>\n",
       "      <td>0.0</td>\n",
       "      <td>optimal</td>\n",
       "    </tr>\n",
       "    <tr>\n",
       "      <th>30</th>\n",
       "      <td>{2DOXG6PP}</td>\n",
       "      <td>0.0</td>\n",
       "      <td>optimal</td>\n",
       "    </tr>\n",
       "    <tr>\n",
       "      <th>31</th>\n",
       "      <td>{2MBALDt}</td>\n",
       "      <td>0.0</td>\n",
       "      <td>optimal</td>\n",
       "    </tr>\n",
       "    <tr>\n",
       "      <th>32</th>\n",
       "      <td>{ACCOAtn}</td>\n",
       "      <td>0.0</td>\n",
       "      <td>optimal</td>\n",
       "    </tr>\n",
       "    <tr>\n",
       "      <th>33</th>\n",
       "      <td>{CITtcp}</td>\n",
       "      <td>0.0</td>\n",
       "      <td>optimal</td>\n",
       "    </tr>\n",
       "    <tr>\n",
       "      <th>34</th>\n",
       "      <td>{AHSERL2}</td>\n",
       "      <td>0.0</td>\n",
       "      <td>optimal</td>\n",
       "    </tr>\n",
       "    <tr>\n",
       "      <th>35</th>\n",
       "      <td>{2HMHMBQMTm}</td>\n",
       "      <td>0.0</td>\n",
       "      <td>optimal</td>\n",
       "    </tr>\n",
       "    <tr>\n",
       "      <th>36</th>\n",
       "      <td>{2DDA7Ptm}</td>\n",
       "      <td>0.0</td>\n",
       "      <td>optimal</td>\n",
       "    </tr>\n",
       "    <tr>\n",
       "      <th>37</th>\n",
       "      <td>{2MBTOHtm}</td>\n",
       "      <td>0.0</td>\n",
       "      <td>optimal</td>\n",
       "    </tr>\n",
       "    <tr>\n",
       "      <th>38</th>\n",
       "      <td>{AGPRim}</td>\n",
       "      <td>0.0</td>\n",
       "      <td>optimal</td>\n",
       "    </tr>\n",
       "    <tr>\n",
       "      <th>39</th>\n",
       "      <td>{ACALDCD}</td>\n",
       "      <td>0.0</td>\n",
       "      <td>optimal</td>\n",
       "    </tr>\n",
       "    <tr>\n",
       "      <th>40</th>\n",
       "      <td>{2HBt2}</td>\n",
       "      <td>0.0</td>\n",
       "      <td>optimal</td>\n",
       "    </tr>\n",
       "    <tr>\n",
       "      <th>41</th>\n",
       "      <td>{2OXOADPtim}</td>\n",
       "      <td>0.0</td>\n",
       "      <td>optimal</td>\n",
       "    </tr>\n",
       "    <tr>\n",
       "      <th>42</th>\n",
       "      <td>{AGTi}</td>\n",
       "      <td>0.0</td>\n",
       "      <td>optimal</td>\n",
       "    </tr>\n",
       "    <tr>\n",
       "      <th>43</th>\n",
       "      <td>{2MBALDtm}</td>\n",
       "      <td>0.0</td>\n",
       "      <td>optimal</td>\n",
       "    </tr>\n",
       "    <tr>\n",
       "      <th>44</th>\n",
       "      <td>{ACGKm}</td>\n",
       "      <td>0.0</td>\n",
       "      <td>optimal</td>\n",
       "    </tr>\n",
       "    <tr>\n",
       "      <th>45</th>\n",
       "      <td>{16GS}</td>\n",
       "      <td>0.0</td>\n",
       "      <td>optimal</td>\n",
       "    </tr>\n",
       "    <tr>\n",
       "      <th>46</th>\n",
       "      <td>{ACALDt}</td>\n",
       "      <td>0.0</td>\n",
       "      <td>optimal</td>\n",
       "    </tr>\n",
       "    <tr>\n",
       "      <th>47</th>\n",
       "      <td>{13BGHe}</td>\n",
       "      <td>0.0</td>\n",
       "      <td>optimal</td>\n",
       "    </tr>\n",
       "    <tr>\n",
       "      <th>48</th>\n",
       "      <td>{ACESt}</td>\n",
       "      <td>0.0</td>\n",
       "      <td>optimal</td>\n",
       "    </tr>\n",
       "    <tr>\n",
       "      <th>49</th>\n",
       "      <td>{23CAPPD}</td>\n",
       "      <td>0.0</td>\n",
       "      <td>optimal</td>\n",
       "    </tr>\n",
       "  </tbody>\n",
       "</table>\n",
       "</div>"
      ],
      "text/plain": [
       "                   ids  growth   status\n",
       "0          {2HP6MPMOm}     0.0  optimal\n",
       "1         {2HPMMBQMOm}     0.0  optimal\n",
       "2           {ACGAM6PS}     0.0  optimal\n",
       "3             {ACHBSm}     0.0  optimal\n",
       "4           {2MPPALtm}     0.0  optimal\n",
       "5             {AHSERL}     0.0  optimal\n",
       "6               {13GS}     0.0  optimal\n",
       "7             {ACCOAC}     0.0  optimal\n",
       "8            {AHCYStm}     0.0  optimal\n",
       "9            {ACALDtm}     0.0  optimal\n",
       "10          {ACCOACrm}     0.0  optimal\n",
       "11         {2HPMBQMTm}     0.0  optimal\n",
       "12           {ACACT7p}     0.0  optimal\n",
       "13             {ACGSm}     0.0  optimal\n",
       "14           {AGAT_SC}     0.0  optimal\n",
       "15            {2MBACt}     0.0  optimal\n",
       "16  {EX_epistest_SC_e}     0.0  optimal\n",
       "17           {2MBTOHt}     0.0  optimal\n",
       "18           {2MPPALt}     0.0  optimal\n",
       "19             {13BGH}     0.0  optimal\n",
       "20            {AHMMPS}     0.0  optimal\n",
       "21           {ACGAMPM}     0.0  optimal\n",
       "22           {ACACT8p}     0.0  optimal\n",
       "23            {2DHPtm}     0.0  optimal\n",
       "24              {2HBO}     0.0  optimal\n",
       "25           {ACACT6p}     0.0  optimal\n",
       "26              {AHCi}     0.0  optimal\n",
       "27           {ACACT9p}     0.0  optimal\n",
       "28           {2OBUTtm}     0.0  optimal\n",
       "29        {EX_epist_e}     0.0  optimal\n",
       "30          {2DOXG6PP}     0.0  optimal\n",
       "31           {2MBALDt}     0.0  optimal\n",
       "32           {ACCOAtn}     0.0  optimal\n",
       "33            {CITtcp}     0.0  optimal\n",
       "34           {AHSERL2}     0.0  optimal\n",
       "35        {2HMHMBQMTm}     0.0  optimal\n",
       "36          {2DDA7Ptm}     0.0  optimal\n",
       "37          {2MBTOHtm}     0.0  optimal\n",
       "38            {AGPRim}     0.0  optimal\n",
       "39           {ACALDCD}     0.0  optimal\n",
       "40             {2HBt2}     0.0  optimal\n",
       "41        {2OXOADPtim}     0.0  optimal\n",
       "42              {AGTi}     0.0  optimal\n",
       "43          {2MBALDtm}     0.0  optimal\n",
       "44             {ACGKm}     0.0  optimal\n",
       "45              {16GS}     0.0  optimal\n",
       "46            {ACALDt}     0.0  optimal\n",
       "47            {13BGHe}     0.0  optimal\n",
       "48             {ACESt}     0.0  optimal\n",
       "49           {23CAPPD}     0.0  optimal"
      ]
     },
     "execution_count": 83,
     "metadata": {},
     "output_type": "execute_result"
    }
   ],
   "source": [
    " model_single_deletions.objective  = model_single_deletions.reactions.STS\n",
    "single_reaction_deletion(model_single_deletions, model_single_deletions.reactions[:50])"
   ]
  },
  {
   "cell_type": "code",
   "execution_count": 84,
   "id": "dfe8e702",
   "metadata": {},
   "outputs": [
    {
     "name": "stdout",
     "output_type": "stream",
     "text": [
      "                 ids  growth   status\n",
      "0            {TREt2}     0.0  optimal\n",
      "1062        {GLYTRS}     0.0  optimal\n",
      "1060    {CER2_24ter}     0.0  optimal\n",
      "1059       {HMGCOAS}     0.0  optimal\n",
      "1058      {MI145PKn}     0.0  optimal\n",
      "1057        {DADNt2}     0.0  optimal\n",
      "1056        {CYSTtp}     0.0  optimal\n",
      "1055  {FAO181p_even}     0.0  optimal\n",
      "1054      {MALOAAtp}     0.0  optimal\n",
      "1053   {PI45BP5P_SC}     0.0  optimal\n"
     ]
    }
   ],
   "source": [
    "deletions=single_reaction_deletion(model_single_deletions, model_single_deletions.reactions)\n",
    "deletions = deletions.sort_values(by='growth', ascending=False)\n",
    "print(deletions.head(10))\n"
   ]
  },
  {
   "cell_type": "code",
   "execution_count": 85,
   "id": "aecf3497",
   "metadata": {},
   "outputs": [
    {
     "data": {
      "text/plain": [
       "0       0.0\n",
       "1062    0.0\n",
       "1060    0.0\n",
       "1059    0.0\n",
       "1058    0.0\n",
       "       ... \n",
       "525     0.0\n",
       "524     0.0\n",
       "523     0.0\n",
       "522     0.0\n",
       "1580    0.0\n",
       "Name: growth, Length: 1581, dtype: float64"
      ]
     },
     "execution_count": 85,
     "metadata": {},
     "output_type": "execute_result"
    }
   ],
   "source": [
    "max_fluxes_deletion = deletions.growth[deletions.growth == max(deletions.growth)]\n",
    "max_fluxes_deletion"
   ]
  },
  {
   "cell_type": "markdown",
   "id": "78c8e442",
   "metadata": {},
   "source": [
    "## Sixth deletion\n",
    "### ATPM knock out {\n",
    "\"id\":\"ATPM\",\n",
    "\"name\":\"ATP maintenance requirement\",\n",
    "\"metabolites\":{\n",
    "\"adp_c\":1.0,\n",
    "\"atp_c\":-1.0,\n",
    "\"h2o_c\":-1.0,\n",
    "\"h_c\":1.0,\n",
    "\"pi_c\":1.0\n",
    "}\n"
   ]
  },
  {
   "cell_type": "code",
   "execution_count": 27,
   "id": "8553b7bd",
   "metadata": {},
   "outputs": [],
   "source": [
    "model_Manual_ko_6 = read_sbml_model('../data/models/yeast_resv.xml')"
   ]
  },
  {
   "cell_type": "code",
   "execution_count": 28,
   "id": "de5db3cc",
   "metadata": {},
   "outputs": [
    {
     "name": "stdout",
     "output_type": "stream",
     "text": [
      "Maximum resveratrol productivity =  1.2214285714285713 mmol/gDW*h\n",
      "Maximum theoretical yield is =  0.12214285714285714 mmol/gDW*h\n"
     ]
    }
   ],
   "source": [
    "with model_Manual_ko_6:\n",
    "    model_Manual_ko_6.objective = model_Manual_ko_6.reactions.VVVST1\n",
    "    model_Manual_ko_6.reactions.ATPM.knock_out()\n",
    "    #model_Manual_ko_4.reactions.ALCD2ir.knock_out()\n",
    "    \n",
    "    resveratrol_max_production = model_Manual_ko_6.optimize().objective_value\n",
    "    print(\"Maximum resveratrol productivity = \",resveratrol_max_production , \"mmol/gDW*h\")\n",
    "\n",
    "    glucose_uptake_flux = model_Manual_ko_6.reactions.EX_glc__D_e.flux #Glucose exchange reaction\n",
    "    max_yield = resveratrol_max_production / (-1*glucose_uptake_flux)\n",
    "    print(\"Maximum theoretical yield is = \", max_yield, \"mmol/gDW*h\")"
   ]
  },
  {
   "cell_type": "markdown",
   "id": "aae97174",
   "metadata": {},
   "source": [
    "## 7th deletion\n",
    "### ERGSTESTH_SCe knock out {\n",
    "\"id\":\"ERGSTESTH_SC\",\n",
    "\"name\":\"Ergosterol ester hydrolase  yeast specific\",\n",
    "\"metabolites\":{\n",
    "\"ergst_c\":0.01,\n",
    "\"ergstest_SC_c\":-0.01,\n",
    "\"h2o_c\":-1.0,\n",
    "\"h_c\":1.0,\n",
    "\"hdca_c\":0.02,\n",
    "\"hdcea_c\":0.655,\n",
    "\"hexc_c\":0.01,\n",
    "\"ocdca_c\":0.03,\n",
    "\"ocdcea_c\":0.27,\n",
    "\"ttdca_c\":0.015\n",
    "}"
   ]
  },
  {
   "cell_type": "code",
   "execution_count": 29,
   "id": "ab9d1dc5",
   "metadata": {},
   "outputs": [],
   "source": [
    "model_Manual_ko_7 = read_sbml_model('../data/models/yeast_resv.xml')"
   ]
  },
  {
   "cell_type": "code",
   "execution_count": 30,
   "id": "627a8a73",
   "metadata": {},
   "outputs": [
    {
     "name": "stdout",
     "output_type": "stream",
     "text": [
      "Maximum resveratrol productivity =  1.1785714285714288 mmol/gDW*h\n",
      "Maximum theoretical yield is =  0.11785714285714288 mmol/gDW*h\n"
     ]
    }
   ],
   "source": [
    "with model_Manual_ko_7:\n",
    "    model_Manual_ko_7.objective = model_Manual_ko_7.reactions.VVVST1\n",
    "    model_Manual_ko_7.reactions.ERGSTESTH_SCe.knock_out()\n",
    "    \n",
    "    resveratrol_max_production = model_Manual_ko_7.optimize().objective_value\n",
    "    print(\"Maximum resveratrol productivity = \",resveratrol_max_production , \"mmol/gDW*h\")\n",
    "\n",
    "    glucose_uptake_flux = model_Manual_ko_7.reactions.EX_glc__D_e.flux #Glucose exchange reaction\n",
    "    max_yield = resveratrol_max_production / (-1*glucose_uptake_flux)\n",
    "    print(\"Maximum theoretical yield is = \", max_yield, \"mmol/gDW*h\")"
   ]
  },
  {
   "cell_type": "code",
   "execution_count": null,
   "id": "70a76b10",
   "metadata": {},
   "outputs": [],
   "source": []
  }
 ],
 "metadata": {
  "kernelspec": {
   "display_name": "Python 3 (ipykernel)",
   "language": "python",
   "name": "python3"
  },
  "language_info": {
   "codemirror_mode": {
    "name": "ipython",
    "version": 3
   },
   "file_extension": ".py",
   "mimetype": "text/x-python",
   "name": "python",
   "nbconvert_exporter": "python",
   "pygments_lexer": "ipython3",
   "version": "3.9.12"
  }
 },
 "nbformat": 4,
 "nbformat_minor": 5
}
