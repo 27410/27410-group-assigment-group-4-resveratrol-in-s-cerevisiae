{
 "cells": [
  {
   "cell_type": "code",
   "execution_count": 2,
   "id": "bbbc5e80",
   "metadata": {},
   "outputs": [],
   "source": [
    "import pytest\n",
    "import hashlib\n",
    "from cobra.io import read_sbml_model\n",
    "from cobra import Reaction, Metabolite\n",
    "\n",
    "# Read model (resveratrol from glucose, S. cervisae)\n",
    "model = read_sbml_model('../data/models/yeast8_resv_glc.xml')\n"
   ]
  },
  {
   "cell_type": "code",
   "execution_count": 2,
   "id": "80cf82bf",
   "metadata": {},
   "outputs": [
    {
     "data": {
      "text/plain": [
       "{'EX_nh4_e': 1000.0,\n",
       " 'EX_glc__D_e': 1.0,\n",
       " 'EX_h_e': 1000.0,\n",
       " 'EX_fe2_e': 1000.0,\n",
       " 'EX_o2_e': 1000.0,\n",
       " 'EX_pi_e': 1000.0,\n",
       " 'EX_k_e': 1000.0,\n",
       " 'EX_na1_e': 1000.0,\n",
       " 'EX_so4_e': 1000.0,\n",
       " 'EX_h2o_e': 1000.0,\n",
       " 'EX_cl_e': 1000.0,\n",
       " 'EX_cu2_e': 1000.0,\n",
       " 'EX_mn2_e': 1000.0,\n",
       " 'EX_zn2_e': 1000.0,\n",
       " 'EX_mg2_e': 1000.0,\n",
       " 'EX_ca2_e': 1000.0}"
      ]
     },
     "execution_count": 2,
     "metadata": {},
     "output_type": "execute_result"
    }
   ],
   "source": [
    "model.medium"
   ]
  },
  {
   "cell_type": "markdown",
   "id": "83ac8678",
   "metadata": {},
   "source": [
    "## Lets find in the main model the reactions that we will knock-out"
   ]
  },
  {
   "cell_type": "code",
   "execution_count": 3,
   "id": "15616c62",
   "metadata": {},
   "outputs": [
    {
     "data": {
      "text/html": [
       "\n",
       "        <table>\n",
       "            <tr>\n",
       "                <td><strong>Reaction identifier</strong></td><td>ANS</td>\n",
       "            </tr><tr>\n",
       "                <td><strong>Name</strong></td><td>anthranilate synthase</td>\n",
       "            </tr><tr>\n",
       "                <td><strong>Memory address</strong></td>\n",
       "                <td>0x15cf874aee0</td>\n",
       "            </tr><tr>\n",
       "                <td><strong>Stoichiometry</strong></td>\n",
       "                <td>\n",
       "                    <p style='text-align:right'>chor_c + gln__L_c --> anth_c + glu__L_c + h_c + pyr_c</p>\n",
       "                    <p style='text-align:right'>chorismate + L-glutamine --> anthranilate + L-glutamate + H+ + pyruvate</p>\n",
       "                </td>\n",
       "            </tr><tr>\n",
       "                <td><strong>GPR</strong></td><td>YER090W and YKL211C</td>\n",
       "            </tr><tr>\n",
       "                <td><strong>Lower bound</strong></td><td>0.0</td>\n",
       "            </tr><tr>\n",
       "                <td><strong>Upper bound</strong></td><td>1000.0</td>\n",
       "            </tr>\n",
       "        </table>\n",
       "        "
      ],
      "text/plain": [
       "<Reaction ANS at 0x15cf874aee0>"
      ]
     },
     "execution_count": 3,
     "metadata": {},
     "output_type": "execute_result"
    }
   ],
   "source": [
    "\n",
    "#-\tManual_ko_1: From chorismate to anthranilate (4.1.3.27) \n",
    "model.reactions.ANS"
   ]
  },
  {
   "cell_type": "code",
   "execution_count": 4,
   "id": "7994357f",
   "metadata": {},
   "outputs": [
    {
     "data": {
      "text/html": [
       "\n",
       "        <table>\n",
       "            <tr>\n",
       "                <td><strong>Reaction identifier</strong></td><td>PPNDH</td>\n",
       "            </tr><tr>\n",
       "                <td><strong>Name</strong></td><td>prephenate dehydratase</td>\n",
       "            </tr><tr>\n",
       "                <td><strong>Memory address</strong></td>\n",
       "                <td>0x15cf8be6d30</td>\n",
       "            </tr><tr>\n",
       "                <td><strong>Stoichiometry</strong></td>\n",
       "                <td>\n",
       "                    <p style='text-align:right'>h_c + pphn_c --> co2_c + h2o_c + phpyr_c</p>\n",
       "                    <p style='text-align:right'>H+ + prephenate --> carbon dioxide + H2O + keto-phenylpyruvate</p>\n",
       "                </td>\n",
       "            </tr><tr>\n",
       "                <td><strong>GPR</strong></td><td>YNL316C</td>\n",
       "            </tr><tr>\n",
       "                <td><strong>Lower bound</strong></td><td>0.0</td>\n",
       "            </tr><tr>\n",
       "                <td><strong>Upper bound</strong></td><td>1000.0</td>\n",
       "            </tr>\n",
       "        </table>\n",
       "        "
      ],
      "text/plain": [
       "<Reaction PPNDH at 0x15cf8be6d30>"
      ]
     },
     "execution_count": 4,
     "metadata": {},
     "output_type": "execute_result"
    }
   ],
   "source": [
    "# Manual_ko_2:  From prephenate to phenyl pyruvate (4. 2 . 1. 51) \n",
    "model.reactions.PPNDH"
   ]
  },
  {
   "cell_type": "code",
   "execution_count": 5,
   "id": "165e94c4",
   "metadata": {},
   "outputs": [
    {
     "data": {
      "text/html": [
       "\n",
       "        <table>\n",
       "            <tr>\n",
       "                <td><strong>Reaction identifier</strong></td><td>ALCD2ir</td>\n",
       "            </tr><tr>\n",
       "                <td><strong>Name</strong></td><td>alcohol dehydrogenase, (acetaldehyde to ethanol)</td>\n",
       "            </tr><tr>\n",
       "                <td><strong>Memory address</strong></td>\n",
       "                <td>0x15cf907f970</td>\n",
       "            </tr><tr>\n",
       "                <td><strong>Stoichiometry</strong></td>\n",
       "                <td>\n",
       "                    <p style='text-align:right'>acald_c + h_c + nadh_c --> etoh_c + nad_c</p>\n",
       "                    <p style='text-align:right'>acetaldehyde + H+ + NADH --> ethanol + NAD</p>\n",
       "                </td>\n",
       "            </tr><tr>\n",
       "                <td><strong>GPR</strong></td><td>YBR145W or YOL086C</td>\n",
       "            </tr><tr>\n",
       "                <td><strong>Lower bound</strong></td><td>0.0</td>\n",
       "            </tr><tr>\n",
       "                <td><strong>Upper bound</strong></td><td>1000.0</td>\n",
       "            </tr>\n",
       "        </table>\n",
       "        "
      ],
      "text/plain": [
       "<Reaction ALCD2ir at 0x15cf907f970>"
      ]
     },
     "execution_count": 5,
     "metadata": {},
     "output_type": "execute_result"
    }
   ],
   "source": [
    "# Manual_ko_3: 1.1.1.1 acetaldehyde to ethanol Reaction ID \"id\":\":\" ALCD2ir\"\n",
    "model.reactions.ALCD2ir"
   ]
  },
  {
   "cell_type": "code",
   "execution_count": 6,
   "id": "043330fc",
   "metadata": {},
   "outputs": [
    {
     "ename": "AttributeError",
     "evalue": "DictList has no attribute or entry ALCD2x_copy2",
     "output_type": "error",
     "traceback": [
      "\u001b[1;31m---------------------------------------------------------------------------\u001b[0m",
      "\u001b[1;31mKeyError\u001b[0m                                  Traceback (most recent call last)",
      "File \u001b[1;32m~\\anaconda3\\lib\\site-packages\\cobra\\core\\dictlist.py:526\u001b[0m, in \u001b[0;36mDictList.__getattr__\u001b[1;34m(self, attr)\u001b[0m\n\u001b[0;32m    525\u001b[0m \u001b[38;5;28;01mtry\u001b[39;00m:\n\u001b[1;32m--> 526\u001b[0m     \u001b[38;5;28;01mreturn\u001b[39;00m \u001b[43mDictList\u001b[49m\u001b[38;5;241;43m.\u001b[39;49m\u001b[43mget_by_id\u001b[49m\u001b[43m(\u001b[49m\u001b[38;5;28;43mself\u001b[39;49m\u001b[43m,\u001b[49m\u001b[43m \u001b[49m\u001b[43mattr\u001b[49m\u001b[43m)\u001b[49m\n\u001b[0;32m    527\u001b[0m \u001b[38;5;28;01mexcept\u001b[39;00m \u001b[38;5;167;01mKeyError\u001b[39;00m:\n",
      "File \u001b[1;32m~\\anaconda3\\lib\\site-packages\\cobra\\core\\dictlist.py:74\u001b[0m, in \u001b[0;36mDictList.get_by_id\u001b[1;34m(self, id)\u001b[0m\n\u001b[0;32m     73\u001b[0m \u001b[38;5;124;03m\"\"\"Return the element with a matching id.\"\"\"\u001b[39;00m\n\u001b[1;32m---> 74\u001b[0m \u001b[38;5;28;01mreturn\u001b[39;00m \u001b[38;5;28mlist\u001b[39m\u001b[38;5;241m.\u001b[39m\u001b[38;5;21m__getitem__\u001b[39m(\u001b[38;5;28mself\u001b[39m, \u001b[38;5;28;43mself\u001b[39;49m\u001b[38;5;241;43m.\u001b[39;49m\u001b[43m_dict\u001b[49m\u001b[43m[\u001b[49m\u001b[38;5;28;43mid\u001b[39;49m\u001b[43m]\u001b[49m)\n",
      "\u001b[1;31mKeyError\u001b[0m: 'ALCD2x_copy2'",
      "\nDuring handling of the above exception, another exception occurred:\n",
      "\u001b[1;31mAttributeError\u001b[0m                            Traceback (most recent call last)",
      "Input \u001b[1;32mIn [6]\u001b[0m, in \u001b[0;36m<cell line: 2>\u001b[1;34m()\u001b[0m\n\u001b[0;32m      1\u001b[0m \u001b[38;5;66;03m# Manual_ko_4: 1.1.1.2\tacetaldehyde to ethanol 2 Reaction ID \"id\":\"ALCD2x_copy2\"\u001b[39;00m\n\u001b[1;32m----> 2\u001b[0m \u001b[43mmodel\u001b[49m\u001b[38;5;241;43m.\u001b[39;49m\u001b[43mreactions\u001b[49m\u001b[38;5;241;43m.\u001b[39;49m\u001b[43mALCD2x_copy2\u001b[49m\n",
      "File \u001b[1;32m~\\anaconda3\\lib\\site-packages\\cobra\\core\\dictlist.py:528\u001b[0m, in \u001b[0;36mDictList.__getattr__\u001b[1;34m(self, attr)\u001b[0m\n\u001b[0;32m    526\u001b[0m     \u001b[38;5;28;01mreturn\u001b[39;00m DictList\u001b[38;5;241m.\u001b[39mget_by_id(\u001b[38;5;28mself\u001b[39m, attr)\n\u001b[0;32m    527\u001b[0m \u001b[38;5;28;01mexcept\u001b[39;00m \u001b[38;5;167;01mKeyError\u001b[39;00m:\n\u001b[1;32m--> 528\u001b[0m     \u001b[38;5;28;01mraise\u001b[39;00m \u001b[38;5;167;01mAttributeError\u001b[39;00m(\u001b[38;5;124mf\u001b[39m\u001b[38;5;124m\"\u001b[39m\u001b[38;5;124mDictList has no attribute or entry \u001b[39m\u001b[38;5;132;01m{\u001b[39;00mattr\u001b[38;5;132;01m}\u001b[39;00m\u001b[38;5;124m\"\u001b[39m)\n",
      "\u001b[1;31mAttributeError\u001b[0m: DictList has no attribute or entry ALCD2x_copy2"
     ]
    }
   ],
   "source": [
    "# Manual_ko_4: 1.1.1.2\tacetaldehyde to ethanol 2 Reaction ID \"id\":\"ALCD2x_copy2\"\n",
    "model.reactions.ALCD2x_copy2"
   ]
  },
  {
   "cell_type": "code",
   "execution_count": null,
   "id": "e96ca316",
   "metadata": {},
   "outputs": [],
   "source": [
    "# Manual_ko_5:  Fructose 1,6-DP to fructose 6P (3.1.3.11) \"id\":\"FBP\"\n",
    "\n",
    "model.reactions.FBP"
   ]
  },
  {
   "cell_type": "markdown",
   "id": "41c80830",
   "metadata": {},
   "source": [
    "\n",
    "\n",
    "\n",
    "## First Model (Manual_ko_1)\n",
    "### From chorismate to anthranilate (Enzyme: 4.1.3.27) "
   ]
  },
  {
   "cell_type": "code",
   "execution_count": 8,
   "id": "9fe2b527",
   "metadata": {},
   "outputs": [],
   "source": [
    "# Read model (resveratrol from glucose, S. cervisae)\n",
    "model_Manual_ko_1 = read_sbml_model('../data/models/yeast_resv.xml')"
   ]
  },
  {
   "cell_type": "code",
   "execution_count": 9,
   "id": "cb870dad",
   "metadata": {},
   "outputs": [],
   "source": [
    "#Knock out changes the boundaries to zero\n",
    "model_Manual_ko_1.reactions.ANS.knock_out()"
   ]
  },
  {
   "cell_type": "code",
   "execution_count": 10,
   "id": "62e0c8f3",
   "metadata": {},
   "outputs": [
    {
     "data": {
      "text/html": [
       "\n",
       "        <table>\n",
       "            <tr>\n",
       "                <td><strong>Reaction identifier</strong></td><td>ANS</td>\n",
       "            </tr><tr>\n",
       "                <td><strong>Name</strong></td><td>Anthranilate synthase</td>\n",
       "            </tr><tr>\n",
       "                <td><strong>Memory address</strong></td>\n",
       "                <td>0x1555d67dbb0</td>\n",
       "            </tr><tr>\n",
       "                <td><strong>Stoichiometry</strong></td>\n",
       "                <td>\n",
       "                    <p style='text-align:right'>chor_c + gln__L_c --> anth_c + glu__L_c + h_c + pyr_c</p>\n",
       "                    <p style='text-align:right'>Chorismate + L-Glutamine --> Anthranilate + L-Glutamate + H+ + Pyruvate</p>\n",
       "                </td>\n",
       "            </tr><tr>\n",
       "                <td><strong>GPR</strong></td><td>YER090W and YKL211C</td>\n",
       "            </tr><tr>\n",
       "                <td><strong>Lower bound</strong></td><td>0</td>\n",
       "            </tr><tr>\n",
       "                <td><strong>Upper bound</strong></td><td>0</td>\n",
       "            </tr>\n",
       "        </table>\n",
       "        "
      ],
      "text/plain": [
       "<Reaction ANS at 0x1555d67dbb0>"
      ]
     },
     "execution_count": 10,
     "metadata": {},
     "output_type": "execute_result"
    }
   ],
   "source": [
    "model_Manual_ko_1.reactions.ANS"
   ]
  },
  {
   "cell_type": "code",
   "execution_count": 11,
   "id": "32c0966a",
   "metadata": {},
   "outputs": [
    {
     "data": {
      "text/html": [
       "\n",
       "        <table>\n",
       "            <tr>\n",
       "                <td><strong>Reaction identifier</strong></td><td>VVVST1</td>\n",
       "            </tr><tr>\n",
       "                <td><strong>Name</strong></td><td></td>\n",
       "            </tr><tr>\n",
       "                <td><strong>Memory address</strong></td>\n",
       "                <td>0x1555c278910</td>\n",
       "            </tr><tr>\n",
       "                <td><strong>Stoichiometry</strong></td>\n",
       "                <td>\n",
       "                    <p style='text-align:right'>e4_coumaroyl_coa + 3.0 h_c + 3.0 malcoa_c --> 4.0 co2_c + 4.0 coa_c + trans_resv</p>\n",
       "                    <p style='text-align:right'>+ 3.0 H+ + 3.0 Malonyl CoA C24H33N7O19P3S --> 4.0 CO2 CO2 + 4.0 Coenzyme A +</p>\n",
       "                </td>\n",
       "            </tr><tr>\n",
       "                <td><strong>GPR</strong></td><td></td>\n",
       "            </tr><tr>\n",
       "                <td><strong>Lower bound</strong></td><td>0.0</td>\n",
       "            </tr><tr>\n",
       "                <td><strong>Upper bound</strong></td><td>999999.0</td>\n",
       "            </tr>\n",
       "        </table>\n",
       "        "
      ],
      "text/plain": [
       "<Reaction VVVST1 at 0x1555c278910>"
      ]
     },
     "execution_count": 11,
     "metadata": {},
     "output_type": "execute_result"
    }
   ],
   "source": [
    "# Yield and productivity from section 3\n",
    "model.reactions.get_by_id('VVVST1')"
   ]
  },
  {
   "cell_type": "code",
   "execution_count": 12,
   "id": "cce4e1cf",
   "metadata": {},
   "outputs": [
    {
     "name": "stdout",
     "output_type": "stream",
     "text": [
      "Maximum resveratrol productivity =  1.1785714285714282 mmol/gDW*h\n",
      "Maximum theoretical yield is =  0.11785714285714281 mmol/gDW*h\n"
     ]
    }
   ],
   "source": [
    "with model_Manual_ko_1:\n",
    "    model_Manual_ko_1.reactions.ANS.knock_out()\n",
    "    model_Manual_ko_1.objective = model_Manual_ko_1.reactions.VVVST1\n",
    "    \n",
    "    resveratrol_max_production = model_Manual_ko_1.optimize().objective_value\n",
    "    print(\"Maximum resveratrol productivity = \",resveratrol_max_production , \"mmol/gDW*h\")\n",
    "\n",
    "    glucose_uptake_flux = model_Manual_ko_1.reactions.EX_glc__D_e.flux #Glucose exchange reaction\n",
    "    max_yield = resveratrol_max_production / (-1*glucose_uptake_flux)\n",
    "    print(\"Maximum theoretical yield is = \", max_yield, \"mmol/gDW*h\")\n",
    "    \n",
    "    # Calculation in C-mol (TBD)\n",
    "#resv_max_prod_cmol = (resveratrol_max_production)/(resveatrol)\n",
    "#resv_max_yield_cmol = (max_yield*resveatrol)/(glucose)\n",
    "#print('Maximum productivity of lycopene =', resv_max_prod_cmol, 'cmol-resv/gDW*h')\n",
    "#print('Maximum theoretical yield =', resv_max_yield_cmol, 'cmol-resv/cmol-glucose')\n"
   ]
  },
  {
   "cell_type": "markdown",
   "id": "25e06bf3",
   "metadata": {},
   "source": [
    "\n",
    "\n",
    "\n",
    "## Second Model (Manual_ko_2)\n",
    "### From prephenate to phenyl pyruvate (Enzyme 4. 2 . 1. 51) "
   ]
  },
  {
   "cell_type": "code",
   "execution_count": 13,
   "id": "3b7a54d3",
   "metadata": {},
   "outputs": [],
   "source": [
    "# Read model (resveratrol from glucose, S. cervisae)\n",
    "model_Manual_ko_2 = read_sbml_model('../data/models/yeast_resv.xml')"
   ]
  },
  {
   "cell_type": "code",
   "execution_count": 14,
   "id": "494a7c40",
   "metadata": {},
   "outputs": [
    {
     "data": {
      "text/html": [
       "\n",
       "        <table>\n",
       "            <tr>\n",
       "                <td><strong>Reaction identifier</strong></td><td>PPNDH</td>\n",
       "            </tr><tr>\n",
       "                <td><strong>Name</strong></td><td>Prephenate dehydratase</td>\n",
       "            </tr><tr>\n",
       "                <td><strong>Memory address</strong></td>\n",
       "                <td>0x1555eddfd60</td>\n",
       "            </tr><tr>\n",
       "                <td><strong>Stoichiometry</strong></td>\n",
       "                <td>\n",
       "                    <p style='text-align:right'>h_c + pphn_c --> co2_c + h2o_c + phpyr_c</p>\n",
       "                    <p style='text-align:right'>H+ + Prephenate --> CO2 CO2 + H2O H2O + Phenylpyruvate</p>\n",
       "                </td>\n",
       "            </tr><tr>\n",
       "                <td><strong>GPR</strong></td><td>YNL316C</td>\n",
       "            </tr><tr>\n",
       "                <td><strong>Lower bound</strong></td><td>0</td>\n",
       "            </tr><tr>\n",
       "                <td><strong>Upper bound</strong></td><td>0</td>\n",
       "            </tr>\n",
       "        </table>\n",
       "        "
      ],
      "text/plain": [
       "<Reaction PPNDH at 0x1555eddfd60>"
      ]
     },
     "execution_count": 14,
     "metadata": {},
     "output_type": "execute_result"
    }
   ],
   "source": [
    "#Knock out changes the boundaries to zero\n",
    "model_Manual_ko_2.reactions.PPNDH.knock_out()\n",
    "model_Manual_ko_2.reactions.PPNDH"
   ]
  },
  {
   "cell_type": "code",
   "execution_count": 15,
   "id": "532a07d5",
   "metadata": {},
   "outputs": [
    {
     "name": "stdout",
     "output_type": "stream",
     "text": [
      "Maximum resveratrol productivity =  1.178571428571428 mmol/gDW*h\n",
      "Maximum theoretical yield is =  0.1178571428571428 mmol/gDW*h\n"
     ]
    },
    {
     "data": {
      "text/html": [
       "\n",
       "        <table>\n",
       "            <tr>\n",
       "                <td><strong>Reaction identifier</strong></td><td>PPNDH</td>\n",
       "            </tr><tr>\n",
       "                <td><strong>Name</strong></td><td>Prephenate dehydratase</td>\n",
       "            </tr><tr>\n",
       "                <td><strong>Memory address</strong></td>\n",
       "                <td>0x1555eddfd60</td>\n",
       "            </tr><tr>\n",
       "                <td><strong>Stoichiometry</strong></td>\n",
       "                <td>\n",
       "                    <p style='text-align:right'>h_c + pphn_c --> co2_c + h2o_c + phpyr_c</p>\n",
       "                    <p style='text-align:right'>H+ + Prephenate --> CO2 CO2 + H2O H2O + Phenylpyruvate</p>\n",
       "                </td>\n",
       "            </tr><tr>\n",
       "                <td><strong>GPR</strong></td><td>YNL316C</td>\n",
       "            </tr><tr>\n",
       "                <td><strong>Lower bound</strong></td><td>0</td>\n",
       "            </tr><tr>\n",
       "                <td><strong>Upper bound</strong></td><td>0</td>\n",
       "            </tr>\n",
       "        </table>\n",
       "        "
      ],
      "text/plain": [
       "<Reaction PPNDH at 0x1555eddfd60>"
      ]
     },
     "execution_count": 15,
     "metadata": {},
     "output_type": "execute_result"
    }
   ],
   "source": [
    "with model_Manual_ko_2:\n",
    "    model_Manual_ko_2.objective = model_Manual_ko_2.reactions.VVVST1\n",
    "    model_Manual_ko_2.reactions.PPNDH.knock_out()\n",
    "    \n",
    "    #also knocking out glucose exchange reaction just to see if there is effect\n",
    "    #model_Manual_ko_2.reactions.GLCt1.knock_out()\n",
    "    resveratrol_max_production = model_Manual_ko_2.optimize().objective_value\n",
    "    print(\"Maximum resveratrol productivity = \",resveratrol_max_production , \"mmol/gDW*h\")\n",
    "\n",
    "    glucose_uptake_flux = model_Manual_ko_2.reactions.EX_glc__D_e.flux #Glucose exchange reaction\n",
    "    max_yield = resveratrol_max_production / (-1*glucose_uptake_flux)\n",
    "    print(\"Maximum theoretical yield is = \", max_yield, \"mmol/gDW*h\")\n",
    "model_Manual_ko_2.reactions.PPNDH"
   ]
  },
  {
   "cell_type": "markdown",
   "id": "f9e5f3ee",
   "metadata": {},
   "source": [
    "## Third Model (Manual_ko_3)¶\n",
    "### (Enz. 1.1.1.1) acetaldehyde to ethanol Reaction ID \"id\":\":\" ALCD2ir\""
   ]
  },
  {
   "cell_type": "code",
   "execution_count": 16,
   "id": "a776a735",
   "metadata": {},
   "outputs": [],
   "source": [
    "# Read model (resveratrol from glucose, S. cervisae)\n",
    "model_Manual_ko_3 = read_sbml_model('../data/models/yeast_resv.xml')"
   ]
  },
  {
   "cell_type": "code",
   "execution_count": 17,
   "id": "2daa1722",
   "metadata": {},
   "outputs": [
    {
     "name": "stdout",
     "output_type": "stream",
     "text": [
      "Maximum resveratrol productivity =  1.1785714285714282 mmol/gDW*h\n",
      "Maximum theoretical yield is =  0.11785714285714281 mmol/gDW*h\n"
     ]
    },
    {
     "data": {
      "text/html": [
       "\n",
       "        <table>\n",
       "            <tr>\n",
       "                <td><strong>Reaction identifier</strong></td><td>ALCD2ir</td>\n",
       "            </tr><tr>\n",
       "                <td><strong>Name</strong></td><td>Alcohol dehydrogenase reverse rxn acetaldehyde ethanol</td>\n",
       "            </tr><tr>\n",
       "                <td><strong>Memory address</strong></td>\n",
       "                <td>0x1555f4363a0</td>\n",
       "            </tr><tr>\n",
       "                <td><strong>Stoichiometry</strong></td>\n",
       "                <td>\n",
       "                    <p style='text-align:right'>acald_c + h_c + nadh_c --> etoh_c + nad_c</p>\n",
       "                    <p style='text-align:right'>Acetaldehyde + H+ + Nicotinamide adenine dinucleotide - reduced --> Ethanol + Nicotinamide adenine dinucleotide</p>\n",
       "                </td>\n",
       "            </tr><tr>\n",
       "                <td><strong>GPR</strong></td><td>YOL086C or YGL256W or YBR145W</td>\n",
       "            </tr><tr>\n",
       "                <td><strong>Lower bound</strong></td><td>0.0</td>\n",
       "            </tr><tr>\n",
       "                <td><strong>Upper bound</strong></td><td>999999.0</td>\n",
       "            </tr>\n",
       "        </table>\n",
       "        "
      ],
      "text/plain": [
       "<Reaction ALCD2ir at 0x1555f4363a0>"
      ]
     },
     "execution_count": 17,
     "metadata": {},
     "output_type": "execute_result"
    }
   ],
   "source": [
    "with model_Manual_ko_3:\n",
    "    model_Manual_ko_3.objective = model_Manual_ko_3.reactions.VVVST1\n",
    "    model_Manual_ko_3.reactions.ALCD2ir.knock_out()\n",
    "    \n",
    "    #also knocking out glucose exchange reaction just to see if there is effect\n",
    "    #model_Manual_ko_2.reactions.GLCt1.knock_out()\n",
    "    resveratrol_max_production = model_Manual_ko_3.optimize().objective_value\n",
    "    print(\"Maximum resveratrol productivity = \",resveratrol_max_production , \"mmol/gDW*h\")\n",
    "\n",
    "    glucose_uptake_flux = model_Manual_ko_3.reactions.EX_glc__D_e.flux #Glucose exchange reaction\n",
    "    max_yield = resveratrol_max_production / (-1*glucose_uptake_flux)\n",
    "    print(\"Maximum theoretical yield is = \", max_yield, \"mmol/gDW*h\")\n",
    "model_Manual_ko_3.reactions.ALCD2ir"
   ]
  },
  {
   "cell_type": "markdown",
   "id": "c4fe78a9",
   "metadata": {},
   "source": [
    "## Fourth Model (Manual_ko_4)¶\n",
    "### (Enz. 1.1.1.2) acetaldehyde to ethanol Reaction ID \"id\":\":\" ALCD2x_copy2\"\n"
   ]
  },
  {
   "cell_type": "code",
   "execution_count": 18,
   "id": "099d6f84",
   "metadata": {},
   "outputs": [],
   "source": [
    "# Read model (resveratrol from glucose, S. cervisae)\n",
    "model_Manual_ko_4 = read_sbml_model('../data/models/yeast_resv.xml')\n",
    "model_Manual_ko_4.reactions.ALCD2x_copy2.knock_out()\n",
    "model_Manual_ko_4.reactions.ALCD2ir.knock_out()"
   ]
  },
  {
   "cell_type": "code",
   "execution_count": 19,
   "id": "f37ebaf5",
   "metadata": {},
   "outputs": [
    {
     "name": "stdout",
     "output_type": "stream",
     "text": [
      "Maximum resveratrol productivity =  1.1785714285714306 mmol/gDW*h\n",
      "Maximum theoretical yield is =  0.11785714285714306 mmol/gDW*h\n"
     ]
    },
    {
     "data": {
      "text/html": [
       "\n",
       "        <table>\n",
       "            <tr>\n",
       "                <td><strong>Reaction identifier</strong></td><td>ALCD2x_copy2</td>\n",
       "            </tr><tr>\n",
       "                <td><strong>Name</strong></td><td>Alcohol dehydrogenase (ethanol)</td>\n",
       "            </tr><tr>\n",
       "                <td><strong>Memory address</strong></td>\n",
       "                <td>0x15561289df0</td>\n",
       "            </tr><tr>\n",
       "                <td><strong>Stoichiometry</strong></td>\n",
       "                <td>\n",
       "                    <p style='text-align:right'>etoh_c + nad_c --> acald_c + h_c + nadh_c</p>\n",
       "                    <p style='text-align:right'>Ethanol + Nicotinamide adenine dinucleotide --> Acetaldehyde + H+ + Nicotinamide adenine dinucleotide - reduced</p>\n",
       "                </td>\n",
       "            </tr><tr>\n",
       "                <td><strong>GPR</strong></td><td>YDL168W</td>\n",
       "            </tr><tr>\n",
       "                <td><strong>Lower bound</strong></td><td>0</td>\n",
       "            </tr><tr>\n",
       "                <td><strong>Upper bound</strong></td><td>0</td>\n",
       "            </tr>\n",
       "        </table>\n",
       "        "
      ],
      "text/plain": [
       "<Reaction ALCD2x_copy2 at 0x15561289df0>"
      ]
     },
     "execution_count": 19,
     "metadata": {},
     "output_type": "execute_result"
    }
   ],
   "source": [
    "with model_Manual_ko_4:\n",
    "    model_Manual_ko_4.objective = model_Manual_ko_4.reactions.VVVST1\n",
    "    model_Manual_ko_4.reactions.ALCD2x_copy2.knock_out()\n",
    "    #model_Manual_ko_4.reactions.ALCD2ir.knock_out()\n",
    "    \n",
    "    resveratrol_max_production = model_Manual_ko_4.optimize().objective_value\n",
    "    print(\"Maximum resveratrol productivity = \",resveratrol_max_production , \"mmol/gDW*h\")\n",
    "\n",
    "    glucose_uptake_flux = model_Manual_ko_4.reactions.EX_glc__D_e.flux #Glucose exchange reaction\n",
    "    max_yield = resveratrol_max_production / (-1*glucose_uptake_flux)\n",
    "    print(\"Maximum theoretical yield is = \", max_yield, \"mmol/gDW*h\")\n",
    "model_Manual_ko_4.reactions.ALCD2x_copy2"
   ]
  },
  {
   "cell_type": "markdown",
   "id": "57559814",
   "metadata": {},
   "source": [
    "## Fifth Model (Manual_ko_5)¶\n",
    "### Fructose 1,6-DP to fructose 6P (3.1.3.11) \"id\":\"FBP\""
   ]
  },
  {
   "cell_type": "code",
   "execution_count": 20,
   "id": "4b48d129",
   "metadata": {},
   "outputs": [],
   "source": [
    "model_Manual_ko_5 = read_sbml_model('../data/models/yeast_resv.xml')\n",
    "model_Manual_ko_5.reactions.FBP.knock_out()\n"
   ]
  },
  {
   "cell_type": "code",
   "execution_count": 21,
   "id": "43ebef90",
   "metadata": {},
   "outputs": [
    {
     "name": "stdout",
     "output_type": "stream",
     "text": [
      "Maximum resveratrol productivity =  1.1785714285714282 mmol/gDW*h\n",
      "Maximum theoretical yield is =  0.11785714285714281 mmol/gDW*h\n"
     ]
    },
    {
     "data": {
      "text/html": [
       "\n",
       "        <table>\n",
       "            <tr>\n",
       "                <td><strong>Reaction identifier</strong></td><td>FBP</td>\n",
       "            </tr><tr>\n",
       "                <td><strong>Name</strong></td><td>Fructose-bisphosphatase</td>\n",
       "            </tr><tr>\n",
       "                <td><strong>Memory address</strong></td>\n",
       "                <td>0x15562556b20</td>\n",
       "            </tr><tr>\n",
       "                <td><strong>Stoichiometry</strong></td>\n",
       "                <td>\n",
       "                    <p style='text-align:right'>fdp_c + h2o_c --> f6p_c + pi_c</p>\n",
       "                    <p style='text-align:right'>D-Fructose 1,6-bisphosphate + H2O H2O --> D-Fructose 6-phosphate + Phosphate</p>\n",
       "                </td>\n",
       "            </tr><tr>\n",
       "                <td><strong>GPR</strong></td><td>YLR377C</td>\n",
       "            </tr><tr>\n",
       "                <td><strong>Lower bound</strong></td><td>0</td>\n",
       "            </tr><tr>\n",
       "                <td><strong>Upper bound</strong></td><td>0</td>\n",
       "            </tr>\n",
       "        </table>\n",
       "        "
      ],
      "text/plain": [
       "<Reaction FBP at 0x15562556b20>"
      ]
     },
     "execution_count": 21,
     "metadata": {},
     "output_type": "execute_result"
    }
   ],
   "source": [
    "with model_Manual_ko_5:\n",
    "    model_Manual_ko_5.objective = model_Manual_ko_5.reactions.VVVST1\n",
    "    model_Manual_ko_5.reactions.FBP.knock_out()\n",
    "    #model_Manual_ko_4.reactions.ALCD2ir.knock_out()\n",
    "    \n",
    "    resveratrol_max_production = model_Manual_ko_5.optimize().objective_value\n",
    "    print(\"Maximum resveratrol productivity = \",resveratrol_max_production , \"mmol/gDW*h\")\n",
    "\n",
    "    glucose_uptake_flux = model_Manual_ko_5.reactions.EX_glc__D_e.flux #Glucose exchange reaction\n",
    "    max_yield = resveratrol_max_production / (-1*glucose_uptake_flux)\n",
    "    print(\"Maximum theoretical yield is = \", max_yield, \"mmol/gDW*h\")\n",
    "model_Manual_ko_5.reactions.FBP"
   ]
  },
  {
   "cell_type": "markdown",
   "id": "b2832b01",
   "metadata": {},
   "source": [
    "## Single Deletions (https://cobrapy.readthedocs.io/en/latest/deletions.html)\n",
    "### By general analysis of de flux using cobrapy"
   ]
  },
  {
   "cell_type": "code",
   "execution_count": 7,
   "id": "22cb17bb",
   "metadata": {},
   "outputs": [],
   "source": [
    "from cobra.flux_analysis import (\n",
    "    single_gene_deletion, single_reaction_deletion, double_gene_deletion,\n",
    "    double_reaction_deletion)\n",
    "model_single_deletions = read_sbml_model('../data/models/yeast8_resv_glc.xml')\n",
    "model_single_deletions.reactions.GROWTH.bounds=0.001, 1000"
   ]
  },
  {
   "cell_type": "code",
   "execution_count": 8,
   "id": "70732aa2",
   "metadata": {},
   "outputs": [
    {
     "data": {
      "text/html": [
       "\n",
       "        <table>\n",
       "            <tr>\n",
       "                <td><strong>Name</strong></td>\n",
       "                <td>yeastGEM_v8__46__6__46__2</td>\n",
       "            </tr><tr>\n",
       "                <td><strong>Memory address</strong></td>\n",
       "                <td>0x0186cb19ee50</td>\n",
       "            </tr><tr>\n",
       "                <td><strong>Number of metabolites</strong></td>\n",
       "                <td>2747</td>\n",
       "            </tr><tr>\n",
       "                <td><strong>Number of reactions</strong></td>\n",
       "                <td>4067</td>\n",
       "            </tr><tr>\n",
       "                <td><strong>Number of groups</strong></td>\n",
       "                <td>106</td>\n",
       "            </tr><tr>\n",
       "                <td><strong>Objective expression</strong></td>\n",
       "                <td>1.0*GROWTH - 1.0*GROWTH_reverse_c845e</td>\n",
       "            </tr><tr>\n",
       "                <td><strong>Compartments</strong></td>\n",
       "                <td>cell envelope, cytoplasm, extracellular, mitochondrion, nucleus, peroxisome, endoplasmic reticulum, Golgi, lipid particle, vacuole, endoplasmic reticulum membrane, vacuolar membrane, Golgi membrane, mitochondrial membrane</td>\n",
       "            </tr>\n",
       "          </table>"
      ],
      "text/plain": [
       "<Model yeastGEM_v8__46__6__46__2 at 0x186cb19ee50>"
      ]
     },
     "execution_count": 8,
     "metadata": {},
     "output_type": "execute_result"
    }
   ],
   "source": [
    "model_single_deletions"
   ]
  },
  {
   "cell_type": "code",
   "execution_count": 9,
   "id": "114b8971",
   "metadata": {},
   "outputs": [
    {
     "data": {
      "text/html": [
       "<div>\n",
       "<style scoped>\n",
       "    .dataframe tbody tr th:only-of-type {\n",
       "        vertical-align: middle;\n",
       "    }\n",
       "\n",
       "    .dataframe tbody tr th {\n",
       "        vertical-align: top;\n",
       "    }\n",
       "\n",
       "    .dataframe thead th {\n",
       "        text-align: right;\n",
       "    }\n",
       "</style>\n",
       "<table border=\"1\" class=\"dataframe\">\n",
       "  <thead>\n",
       "    <tr style=\"text-align: right;\">\n",
       "      <th></th>\n",
       "      <th>ids</th>\n",
       "      <th>growth</th>\n",
       "      <th>status</th>\n",
       "    </tr>\n",
       "  </thead>\n",
       "  <tbody>\n",
       "    <tr>\n",
       "      <th>0</th>\n",
       "      <td>{PDE5}</td>\n",
       "      <td>0.306589</td>\n",
       "      <td>optimal</td>\n",
       "    </tr>\n",
       "    <tr>\n",
       "      <th>1</th>\n",
       "      <td>{MTMOHT}</td>\n",
       "      <td>NaN</td>\n",
       "      <td>infeasible</td>\n",
       "    </tr>\n",
       "    <tr>\n",
       "      <th>2</th>\n",
       "      <td>{OMCDCm}</td>\n",
       "      <td>0.306589</td>\n",
       "      <td>optimal</td>\n",
       "    </tr>\n",
       "    <tr>\n",
       "      <th>3</th>\n",
       "      <td>{2HP6MPMOm}</td>\n",
       "      <td>0.306589</td>\n",
       "      <td>optimal</td>\n",
       "    </tr>\n",
       "    <tr>\n",
       "      <th>4</th>\n",
       "      <td>{PDE4}</td>\n",
       "      <td>0.306589</td>\n",
       "      <td>optimal</td>\n",
       "    </tr>\n",
       "    <tr>\n",
       "      <th>5</th>\n",
       "      <td>{IPMD}</td>\n",
       "      <td>NaN</td>\n",
       "      <td>infeasible</td>\n",
       "    </tr>\n",
       "    <tr>\n",
       "      <th>6</th>\n",
       "      <td>{BTDD_RR}</td>\n",
       "      <td>0.306589</td>\n",
       "      <td>optimal</td>\n",
       "    </tr>\n",
       "    <tr>\n",
       "      <th>7</th>\n",
       "      <td>{OMCDC}</td>\n",
       "      <td>NaN</td>\n",
       "      <td>infeasible</td>\n",
       "    </tr>\n",
       "    <tr>\n",
       "      <th>8</th>\n",
       "      <td>{HKYNH}</td>\n",
       "      <td>NaN</td>\n",
       "      <td>infeasible</td>\n",
       "    </tr>\n",
       "    <tr>\n",
       "      <th>9</th>\n",
       "      <td>{ADCS}</td>\n",
       "      <td>0.306589</td>\n",
       "      <td>optimal</td>\n",
       "    </tr>\n",
       "    <tr>\n",
       "      <th>10</th>\n",
       "      <td>{L_LACD2cm}</td>\n",
       "      <td>0.306589</td>\n",
       "      <td>optimal</td>\n",
       "    </tr>\n",
       "    <tr>\n",
       "      <th>11</th>\n",
       "      <td>{3MOPDC}</td>\n",
       "      <td>0.306589</td>\n",
       "      <td>optimal</td>\n",
       "    </tr>\n",
       "    <tr>\n",
       "      <th>12</th>\n",
       "      <td>{PDE1}</td>\n",
       "      <td>0.306589</td>\n",
       "      <td>optimal</td>\n",
       "    </tr>\n",
       "    <tr>\n",
       "      <th>13</th>\n",
       "      <td>{3DSPHRr}</td>\n",
       "      <td>0.306589</td>\n",
       "      <td>optimal</td>\n",
       "    </tr>\n",
       "    <tr>\n",
       "      <th>14</th>\n",
       "      <td>{PSCVT}</td>\n",
       "      <td>NaN</td>\n",
       "      <td>infeasible</td>\n",
       "    </tr>\n",
       "    <tr>\n",
       "      <th>15</th>\n",
       "      <td>{AHHM246}</td>\n",
       "      <td>0.306589</td>\n",
       "      <td>optimal</td>\n",
       "    </tr>\n",
       "    <tr>\n",
       "      <th>16</th>\n",
       "      <td>{PDE3}</td>\n",
       "      <td>0.306589</td>\n",
       "      <td>optimal</td>\n",
       "    </tr>\n",
       "    <tr>\n",
       "      <th>17</th>\n",
       "      <td>{PDE2}</td>\n",
       "      <td>0.306589</td>\n",
       "      <td>optimal</td>\n",
       "    </tr>\n",
       "    <tr>\n",
       "      <th>18</th>\n",
       "      <td>{ARAT}</td>\n",
       "      <td>0.306589</td>\n",
       "      <td>optimal</td>\n",
       "    </tr>\n",
       "    <tr>\n",
       "      <th>19</th>\n",
       "      <td>{D_LACDm}</td>\n",
       "      <td>0.306589</td>\n",
       "      <td>optimal</td>\n",
       "    </tr>\n",
       "    <tr>\n",
       "      <th>20</th>\n",
       "      <td>{DRPPPNRED25645}</td>\n",
       "      <td>NaN</td>\n",
       "      <td>infeasible</td>\n",
       "    </tr>\n",
       "    <tr>\n",
       "      <th>21</th>\n",
       "      <td>{3HPH5MBDCm}</td>\n",
       "      <td>0.306589</td>\n",
       "      <td>optimal</td>\n",
       "    </tr>\n",
       "    <tr>\n",
       "      <th>22</th>\n",
       "      <td>{23DI5ME1PHDERE}</td>\n",
       "      <td>NaN</td>\n",
       "      <td>infeasible</td>\n",
       "    </tr>\n",
       "    <tr>\n",
       "      <th>23</th>\n",
       "      <td>{HACD6p}</td>\n",
       "      <td>0.306589</td>\n",
       "      <td>optimal</td>\n",
       "    </tr>\n",
       "    <tr>\n",
       "      <th>24</th>\n",
       "      <td>{3OPHB5Hm}</td>\n",
       "      <td>0.306589</td>\n",
       "      <td>optimal</td>\n",
       "    </tr>\n",
       "    <tr>\n",
       "      <th>25</th>\n",
       "      <td>{3ISO3MET}</td>\n",
       "      <td>0.306589</td>\n",
       "      <td>optimal</td>\n",
       "    </tr>\n",
       "    <tr>\n",
       "      <th>26</th>\n",
       "      <td>{DB4PS}</td>\n",
       "      <td>NaN</td>\n",
       "      <td>infeasible</td>\n",
       "    </tr>\n",
       "    <tr>\n",
       "      <th>27</th>\n",
       "      <td>{AATA}</td>\n",
       "      <td>NaN</td>\n",
       "      <td>infeasible</td>\n",
       "    </tr>\n",
       "    <tr>\n",
       "      <th>28</th>\n",
       "      <td>{BPNT}</td>\n",
       "      <td>0.306548</td>\n",
       "      <td>optimal</td>\n",
       "    </tr>\n",
       "    <tr>\n",
       "      <th>29</th>\n",
       "      <td>{PRMICI}</td>\n",
       "      <td>NaN</td>\n",
       "      <td>infeasible</td>\n",
       "    </tr>\n",
       "    <tr>\n",
       "      <th>30</th>\n",
       "      <td>{MCITSm}</td>\n",
       "      <td>0.306589</td>\n",
       "      <td>optimal</td>\n",
       "    </tr>\n",
       "    <tr>\n",
       "      <th>31</th>\n",
       "      <td>{IPPS}</td>\n",
       "      <td>0.306589</td>\n",
       "      <td>optimal</td>\n",
       "    </tr>\n",
       "    <tr>\n",
       "      <th>32</th>\n",
       "      <td>{2HPMBQMTm}</td>\n",
       "      <td>0.306589</td>\n",
       "      <td>optimal</td>\n",
       "    </tr>\n",
       "    <tr>\n",
       "      <th>33</th>\n",
       "      <td>{ACHBSm}</td>\n",
       "      <td>NaN</td>\n",
       "      <td>infeasible</td>\n",
       "    </tr>\n",
       "    <tr>\n",
       "      <th>34</th>\n",
       "      <td>{IPPMIb}</td>\n",
       "      <td>NaN</td>\n",
       "      <td>infeasible</td>\n",
       "    </tr>\n",
       "    <tr>\n",
       "      <th>35</th>\n",
       "      <td>{DHQS}</td>\n",
       "      <td>NaN</td>\n",
       "      <td>infeasible</td>\n",
       "    </tr>\n",
       "    <tr>\n",
       "      <th>36</th>\n",
       "      <td>{16BETGLUSYN}</td>\n",
       "      <td>NaN</td>\n",
       "      <td>infeasible</td>\n",
       "    </tr>\n",
       "    <tr>\n",
       "      <th>37</th>\n",
       "      <td>{IPPSm}</td>\n",
       "      <td>0.306583</td>\n",
       "      <td>optimal</td>\n",
       "    </tr>\n",
       "    <tr>\n",
       "      <th>38</th>\n",
       "      <td>{2METDEH}</td>\n",
       "      <td>NaN</td>\n",
       "      <td>infeasible</td>\n",
       "    </tr>\n",
       "    <tr>\n",
       "      <th>39</th>\n",
       "      <td>{DRTPPD}</td>\n",
       "      <td>NaN</td>\n",
       "      <td>infeasible</td>\n",
       "    </tr>\n",
       "    <tr>\n",
       "      <th>40</th>\n",
       "      <td>{3HAO}</td>\n",
       "      <td>NaN</td>\n",
       "      <td>infeasible</td>\n",
       "    </tr>\n",
       "    <tr>\n",
       "      <th>41</th>\n",
       "      <td>{3MOBDC}</td>\n",
       "      <td>0.306589</td>\n",
       "      <td>optimal</td>\n",
       "    </tr>\n",
       "    <tr>\n",
       "      <th>42</th>\n",
       "      <td>{DHQTi}</td>\n",
       "      <td>NaN</td>\n",
       "      <td>infeasible</td>\n",
       "    </tr>\n",
       "    <tr>\n",
       "      <th>43</th>\n",
       "      <td>{IPPMIa}</td>\n",
       "      <td>NaN</td>\n",
       "      <td>infeasible</td>\n",
       "    </tr>\n",
       "    <tr>\n",
       "      <th>44</th>\n",
       "      <td>{P5CDm}</td>\n",
       "      <td>0.306589</td>\n",
       "      <td>optimal</td>\n",
       "    </tr>\n",
       "    <tr>\n",
       "      <th>45</th>\n",
       "      <td>{DDPA}</td>\n",
       "      <td>0.306589</td>\n",
       "      <td>optimal</td>\n",
       "    </tr>\n",
       "    <tr>\n",
       "      <th>46</th>\n",
       "      <td>{D_LACDcm}</td>\n",
       "      <td>0.306589</td>\n",
       "      <td>optimal</td>\n",
       "    </tr>\n",
       "    <tr>\n",
       "      <th>47</th>\n",
       "      <td>{13BETGLUSYN}</td>\n",
       "      <td>NaN</td>\n",
       "      <td>infeasible</td>\n",
       "    </tr>\n",
       "    <tr>\n",
       "      <th>48</th>\n",
       "      <td>{DPR}</td>\n",
       "      <td>NaN</td>\n",
       "      <td>infeasible</td>\n",
       "    </tr>\n",
       "    <tr>\n",
       "      <th>49</th>\n",
       "      <td>{DDPAm}</td>\n",
       "      <td>0.304877</td>\n",
       "      <td>optimal</td>\n",
       "    </tr>\n",
       "  </tbody>\n",
       "</table>\n",
       "</div>"
      ],
      "text/plain": [
       "                 ids    growth      status\n",
       "0             {PDE5}  0.306589     optimal\n",
       "1           {MTMOHT}       NaN  infeasible\n",
       "2           {OMCDCm}  0.306589     optimal\n",
       "3        {2HP6MPMOm}  0.306589     optimal\n",
       "4             {PDE4}  0.306589     optimal\n",
       "5             {IPMD}       NaN  infeasible\n",
       "6          {BTDD_RR}  0.306589     optimal\n",
       "7            {OMCDC}       NaN  infeasible\n",
       "8            {HKYNH}       NaN  infeasible\n",
       "9             {ADCS}  0.306589     optimal\n",
       "10       {L_LACD2cm}  0.306589     optimal\n",
       "11          {3MOPDC}  0.306589     optimal\n",
       "12            {PDE1}  0.306589     optimal\n",
       "13         {3DSPHRr}  0.306589     optimal\n",
       "14           {PSCVT}       NaN  infeasible\n",
       "15         {AHHM246}  0.306589     optimal\n",
       "16            {PDE3}  0.306589     optimal\n",
       "17            {PDE2}  0.306589     optimal\n",
       "18            {ARAT}  0.306589     optimal\n",
       "19         {D_LACDm}  0.306589     optimal\n",
       "20  {DRPPPNRED25645}       NaN  infeasible\n",
       "21      {3HPH5MBDCm}  0.306589     optimal\n",
       "22  {23DI5ME1PHDERE}       NaN  infeasible\n",
       "23          {HACD6p}  0.306589     optimal\n",
       "24        {3OPHB5Hm}  0.306589     optimal\n",
       "25        {3ISO3MET}  0.306589     optimal\n",
       "26           {DB4PS}       NaN  infeasible\n",
       "27            {AATA}       NaN  infeasible\n",
       "28            {BPNT}  0.306548     optimal\n",
       "29          {PRMICI}       NaN  infeasible\n",
       "30          {MCITSm}  0.306589     optimal\n",
       "31            {IPPS}  0.306589     optimal\n",
       "32       {2HPMBQMTm}  0.306589     optimal\n",
       "33          {ACHBSm}       NaN  infeasible\n",
       "34          {IPPMIb}       NaN  infeasible\n",
       "35            {DHQS}       NaN  infeasible\n",
       "36     {16BETGLUSYN}       NaN  infeasible\n",
       "37           {IPPSm}  0.306583     optimal\n",
       "38         {2METDEH}       NaN  infeasible\n",
       "39          {DRTPPD}       NaN  infeasible\n",
       "40            {3HAO}       NaN  infeasible\n",
       "41          {3MOBDC}  0.306589     optimal\n",
       "42           {DHQTi}       NaN  infeasible\n",
       "43          {IPPMIa}       NaN  infeasible\n",
       "44           {P5CDm}  0.306589     optimal\n",
       "45            {DDPA}  0.306589     optimal\n",
       "46        {D_LACDcm}  0.306589     optimal\n",
       "47     {13BETGLUSYN}       NaN  infeasible\n",
       "48             {DPR}       NaN  infeasible\n",
       "49           {DDPAm}  0.304877     optimal"
      ]
     },
     "execution_count": 9,
     "metadata": {},
     "output_type": "execute_result"
    }
   ],
   "source": [
    " model_single_deletions.objective  = model_single_deletions.reactions.VVVST1\n",
    "single_reaction_deletion(model_single_deletions, model_single_deletions.reactions[:50])"
   ]
  },
  {
   "cell_type": "code",
   "execution_count": 6,
   "id": "dfe8e702",
   "metadata": {},
   "outputs": [
    {
     "name": "stdout",
     "output_type": "stream",
     "text": [
      "                                ids    growth      status\n",
      "2735                       {GROWTH}  0.310376     optimal\n",
      "0                      {EX_gthox_e}       NaN  infeasible\n",
      "1                          {AMAOTr}       NaN  infeasible\n",
      "2                            {FUMm}       NaN  infeasible\n",
      "3                    {ipc224SLIMEg}       NaN  infeasible\n",
      "4     {MATR161161161180161mm_copy1}       NaN  infeasible\n",
      "5                          {r_4671}       NaN  infeasible\n",
      "6                          {r_4645}       NaN  infeasible\n",
      "7               {DIHACEPHOACY161rm}       NaN  infeasible\n",
      "8                      {EX_amp2p_e}       NaN  infeasible\n"
     ]
    }
   ],
   "source": [
    "deletions=single_reaction_deletion(model_single_deletions, model_single_deletions.reactions)\n",
    "deletions = deletions.sort_values(by='growth', ascending=False)\n",
    "print(deletions.head(10))\n"
   ]
  },
  {
   "cell_type": "code",
   "execution_count": 11,
   "id": "aecf3497",
   "metadata": {},
   "outputs": [
    {
     "data": {
      "text/plain": [
       "3427    0.319658\n",
       "Name: growth, dtype: float64"
      ]
     },
     "execution_count": 11,
     "metadata": {},
     "output_type": "execute_result"
    }
   ],
   "source": [
    "max_fluxes_deletion = deletions.growth[deletions.growth == max(deletions.growth)]\n",
    "max_fluxes_deletion"
   ]
  },
  {
   "cell_type": "markdown",
   "id": "78c8e442",
   "metadata": {},
   "source": [
    "## Sixth deletion\n",
    "### ATPM knock out {\n",
    "\"id\":\"ATPM\",\n",
    "\"name\":\"ATP maintenance requirement\",\n",
    "\"metabolites\":{\n",
    "\"adp_c\":1.0,\n",
    "\"atp_c\":-1.0,\n",
    "\"h2o_c\":-1.0,\n",
    "\"h_c\":1.0,\n",
    "\"pi_c\":1.0\n",
    "}\n"
   ]
  },
  {
   "cell_type": "code",
   "execution_count": 74,
   "id": "8553b7bd",
   "metadata": {},
   "outputs": [],
   "source": [
    "model_Manual_ko_6 = read_sbml_model('../data/models/yeast_resv.xml')"
   ]
  },
  {
   "cell_type": "code",
   "execution_count": 75,
   "id": "de5db3cc",
   "metadata": {},
   "outputs": [
    {
     "name": "stdout",
     "output_type": "stream",
     "text": [
      "Maximum resveratrol productivity =  1.2214285714285713 mmol/gDW*h\n",
      "Maximum theoretical yield is =  0.12214285714285714 mmol/gDW*h\n"
     ]
    }
   ],
   "source": [
    "with model_Manual_ko_6:\n",
    "    model_Manual_ko_6.objective = model_Manual_ko_6.reactions.VVVST1\n",
    "    model_Manual_ko_6.reactions.ATPM.knock_out()\n",
    "    #model_Manual_ko_4.reactions.ALCD2ir.knock_out()\n",
    "    \n",
    "    resveratrol_max_production = model_Manual_ko_6.optimize().objective_value\n",
    "    print(\"Maximum resveratrol productivity = \",resveratrol_max_production , \"mmol/gDW*h\")\n",
    "\n",
    "    glucose_uptake_flux = model_Manual_ko_6.reactions.EX_glc__D_e.flux #Glucose exchange reaction\n",
    "    max_yield = resveratrol_max_production / (-1*glucose_uptake_flux)\n",
    "    print(\"Maximum theoretical yield is = \", max_yield, \"mmol/gDW*h\")"
   ]
  },
  {
   "cell_type": "markdown",
   "id": "aae97174",
   "metadata": {},
   "source": [
    "## 7th deletion\n",
    "### ERGSTESTH_SCe knock out {\n",
    "\"id\":\"ERGSTESTH_SC\",\n",
    "\"name\":\"Ergosterol ester hydrolase  yeast specific\",\n",
    "\"metabolites\":{\n",
    "\"ergst_c\":0.01,\n",
    "\"ergstest_SC_c\":-0.01,\n",
    "\"h2o_c\":-1.0,\n",
    "\"h_c\":1.0,\n",
    "\"hdca_c\":0.02,\n",
    "\"hdcea_c\":0.655,\n",
    "\"hexc_c\":0.01,\n",
    "\"ocdca_c\":0.03,\n",
    "\"ocdcea_c\":0.27,\n",
    "\"ttdca_c\":0.015\n",
    "}"
   ]
  },
  {
   "cell_type": "code",
   "execution_count": 87,
   "id": "ab9d1dc5",
   "metadata": {},
   "outputs": [],
   "source": [
    "model_Manual_ko_7 = read_sbml_model('../data/models/yeast_resv.xml')"
   ]
  },
  {
   "cell_type": "code",
   "execution_count": 88,
   "id": "627a8a73",
   "metadata": {},
   "outputs": [
    {
     "name": "stdout",
     "output_type": "stream",
     "text": [
      "Maximum resveratrol productivity =  1.1785714285714288 mmol/gDW*h\n",
      "Maximum theoretical yield is =  0.11785714285714288 mmol/gDW*h\n"
     ]
    }
   ],
   "source": [
    "with model_Manual_ko_7:\n",
    "    model_Manual_ko_7.objective = model_Manual_ko_7.reactions.VVVST1\n",
    "    model_Manual_ko_7.reactions.ERGSTESTH_SCe.knock_out()\n",
    "    \n",
    "    resveratrol_max_production = model_Manual_ko_7.optimize().objective_value\n",
    "    print(\"Maximum resveratrol productivity = \",resveratrol_max_production , \"mmol/gDW*h\")\n",
    "\n",
    "    glucose_uptake_flux = model_Manual_ko_7.reactions.EX_glc__D_e.flux #Glucose exchange reaction\n",
    "    max_yield = resveratrol_max_production / (-1*glucose_uptake_flux)\n",
    "    print(\"Maximum theoretical yield is = \", max_yield, \"mmol/gDW*h\")"
   ]
  },
  {
   "cell_type": "code",
   "execution_count": null,
   "id": "70a76b10",
   "metadata": {},
   "outputs": [],
   "source": []
  }
 ],
 "metadata": {
  "kernelspec": {
   "display_name": "Python 3 (ipykernel)",
   "language": "python",
   "name": "python3"
  },
  "language_info": {
   "codemirror_mode": {
    "name": "ipython",
    "version": 3
   },
   "file_extension": ".py",
   "mimetype": "text/x-python",
   "name": "python",
   "nbconvert_exporter": "python",
   "pygments_lexer": "ipython3",
   "version": "3.9.12"
  }
 },
 "nbformat": 4,
 "nbformat_minor": 5
}
