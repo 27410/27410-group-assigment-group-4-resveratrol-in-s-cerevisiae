{
 "cells": [
  {
   "cell_type": "code",
   "execution_count": 3,
   "id": "bbbc5e80",
   "metadata": {},
   "outputs": [
    {
     "data": {
      "text/html": [
       "\n",
       "        <table>\n",
       "            <tr>\n",
       "                <td><strong>Reaction identifier</strong></td><td>GROWTH</td>\n",
       "            </tr><tr>\n",
       "                <td><strong>Name</strong></td><td>growth</td>\n",
       "            </tr><tr>\n",
       "                <td><strong>Memory address</strong></td>\n",
       "                <td>0x163abc9a370</td>\n",
       "            </tr><tr>\n",
       "                <td><strong>Stoichiometry</strong></td>\n",
       "                <td>\n",
       "                    <p style='text-align:right'>biomass_c --></p>\n",
       "                    <p style='text-align:right'>biomass --></p>\n",
       "                </td>\n",
       "            </tr><tr>\n",
       "                <td><strong>GPR</strong></td><td></td>\n",
       "            </tr><tr>\n",
       "                <td><strong>Lower bound</strong></td><td>0.04</td>\n",
       "            </tr><tr>\n",
       "                <td><strong>Upper bound</strong></td><td>1000.0</td>\n",
       "            </tr>\n",
       "        </table>\n",
       "        "
      ],
      "text/plain": [
       "<Reaction GROWTH at 0x163abc9a370>"
      ]
     },
     "execution_count": 3,
     "metadata": {},
     "output_type": "execute_result"
    }
   ],
   "source": [
    "import pytest\n",
    "import hashlib\n",
    "from cobra.io import read_sbml_model\n",
    "from cobra import Reaction, Metabolite\n",
    "\n",
    "# Read model (resveratrol from glucose, S. cervisae)\n",
    "model = read_sbml_model('../data/models/yeast8_resv_glc.xml')\n",
    "model.reactions.GROWTH.lower_bound=0.04\n",
    "\n",
    "model.reactions.GROWTH\n",
    "\n"
   ]
  },
  {
   "cell_type": "code",
   "execution_count": 2,
   "id": "80cf82bf",
   "metadata": {},
   "outputs": [
    {
     "data": {
      "text/plain": [
       "{'EX_nh4_e': 1000.0,\n",
       " 'EX_glc__D_e': 30,\n",
       " 'EX_h_e': 1000.0,\n",
       " 'EX_fe2_e': 1000.0,\n",
       " 'EX_o2_e': 4,\n",
       " 'EX_pi_e': 1000.0,\n",
       " 'EX_k_e': 1000.0,\n",
       " 'EX_na1_e': 1000.0,\n",
       " 'EX_so4_e': 1000.0,\n",
       " 'EX_h2o_e': 1000.0,\n",
       " 'EX_cl_e': 1000.0,\n",
       " 'EX_cu2_e': 1000.0,\n",
       " 'EX_mn2_e': 1000.0,\n",
       " 'EX_zn2_e': 1000.0,\n",
       " 'EX_mg2_e': 1000.0,\n",
       " 'EX_ca2_e': 1000.0}"
      ]
     },
     "execution_count": 2,
     "metadata": {},
     "output_type": "execute_result"
    }
   ],
   "source": [
    "medium=model.medium\n",
    "medium['EX_glc__D_e'] = 30\n",
    "medium['EX_o2_e'] = 4\n",
    "model.medium = medium\n",
    "medium"
   ]
  },
  {
   "cell_type": "code",
   "execution_count": 3,
   "id": "e3c6ffd1",
   "metadata": {},
   "outputs": [
    {
     "data": {
      "text/html": [
       "<strong><em>Optimal</em> solution with objective value 0.704</strong><br><div>\n",
       "<style scoped>\n",
       "    .dataframe tbody tr th:only-of-type {\n",
       "        vertical-align: middle;\n",
       "    }\n",
       "\n",
       "    .dataframe tbody tr th {\n",
       "        vertical-align: top;\n",
       "    }\n",
       "\n",
       "    .dataframe thead th {\n",
       "        text-align: right;\n",
       "    }\n",
       "</style>\n",
       "<table border=\"1\" class=\"dataframe\">\n",
       "  <thead>\n",
       "    <tr style=\"text-align: right;\">\n",
       "      <th></th>\n",
       "      <th>fluxes</th>\n",
       "      <th>reduced_costs</th>\n",
       "    </tr>\n",
       "  </thead>\n",
       "  <tbody>\n",
       "    <tr>\n",
       "      <th>D_LACDcm</th>\n",
       "      <td>0.000000</td>\n",
       "      <td>-1.144917e-16</td>\n",
       "    </tr>\n",
       "    <tr>\n",
       "      <th>D_LACDm</th>\n",
       "      <td>0.000000</td>\n",
       "      <td>-1.144917e-16</td>\n",
       "    </tr>\n",
       "    <tr>\n",
       "      <th>BTDD_RR</th>\n",
       "      <td>0.000000</td>\n",
       "      <td>0.000000e+00</td>\n",
       "    </tr>\n",
       "    <tr>\n",
       "      <th>L_LACD2cm</th>\n",
       "      <td>0.000000</td>\n",
       "      <td>0.000000e+00</td>\n",
       "    </tr>\n",
       "    <tr>\n",
       "      <th>13BETGLUSYN</th>\n",
       "      <td>0.527174</td>\n",
       "      <td>1.040834e-17</td>\n",
       "    </tr>\n",
       "    <tr>\n",
       "      <th>...</th>\n",
       "      <td>...</td>\n",
       "      <td>...</td>\n",
       "    </tr>\n",
       "    <tr>\n",
       "      <th>r_4710</th>\n",
       "      <td>0.000000</td>\n",
       "      <td>0.000000e+00</td>\n",
       "    </tr>\n",
       "    <tr>\n",
       "      <th>HA-TAL</th>\n",
       "      <td>0.000000</td>\n",
       "      <td>-1.326619e-01</td>\n",
       "    </tr>\n",
       "    <tr>\n",
       "      <th>AT-4CL1</th>\n",
       "      <td>0.000000</td>\n",
       "      <td>0.000000e+00</td>\n",
       "    </tr>\n",
       "    <tr>\n",
       "      <th>VVVST1</th>\n",
       "      <td>0.000000</td>\n",
       "      <td>-2.097909e-01</td>\n",
       "    </tr>\n",
       "    <tr>\n",
       "      <th>DM_trans_resv</th>\n",
       "      <td>0.000000</td>\n",
       "      <td>0.000000e+00</td>\n",
       "    </tr>\n",
       "  </tbody>\n",
       "</table>\n",
       "<p>4067 rows × 2 columns</p>\n",
       "</div>"
      ],
      "text/plain": [
       "<Solution 0.704 at 0x1e2ab2e9730>"
      ]
     },
     "execution_count": 3,
     "metadata": {},
     "output_type": "execute_result"
    }
   ],
   "source": [
    "model.optimize(\"VVVST1\")"
   ]
  },
  {
   "cell_type": "markdown",
   "id": "83ac8678",
   "metadata": {},
   "source": [
    "## Lets find in the main model the reactions that we will knock-out"
   ]
  },
  {
   "cell_type": "code",
   "execution_count": 4,
   "id": "15616c62",
   "metadata": {},
   "outputs": [
    {
     "data": {
      "text/html": [
       "\n",
       "        <table>\n",
       "            <tr>\n",
       "                <td><strong>Reaction identifier</strong></td><td>ANS</td>\n",
       "            </tr><tr>\n",
       "                <td><strong>Name</strong></td><td>anthranilate synthase</td>\n",
       "            </tr><tr>\n",
       "                <td><strong>Memory address</strong></td>\n",
       "                <td>0x1e2c3e67e20</td>\n",
       "            </tr><tr>\n",
       "                <td><strong>Stoichiometry</strong></td>\n",
       "                <td>\n",
       "                    <p style='text-align:right'>chor_c + gln__L_c --> anth_c + glu__L_c + h_c + pyr_c</p>\n",
       "                    <p style='text-align:right'>chorismate + L-glutamine --> anthranilate + L-glutamate + H+ + pyruvate</p>\n",
       "                </td>\n",
       "            </tr><tr>\n",
       "                <td><strong>GPR</strong></td><td>YER090W and YKL211C</td>\n",
       "            </tr><tr>\n",
       "                <td><strong>Lower bound</strong></td><td>0.0</td>\n",
       "            </tr><tr>\n",
       "                <td><strong>Upper bound</strong></td><td>1000.0</td>\n",
       "            </tr>\n",
       "        </table>\n",
       "        "
      ],
      "text/plain": [
       "<Reaction ANS at 0x1e2c3e67e20>"
      ]
     },
     "execution_count": 4,
     "metadata": {},
     "output_type": "execute_result"
    }
   ],
   "source": [
    "\n",
    "#-\tManual_ko_1: From chorismate to anthranilate (4.1.3.27) \n",
    "model.reactions.ANS"
   ]
  },
  {
   "cell_type": "code",
   "execution_count": 5,
   "id": "7994357f",
   "metadata": {},
   "outputs": [
    {
     "data": {
      "text/html": [
       "\n",
       "        <table>\n",
       "            <tr>\n",
       "                <td><strong>Reaction identifier</strong></td><td>PPNDH</td>\n",
       "            </tr><tr>\n",
       "                <td><strong>Name</strong></td><td>prephenate dehydratase</td>\n",
       "            </tr><tr>\n",
       "                <td><strong>Memory address</strong></td>\n",
       "                <td>0x1e2c4319640</td>\n",
       "            </tr><tr>\n",
       "                <td><strong>Stoichiometry</strong></td>\n",
       "                <td>\n",
       "                    <p style='text-align:right'>h_c + pphn_c --> co2_c + h2o_c + phpyr_c</p>\n",
       "                    <p style='text-align:right'>H+ + prephenate --> carbon dioxide + H2O + keto-phenylpyruvate</p>\n",
       "                </td>\n",
       "            </tr><tr>\n",
       "                <td><strong>GPR</strong></td><td>YNL316C</td>\n",
       "            </tr><tr>\n",
       "                <td><strong>Lower bound</strong></td><td>0.0</td>\n",
       "            </tr><tr>\n",
       "                <td><strong>Upper bound</strong></td><td>1000.0</td>\n",
       "            </tr>\n",
       "        </table>\n",
       "        "
      ],
      "text/plain": [
       "<Reaction PPNDH at 0x1e2c4319640>"
      ]
     },
     "execution_count": 5,
     "metadata": {},
     "output_type": "execute_result"
    }
   ],
   "source": [
    "# Manual_ko_2:  From prephenate to phenyl pyruvate (4. 2 . 1. 51) \n",
    "model.reactions.PPNDH"
   ]
  },
  {
   "cell_type": "code",
   "execution_count": 6,
   "id": "165e94c4",
   "metadata": {
    "scrolled": true
   },
   "outputs": [
    {
     "data": {
      "text/html": [
       "\n",
       "        <table>\n",
       "            <tr>\n",
       "                <td><strong>Reaction identifier</strong></td><td>ALCD2ir</td>\n",
       "            </tr><tr>\n",
       "                <td><strong>Name</strong></td><td>alcohol dehydrogenase, (acetaldehyde to ethanol)</td>\n",
       "            </tr><tr>\n",
       "                <td><strong>Memory address</strong></td>\n",
       "                <td>0x1e2c47a3c40</td>\n",
       "            </tr><tr>\n",
       "                <td><strong>Stoichiometry</strong></td>\n",
       "                <td>\n",
       "                    <p style='text-align:right'>acald_c + h_c + nadh_c --> etoh_c + nad_c</p>\n",
       "                    <p style='text-align:right'>acetaldehyde + H+ + NADH --> ethanol + NAD</p>\n",
       "                </td>\n",
       "            </tr><tr>\n",
       "                <td><strong>GPR</strong></td><td>YBR145W or YOL086C</td>\n",
       "            </tr><tr>\n",
       "                <td><strong>Lower bound</strong></td><td>0.0</td>\n",
       "            </tr><tr>\n",
       "                <td><strong>Upper bound</strong></td><td>1000.0</td>\n",
       "            </tr>\n",
       "        </table>\n",
       "        "
      ],
      "text/plain": [
       "<Reaction ALCD2ir at 0x1e2c47a3c40>"
      ]
     },
     "execution_count": 6,
     "metadata": {},
     "output_type": "execute_result"
    }
   ],
   "source": [
    "# Manual_ko_3: 1.1.1.1 acetaldehyde to ethanol Reaction ID \"id\":\":\" ALCD2ir\"\n",
    "model.reactions.ALCD2ir"
   ]
  },
  {
   "cell_type": "code",
   "execution_count": 7,
   "id": "043330fc",
   "metadata": {},
   "outputs": [
    {
     "data": {
      "text/html": [
       "\n",
       "        <table>\n",
       "            <tr>\n",
       "                <td><strong>Reaction identifier</strong></td><td>ALCD2x</td>\n",
       "            </tr><tr>\n",
       "                <td><strong>Name</strong></td><td>alcohol dehydrogenase (ethanol to acetaldehyde)</td>\n",
       "            </tr><tr>\n",
       "                <td><strong>Memory address</strong></td>\n",
       "                <td>0x1e2c3e0eb20</td>\n",
       "            </tr><tr>\n",
       "                <td><strong>Stoichiometry</strong></td>\n",
       "                <td>\n",
       "                    <p style='text-align:right'>etoh_c + nad_c --> acald_c + h_c + nadh_c</p>\n",
       "                    <p style='text-align:right'>ethanol + NAD --> acetaldehyde + H+ + NADH</p>\n",
       "                </td>\n",
       "            </tr><tr>\n",
       "                <td><strong>GPR</strong></td><td>YMR303C</td>\n",
       "            </tr><tr>\n",
       "                <td><strong>Lower bound</strong></td><td>0.0</td>\n",
       "            </tr><tr>\n",
       "                <td><strong>Upper bound</strong></td><td>1000.0</td>\n",
       "            </tr>\n",
       "        </table>\n",
       "        "
      ],
      "text/plain": [
       "<Reaction ALCD2x at 0x1e2c3e0eb20>"
      ]
     },
     "execution_count": 7,
     "metadata": {},
     "output_type": "execute_result"
    }
   ],
   "source": [
    "# Manual_ko_4: 1.1.1.2\tacetaldehyde to ethanol 2 Reaction ID \"id\":\"ALCD2x_copy2\"\n",
    "model.reactions.ALCD2x"
   ]
  },
  {
   "cell_type": "code",
   "execution_count": 8,
   "id": "e96ca316",
   "metadata": {},
   "outputs": [
    {
     "data": {
      "text/html": [
       "\n",
       "        <table>\n",
       "            <tr>\n",
       "                <td><strong>Reaction identifier</strong></td><td>FBP</td>\n",
       "            </tr><tr>\n",
       "                <td><strong>Name</strong></td><td>fructose-bisphosphatase</td>\n",
       "            </tr><tr>\n",
       "                <td><strong>Memory address</strong></td>\n",
       "                <td>0x1e2c3fef640</td>\n",
       "            </tr><tr>\n",
       "                <td><strong>Stoichiometry</strong></td>\n",
       "                <td>\n",
       "                    <p style='text-align:right'>fdp_c + h2o_c --> f6p_c + pi_c</p>\n",
       "                    <p style='text-align:right'>D-fructose 1,6-bisphosphate + H2O --> D-fructose 6-phosphate + phosphate</p>\n",
       "                </td>\n",
       "            </tr><tr>\n",
       "                <td><strong>GPR</strong></td><td>YLR377C</td>\n",
       "            </tr><tr>\n",
       "                <td><strong>Lower bound</strong></td><td>0.0</td>\n",
       "            </tr><tr>\n",
       "                <td><strong>Upper bound</strong></td><td>1000.0</td>\n",
       "            </tr>\n",
       "        </table>\n",
       "        "
      ],
      "text/plain": [
       "<Reaction FBP at 0x1e2c3fef640>"
      ]
     },
     "execution_count": 8,
     "metadata": {},
     "output_type": "execute_result"
    }
   ],
   "source": [
    "# Manual_ko_5:  Fructose 1,6-DP to fructose 6P (3.1.3.11) \"id\":\"FBP\"\n",
    "\n",
    "model.reactions.FBP"
   ]
  },
  {
   "cell_type": "markdown",
   "id": "41c80830",
   "metadata": {},
   "source": [
    "\n",
    "\n",
    "\n",
    "## First Model (Manual_ko_1)\n",
    "### From chorismate to anthranilate (Enzyme: 4.1.3.27) "
   ]
  },
  {
   "cell_type": "code",
   "execution_count": 9,
   "id": "9fe2b527",
   "metadata": {},
   "outputs": [],
   "source": [
    "# Read model (resveratrol from glucose, S. cervisae)\n",
    "model_Manual_ko_1 = read_sbml_model('../data/models/yeast8_resv_glc.xml')\n",
    "model_Manual_ko_1.reactions.GROWTH.lower_bound=0.04\n",
    "medium=model_Manual_ko_1.medium\n",
    "medium['EX_glc__D_e'] = 30\n",
    "medium['EX_o2_e'] = 4\n",
    "model_Manual_ko_1.medium = medium\n"
   ]
  },
  {
   "cell_type": "code",
   "execution_count": 10,
   "id": "cb870dad",
   "metadata": {},
   "outputs": [],
   "source": [
    "#Knock out changes the boundaries to zero\n",
    "model_Manual_ko_1.reactions.ANS.knock_out()"
   ]
  },
  {
   "cell_type": "code",
   "execution_count": 11,
   "id": "62e0c8f3",
   "metadata": {},
   "outputs": [
    {
     "data": {
      "text/html": [
       "\n",
       "        <table>\n",
       "            <tr>\n",
       "                <td><strong>Reaction identifier</strong></td><td>ANS</td>\n",
       "            </tr><tr>\n",
       "                <td><strong>Name</strong></td><td>anthranilate synthase</td>\n",
       "            </tr><tr>\n",
       "                <td><strong>Memory address</strong></td>\n",
       "                <td>0x1e2c6edebe0</td>\n",
       "            </tr><tr>\n",
       "                <td><strong>Stoichiometry</strong></td>\n",
       "                <td>\n",
       "                    <p style='text-align:right'>chor_c + gln__L_c --> anth_c + glu__L_c + h_c + pyr_c</p>\n",
       "                    <p style='text-align:right'>chorismate + L-glutamine --> anthranilate + L-glutamate + H+ + pyruvate</p>\n",
       "                </td>\n",
       "            </tr><tr>\n",
       "                <td><strong>GPR</strong></td><td>YER090W and YKL211C</td>\n",
       "            </tr><tr>\n",
       "                <td><strong>Lower bound</strong></td><td>0</td>\n",
       "            </tr><tr>\n",
       "                <td><strong>Upper bound</strong></td><td>0</td>\n",
       "            </tr>\n",
       "        </table>\n",
       "        "
      ],
      "text/plain": [
       "<Reaction ANS at 0x1e2c6edebe0>"
      ]
     },
     "execution_count": 11,
     "metadata": {},
     "output_type": "execute_result"
    }
   ],
   "source": [
    "model_Manual_ko_1.reactions.ANS"
   ]
  },
  {
   "cell_type": "code",
   "execution_count": 12,
   "id": "32c0966a",
   "metadata": {},
   "outputs": [
    {
     "data": {
      "text/html": [
       "\n",
       "        <table>\n",
       "            <tr>\n",
       "                <td><strong>Reaction identifier</strong></td><td>VVVST1</td>\n",
       "            </tr><tr>\n",
       "                <td><strong>Name</strong></td><td></td>\n",
       "            </tr><tr>\n",
       "                <td><strong>Memory address</strong></td>\n",
       "                <td>0x1e2c58bba90</td>\n",
       "            </tr><tr>\n",
       "                <td><strong>Stoichiometry</strong></td>\n",
       "                <td>\n",
       "                    <p style='text-align:right'>e4_coumaroyl_coa + 3.0 h_c + 3.0 malcoa_c --> 4.0 co2_c + 4.0 coa_c + trans_resv</p>\n",
       "                    <p style='text-align:right'>+ 3.0 H+ + 3.0 malonyl-CoA --> 4.0 carbon dioxide + 4.0 coenzyme A +</p>\n",
       "                </td>\n",
       "            </tr><tr>\n",
       "                <td><strong>GPR</strong></td><td></td>\n",
       "            </tr><tr>\n",
       "                <td><strong>Lower bound</strong></td><td>0.0</td>\n",
       "            </tr><tr>\n",
       "                <td><strong>Upper bound</strong></td><td>1000.0</td>\n",
       "            </tr>\n",
       "        </table>\n",
       "        "
      ],
      "text/plain": [
       "<Reaction VVVST1 at 0x1e2c58bba90>"
      ]
     },
     "execution_count": 12,
     "metadata": {},
     "output_type": "execute_result"
    }
   ],
   "source": [
    "# Yield and productivity from section 3\n",
    "model.reactions.get_by_id('VVVST1')"
   ]
  },
  {
   "cell_type": "code",
   "execution_count": 13,
   "id": "cce4e1cf",
   "metadata": {},
   "outputs": [
    {
     "name": "stdout",
     "output_type": "stream",
     "text": [
      "Maximum resveratrol productivity =  0.0 mmol/gDW*h\n",
      "Maximum theoretical yield is =  0.0 mmol/gDW*h\n"
     ]
    },
    {
     "name": "stderr",
     "output_type": "stream",
     "text": [
      "C:\\Users\\ivaro\\anaconda3\\lib\\site-packages\\cobra\\util\\solver.py:554: UserWarning: Solver status is 'infeasible'.\n",
      "  warn(f\"Solver status is '{status}'.\", UserWarning)\n",
      "C:\\Users\\ivaro\\anaconda3\\lib\\site-packages\\cobra\\util\\solver.py:554: UserWarning: Solver status is 'infeasible'.\n",
      "  warn(f\"Solver status is '{status}'.\", UserWarning)\n"
     ]
    }
   ],
   "source": [
    "with model_Manual_ko_1:\n",
    "    model_Manual_ko_1.reactions.ANS.knock_out()\n",
    "    model_Manual_ko_1.objective = model_Manual_ko_1.reactions.VVVST1\n",
    "    \n",
    "    resveratrol_max_production = model_Manual_ko_1.optimize().objective_value\n",
    "    print(\"Maximum resveratrol productivity = \",resveratrol_max_production , \"mmol/gDW*h\")\n",
    "\n",
    "    glucose_uptake_flux = model_Manual_ko_1.reactions.EX_glc__D_e.flux #Glucose exchange reaction\n",
    "    max_yield = resveratrol_max_production / (-1*glucose_uptake_flux)\n",
    "    print(\"Maximum theoretical yield is = \", max_yield, \"mmol/gDW*h\")\n",
    "    \n",
    "    # Calculation in C-mol (TBD)\n",
    "#resv_max_prod_cmol = (resveratrol_max_production)/(resveatrol)\n",
    "#resv_max_yield_cmol = (max_yield*resveatrol)/(glucose)\n",
    "#print('Maximum productivity of lycopene =', resv_max_prod_cmol, 'cmol-resv/gDW*h')\n",
    "#print('Maximum theoretical yield =', resv_max_yield_cmol, 'cmol-resv/cmol-glucose')\n"
   ]
  },
  {
   "cell_type": "markdown",
   "id": "25e06bf3",
   "metadata": {},
   "source": [
    "\n",
    "\n",
    "\n",
    "## Second Model (Manual_ko_2)\n",
    "### From prephenate to phenyl pyruvate (Enzyme 4. 2 . 1. 51) "
   ]
  },
  {
   "cell_type": "code",
   "execution_count": 14,
   "id": "3b7a54d3",
   "metadata": {},
   "outputs": [],
   "source": [
    "# Read model (resveratrol from glucose, S. cervisae)\n",
    "model_Manual_ko_2 = read_sbml_model('../data/models/yeast8_resv_glc.xml')\n",
    "model_Manual_ko_2.reactions.GROWTH.lower_bound=0.04\n",
    "medium=model_Manual_ko_2.medium\n",
    "medium['EX_glc__D_e'] = 30\n",
    "medium['EX_o2_e'] = 4\n",
    "model_Manual_ko_2.medium = medium"
   ]
  },
  {
   "cell_type": "code",
   "execution_count": 15,
   "id": "494a7c40",
   "metadata": {},
   "outputs": [
    {
     "data": {
      "text/html": [
       "\n",
       "        <table>\n",
       "            <tr>\n",
       "                <td><strong>Reaction identifier</strong></td><td>PPNDH</td>\n",
       "            </tr><tr>\n",
       "                <td><strong>Name</strong></td><td>prephenate dehydratase</td>\n",
       "            </tr><tr>\n",
       "                <td><strong>Memory address</strong></td>\n",
       "                <td>0x1e2c9deeeb0</td>\n",
       "            </tr><tr>\n",
       "                <td><strong>Stoichiometry</strong></td>\n",
       "                <td>\n",
       "                    <p style='text-align:right'>h_c + pphn_c --> co2_c + h2o_c + phpyr_c</p>\n",
       "                    <p style='text-align:right'>H+ + prephenate --> carbon dioxide + H2O + keto-phenylpyruvate</p>\n",
       "                </td>\n",
       "            </tr><tr>\n",
       "                <td><strong>GPR</strong></td><td>YNL316C</td>\n",
       "            </tr><tr>\n",
       "                <td><strong>Lower bound</strong></td><td>0</td>\n",
       "            </tr><tr>\n",
       "                <td><strong>Upper bound</strong></td><td>0</td>\n",
       "            </tr>\n",
       "        </table>\n",
       "        "
      ],
      "text/plain": [
       "<Reaction PPNDH at 0x1e2c9deeeb0>"
      ]
     },
     "execution_count": 15,
     "metadata": {},
     "output_type": "execute_result"
    }
   ],
   "source": [
    "#Knock out changes the boundaries to zero\n",
    "model_Manual_ko_2.reactions.PPNDH.knock_out()\n",
    "model_Manual_ko_2.reactions.PPNDH"
   ]
  },
  {
   "cell_type": "code",
   "execution_count": 16,
   "id": "532a07d5",
   "metadata": {},
   "outputs": [
    {
     "name": "stdout",
     "output_type": "stream",
     "text": [
      "Maximum resveratrol productivity =  1.799119497708899e-17 mmol/gDW*h\n",
      "Maximum theoretical yield is =  1.1648013662309603e-16 mmol/gDW*h\n"
     ]
    },
    {
     "name": "stderr",
     "output_type": "stream",
     "text": [
      "C:\\Users\\ivaro\\anaconda3\\lib\\site-packages\\cobra\\util\\solver.py:554: UserWarning: Solver status is 'infeasible'.\n",
      "  warn(f\"Solver status is '{status}'.\", UserWarning)\n",
      "C:\\Users\\ivaro\\anaconda3\\lib\\site-packages\\cobra\\util\\solver.py:554: UserWarning: Solver status is 'infeasible'.\n",
      "  warn(f\"Solver status is '{status}'.\", UserWarning)\n"
     ]
    },
    {
     "data": {
      "text/html": [
       "\n",
       "        <table>\n",
       "            <tr>\n",
       "                <td><strong>Reaction identifier</strong></td><td>PPNDH</td>\n",
       "            </tr><tr>\n",
       "                <td><strong>Name</strong></td><td>prephenate dehydratase</td>\n",
       "            </tr><tr>\n",
       "                <td><strong>Memory address</strong></td>\n",
       "                <td>0x1e2c9deeeb0</td>\n",
       "            </tr><tr>\n",
       "                <td><strong>Stoichiometry</strong></td>\n",
       "                <td>\n",
       "                    <p style='text-align:right'>h_c + pphn_c --> co2_c + h2o_c + phpyr_c</p>\n",
       "                    <p style='text-align:right'>H+ + prephenate --> carbon dioxide + H2O + keto-phenylpyruvate</p>\n",
       "                </td>\n",
       "            </tr><tr>\n",
       "                <td><strong>GPR</strong></td><td>YNL316C</td>\n",
       "            </tr><tr>\n",
       "                <td><strong>Lower bound</strong></td><td>0</td>\n",
       "            </tr><tr>\n",
       "                <td><strong>Upper bound</strong></td><td>0</td>\n",
       "            </tr>\n",
       "        </table>\n",
       "        "
      ],
      "text/plain": [
       "<Reaction PPNDH at 0x1e2c9deeeb0>"
      ]
     },
     "execution_count": 16,
     "metadata": {},
     "output_type": "execute_result"
    }
   ],
   "source": [
    "with model_Manual_ko_2:\n",
    "    model_Manual_ko_2.objective = model_Manual_ko_2.reactions.VVVST1\n",
    "    model_Manual_ko_2.reactions.PPNDH.knock_out()\n",
    "    \n",
    "    #also knocking out glucose exchange reaction just to see if there is effect\n",
    "    #model_Manual_ko_2.reactions.GLCt1.knock_out()\n",
    "    resveratrol_max_production = model_Manual_ko_2.optimize().objective_value\n",
    "    print(\"Maximum resveratrol productivity = \",resveratrol_max_production , \"mmol/gDW*h\")\n",
    "\n",
    "    glucose_uptake_flux = model_Manual_ko_2.reactions.EX_glc__D_e.flux #Glucose exchange reaction\n",
    "    max_yield = resveratrol_max_production / (-1*glucose_uptake_flux)\n",
    "    print(\"Maximum theoretical yield is = \", max_yield, \"mmol/gDW*h\")\n",
    "model_Manual_ko_2.reactions.PPNDH"
   ]
  },
  {
   "cell_type": "markdown",
   "id": "f9e5f3ee",
   "metadata": {},
   "source": [
    "## Third Model (Manual_ko_3)¶\n",
    "### (Enz. 1.1.1.1) acetaldehyde to ethanol Reaction ID \"id\":\":\" ALCD2ir\""
   ]
  },
  {
   "cell_type": "code",
   "execution_count": 17,
   "id": "a776a735",
   "metadata": {},
   "outputs": [],
   "source": [
    "# Read model (resveratrol from glucose, S. cervisae)\n",
    "model_Manual_ko_3 = read_sbml_model('../data/models/yeast8_resv_glc.xml')\n",
    "model_Manual_ko_3.reactions.GROWTH.lower_bound=0.04\n",
    "medium=model_Manual_ko_3.medium\n",
    "medium['EX_glc__D_e'] = 30\n",
    "medium['EX_o2_e'] = 4\n",
    "model_Manual_ko_3.medium = medium"
   ]
  },
  {
   "cell_type": "code",
   "execution_count": 18,
   "id": "2daa1722",
   "metadata": {},
   "outputs": [
    {
     "name": "stdout",
     "output_type": "stream",
     "text": [
      "Maximum resveratrol productivity =  3.3174079489656467 mmol/gDW*h\n",
      "Maximum theoretical yield is =  0.11058026496552156 mmol/gDW*h\n"
     ]
    },
    {
     "data": {
      "text/html": [
       "\n",
       "        <table>\n",
       "            <tr>\n",
       "                <td><strong>Reaction identifier</strong></td><td>ALCD2ir</td>\n",
       "            </tr><tr>\n",
       "                <td><strong>Name</strong></td><td>alcohol dehydrogenase, (acetaldehyde to ethanol)</td>\n",
       "            </tr><tr>\n",
       "                <td><strong>Memory address</strong></td>\n",
       "                <td>0x1e2cbcbffd0</td>\n",
       "            </tr><tr>\n",
       "                <td><strong>Stoichiometry</strong></td>\n",
       "                <td>\n",
       "                    <p style='text-align:right'>acald_c + h_c + nadh_c --> etoh_c + nad_c</p>\n",
       "                    <p style='text-align:right'>acetaldehyde + H+ + NADH --> ethanol + NAD</p>\n",
       "                </td>\n",
       "            </tr><tr>\n",
       "                <td><strong>GPR</strong></td><td>YBR145W or YOL086C</td>\n",
       "            </tr><tr>\n",
       "                <td><strong>Lower bound</strong></td><td>0.0</td>\n",
       "            </tr><tr>\n",
       "                <td><strong>Upper bound</strong></td><td>1000.0</td>\n",
       "            </tr>\n",
       "        </table>\n",
       "        "
      ],
      "text/plain": [
       "<Reaction ALCD2ir at 0x1e2cbcbffd0>"
      ]
     },
     "execution_count": 18,
     "metadata": {},
     "output_type": "execute_result"
    }
   ],
   "source": [
    "with model_Manual_ko_3:\n",
    "    model_Manual_ko_3.objective = model_Manual_ko_3.reactions.VVVST1\n",
    "    model_Manual_ko_3.reactions.ALCD2ir.knock_out()\n",
    "    \n",
    "    #also knocking out glucose exchange reaction just to see if there is effect\n",
    "    #model_Manual_ko_2.reactions.GLCt1.knock_out()\n",
    "    resveratrol_max_production = model_Manual_ko_3.optimize().objective_value\n",
    "    print(\"Maximum resveratrol productivity = \",resveratrol_max_production , \"mmol/gDW*h\")\n",
    "\n",
    "    glucose_uptake_flux = model_Manual_ko_3.reactions.EX_glc__D_e.flux #Glucose exchange reaction\n",
    "    max_yield = resveratrol_max_production / (-1*glucose_uptake_flux)\n",
    "    print(\"Maximum theoretical yield is = \", max_yield, \"mmol/gDW*h\")\n",
    "model_Manual_ko_3.reactions.ALCD2ir"
   ]
  },
  {
   "cell_type": "markdown",
   "id": "c4fe78a9",
   "metadata": {},
   "source": [
    "## Fourth Model (Manual_ko_4)¶\n",
    "### (Enz. 1.1.1.2) acetaldehyde to ethanol Reaction ID \"id\":\":\" ALCD2ir\"\n"
   ]
  },
  {
   "cell_type": "code",
   "execution_count": 19,
   "id": "099d6f84",
   "metadata": {},
   "outputs": [],
   "source": [
    "# Read model (resveratrol from glucose, S. cervisae)\n",
    "model_Manual_ko_4 = read_sbml_model('../data/models/yeast8_resv_glc.xml')\n",
    "model_Manual_ko_4.reactions.GROWTH.lower_bound=0.04\n",
    "medium=model_Manual_ko_4.medium\n",
    "medium['EX_glc__D_e'] = 30\n",
    "medium['EX_o2_e'] = 4\n",
    "model_Manual_ko_4.medium = medium\n",
    "\n",
    "model_Manual_ko_4.reactions.ALCD2x.knock_out()\n",
    "model_Manual_ko_4.reactions.ALCD2ir.knock_out()"
   ]
  },
  {
   "cell_type": "code",
   "execution_count": 20,
   "id": "f37ebaf5",
   "metadata": {},
   "outputs": [
    {
     "name": "stdout",
     "output_type": "stream",
     "text": [
      "Maximum resveratrol productivity =  3.317407863831894 mmol/gDW*h\n",
      "Maximum theoretical yield is =  0.1105802621277298 mmol/gDW*h\n"
     ]
    },
    {
     "data": {
      "text/html": [
       "\n",
       "        <table>\n",
       "            <tr>\n",
       "                <td><strong>Reaction identifier</strong></td><td>ALCD2ir</td>\n",
       "            </tr><tr>\n",
       "                <td><strong>Name</strong></td><td>alcohol dehydrogenase, (acetaldehyde to ethanol)</td>\n",
       "            </tr><tr>\n",
       "                <td><strong>Memory address</strong></td>\n",
       "                <td>0x1e2ce853c70</td>\n",
       "            </tr><tr>\n",
       "                <td><strong>Stoichiometry</strong></td>\n",
       "                <td>\n",
       "                    <p style='text-align:right'>acald_c + h_c + nadh_c --> etoh_c + nad_c</p>\n",
       "                    <p style='text-align:right'>acetaldehyde + H+ + NADH --> ethanol + NAD</p>\n",
       "                </td>\n",
       "            </tr><tr>\n",
       "                <td><strong>GPR</strong></td><td>YBR145W or YOL086C</td>\n",
       "            </tr><tr>\n",
       "                <td><strong>Lower bound</strong></td><td>0</td>\n",
       "            </tr><tr>\n",
       "                <td><strong>Upper bound</strong></td><td>0</td>\n",
       "            </tr>\n",
       "        </table>\n",
       "        "
      ],
      "text/plain": [
       "<Reaction ALCD2ir at 0x1e2ce853c70>"
      ]
     },
     "execution_count": 20,
     "metadata": {},
     "output_type": "execute_result"
    }
   ],
   "source": [
    "with model_Manual_ko_4:\n",
    "    model_Manual_ko_4.objective = model_Manual_ko_4.reactions.VVVST1\n",
    "    model_Manual_ko_4.reactions.ALCD2ir.knock_out()\n",
    "    #model_Manual_ko_4.reactions.ALCD2ir.knock_out()\n",
    "    \n",
    "    resveratrol_max_production = model_Manual_ko_4.optimize().objective_value\n",
    "    print(\"Maximum resveratrol productivity = \",resveratrol_max_production , \"mmol/gDW*h\")\n",
    "\n",
    "    glucose_uptake_flux = model_Manual_ko_4.reactions.EX_glc__D_e.flux #Glucose exchange reaction\n",
    "    max_yield = resveratrol_max_production / (-1*glucose_uptake_flux)\n",
    "    print(\"Maximum theoretical yield is = \", max_yield, \"mmol/gDW*h\")\n",
    "model_Manual_ko_4.reactions.ALCD2ir"
   ]
  },
  {
   "cell_type": "markdown",
   "id": "57559814",
   "metadata": {},
   "source": [
    "## Fifth Model (Manual_ko_5)¶\n",
    "### Fructose 1,6-DP to fructose 6P (3.1.3.11) \"id\":\"FBP\""
   ]
  },
  {
   "cell_type": "code",
   "execution_count": 21,
   "id": "4b48d129",
   "metadata": {},
   "outputs": [],
   "source": [
    "model_Manual_ko_5 = read_sbml_model('../data/models/yeast8_resv_glc.xml')\n",
    "model_Manual_ko_5.reactions.GROWTH.lower_bound=0.04\n",
    "medium=model_Manual_ko_5.medium\n",
    "medium['EX_glc__D_e'] = 30\n",
    "medium['EX_o2_e'] = 4\n",
    "model_Manual_ko_5.medium = medium\n",
    "\n",
    "model_Manual_ko_5.reactions.FBP.knock_out()\n"
   ]
  },
  {
   "cell_type": "code",
   "execution_count": 22,
   "id": "43ebef90",
   "metadata": {},
   "outputs": [
    {
     "name": "stdout",
     "output_type": "stream",
     "text": [
      "Maximum resveratrol productivity =  3.317407948965657 mmol/gDW*h\n",
      "Maximum theoretical yield is =  0.1105802649655219 mmol/gDW*h\n"
     ]
    },
    {
     "data": {
      "text/html": [
       "\n",
       "        <table>\n",
       "            <tr>\n",
       "                <td><strong>Reaction identifier</strong></td><td>FBP</td>\n",
       "            </tr><tr>\n",
       "                <td><strong>Name</strong></td><td>fructose-bisphosphatase</td>\n",
       "            </tr><tr>\n",
       "                <td><strong>Memory address</strong></td>\n",
       "                <td>0x1e2d0f67d30</td>\n",
       "            </tr><tr>\n",
       "                <td><strong>Stoichiometry</strong></td>\n",
       "                <td>\n",
       "                    <p style='text-align:right'>fdp_c + h2o_c --> f6p_c + pi_c</p>\n",
       "                    <p style='text-align:right'>D-fructose 1,6-bisphosphate + H2O --> D-fructose 6-phosphate + phosphate</p>\n",
       "                </td>\n",
       "            </tr><tr>\n",
       "                <td><strong>GPR</strong></td><td>YLR377C</td>\n",
       "            </tr><tr>\n",
       "                <td><strong>Lower bound</strong></td><td>0</td>\n",
       "            </tr><tr>\n",
       "                <td><strong>Upper bound</strong></td><td>0</td>\n",
       "            </tr>\n",
       "        </table>\n",
       "        "
      ],
      "text/plain": [
       "<Reaction FBP at 0x1e2d0f67d30>"
      ]
     },
     "execution_count": 22,
     "metadata": {},
     "output_type": "execute_result"
    }
   ],
   "source": [
    "with model_Manual_ko_5:\n",
    "    model_Manual_ko_5.objective = model_Manual_ko_5.reactions.VVVST1\n",
    "    model_Manual_ko_5.reactions.FBP.knock_out()\n",
    "    #model_Manual_ko_4.reactions.ALCD2ir.knock_out()\n",
    "    \n",
    "    resveratrol_max_production = model_Manual_ko_5.optimize().objective_value\n",
    "    print(\"Maximum resveratrol productivity = \",resveratrol_max_production , \"mmol/gDW*h\")\n",
    "\n",
    "    glucose_uptake_flux = model_Manual_ko_5.reactions.EX_glc__D_e.flux #Glucose exchange reaction\n",
    "    max_yield = resveratrol_max_production / (-1*glucose_uptake_flux)\n",
    "    print(\"Maximum theoretical yield is = \", max_yield, \"mmol/gDW*h\")\n",
    "model_Manual_ko_5.reactions.FBP"
   ]
  },
  {
   "cell_type": "markdown",
   "id": "b2832b01",
   "metadata": {},
   "source": [
    "## Single Deletions (https://cobrapy.readthedocs.io/en/latest/deletions.html)\n",
    "### By general analysis of de flux using cobrapy"
   ]
  },
  {
   "cell_type": "code",
   "execution_count": 10,
   "id": "22cb17bb",
   "metadata": {},
   "outputs": [],
   "source": [
    "from cobra.flux_analysis import (\n",
    "    single_gene_deletion, single_reaction_deletion, double_gene_deletion,\n",
    "    double_reaction_deletion)\n",
    "model_single_deletions = read_sbml_model('../data/models/yeast8_resv_glc.xml')\n",
    "model_single_deletions.reactions.GROWTH.bounds=0.04, 1000\n",
    "\n",
    "medium=model_single_deletions.medium\n",
    "medium['EX_glc__D_e'] = 30\n",
    "medium['EX_o2_e'] = 4\n",
    "model_single_deletions.medium = medium\n",
    "model_single_deletions.objective  = model_single_deletions.reactions.VVVST1"
   ]
  },
  {
   "cell_type": "code",
   "execution_count": 5,
   "id": "70732aa2",
   "metadata": {},
   "outputs": [
    {
     "data": {
      "text/html": [
       "\n",
       "        <table>\n",
       "            <tr>\n",
       "                <td><strong>Name</strong></td>\n",
       "                <td>yeastGEM_v8__46__6__46__2</td>\n",
       "            </tr><tr>\n",
       "                <td><strong>Memory address</strong></td>\n",
       "                <td>0x0163ae1e1610</td>\n",
       "            </tr><tr>\n",
       "                <td><strong>Number of metabolites</strong></td>\n",
       "                <td>2747</td>\n",
       "            </tr><tr>\n",
       "                <td><strong>Number of reactions</strong></td>\n",
       "                <td>4067</td>\n",
       "            </tr><tr>\n",
       "                <td><strong>Number of groups</strong></td>\n",
       "                <td>106</td>\n",
       "            </tr><tr>\n",
       "                <td><strong>Objective expression</strong></td>\n",
       "                <td>1.0*GROWTH - 1.0*GROWTH_reverse_c845e</td>\n",
       "            </tr><tr>\n",
       "                <td><strong>Compartments</strong></td>\n",
       "                <td>cell envelope, cytoplasm, extracellular, mitochondrion, nucleus, peroxisome, endoplasmic reticulum, Golgi, lipid particle, vacuole, endoplasmic reticulum membrane, vacuolar membrane, Golgi membrane, mitochondrial membrane</td>\n",
       "            </tr>\n",
       "          </table>"
      ],
      "text/plain": [
       "<Model yeastGEM_v8__46__6__46__2 at 0x163ae1e1610>"
      ]
     },
     "execution_count": 5,
     "metadata": {},
     "output_type": "execute_result"
    }
   ],
   "source": [
    "model_single_deletions"
   ]
  },
  {
   "cell_type": "code",
   "execution_count": 25,
   "id": "114b8971",
   "metadata": {},
   "outputs": [
    {
     "data": {
      "text/html": [
       "<div>\n",
       "<style scoped>\n",
       "    .dataframe tbody tr th:only-of-type {\n",
       "        vertical-align: middle;\n",
       "    }\n",
       "\n",
       "    .dataframe tbody tr th {\n",
       "        vertical-align: top;\n",
       "    }\n",
       "\n",
       "    .dataframe thead th {\n",
       "        text-align: right;\n",
       "    }\n",
       "</style>\n",
       "<table border=\"1\" class=\"dataframe\">\n",
       "  <thead>\n",
       "    <tr style=\"text-align: right;\">\n",
       "      <th></th>\n",
       "      <th>ids</th>\n",
       "      <th>growth</th>\n",
       "      <th>status</th>\n",
       "    </tr>\n",
       "  </thead>\n",
       "  <tbody>\n",
       "    <tr>\n",
       "      <th>0</th>\n",
       "      <td>{PDE4}</td>\n",
       "      <td>3.317408</td>\n",
       "      <td>optimal</td>\n",
       "    </tr>\n",
       "    <tr>\n",
       "      <th>1</th>\n",
       "      <td>{DRPPPNRED25645}</td>\n",
       "      <td>NaN</td>\n",
       "      <td>infeasible</td>\n",
       "    </tr>\n",
       "    <tr>\n",
       "      <th>2</th>\n",
       "      <td>{PRMICI}</td>\n",
       "      <td>NaN</td>\n",
       "      <td>infeasible</td>\n",
       "    </tr>\n",
       "    <tr>\n",
       "      <th>3</th>\n",
       "      <td>{MCITSm}</td>\n",
       "      <td>3.317408</td>\n",
       "      <td>optimal</td>\n",
       "    </tr>\n",
       "    <tr>\n",
       "      <th>4</th>\n",
       "      <td>{BPNT}</td>\n",
       "      <td>3.240766</td>\n",
       "      <td>optimal</td>\n",
       "    </tr>\n",
       "    <tr>\n",
       "      <th>5</th>\n",
       "      <td>{IPMD}</td>\n",
       "      <td>NaN</td>\n",
       "      <td>infeasible</td>\n",
       "    </tr>\n",
       "    <tr>\n",
       "      <th>6</th>\n",
       "      <td>{HACD6p}</td>\n",
       "      <td>3.317408</td>\n",
       "      <td>optimal</td>\n",
       "    </tr>\n",
       "    <tr>\n",
       "      <th>7</th>\n",
       "      <td>{PDE3}</td>\n",
       "      <td>3.317408</td>\n",
       "      <td>optimal</td>\n",
       "    </tr>\n",
       "    <tr>\n",
       "      <th>8</th>\n",
       "      <td>{PDE1}</td>\n",
       "      <td>3.317408</td>\n",
       "      <td>optimal</td>\n",
       "    </tr>\n",
       "    <tr>\n",
       "      <th>9</th>\n",
       "      <td>{BTDD_RR}</td>\n",
       "      <td>3.317408</td>\n",
       "      <td>optimal</td>\n",
       "    </tr>\n",
       "    <tr>\n",
       "      <th>10</th>\n",
       "      <td>{P5CDm}</td>\n",
       "      <td>3.317408</td>\n",
       "      <td>optimal</td>\n",
       "    </tr>\n",
       "    <tr>\n",
       "      <th>11</th>\n",
       "      <td>{3MOPDC}</td>\n",
       "      <td>3.317408</td>\n",
       "      <td>optimal</td>\n",
       "    </tr>\n",
       "    <tr>\n",
       "      <th>12</th>\n",
       "      <td>{PSCVT}</td>\n",
       "      <td>NaN</td>\n",
       "      <td>infeasible</td>\n",
       "    </tr>\n",
       "    <tr>\n",
       "      <th>13</th>\n",
       "      <td>{PDE2}</td>\n",
       "      <td>3.317408</td>\n",
       "      <td>optimal</td>\n",
       "    </tr>\n",
       "    <tr>\n",
       "      <th>14</th>\n",
       "      <td>{2METDEH}</td>\n",
       "      <td>NaN</td>\n",
       "      <td>infeasible</td>\n",
       "    </tr>\n",
       "    <tr>\n",
       "      <th>15</th>\n",
       "      <td>{PDE5}</td>\n",
       "      <td>3.317408</td>\n",
       "      <td>optimal</td>\n",
       "    </tr>\n",
       "    <tr>\n",
       "      <th>16</th>\n",
       "      <td>{3ISO3MET}</td>\n",
       "      <td>3.317408</td>\n",
       "      <td>optimal</td>\n",
       "    </tr>\n",
       "    <tr>\n",
       "      <th>17</th>\n",
       "      <td>{16BETGLUSYN}</td>\n",
       "      <td>NaN</td>\n",
       "      <td>infeasible</td>\n",
       "    </tr>\n",
       "    <tr>\n",
       "      <th>18</th>\n",
       "      <td>{DRTPPD}</td>\n",
       "      <td>NaN</td>\n",
       "      <td>infeasible</td>\n",
       "    </tr>\n",
       "    <tr>\n",
       "      <th>19</th>\n",
       "      <td>{D_LACDcm}</td>\n",
       "      <td>3.317408</td>\n",
       "      <td>optimal</td>\n",
       "    </tr>\n",
       "    <tr>\n",
       "      <th>20</th>\n",
       "      <td>{DHQTi}</td>\n",
       "      <td>NaN</td>\n",
       "      <td>infeasible</td>\n",
       "    </tr>\n",
       "    <tr>\n",
       "      <th>21</th>\n",
       "      <td>{IPPMIa}</td>\n",
       "      <td>NaN</td>\n",
       "      <td>infeasible</td>\n",
       "    </tr>\n",
       "    <tr>\n",
       "      <th>22</th>\n",
       "      <td>{AHHM246}</td>\n",
       "      <td>3.317408</td>\n",
       "      <td>optimal</td>\n",
       "    </tr>\n",
       "    <tr>\n",
       "      <th>23</th>\n",
       "      <td>{3HPH5MBDCm}</td>\n",
       "      <td>3.317408</td>\n",
       "      <td>optimal</td>\n",
       "    </tr>\n",
       "    <tr>\n",
       "      <th>24</th>\n",
       "      <td>{L_LACD2cm}</td>\n",
       "      <td>3.317408</td>\n",
       "      <td>optimal</td>\n",
       "    </tr>\n",
       "    <tr>\n",
       "      <th>25</th>\n",
       "      <td>{3DSPHRr}</td>\n",
       "      <td>3.317408</td>\n",
       "      <td>optimal</td>\n",
       "    </tr>\n",
       "    <tr>\n",
       "      <th>26</th>\n",
       "      <td>{OMCDCm}</td>\n",
       "      <td>3.317408</td>\n",
       "      <td>optimal</td>\n",
       "    </tr>\n",
       "    <tr>\n",
       "      <th>27</th>\n",
       "      <td>{IPPSm}</td>\n",
       "      <td>3.317161</td>\n",
       "      <td>optimal</td>\n",
       "    </tr>\n",
       "    <tr>\n",
       "      <th>28</th>\n",
       "      <td>{3MOBDC}</td>\n",
       "      <td>3.317408</td>\n",
       "      <td>optimal</td>\n",
       "    </tr>\n",
       "    <tr>\n",
       "      <th>29</th>\n",
       "      <td>{DDPAm}</td>\n",
       "      <td>3.276516</td>\n",
       "      <td>optimal</td>\n",
       "    </tr>\n",
       "    <tr>\n",
       "      <th>30</th>\n",
       "      <td>{ARAT}</td>\n",
       "      <td>3.317407</td>\n",
       "      <td>optimal</td>\n",
       "    </tr>\n",
       "    <tr>\n",
       "      <th>31</th>\n",
       "      <td>{13BETGLUSYN}</td>\n",
       "      <td>NaN</td>\n",
       "      <td>infeasible</td>\n",
       "    </tr>\n",
       "    <tr>\n",
       "      <th>32</th>\n",
       "      <td>{AATA}</td>\n",
       "      <td>NaN</td>\n",
       "      <td>infeasible</td>\n",
       "    </tr>\n",
       "    <tr>\n",
       "      <th>33</th>\n",
       "      <td>{ADCS}</td>\n",
       "      <td>NaN</td>\n",
       "      <td>infeasible</td>\n",
       "    </tr>\n",
       "    <tr>\n",
       "      <th>34</th>\n",
       "      <td>{DHQS}</td>\n",
       "      <td>NaN</td>\n",
       "      <td>infeasible</td>\n",
       "    </tr>\n",
       "    <tr>\n",
       "      <th>35</th>\n",
       "      <td>{DPR}</td>\n",
       "      <td>NaN</td>\n",
       "      <td>infeasible</td>\n",
       "    </tr>\n",
       "    <tr>\n",
       "      <th>36</th>\n",
       "      <td>{IPPS}</td>\n",
       "      <td>3.317408</td>\n",
       "      <td>optimal</td>\n",
       "    </tr>\n",
       "    <tr>\n",
       "      <th>37</th>\n",
       "      <td>{HKYNH}</td>\n",
       "      <td>NaN</td>\n",
       "      <td>infeasible</td>\n",
       "    </tr>\n",
       "    <tr>\n",
       "      <th>38</th>\n",
       "      <td>{2HP6MPMOm}</td>\n",
       "      <td>3.317408</td>\n",
       "      <td>optimal</td>\n",
       "    </tr>\n",
       "    <tr>\n",
       "      <th>39</th>\n",
       "      <td>{ACHBSm}</td>\n",
       "      <td>NaN</td>\n",
       "      <td>infeasible</td>\n",
       "    </tr>\n",
       "    <tr>\n",
       "      <th>40</th>\n",
       "      <td>{MTMOHT}</td>\n",
       "      <td>NaN</td>\n",
       "      <td>infeasible</td>\n",
       "    </tr>\n",
       "    <tr>\n",
       "      <th>41</th>\n",
       "      <td>{OMCDC}</td>\n",
       "      <td>NaN</td>\n",
       "      <td>infeasible</td>\n",
       "    </tr>\n",
       "    <tr>\n",
       "      <th>42</th>\n",
       "      <td>{DDPA}</td>\n",
       "      <td>3.317408</td>\n",
       "      <td>optimal</td>\n",
       "    </tr>\n",
       "    <tr>\n",
       "      <th>43</th>\n",
       "      <td>{IPPMIb}</td>\n",
       "      <td>NaN</td>\n",
       "      <td>infeasible</td>\n",
       "    </tr>\n",
       "    <tr>\n",
       "      <th>44</th>\n",
       "      <td>{2HPMBQMTm}</td>\n",
       "      <td>3.317408</td>\n",
       "      <td>optimal</td>\n",
       "    </tr>\n",
       "    <tr>\n",
       "      <th>45</th>\n",
       "      <td>{23DI5ME1PHDERE}</td>\n",
       "      <td>NaN</td>\n",
       "      <td>infeasible</td>\n",
       "    </tr>\n",
       "    <tr>\n",
       "      <th>46</th>\n",
       "      <td>{3HAO}</td>\n",
       "      <td>NaN</td>\n",
       "      <td>infeasible</td>\n",
       "    </tr>\n",
       "    <tr>\n",
       "      <th>47</th>\n",
       "      <td>{DB4PS}</td>\n",
       "      <td>NaN</td>\n",
       "      <td>infeasible</td>\n",
       "    </tr>\n",
       "    <tr>\n",
       "      <th>48</th>\n",
       "      <td>{D_LACDm}</td>\n",
       "      <td>3.317408</td>\n",
       "      <td>optimal</td>\n",
       "    </tr>\n",
       "    <tr>\n",
       "      <th>49</th>\n",
       "      <td>{3OPHB5Hm}</td>\n",
       "      <td>3.317408</td>\n",
       "      <td>optimal</td>\n",
       "    </tr>\n",
       "  </tbody>\n",
       "</table>\n",
       "</div>"
      ],
      "text/plain": [
       "                 ids    growth      status\n",
       "0             {PDE4}  3.317408     optimal\n",
       "1   {DRPPPNRED25645}       NaN  infeasible\n",
       "2           {PRMICI}       NaN  infeasible\n",
       "3           {MCITSm}  3.317408     optimal\n",
       "4             {BPNT}  3.240766     optimal\n",
       "5             {IPMD}       NaN  infeasible\n",
       "6           {HACD6p}  3.317408     optimal\n",
       "7             {PDE3}  3.317408     optimal\n",
       "8             {PDE1}  3.317408     optimal\n",
       "9          {BTDD_RR}  3.317408     optimal\n",
       "10           {P5CDm}  3.317408     optimal\n",
       "11          {3MOPDC}  3.317408     optimal\n",
       "12           {PSCVT}       NaN  infeasible\n",
       "13            {PDE2}  3.317408     optimal\n",
       "14         {2METDEH}       NaN  infeasible\n",
       "15            {PDE5}  3.317408     optimal\n",
       "16        {3ISO3MET}  3.317408     optimal\n",
       "17     {16BETGLUSYN}       NaN  infeasible\n",
       "18          {DRTPPD}       NaN  infeasible\n",
       "19        {D_LACDcm}  3.317408     optimal\n",
       "20           {DHQTi}       NaN  infeasible\n",
       "21          {IPPMIa}       NaN  infeasible\n",
       "22         {AHHM246}  3.317408     optimal\n",
       "23      {3HPH5MBDCm}  3.317408     optimal\n",
       "24       {L_LACD2cm}  3.317408     optimal\n",
       "25         {3DSPHRr}  3.317408     optimal\n",
       "26          {OMCDCm}  3.317408     optimal\n",
       "27           {IPPSm}  3.317161     optimal\n",
       "28          {3MOBDC}  3.317408     optimal\n",
       "29           {DDPAm}  3.276516     optimal\n",
       "30            {ARAT}  3.317407     optimal\n",
       "31     {13BETGLUSYN}       NaN  infeasible\n",
       "32            {AATA}       NaN  infeasible\n",
       "33            {ADCS}       NaN  infeasible\n",
       "34            {DHQS}       NaN  infeasible\n",
       "35             {DPR}       NaN  infeasible\n",
       "36            {IPPS}  3.317408     optimal\n",
       "37           {HKYNH}       NaN  infeasible\n",
       "38       {2HP6MPMOm}  3.317408     optimal\n",
       "39          {ACHBSm}       NaN  infeasible\n",
       "40          {MTMOHT}       NaN  infeasible\n",
       "41           {OMCDC}       NaN  infeasible\n",
       "42            {DDPA}  3.317408     optimal\n",
       "43          {IPPMIb}       NaN  infeasible\n",
       "44       {2HPMBQMTm}  3.317408     optimal\n",
       "45  {23DI5ME1PHDERE}       NaN  infeasible\n",
       "46            {3HAO}       NaN  infeasible\n",
       "47           {DB4PS}       NaN  infeasible\n",
       "48         {D_LACDm}  3.317408     optimal\n",
       "49        {3OPHB5Hm}  3.317408     optimal"
      ]
     },
     "execution_count": 25,
     "metadata": {},
     "output_type": "execute_result"
    }
   ],
   "source": [
    "\n",
    "single_reaction_deletion(model_single_deletions, model_single_deletions.reactions[:50])"
   ]
  },
  {
   "cell_type": "code",
   "execution_count": 26,
   "id": "dfe8e702",
   "metadata": {},
   "outputs": [
    {
     "name": "stdout",
     "output_type": "stream",
     "text": [
      "                            ids    growth   status\n",
      "855                    {GROWTH}  3.509689  optimal\n",
      "1972               {ATPM_copy2}  3.347494  optimal\n",
      "1156             {PSYN181161mm}  3.317408  optimal\n",
      "1154                  {THICOXI}  3.317408  optimal\n",
      "1153                   {r_4645}  3.317408  optimal\n",
      "1152  {PPPL11612181316041813mm}  3.317408  optimal\n",
      "1151                   {GLNt2r}  3.317408  optimal\n",
      "1150                 {THIORDXi}  3.317408  optimal\n",
      "1149              {DAG180161tn}  3.317408  optimal\n",
      "1148                 {3OAR60_m}  3.317408  optimal\n"
     ]
    }
   ],
   "source": [
    "deletions=single_reaction_deletion(model_single_deletions, model_single_deletions.reactions)\n",
    "deletions = deletions.sort_values(by='growth', ascending=False)\n",
    "print(deletions.head(10))\n"
   ]
  },
  {
   "cell_type": "code",
   "execution_count": 27,
   "id": "aecf3497",
   "metadata": {},
   "outputs": [
    {
     "data": {
      "text/plain": [
       "855    3.509689\n",
       "Name: growth, dtype: float64"
      ]
     },
     "execution_count": 27,
     "metadata": {},
     "output_type": "execute_result"
    }
   ],
   "source": [
    "max_fluxes_deletion = deletions.growth[deletions.growth == max(deletions.growth)]\n",
    "max_fluxes_deletion"
   ]
  },
  {
   "cell_type": "markdown",
   "id": "9444ff65",
   "metadata": {},
   "source": [
    "## Double reaction deletions\n"
   ]
  },
  {
   "cell_type": "code",
   "execution_count": null,
   "id": "2831c30b",
   "metadata": {},
   "outputs": [],
   "source": [
    "deletions2=double_reaction_deletion(model_single_deletions, model_single_deletions.reactions)\n",
    "deletions2 = deletions2.sort_values(by='growth', ascending=False)\n",
    "print(deletions2.head(10))"
   ]
  },
  {
   "cell_type": "markdown",
   "id": "a900cac5",
   "metadata": {},
   "source": [
    "## Single Gene Deletions"
   ]
  },
  {
   "cell_type": "code",
   "execution_count": 12,
   "id": "8b1ab56b",
   "metadata": {},
   "outputs": [
    {
     "name": "stdout",
     "output_type": "stream",
     "text": [
      "            ids    growth   status\n",
      "33    {YPL087W}  3.317408  optimal\n",
      "16    {YHL011C}  3.317408  optimal\n",
      "31    {YGL224C}  3.317408  optimal\n",
      "30    {YNL130C}  3.317408  optimal\n",
      "29    {YDL052C}  3.317408  optimal\n",
      "28    {YDL238C}  3.317408  optimal\n",
      "26    {YER062C}  3.317408  optimal\n",
      "25    {YNR057C}  3.317408  optimal\n",
      "23    {YDR272W}  3.317408  optimal\n",
      "22    {YNL065W}  3.317408  optimal\n",
      "21    {YCL017C}  3.317408  optimal\n",
      "20    {YKL212W}  3.317408  optimal\n",
      "19    {YML042W}  3.317408  optimal\n",
      "18    {YDR072C}  3.317408  optimal\n",
      "17    {YOR126C}  3.317408  optimal\n",
      "15    {YER015W}  3.317408  optimal\n",
      "34    {YBR018C}  3.317408  optimal\n",
      "14    {YDL040C}  3.317408  optimal\n",
      "13    {YLR092W}  3.317408  optimal\n",
      "35    {YDL182W}  3.317408  optimal\n",
      "37    {YJL071W}  3.317408  optimal\n",
      "38  {YLL018C-A}  3.317408  optimal\n",
      "39    {YNR056C}  3.317408  optimal\n",
      "40    {YLR348C}  3.317408  optimal\n",
      "41    {YML082W}  3.317408  optimal\n",
      "43    {YDR062W}  3.317408  optimal\n",
      "44    {YDR302W}  3.317408  optimal\n",
      "45    {YGR254W}  3.317408  optimal\n",
      "46    {YDR516C}  3.317408  optimal\n",
      "32    {YDR440W}  3.317408  optimal\n"
     ]
    }
   ],
   "source": [
    "deletions3=single_gene_deletion(model_single_deletions, model_single_deletions.genes)\n",
    "deletions3 = deletions3.sort_values(by='growth', ascending=False)\n",
    "\n",
    "print(deletions3.head(30))"
   ]
  },
  {
   "cell_type": "markdown",
   "id": "18a0c45d",
   "metadata": {},
   "source": [
    "## Double Gene Deletions"
   ]
  },
  {
   "cell_type": "code",
   "execution_count": null,
   "id": "00109d14",
   "metadata": {},
   "outputs": [],
   "source": [
    "deletions4=double_gene_deletion(model_single_deletions, model_single_deletions.genes)\n",
    "deletions4 = deletions4.sort_values(by='growth', ascending=False)\n",
    "print(deletions4.head(10))"
   ]
  },
  {
   "cell_type": "markdown",
   "id": "78c8e442",
   "metadata": {},
   "source": [
    "## Other deletions\n",
    "### ATPM knock out {\n",
    "\"id\":\"ATPM\",\n",
    "\"name\":\"ATP maintenance requirement\",\n",
    "\"metabolites\":{\n",
    "\"adp_c\":1.0,\n",
    "\"atp_c\":-1.0,\n",
    "\"h2o_c\":-1.0,\n",
    "\"h_c\":1.0,\n",
    "\"pi_c\":1.0\n",
    "}\n"
   ]
  },
  {
   "cell_type": "code",
   "execution_count": null,
   "id": "8553b7bd",
   "metadata": {},
   "outputs": [],
   "source": [
    "model_Manual_ko_6 = read_sbml_model('../data/models/yeast8_resv_glc.xml')\n",
    "model_Manual_ko_6.reactions.GROWTH.lower_bound=0.04\n",
    "medium=model_Manual_ko_6.medium\n",
    "medium['EX_glc__D_e'] = 30\n",
    "medium['EX_o2_e'] = 4\n",
    "model_Manual_ko_6.medium = medium"
   ]
  },
  {
   "cell_type": "code",
   "execution_count": null,
   "id": "de5db3cc",
   "metadata": {},
   "outputs": [],
   "source": [
    "with model_Manual_ko_6:\n",
    "    model_Manual_ko_6.objective = model_Manual_ko_6.reactions.VVVST1\n",
    "    model_Manual_ko_6.reactions.ATPM.knock_out()\n",
    "  \n",
    "    \n",
    "    resveratrol_max_production = model_Manual_ko_6.optimize().objective_value\n",
    "    print(\"Maximum resveratrol productivity = \",resveratrol_max_production , \"mmol/gDW*h\")\n",
    "\n",
    "    glucose_uptake_flux = model_Manual_ko_6.reactions.EX_glc__D_e.flux #Glucose exchange reaction\n",
    "    max_yield = resveratrol_max_production / (-1*glucose_uptake_flux)\n",
    "    print(\"Maximum theoretical yield is = \", max_yield, \"mmol/gDW*h\")"
   ]
  },
  {
   "cell_type": "code",
   "execution_count": null,
   "id": "70a76b10",
   "metadata": {},
   "outputs": [],
   "source": []
  },
  {
   "cell_type": "code",
   "execution_count": null,
   "id": "01f999a9",
   "metadata": {},
   "outputs": [],
   "source": []
  },
  {
   "cell_type": "code",
   "execution_count": null,
   "id": "f1d012af",
   "metadata": {},
   "outputs": [],
   "source": []
  },
  {
   "cell_type": "code",
   "execution_count": null,
   "id": "7a849ca4",
   "metadata": {},
   "outputs": [],
   "source": []
  }
 ],
 "metadata": {
  "kernelspec": {
   "display_name": "Python 3 (ipykernel)",
   "language": "python",
   "name": "python3"
  },
  "language_info": {
   "codemirror_mode": {
    "name": "ipython",
    "version": 3
   },
   "file_extension": ".py",
   "mimetype": "text/x-python",
   "name": "python",
   "nbconvert_exporter": "python",
   "pygments_lexer": "ipython3",
   "version": "3.9.12"
  }
 },
 "nbformat": 4,
 "nbformat_minor": 5
}
