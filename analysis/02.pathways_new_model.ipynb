{
 "cells": [
  {
   "cell_type": "markdown",
   "metadata": {},
   "source": [
    "# Adding resveratrol-producing pathways"
   ]
  },
  {
   "cell_type": "code",
   "execution_count": 1,
   "metadata": {},
   "outputs": [],
   "source": [
    "from cobra.io import read_sbml_model\n",
    "from cobra import Reaction, Metabolite\n",
    "import pandas as pd"
   ]
  },
  {
   "cell_type": "code",
   "execution_count": 5,
   "metadata": {},
   "outputs": [],
   "source": [
    "model = read_sbml_model(\"../data/models/model_Y8_bigg_complaint.xml\")"
   ]
  },
  {
   "cell_type": "code",
   "execution_count": 6,
   "metadata": {},
   "outputs": [
    {
     "data": {
      "text/html": [
       "\n",
       "        <table>\n",
       "            <tr>\n",
       "                <td><strong>Name</strong></td>\n",
       "                <td>yeastGEM_v8__46__6__46__2</td>\n",
       "            </tr><tr>\n",
       "                <td><strong>Memory address</strong></td>\n",
       "                <td>0x0118616c80</td>\n",
       "            </tr><tr>\n",
       "                <td><strong>Number of metabolites</strong></td>\n",
       "                <td>2744</td>\n",
       "            </tr><tr>\n",
       "                <td><strong>Number of reactions</strong></td>\n",
       "                <td>4063</td>\n",
       "            </tr><tr>\n",
       "                <td><strong>Number of groups</strong></td>\n",
       "                <td>106</td>\n",
       "            </tr><tr>\n",
       "                <td><strong>Objective expression</strong></td>\n",
       "                <td>1.0*GROWTH - 1.0*GROWTH_reverse_c845e</td>\n",
       "            </tr><tr>\n",
       "                <td><strong>Compartments</strong></td>\n",
       "                <td>cell envelope, cytoplasm, extracellular, mitochondrion, nucleus, peroxisome, endoplasmic reticulum, Golgi, lipid particle, vacuole, endoplasmic reticulum membrane, vacuolar membrane, Golgi membrane, mitochondrial membrane</td>\n",
       "            </tr>\n",
       "          </table>"
      ],
      "text/plain": [
       "<Model yeastGEM_v8__46__6__46__2 at 0x118616c80>"
      ]
     },
     "execution_count": 6,
     "metadata": {},
     "output_type": "execute_result"
    }
   ],
   "source": [
    "model"
   ]
  },
  {
   "cell_type": "markdown",
   "metadata": {},
   "source": [
    "## Model 1: Resveratrol from glucose "
   ]
  },
  {
   "cell_type": "code",
   "execution_count": 11,
   "metadata": {},
   "outputs": [
    {
     "data": {
      "text/html": [
       "\n",
       "        <table>\n",
       "            <tr>\n",
       "                <td><strong>Metabolite identifier</strong></td><td>atp_c</td>\n",
       "            </tr><tr>\n",
       "                <td><strong>Name</strong></td><td>ATP</td>\n",
       "            </tr><tr>\n",
       "                <td><strong>Memory address</strong></td>\n",
       "                <td>0x1185fa8c0</td>\n",
       "            </tr><tr>\n",
       "                <td><strong>Formula</strong></td><td>C10H12N5O13P3</td>\n",
       "            </tr><tr>\n",
       "                <td><strong>Compartment</strong></td><td>c</td>\n",
       "            </tr><tr>\n",
       "                <td><strong>In 182 reaction(s)</strong></td><td>\n",
       "                    STCOATxc, NNATr, PYDAMK, METAT, UREASE, ATPtr, GTHRDtv, r_4624, CHOLK, PROTRS_1, PYDXNK, OPAH, FATACYCOATRAABC181, METTRS, r_4619, GLUTRS, PMEVK, PTPATi, CBPS, URIK1, ATPS, LYSTRS, LIPATPT, PMPK,...\n",
       "                    </td>\n",
       "            </tr>\n",
       "        </table>"
      ],
      "text/plain": [
       "<Metabolite atp_c at 0x1185fa8c0>"
      ]
     },
     "execution_count": 11,
     "metadata": {},
     "output_type": "execute_result"
    }
   ],
   "source": [
    "model.metabolites.atp_c\n"
   ]
  },
  {
   "cell_type": "code",
   "execution_count": 9,
   "metadata": {},
   "outputs": [],
   "source": [
    "## Add reactions\n",
    "# Reaction 1 (HA-TAL):L-tyrosine <=> (E).4.coumarate +   NH4+\n",
    "new_reaction1 = Reaction('HA-TAL') # 3-(o)xopropanoate:(N)ADP+ (o)xidoreductase\n",
    "coumarate4 = Metabolite(id='coumarate4', compartment='c')\n",
    "new_reaction1.add_metabolites({model.metabolites.tyr__L_c: -1, \n",
    "                               coumarate4: 1, # 3-Oxopropanoate\n",
    "                               model.metabolites.nh4_c: 1, # Search fpr NH4 ID\n",
    "                              })\n",
    "model.add_reactions([new_reaction1])"
   ]
  },
  {
   "cell_type": "code",
   "execution_count": 10,
   "metadata": {},
   "outputs": [
    {
     "data": {
      "text/html": [
       "\n",
       "        <table>\n",
       "            <tr>\n",
       "                <td><strong>Metabolite identifier</strong></td><td>coumarate4</td>\n",
       "            </tr><tr>\n",
       "                <td><strong>Name</strong></td><td></td>\n",
       "            </tr><tr>\n",
       "                <td><strong>Memory address</strong></td>\n",
       "                <td>0x11a3db340</td>\n",
       "            </tr><tr>\n",
       "                <td><strong>Formula</strong></td><td>None</td>\n",
       "            </tr><tr>\n",
       "                <td><strong>Compartment</strong></td><td>c</td>\n",
       "            </tr><tr>\n",
       "                <td><strong>In 1 reaction(s)</strong></td><td>\n",
       "                    HA-TAL\n",
       "                    </td>\n",
       "            </tr>\n",
       "        </table>"
      ],
      "text/plain": [
       "<Metabolite coumarate4 at 0x11a3db340>"
      ]
     },
     "execution_count": 10,
     "metadata": {},
     "output_type": "execute_result"
    }
   ],
   "source": [
    "model.metabolites.coumarate4"
   ]
  },
  {
   "cell_type": "code",
   "execution_count": 12,
   "metadata": {},
   "outputs": [],
   "source": [
    "new_reaction2 = Reaction('AT-4CL1')\n",
    "E4_coumaroyl_CoA = Metabolite(id='e4_coumaroyl_coa', compartment='c')\n",
    "new_reaction2.add_metabolites({model.metabolites.coumarate4: -1,\n",
    "                               model.metabolites.atp_c: -1,\n",
    "                               model.metabolites.coa_c: -1,\n",
    "                               E4_coumaroyl_CoA: 1,\n",
    "                               model.metabolites.amp_c: 1,\n",
    "                               model.metabolites.ppi_c: 1,\n",
    "                              })\n",
    "model.add_reactions([new_reaction2])"
   ]
  },
  {
   "cell_type": "code",
   "execution_count": 13,
   "metadata": {},
   "outputs": [],
   "source": [
    "new_reaction3 = Reaction('VVVST1')\n",
    "trans_resv = Metabolite(id='trans_resv', compartment='c')\n",
    "new_reaction3.add_metabolites({model.metabolites.e4_coumaroyl_coa: -1,\n",
    "                               model.metabolites.h_c: -3,\n",
    "                               model.metabolites.malcoa_c: -3,\n",
    "                               model.metabolites.co2_c: 4,\n",
    "                               model.metabolites.coa_c: 4,\n",
    "                               trans_resv: 1\n",
    "                              })\n",
    "model.add_reactions([new_reaction3])"
   ]
  },
  {
   "cell_type": "code",
   "execution_count": 22,
   "metadata": {},
   "outputs": [
    {
     "data": {
      "text/plain": [
       "(-1.0, 1000.0)"
      ]
     },
     "execution_count": 22,
     "metadata": {},
     "output_type": "execute_result"
    }
   ],
   "source": [
    "model.reactions.EX_glc__D_e.bounds"
   ]
  },
  {
   "cell_type": "code",
   "execution_count": 14,
   "metadata": {},
   "outputs": [
    {
     "data": {
      "text/html": [
       "\n",
       "        <table>\n",
       "            <tr>\n",
       "                <td><strong>Reaction identifier</strong></td><td>VVVST1</td>\n",
       "            </tr><tr>\n",
       "                <td><strong>Name</strong></td><td></td>\n",
       "            </tr><tr>\n",
       "                <td><strong>Memory address</strong></td>\n",
       "                <td>0x11a3d8310</td>\n",
       "            </tr><tr>\n",
       "                <td><strong>Stoichiometry</strong></td>\n",
       "                <td>\n",
       "                    <p style='text-align:right'>e4_coumaroyl_coa + 3 h_c + 3 malcoa_c --> 4 co2_c + 4 coa_c + trans_resv</p>\n",
       "                    <p style='text-align:right'>+ 3 H+ + 3 malonyl-CoA --> 4 carbon dioxide + 4 coenzyme A +</p>\n",
       "                </td>\n",
       "            </tr><tr>\n",
       "                <td><strong>GPR</strong></td><td></td>\n",
       "            </tr><tr>\n",
       "                <td><strong>Lower bound</strong></td><td>0.0</td>\n",
       "            </tr><tr>\n",
       "                <td><strong>Upper bound</strong></td><td>1000.0</td>\n",
       "            </tr>\n",
       "        </table>\n",
       "        "
      ],
      "text/plain": [
       "<Reaction VVVST1 at 0x11a3d8310>"
      ]
     },
     "execution_count": 14,
     "metadata": {},
     "output_type": "execute_result"
    }
   ],
   "source": [
    "model.reactions.get_by_id('VVVST1')"
   ]
  },
  {
   "cell_type": "code",
   "execution_count": 23,
   "metadata": {},
   "outputs": [
    {
     "data": {
      "text/html": [
       "\n",
       "        <table>\n",
       "            <tr>\n",
       "                <td><strong>Reaction identifier</strong></td><td>DM_trans_resv</td>\n",
       "            </tr><tr>\n",
       "                <td><strong>Name</strong></td><td>demand</td>\n",
       "            </tr><tr>\n",
       "                <td><strong>Memory address</strong></td>\n",
       "                <td>0x11a3db4f0</td>\n",
       "            </tr><tr>\n",
       "                <td><strong>Stoichiometry</strong></td>\n",
       "                <td>\n",
       "                    <p style='text-align:right'>trans_resv --></p>\n",
       "                    <p style='text-align:right'>--></p>\n",
       "                </td>\n",
       "            </tr><tr>\n",
       "                <td><strong>GPR</strong></td><td></td>\n",
       "            </tr><tr>\n",
       "                <td><strong>Lower bound</strong></td><td>0</td>\n",
       "            </tr><tr>\n",
       "                <td><strong>Upper bound</strong></td><td>1000.0</td>\n",
       "            </tr>\n",
       "        </table>\n",
       "        "
      ],
      "text/plain": [
       "<Reaction DM_trans_resv at 0x11a3db4f0>"
      ]
     },
     "execution_count": 23,
     "metadata": {},
     "output_type": "execute_result"
    }
   ],
   "source": [
    "model.add_boundary(model.metabolites.trans_resv, type='demand')"
   ]
  },
  {
   "cell_type": "code",
   "execution_count": 24,
   "metadata": {},
   "outputs": [],
   "source": [
    "from cobra.io import write_sbml_model\n",
    "write_sbml_model(model,'../data/models/yeast8_resv_glc.xml')"
   ]
  },
  {
   "cell_type": "markdown",
   "metadata": {},
   "source": [
    "from cobra.io import write_sbml_model\n",
    "write_sbml_model(model,'data/models/yeast_resv_glc.xml')"
   ]
  },
  {
   "cell_type": "code",
   "execution_count": 25,
   "metadata": {},
   "outputs": [
    {
     "data": {
      "text/plain": [
       "0.3103760811914647"
      ]
     },
     "execution_count": 25,
     "metadata": {},
     "output_type": "execute_result"
    }
   ],
   "source": [
    "with model:\n",
    "    model.objective=model.reactions.VVVST1\n",
    "    lets_produce_resv= model.optimize().objective_value\n",
    "lets_produce_resv"
   ]
  },
  {
   "cell_type": "code",
   "execution_count": 26,
   "metadata": {},
   "outputs": [
    {
     "data": {
      "text/html": [
       "\n",
       "        <table>\n",
       "            <tr>\n",
       "                <td><strong>Name</strong></td>\n",
       "                <td>yeastGEM_v8__46__6__46__2</td>\n",
       "            </tr><tr>\n",
       "                <td><strong>Memory address</strong></td>\n",
       "                <td>0x0118616c80</td>\n",
       "            </tr><tr>\n",
       "                <td><strong>Number of metabolites</strong></td>\n",
       "                <td>2747</td>\n",
       "            </tr><tr>\n",
       "                <td><strong>Number of reactions</strong></td>\n",
       "                <td>4067</td>\n",
       "            </tr><tr>\n",
       "                <td><strong>Number of groups</strong></td>\n",
       "                <td>106</td>\n",
       "            </tr><tr>\n",
       "                <td><strong>Objective expression</strong></td>\n",
       "                <td>1.0*GROWTH - 1.0*GROWTH_reverse_c845e</td>\n",
       "            </tr><tr>\n",
       "                <td><strong>Compartments</strong></td>\n",
       "                <td>cell envelope, cytoplasm, extracellular, mitochondrion, nucleus, peroxisome, endoplasmic reticulum, Golgi, lipid particle, vacuole, endoplasmic reticulum membrane, vacuolar membrane, Golgi membrane, mitochondrial membrane</td>\n",
       "            </tr>\n",
       "          </table>"
      ],
      "text/plain": [
       "<Model yeastGEM_v8__46__6__46__2 at 0x118616c80>"
      ]
     },
     "execution_count": 26,
     "metadata": {},
     "output_type": "execute_result"
    }
   ],
   "source": [
    "model"
   ]
  },
  {
   "cell_type": "markdown",
   "metadata": {},
   "source": [
    "## Model 2: Resveratrol from coumaric acid from https://doi.org/10.1128/AEM.00609-06"
   ]
  },
  {
   "cell_type": "code",
   "execution_count": 69,
   "metadata": {},
   "outputs": [],
   "source": [
    "model_resv_cou = read_sbml_model('../data/models/iMM904.xml')"
   ]
  },
  {
   "cell_type": "code",
   "execution_count": 70,
   "metadata": {},
   "outputs": [],
   "source": [
    "new_reaction2_1 = Reaction('AT-4CL3')\n",
    "coumarate4 = Metabolite(id='coumarate4', compartment='c')\n",
    "E4_coumaroyl_CoA = Metabolite(id='e4_coumaroyl_coa', compartment='c')\n",
    "new_reaction2_1.add_metabolites({coumarate4: -1,\n",
    "                               model_resv_cou.metabolites.atp_c: -1,\n",
    "                               model_resv_cou.metabolites.coa_c: -1,\n",
    "                               E4_coumaroyl_CoA: 1,\n",
    "                               model_resv_cou.metabolites.amp_c: 1,\n",
    "                               model_resv_cou.metabolites.ppi_c: 1,\n",
    "                              })\n",
    "\n",
    "model_resv_cou.add_reactions([new_reaction2_1])"
   ]
  },
  {
   "cell_type": "code",
   "execution_count": 71,
   "metadata": {},
   "outputs": [
    {
     "data": {
      "text/html": [
       "\n",
       "        <table>\n",
       "            <tr>\n",
       "                <td><strong>Metabolite identifier</strong></td><td>coumarate4</td>\n",
       "            </tr><tr>\n",
       "                <td><strong>Name</strong></td><td></td>\n",
       "            </tr><tr>\n",
       "                <td><strong>Memory address</strong></td>\n",
       "                <td>0x124ba7730</td>\n",
       "            </tr><tr>\n",
       "                <td><strong>Formula</strong></td><td>None</td>\n",
       "            </tr><tr>\n",
       "                <td><strong>Compartment</strong></td><td>c</td>\n",
       "            </tr><tr>\n",
       "                <td><strong>In 1 reaction(s)</strong></td><td>\n",
       "                    AT-4CL3\n",
       "                    </td>\n",
       "            </tr>\n",
       "        </table>"
      ],
      "text/plain": [
       "<Metabolite coumarate4 at 0x124ba7730>"
      ]
     },
     "execution_count": 71,
     "metadata": {},
     "output_type": "execute_result"
    }
   ],
   "source": [
    "model_resv_cou.metabolites.coumarate4"
   ]
  },
  {
   "cell_type": "code",
   "execution_count": 72,
   "metadata": {},
   "outputs": [],
   "source": [
    "new_reaction2_2 = Reaction('STS')\n",
    "trans_resv = Metabolite(id='trans_resv', compartment='c')\n",
    "new_reaction2_2.add_metabolites({model_resv_cou.metabolites.e4_coumaroyl_coa: -1,\n",
    "                               model_resv_cou.metabolites.h_c: -3,\n",
    "                               model_resv_cou.metabolites.malcoa_c: -3,\n",
    "                               model_resv_cou.metabolites.co2_c: 4,\n",
    "                               model_resv_cou.metabolites.coa_c: 4,\n",
    "                               trans_resv: 1\n",
    "                              })\n",
    "model_resv_cou.add_reactions([new_reaction2_2])"
   ]
  },
  {
   "cell_type": "code",
   "execution_count": 75,
   "metadata": {},
   "outputs": [
    {
     "name": "stderr",
     "output_type": "stream",
     "text": [
      "Ignoring reaction 'Ex_coumarate_transport' since it already exists.\n"
     ]
    }
   ],
   "source": [
    "new_reaction2_3 = Reaction('Ex_coumarate_transport')\n",
    "coumarate4_e = Metabolite(id='coumarate4_e', compartment='e')\n",
    "new_reaction2_3.add_metabolites({coumarate4_e: -1,\n",
    "                               model_resv_cou.metabolites.coumarate4: 1\n",
    "                              })\n",
    "model_resv_cou.add_reactions([new_reaction2_3])"
   ]
  },
  {
   "cell_type": "code",
   "execution_count": 76,
   "metadata": {},
   "outputs": [
    {
     "ename": "ValueError",
     "evalue": "Boundary reaction 'DM_trans_resv' already exists.",
     "output_type": "error",
     "traceback": [
      "\u001b[0;31m---------------------------------------------------------------------------\u001b[0m",
      "\u001b[0;31mValueError\u001b[0m                                Traceback (most recent call last)",
      "Cell \u001b[0;32mIn [76], line 2\u001b[0m\n\u001b[1;32m      1\u001b[0m \u001b[39m#how much resveratrol is produced?\u001b[39;00m\n\u001b[0;32m----> 2\u001b[0m model_resv_cou\u001b[39m.\u001b[39;49madd_boundary(model_resv_cou\u001b[39m.\u001b[39;49mmetabolites\u001b[39m.\u001b[39;49mtrans_resv, \u001b[39mtype\u001b[39;49m\u001b[39m=\u001b[39;49m\u001b[39m'\u001b[39;49m\u001b[39mdemand\u001b[39;49m\u001b[39m'\u001b[39;49m)\n",
      "File \u001b[0;32m/Library/Frameworks/Python.framework/Versions/3.10/lib/python3.10/site-packages/cobra/core/model.py:626\u001b[0m, in \u001b[0;36mModel.add_boundary\u001b[0;34m(self, metabolite, type, reaction_id, lb, ub, sbo_term)\u001b[0m\n\u001b[1;32m    621\u001b[0m     \u001b[39mraise\u001b[39;00m \u001b[39mValueError\u001b[39;00m(\n\u001b[1;32m    622\u001b[0m         \u001b[39m\"\u001b[39m\u001b[39mCustom types of boundary reactions require a custom \u001b[39m\u001b[39m\"\u001b[39m\n\u001b[1;32m    623\u001b[0m         \u001b[39m\"\u001b[39m\u001b[39midentifier. Please set the `reaction_id`.\u001b[39m\u001b[39m\"\u001b[39m\n\u001b[1;32m    624\u001b[0m     )\n\u001b[1;32m    625\u001b[0m \u001b[39mif\u001b[39;00m reaction_id \u001b[39min\u001b[39;00m \u001b[39mself\u001b[39m\u001b[39m.\u001b[39mreactions:\n\u001b[0;32m--> 626\u001b[0m     \u001b[39mraise\u001b[39;00m \u001b[39mValueError\u001b[39;00m(\n\u001b[1;32m    627\u001b[0m         \u001b[39m\"\u001b[39m\u001b[39mBoundary reaction \u001b[39m\u001b[39m'\u001b[39m\u001b[39m{}\u001b[39;00m\u001b[39m'\u001b[39m\u001b[39m already exists.\u001b[39m\u001b[39m\"\u001b[39m\u001b[39m.\u001b[39mformat(reaction_id)\n\u001b[1;32m    628\u001b[0m     )\n\u001b[1;32m    629\u001b[0m name \u001b[39m=\u001b[39m \u001b[39m\"\u001b[39m\u001b[39m{}\u001b[39;00m\u001b[39m \u001b[39m\u001b[39m{}\u001b[39;00m\u001b[39m\"\u001b[39m\u001b[39m.\u001b[39mformat(metabolite\u001b[39m.\u001b[39mname, \u001b[39mtype\u001b[39m)\n\u001b[1;32m    630\u001b[0m rxn \u001b[39m=\u001b[39m Reaction(\u001b[39mid\u001b[39m\u001b[39m=\u001b[39mreaction_id, name\u001b[39m=\u001b[39mname, lower_bound\u001b[39m=\u001b[39mlb, upper_bound\u001b[39m=\u001b[39mub)\n",
      "\u001b[0;31mValueError\u001b[0m: Boundary reaction 'DM_trans_resv' already exists."
     ]
    }
   ],
   "source": [
    "#how much resveratrol is produced?\n",
    "model_resv_cou.add_boundary(model_resv_cou.metabolites.trans_resv, type='demand')"
   ]
  },
  {
   "cell_type": "code",
   "execution_count": 77,
   "metadata": {},
   "outputs": [],
   "source": [
    "from cobra.io import write_sbml_model\n",
    "write_sbml_model(model_resv_cou,'../data/models/yeast_resv_cou.xml')"
   ]
  },
  {
   "cell_type": "code",
   "execution_count": 78,
   "metadata": {},
   "outputs": [
    {
     "data": {
      "text/html": [
       "\n",
       "        <table>\n",
       "            <tr>\n",
       "                <td><strong>Name</strong></td>\n",
       "                <td>iMM904</td>\n",
       "            </tr><tr>\n",
       "                <td><strong>Memory address</strong></td>\n",
       "                <td>0x012381ef50</td>\n",
       "            </tr><tr>\n",
       "                <td><strong>Number of metabolites</strong></td>\n",
       "                <td>1230</td>\n",
       "            </tr><tr>\n",
       "                <td><strong>Number of reactions</strong></td>\n",
       "                <td>1581</td>\n",
       "            </tr><tr>\n",
       "                <td><strong>Number of groups</strong></td>\n",
       "                <td>0</td>\n",
       "            </tr><tr>\n",
       "                <td><strong>Objective expression</strong></td>\n",
       "                <td>1.0*BIOMASS_SC5_notrace - 1.0*BIOMASS_SC5_notrace_reverse_93090</td>\n",
       "            </tr><tr>\n",
       "                <td><strong>Compartments</strong></td>\n",
       "                <td>cytosol, extracellular space, mitochondria, peroxisome/glyoxysome, endoplasmic reticulum, vacuole, golgi apparatus, nucleus</td>\n",
       "            </tr>\n",
       "          </table>"
      ],
      "text/plain": [
       "<Model iMM904 at 0x12381ef50>"
      ]
     },
     "execution_count": 78,
     "metadata": {},
     "output_type": "execute_result"
    }
   ],
   "source": [
    "model_resv_cou"
   ]
  },
  {
   "cell_type": "markdown",
   "metadata": {},
   "source": [
    "## Model 3: Resveratrol from Phenylalanine (https://doi.org/10.1016/j.ymben.2009.07.004)\n"
   ]
  },
  {
   "cell_type": "code",
   "execution_count": null,
   "metadata": {},
   "outputs": [],
   "source": [
    "model_resv_phen = read_sbml_model('../data/models/iMM904.xml')"
   ]
  },
  {
   "cell_type": "code",
   "execution_count": null,
   "metadata": {},
   "outputs": [],
   "source": [
    "new_reaction3_1 = Reaction('PAL3')\n",
    "e_cinnamate_c = Metabolite(id='e_cinnamate_c', compartment='c')\n",
    "new_reaction3_1.add_metabolites({model_resv_phen.metabolites.phe__L_c: -1,\n",
    "                               e_cinnamate_c: 1,\n",
    "                               model_resv_phen.metabolites.nh4_c: 1,\n",
    "                              })\n",
    "model_resv_phen.add_reactions([new_reaction3_1])"
   ]
  },
  {
   "cell_type": "code",
   "execution_count": null,
   "metadata": {},
   "outputs": [],
   "source": [
    "new_reaction3_2 = Reaction('C4H') \n",
    "coumarate4 = Metabolite(id='coumarate4', compartment='c')\n",
    "new_reaction3_2.add_metabolites({model_resv_phen.metabolites.e_cinnamate_c: -1,\n",
    "                               model_resv_phen.metabolites.fmnh2_c: -1,\n",
    "                               model_resv_phen.metabolites.o2_c: -1,\n",
    "                               coumarate4: 1, \n",
    "                               model_resv_phen.metabolites.h2o_c: 1,\n",
    "                               model_resv_phen.metabolites.h_c: 1,\n",
    "                               model_resv_phen.metabolites.fmn_c: 1,\n",
    "                              })\n",
    "model_resv_phen.add_reactions([new_reaction3_2])"
   ]
  },
  {
   "cell_type": "code",
   "execution_count": null,
   "metadata": {},
   "outputs": [],
   "source": [
    "new_reaction3_3 = Reaction('AT-4CL2')\n",
    "E4_coumaroyl_CoA = Metabolite(id='e4_coumaroyl_coa', compartment='c')\n",
    "new_reaction3_3.add_metabolites({model_resv_phen.metabolites.coumarate4: -1,\n",
    "                               model_resv_phen.metabolites.atp_c: -1,\n",
    "                               model_resv_phen.metabolites.coa_c: -1,\n",
    "                               E4_coumaroyl_CoA: 1,\n",
    "                               model_resv_phen.metabolites.amp_c: 1,\n",
    "                               model_resv_phen.metabolites.ppi_c: 1,\n",
    "                              })\n",
    "model_resv_phen.add_reactions([new_reaction3_3])"
   ]
  },
  {
   "cell_type": "code",
   "execution_count": null,
   "metadata": {},
   "outputs": [],
   "source": [
    "new_reaction3_4 = Reaction('STS')\n",
    "trans_resv = Metabolite(id='trans_resv', compartment='c')\n",
    "new_reaction3_4.add_metabolites({model_resv_phen.metabolites.e4_coumaroyl_coa: -1,\n",
    "                               model_resv_phen.metabolites.h_c: -3,\n",
    "                               model_resv_phen.metabolites.malcoa_c: -3,\n",
    "                               model_resv_phen.metabolites.co2_c: 4,\n",
    "                               model_resv_phen.metabolites.coa_c: 4,\n",
    "                               trans_resv: 1\n",
    "                              })\n",
    "model_resv_phen.add_reactions([new_reaction3_4])"
   ]
  },
  {
   "cell_type": "code",
   "execution_count": null,
   "metadata": {},
   "outputs": [],
   "source": [
    "from cobra.io import write_sbml_model\n",
    "write_sbml_model(model_resv_phen,'../data/models/yeast_resv_phen.xml')"
   ]
  },
  {
   "cell_type": "code",
   "execution_count": null,
   "metadata": {},
   "outputs": [
    {
     "data": {
      "text/html": [
       "\n",
       "        <table>\n",
       "            <tr>\n",
       "                <td><strong>Reaction identifier</strong></td><td>DM_trans_resv</td>\n",
       "            </tr><tr>\n",
       "                <td><strong>Name</strong></td><td>demand</td>\n",
       "            </tr><tr>\n",
       "                <td><strong>Memory address</strong></td>\n",
       "                <td>0x13a1179a0</td>\n",
       "            </tr><tr>\n",
       "                <td><strong>Stoichiometry</strong></td>\n",
       "                <td>\n",
       "                    <p style='text-align:right'>trans_resv --></p>\n",
       "                    <p style='text-align:right'>--></p>\n",
       "                </td>\n",
       "            </tr><tr>\n",
       "                <td><strong>GPR</strong></td><td></td>\n",
       "            </tr><tr>\n",
       "                <td><strong>Lower bound</strong></td><td>0</td>\n",
       "            </tr><tr>\n",
       "                <td><strong>Upper bound</strong></td><td>1000.0</td>\n",
       "            </tr>\n",
       "        </table>\n",
       "        "
      ],
      "text/plain": [
       "<Reaction DM_trans_resv at 0x13a1179a0>"
      ]
     },
     "execution_count": 119,
     "metadata": {},
     "output_type": "execute_result"
    }
   ],
   "source": [
    "model_resv_phen.add_boundary(model_resv_phen.metabolites.trans_resv, type='demand')"
   ]
  },
  {
   "cell_type": "markdown",
   "metadata": {},
   "source": [
    "### How much resveratrol is porduced?"
   ]
  },
  {
   "cell_type": "code",
   "execution_count": null,
   "metadata": {},
   "outputs": [
    {
     "data": {
      "text/plain": [
       "1.178571428571429"
      ]
     },
     "execution_count": 120,
     "metadata": {},
     "output_type": "execute_result"
    }
   ],
   "source": [
    "# Model using glucose as subsrate\n",
    "with model_resv_glc:\n",
    "    model_resv_glc.objective=model_resv_glc.reactions.VVVST1\n",
    "    lets_produce_resv= model_resv_glc.optimize().objective_value\n",
    "lets_produce_resv"
   ]
  },
  {
   "cell_type": "code",
   "execution_count": null,
   "metadata": {},
   "outputs": [
    {
     "data": {
      "text/plain": [
       "1.0749185667752432"
      ]
     },
     "execution_count": 121,
     "metadata": {},
     "output_type": "execute_result"
    }
   ],
   "source": [
    "# Model using phenylananine\n",
    "with model_resv_phen:\n",
    "    model_resv_phen.objective=model_resv_phen.reactions.STS\n",
    "    lets_produce_resv= model_resv_phen.optimize().objective_value\n",
    "lets_produce_resv"
   ]
  },
  {
   "cell_type": "code",
   "execution_count": 48,
   "metadata": {},
   "outputs": [
    {
     "data": {
      "text/plain": [
       "-3.389454704016765e-33"
      ]
     },
     "execution_count": 48,
     "metadata": {},
     "output_type": "execute_result"
    }
   ],
   "source": [
    "# model usin coumaric acid as substrate\n",
    "with model_resv_cou:\n",
    "    model_resv_cou.objective=model_resv_cou.reactions.STS\n",
    "    lets_produce_resv= model_resv_cou.optimize().objective_value\n",
    "lets_produce_resv"
   ]
  }
 ],
 "metadata": {
  "kernelspec": {
   "display_name": "Python 3",
   "language": "python",
   "name": "python3"
  },
  "language_info": {
   "codemirror_mode": {
    "name": "ipython",
    "version": 3
   },
   "file_extension": ".py",
   "mimetype": "text/x-python",
   "name": "python",
   "nbconvert_exporter": "python",
   "pygments_lexer": "ipython3",
   "version": "3.7.6"
  },
  "vscode": {
   "interpreter": {
    "hash": "aee8b7b246df8f9039afb4144a1f6fd8d2ca17a180786b69acc140d282b71a49"
   }
  }
 },
 "nbformat": 4,
 "nbformat_minor": 4
}
