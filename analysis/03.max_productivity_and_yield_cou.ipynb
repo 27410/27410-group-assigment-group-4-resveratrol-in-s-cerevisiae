{
 "cells": [
  {
   "cell_type": "code",
   "execution_count": 20,
   "metadata": {},
   "outputs": [],
   "source": [
    "from cobra.io import read_sbml_model\n"
   ]
  },
  {
   "cell_type": "markdown",
   "metadata": {},
   "source": [
    "## Maximum yield and productivity using default medium\n",
    "### 1. Using model yeast_resv_glc with glucose as carbon source"
   ]
  },
  {
   "cell_type": "code",
   "execution_count": 21,
   "metadata": {},
   "outputs": [],
   "source": [
    "model = read_sbml_model(\"../data/models/yeast_resv_cou.xml\")"
   ]
  },
  {
   "cell_type": "code",
   "execution_count": 22,
   "metadata": {},
   "outputs": [
    {
     "data": {
      "text/html": [
       "\n",
       "        <table>\n",
       "            <tr>\n",
       "                <td><strong>Name</strong></td>\n",
       "                <td>iMM904</td>\n",
       "            </tr><tr>\n",
       "                <td><strong>Memory address</strong></td>\n",
       "                <td>0x011db97880</td>\n",
       "            </tr><tr>\n",
       "                <td><strong>Number of metabolites</strong></td>\n",
       "                <td>1230</td>\n",
       "            </tr><tr>\n",
       "                <td><strong>Number of reactions</strong></td>\n",
       "                <td>1581</td>\n",
       "            </tr><tr>\n",
       "                <td><strong>Number of groups</strong></td>\n",
       "                <td>0</td>\n",
       "            </tr><tr>\n",
       "                <td><strong>Objective expression</strong></td>\n",
       "                <td>1.0*BIOMASS_SC5_notrace - 1.0*BIOMASS_SC5_notrace_reverse_93090</td>\n",
       "            </tr><tr>\n",
       "                <td><strong>Compartments</strong></td>\n",
       "                <td>cytosol, extracellular space, mitochondria, peroxisome/glyoxysome, endoplasmic reticulum, vacuole, golgi apparatus, nucleus</td>\n",
       "            </tr>\n",
       "          </table>"
      ],
      "text/plain": [
       "<Model iMM904 at 0x11db97880>"
      ]
     },
     "execution_count": 22,
     "metadata": {},
     "output_type": "execute_result"
    }
   ],
   "source": [
    "# Model olverview\n",
    "model"
   ]
  },
  {
   "cell_type": "markdown",
   "metadata": {},
   "source": [
    "### Calculate theoretical maximum yields for chosen product for suitable carbon sources"
   ]
  },
  {
   "cell_type": "code",
   "execution_count": 23,
   "metadata": {},
   "outputs": [
    {
     "name": "stdout",
     "output_type": "stream",
     "text": [
      "Maximize\n",
      "1.0*BIOMASS_SC5_notrace - 1.0*BIOMASS_SC5_notrace_reverse_93090\n"
     ]
    }
   ],
   "source": [
    "# Verify if there is already an objective function (model exploration)\n",
    "print(model.objective)"
   ]
  },
  {
   "cell_type": "code",
   "execution_count": 24,
   "metadata": {},
   "outputs": [
    {
     "data": {
      "text/html": [
       "\n",
       "        <table>\n",
       "            <tr>\n",
       "                <td><strong>Reaction identifier</strong></td><td>STS</td>\n",
       "            </tr><tr>\n",
       "                <td><strong>Name</strong></td><td></td>\n",
       "            </tr><tr>\n",
       "                <td><strong>Memory address</strong></td>\n",
       "                <td>0x11c55a320</td>\n",
       "            </tr><tr>\n",
       "                <td><strong>Stoichiometry</strong></td>\n",
       "                <td>\n",
       "                    <p style='text-align:right'>e4_coumaroyl_coa + 3.0 h_c + 3.0 malcoa_c --> 4.0 co2_c + 4.0 coa_c + trans_resv</p>\n",
       "                    <p style='text-align:right'>+ 3.0 H+ + 3.0 Malonyl CoA C24H33N7O19P3S --> 4.0 CO2 CO2 + 4.0 Coenzyme A +</p>\n",
       "                </td>\n",
       "            </tr><tr>\n",
       "                <td><strong>GPR</strong></td><td></td>\n",
       "            </tr><tr>\n",
       "                <td><strong>Lower bound</strong></td><td>0.0</td>\n",
       "            </tr><tr>\n",
       "                <td><strong>Upper bound</strong></td><td>999999.0</td>\n",
       "            </tr>\n",
       "        </table>\n",
       "        "
      ],
      "text/plain": [
       "<Reaction STS at 0x11c55a320>"
      ]
     },
     "execution_count": 24,
     "metadata": {},
     "output_type": "execute_result"
    }
   ],
   "source": [
    "model.reactions.get_by_id('STS')"
   ]
  },
  {
   "cell_type": "markdown",
   "metadata": {},
   "source": [
    "##### Calculating maximum productivity and theoretical yield in mmol."
   ]
  },
  {
   "cell_type": "code",
   "execution_count": 25,
   "metadata": {},
   "outputs": [
    {
     "name": "stdout",
     "output_type": "stream",
     "text": [
      "Maximum resveatrol productivity  [mmol gDW^-1 h^-1] =  -3.5854175560313005e-17\n",
      "Theoretical max. yield [mmol-glc / mmol-resv]: -1.4304322124583214e-16\n"
     ]
    }
   ],
   "source": [
    "## Setting the objective reaction to resveratrol production\n",
    "with model:\n",
    "    model.objective = model.reactions.STS\n",
    "    resv_production = model.optimize().objective_value\n",
    "    print(\"Maximum resveatrol productivity  [mmol gDW^-1 h^-1] = \", resv_production)\n",
    "    print(\"Theoretical max. yield [mmol-glc / mmol-resv]:\", resv_production / (-1*model.reactions.EX_glc__D_e.flux))"
   ]
  },
  {
   "cell_type": "markdown",
   "metadata": {},
   "source": [
    "### Maximum yield and productivity increasing carbon source."
   ]
  },
  {
   "cell_type": "markdown",
   "metadata": {},
   "source": [
    "Inscreasing glucose concentration."
   ]
  },
  {
   "cell_type": "code",
   "execution_count": 26,
   "metadata": {},
   "outputs": [
    {
     "data": {
      "text/plain": [
       "0.0"
      ]
     },
     "execution_count": 26,
     "metadata": {},
     "output_type": "execute_result"
    }
   ],
   "source": [
    "model.reactions.Ex_coumarate_transport.flux "
   ]
  },
  {
   "cell_type": "code",
   "execution_count": 30,
   "metadata": {},
   "outputs": [
    {
     "name": "stderr",
     "output_type": "stream",
     "text": [
      "Ex_coumarate_transport does not seem to be an an exchange reaction. Applying bounds anyway.\n"
     ]
    },
    {
     "name": "stdout",
     "output_type": "stream",
     "text": [
      "Glucose concentration is: -0.0\n",
      "Maximum growth rate is  [h^-1] =  0.2878657037040137 \n",
      "\n",
      "Glucose concentration is: -0.0\n",
      "Maximum growth rate is  [h^-1] =  0.288\n"
     ]
    }
   ],
   "source": [
    "# Growth rate with default glucose cocnentration\n",
    "medium = model.medium\n",
    "with model:\n",
    "    growth_rate = model.optimize().objective_value                  #Growth rate\n",
    "    coumarate_con = (-1*model.reactions.Ex_coumarate_transport.flux)\n",
    "    print(\"Coumaric acid is:\", coumarate_con)\n",
    "    print(\"Maximum growth rate is  [h^-1] = \", growth_rate, \"\\n\")\n",
    "\n",
    "    # Increase glucose concentration.\n",
    "    medium['Ex_coumarate_transport'] =1000\n",
    "    model.medium = medium\n",
    "\n",
    "    #Re-calculate growth rate with new glucose concentration\n",
    "    growth_rate = model.optimize().objective_value\n",
    "    glccoumarate_con_con = (-1*model.reactions.Ex_coumarate_transport.flux)\n",
    "    print(\"Coumaric acid concentration is:\", round(coumarate_con,3))\n",
    "    print(\"Maximum growth rate is  [h^-1] = \",round(growth_rate,3))"
   ]
  },
  {
   "cell_type": "markdown",
   "metadata": {},
   "source": [
    "Now lets see the effects of increasing glucose concentration on resveratrol yield and production."
   ]
  },
  {
   "cell_type": "code",
   "execution_count": 34,
   "metadata": {},
   "outputs": [
    {
     "name": "stderr",
     "output_type": "stream",
     "text": [
      "Ex_coumarate_transport does not seem to be an an exchange reaction. Applying bounds anyway.\n"
     ]
    },
    {
     "name": "stdout",
     "output_type": "stream",
     "text": [
      "With glucose concentration -0.0 , maximum resveatrol productivity  [mmol gDW^-1 h^-1] =  0.0\n",
      "With glucose concentration -0.0 , maximum resveatrol productivity  [mmol gDW^-1 h^-1] =  0.0\n"
     ]
    },
    {
     "ename": "ZeroDivisionError",
     "evalue": "float division by zero",
     "output_type": "error",
     "traceback": [
      "\u001b[0;31m---------------------------------------------------------------------------\u001b[0m",
      "\u001b[0;31mZeroDivisionError\u001b[0m                         Traceback (most recent call last)",
      "Cell \u001b[0;32mIn [34], line 14\u001b[0m\n\u001b[1;32m     12\u001b[0m resv_production \u001b[39m=\u001b[39m model\u001b[39m.\u001b[39moptimize()\u001b[39m.\u001b[39mobjective_value\n\u001b[1;32m     13\u001b[0m \u001b[39mprint\u001b[39m(\u001b[39m\"\u001b[39m\u001b[39mWith glucose concentration\u001b[39m\u001b[39m\"\u001b[39m,(\u001b[39m-\u001b[39m\u001b[39m1\u001b[39m\u001b[39m*\u001b[39mmodel\u001b[39m.\u001b[39mreactions\u001b[39m.\u001b[39mEx_coumarate_transport\u001b[39m.\u001b[39mflux),\u001b[39m\"\u001b[39m\u001b[39m, maximum resveatrol productivity  [mmol gDW^-1 h^-1] = \u001b[39m\u001b[39m\"\u001b[39m,\u001b[39mround\u001b[39m(resv_production,\u001b[39m3\u001b[39m))\n\u001b[0;32m---> 14\u001b[0m \u001b[39mprint\u001b[39m(\u001b[39m\"\u001b[39m\u001b[39mTheoretical max. yield [mmol-glc / mmol-resv]:\u001b[39m\u001b[39m\"\u001b[39m, \u001b[39mround\u001b[39m(resv_production \u001b[39m/\u001b[39;49m (\u001b[39m-\u001b[39;49m\u001b[39m1\u001b[39;49m\u001b[39m*\u001b[39;49mmodel\u001b[39m.\u001b[39;49mreactions\u001b[39m.\u001b[39;49mEx_coumarate_transport\u001b[39m.\u001b[39;49mflux),\u001b[39m3\u001b[39m))\n",
      "\u001b[0;31mZeroDivisionError\u001b[0m: float division by zero"
     ]
    }
   ],
   "source": [
    "medium = model.medium\n",
    "\n",
    "with model:\n",
    "    model.objective = model.reactions.STS\n",
    "    resv_production = model.optimize().objective_value\n",
    "    print(\"With glucose concentration\",(-1*model.reactions.Ex_coumarate_transport.flux),\", maximum resveatrol productivity  [mmol gDW^-1 h^-1] = \",round(resv_production,3))\n",
    "    #print(\"Theoretical max. yield [mmol-glc / mmol-resv]:\", round(resv_production / (-1*model.reactions.Ex_coumarate_transport.flux),3), \"\\n\")\n",
    "\n",
    "    medium['Ex_coumarate_transport'] = 100000\n",
    "    model.medium = medium\n",
    "\n",
    "    resv_production = model.optimize().objective_value\n",
    "    print(\"With glucose concentration\",(-1*model.reactions.Ex_coumarate_transport.flux),\", maximum resveatrol productivity  [mmol gDW^-1 h^-1] = \",round(resv_production,3))\n",
    "    print(\"Theoretical max. yield [mmol-glc / mmol-resv]:\", round(resv_production / (-1*model.reactions.Ex_coumarate_transport.flux),3))"
   ]
  }
 ],
 "metadata": {
  "kernelspec": {
   "display_name": "Python 3.10.7 64-bit",
   "language": "python",
   "name": "python3"
  },
  "language_info": {
   "codemirror_mode": {
    "name": "ipython",
    "version": 3
   },
   "file_extension": ".py",
   "mimetype": "text/x-python",
   "name": "python",
   "nbconvert_exporter": "python",
   "pygments_lexer": "ipython3",
   "version": "3.10.7"
  },
  "vscode": {
   "interpreter": {
    "hash": "aee8b7b246df8f9039afb4144a1f6fd8d2ca17a180786b69acc140d282b71a49"
   }
  }
 },
 "nbformat": 4,
 "nbformat_minor": 4
}
