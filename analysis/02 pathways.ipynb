{
 "cells": [
  {
   "cell_type": "code",
   "execution_count": 1,
   "metadata": {},
   "outputs": [],
   "source": [
    "from cobra.io import read_sbml_model\n",
    "from cobra import Reaction, Metabolite\n",
    "import pandas as pd"
   ]
  },
  {
   "cell_type": "code",
   "execution_count": 10,
   "metadata": {},
   "outputs": [],
   "source": [
    "model = read_sbml_model('data/models/iMM904.xml')\n",
    "model_new = model"
   ]
  },
  {
   "cell_type": "code",
   "execution_count": 11,
   "metadata": {},
   "outputs": [],
   "source": [
    "# Reaction 1 (HA-TAL):L-tyrosine <=> (E).4.coumarate +   NH4+\n",
    "new_reaction1 = Reaction('HA-TAL') # 3-(o)xopropanoate:(N)ADP+ (o)xidoreductase\n",
    "coumarate4 = Metabolite(id='coumarate4', compartment='c')\n",
    "new_reaction1.add_metabolites({model_new.metabolites.tyr__L_c: -1, # Search L-tyrisine ID\n",
    "                               coumarate4: 1, # 3-Oxopropanoate\n",
    "                               model_new.metabolites.nh4_c: 1, # Search fpr NH4 ID\n",
    "                              })\n",
    "model_new.add_reactions([new_reaction1])"
   ]
  },
  {
   "cell_type": "code",
   "execution_count": 12,
   "metadata": {},
   "outputs": [],
   "source": [
    "new_reaction2 = Reaction('AT-4CL1')\n",
    "E4_coumaroyl_CoA = Metabolite(id='e4_coumaroyl_coa', compartment='c')\n",
    "new_reaction2.add_metabolites({model_new.metabolites.coumarate4: -1,\n",
    "                               model_new.metabolites.atp_c: -1,\n",
    "                               model_new.metabolites.coa_c: -1,\n",
    "                               E4_coumaroyl_CoA: 1,\n",
    "                               model_new.metabolites.amp_c: 1,\n",
    "                               model_new.metabolites.ppi_c: 1,\n",
    "                              })\n",
    "model_new.add_reactions([new_reaction2])"
   ]
  },
  {
   "cell_type": "code",
   "execution_count": 13,
   "metadata": {},
   "outputs": [],
   "source": [
    "new_reaction3 = Reaction('VVVST1')\n",
    "trans_resv = Metabolite(id='trans_resv', compartment='c')\n",
    "new_reaction3.add_metabolites({model_new.metabolites.e4_coumaroyl_coa: -1,\n",
    "                               model_new.metabolites.h_c: -3,\n",
    "                               model_new.metabolites.malcoa_c: -3,\n",
    "                               model_new.metabolites.co2_c: 4,\n",
    "                               model_new.metabolites.coa_c: 4,\n",
    "                               trans_resv: 1\n",
    "                              })\n",
    "model_new.add_reactions([new_reaction3])"
   ]
  },
  {
   "cell_type": "code",
   "execution_count": 14,
   "metadata": {},
   "outputs": [
    {
     "data": {
      "text/html": [
       "\n",
       "        <table>\n",
       "            <tr>\n",
       "                <td><strong>Reaction identifier</strong></td><td>VVVST1</td>\n",
       "            </tr><tr>\n",
       "                <td><strong>Name</strong></td><td></td>\n",
       "            </tr><tr>\n",
       "                <td><strong>Memory address</strong></td>\n",
       "                <td>0x07fca371b5a90</td>\n",
       "            </tr><tr>\n",
       "                <td><strong>Stoichiometry</strong></td>\n",
       "                <td>\n",
       "                    <p style='text-align:right'>e4_coumaroyl_coa + 3 h_c + 3 malcoa_c --> 4 co2_c + 4 coa_c + trans_resv</p>\n",
       "                    <p style='text-align:right'> + 3 H+ + 3 Malonyl CoA C24H33N7O19P3S --> 4 CO2 CO2 + 4 Coenzyme A + </p>\n",
       "                </td>\n",
       "            </tr><tr>\n",
       "                <td><strong>GPR</strong></td><td></td>\n",
       "            </tr><tr>\n",
       "                <td><strong>Lower bound</strong></td><td>0.0</td>\n",
       "            </tr><tr>\n",
       "                <td><strong>Upper bound</strong></td><td>1000.0</td>\n",
       "            </tr>\n",
       "        </table>\n",
       "        "
      ],
      "text/plain": [
       "<Reaction VVVST1 at 0x7fca371b5a90>"
      ]
     },
     "execution_count": 14,
     "metadata": {},
     "output_type": "execute_result"
    }
   ],
   "source": [
    "model_new.reactions.get_by_id('VVVST1')"
   ]
  },
  {
   "cell_type": "code",
   "execution_count": 18,
   "metadata": {},
   "outputs": [],
   "source": [
    "from cobra.io import write_sbml_model\n",
    "write_sbml_model(model_new,'data/models/yeast_resv.xml')"
   ]
  },
  {
   "cell_type": "markdown",
   "metadata": {},
   "source": [
    "#### how much resveratrol is produced?"
   ]
  },
  {
   "cell_type": "code",
   "execution_count": 16,
   "metadata": {},
   "outputs": [
    {
     "data": {
      "text/html": [
       "\n",
       "        <table>\n",
       "            <tr>\n",
       "                <td><strong>Reaction identifier</strong></td><td>DM_trans_resv</td>\n",
       "            </tr><tr>\n",
       "                <td><strong>Name</strong></td><td> demand</td>\n",
       "            </tr><tr>\n",
       "                <td><strong>Memory address</strong></td>\n",
       "                <td>0x07fca371beba8</td>\n",
       "            </tr><tr>\n",
       "                <td><strong>Stoichiometry</strong></td>\n",
       "                <td>\n",
       "                    <p style='text-align:right'>trans_resv --> </p>\n",
       "                    <p style='text-align:right'> --> </p>\n",
       "                </td>\n",
       "            </tr><tr>\n",
       "                <td><strong>GPR</strong></td><td></td>\n",
       "            </tr><tr>\n",
       "                <td><strong>Lower bound</strong></td><td>0</td>\n",
       "            </tr><tr>\n",
       "                <td><strong>Upper bound</strong></td><td>1000.0</td>\n",
       "            </tr>\n",
       "        </table>\n",
       "        "
      ],
      "text/plain": [
       "<Reaction DM_trans_resv at 0x7fca371beba8>"
      ]
     },
     "execution_count": 16,
     "metadata": {},
     "output_type": "execute_result"
    }
   ],
   "source": [
    "model_new.add_boundary(model_new.metabolites.trans_resv, type='demand')"
   ]
  },
  {
   "cell_type": "code",
   "execution_count": 17,
   "metadata": {},
   "outputs": [
    {
     "data": {
      "text/plain": [
       "1.1785714285714293"
      ]
     },
     "execution_count": 17,
     "metadata": {},
     "output_type": "execute_result"
    }
   ],
   "source": [
    "with model_new:\n",
    "    model_new.objective=model_new.reactions.VVVST1\n",
    "    lets_produce_resv= model_new.optimize().objective_value\n",
    "lets_produce_resv"
   ]
  }
 ],
 "metadata": {
  "kernelspec": {
   "display_name": "python3.6",
   "language": "python",
   "name": "python3.6"
  },
  "language_info": {
   "codemirror_mode": {
    "name": "ipython",
    "version": 3
   },
   "file_extension": ".py",
   "mimetype": "text/x-python",
   "name": "python",
   "nbconvert_exporter": "python",
   "pygments_lexer": "ipython3",
   "version": "3.6.12"
  }
 },
 "nbformat": 4,
 "nbformat_minor": 4
}
