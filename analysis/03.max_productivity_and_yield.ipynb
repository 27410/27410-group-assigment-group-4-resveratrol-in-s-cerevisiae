{
 "cells": [
  {
   "cell_type": "code",
   "execution_count": 1,
   "metadata": {},
   "outputs": [],
   "source": [
    "from cobra.io import read_sbml_model"
   ]
  },
  {
   "cell_type": "code",
   "execution_count": 2,
   "metadata": {},
   "outputs": [],
   "source": [
    "# ONLY  OUTCOMENT THESE LINES IF NEEDED AND COMMENT THEM AGAIN AFTERWARDS\n",
    "# Verify working directory and change it if needed\n",
    "#os.getcwd()\n",
    "#os.chdir(\"/Users/abril/Documents/DTU/CFD_Resveratrol/27410-group-assigment-group-4-resveratrol-in-s-cerevisiae\")"
   ]
  },
  {
   "cell_type": "code",
   "execution_count": 3,
   "metadata": {},
   "outputs": [],
   "source": [
    "model = read_sbml_model(\"../data/models/yeast8_resv_glc.xml\")"
   ]
  },
  {
   "cell_type": "code",
   "execution_count": 4,
   "metadata": {},
   "outputs": [
    {
     "data": {
      "text/html": [
       "\n",
       "        <table>\n",
       "            <tr>\n",
       "                <td><strong>Name</strong></td>\n",
       "                <td>yeastGEM_v8__46__6__46__2</td>\n",
       "            </tr><tr>\n",
       "                <td><strong>Memory address</strong></td>\n",
       "                <td>0x07fb9e84cbe90</td>\n",
       "            </tr><tr>\n",
       "                <td><strong>Number of metabolites</strong></td>\n",
       "                <td>2747</td>\n",
       "            </tr><tr>\n",
       "                <td><strong>Number of reactions</strong></td>\n",
       "                <td>4067</td>\n",
       "            </tr><tr>\n",
       "                <td><strong>Number of groups</strong></td>\n",
       "                <td>106</td>\n",
       "            </tr><tr>\n",
       "                <td><strong>Objective expression</strong></td>\n",
       "                <td>1.0*GROWTH - 1.0*GROWTH_reverse_c845e</td>\n",
       "            </tr><tr>\n",
       "                <td><strong>Compartments</strong></td>\n",
       "                <td>cell envelope, cytoplasm, extracellular, mitochondrion, nucleus, peroxisome, endoplasmic reticulum, Golgi, lipid particle, vacuole, endoplasmic reticulum membrane, vacuolar membrane, Golgi membrane, mitochondrial membrane</td>\n",
       "            </tr>\n",
       "          </table>"
      ],
      "text/plain": [
       "<Model yeastGEM_v8__46__6__46__2 at 0x7fb9e84cbe90>"
      ]
     },
     "execution_count": 4,
     "metadata": {},
     "output_type": "execute_result"
    }
   ],
   "source": [
    "# Model olverview\n",
    "model"
   ]
  },
  {
   "cell_type": "markdown",
   "metadata": {},
   "source": [
    "Before doing any modifications to the biomass, glucose, resveratrol, or other fluxes, let's see what is the resveratrol yield an prodcution with the default boundaries provided byt the model."
   ]
  },
  {
   "cell_type": "code",
   "execution_count": 5,
   "metadata": {},
   "outputs": [
    {
     "name": "stdout",
     "output_type": "stream",
     "text": [
      "Maximum resveatrol productivity  [mmol/gDW^-1 h^-1] =  0.3103760811914645\n",
      "Theoretical max. yield [mmol-resv/mmol-glc ]: 0.3103760811914645\n"
     ]
    }
   ],
   "source": [
    "with model:\n",
    "    model.objective = model.reactions.VVVST1 # set the objective reaction to resveratrol production.\n",
    "    resv_production = model.optimize().objective_value\n",
    "    print(\"Maximum resveatrol productivity  [mmol/gDW^-1 h^-1] = \", resv_production)\n",
    "    print(\"Theoretical max. yield [mmol-resv/mmol-glc ]:\", resv_production / (-1*model.reactions.EX_glc__D_e.flux))"
   ]
  },
  {
   "cell_type": "markdown",
   "metadata": {},
   "source": [
    "Now let's explore the model :)"
   ]
  },
  {
   "cell_type": "code",
   "execution_count": 6,
   "metadata": {},
   "outputs": [
    {
     "name": "stdout",
     "output_type": "stream",
     "text": [
      "Maximize\n",
      "1.0*GROWTH - 1.0*GROWTH_reverse_c845e\n"
     ]
    }
   ],
   "source": [
    "# Verify if there is already an objective function (model exploration)\n",
    "print(model.objective)"
   ]
  },
  {
   "cell_type": "code",
   "execution_count": 7,
   "metadata": {},
   "outputs": [
    {
     "data": {
      "text/html": [
       "\n",
       "        <table>\n",
       "            <tr>\n",
       "                <td><strong>Reaction identifier</strong></td><td>GROWTH</td>\n",
       "            </tr><tr>\n",
       "                <td><strong>Name</strong></td><td>growth</td>\n",
       "            </tr><tr>\n",
       "                <td><strong>Memory address</strong></td>\n",
       "                <td>0x07fb9d8aacc50</td>\n",
       "            </tr><tr>\n",
       "                <td><strong>Stoichiometry</strong></td>\n",
       "                <td>\n",
       "                    <p style='text-align:right'>biomass_c --></p>\n",
       "                    <p style='text-align:right'>biomass --></p>\n",
       "                </td>\n",
       "            </tr><tr>\n",
       "                <td><strong>GPR</strong></td><td></td>\n",
       "            </tr><tr>\n",
       "                <td><strong>Lower bound</strong></td><td>0.0</td>\n",
       "            </tr><tr>\n",
       "                <td><strong>Upper bound</strong></td><td>1000.0</td>\n",
       "            </tr>\n",
       "        </table>\n",
       "        "
      ],
      "text/plain": [
       "<Reaction GROWTH at 0x7fb9d8aacc50>"
      ]
     },
     "execution_count": 7,
     "metadata": {},
     "output_type": "execute_result"
    }
   ],
   "source": [
    "# The present objective function belongs to:\n",
    "model.reactions.GROWTH"
   ]
  },
  {
   "cell_type": "markdown",
   "metadata": {},
   "source": [
    "Now let's impose a minimum biomass bound. In this case 50% of the biomass flux."
   ]
  },
  {
   "cell_type": "code",
   "execution_count": 8,
   "metadata": {},
   "outputs": [],
   "source": [
    "biomass_objective = model.optimize().objective_value #get the objective value "
   ]
  },
  {
   "cell_type": "code",
   "execution_count": 9,
   "metadata": {},
   "outputs": [
    {
     "name": "stdout",
     "output_type": "stream",
     "text": [
      "Biomass bounds nor are: (0.04096405639410167, 1000.0)\n"
     ]
    }
   ],
   "source": [
    "model.reactions.GROWTH.lower_bound = biomass_objective*0.5 #set the minimum biomass to be 50% of the flux\n",
    "print(\"Biomass bounds nor are:\", model.reactions.GROWTH.bounds)"
   ]
  },
  {
   "cell_type": "markdown",
   "metadata": {},
   "source": [
    "## Maximum yield and productivity "
   ]
  },
  {
   "cell_type": "markdown",
   "metadata": {},
   "source": [
    "### Calculate theoretical maximum yields for chosen product for suitable carbon sources"
   ]
  },
  {
   "cell_type": "code",
   "execution_count": 10,
   "metadata": {},
   "outputs": [
    {
     "data": {
      "text/html": [
       "\n",
       "        <table>\n",
       "            <tr>\n",
       "                <td><strong>Reaction identifier</strong></td><td>VVVST1</td>\n",
       "            </tr><tr>\n",
       "                <td><strong>Name</strong></td><td></td>\n",
       "            </tr><tr>\n",
       "                <td><strong>Memory address</strong></td>\n",
       "                <td>0x07fb9d9e4f850</td>\n",
       "            </tr><tr>\n",
       "                <td><strong>Stoichiometry</strong></td>\n",
       "                <td>\n",
       "                    <p style='text-align:right'>e4_coumaroyl_coa + 3.0 h_c + 3.0 malcoa_c --> 4.0 co2_c + 4.0 coa_c + trans_resv</p>\n",
       "                    <p style='text-align:right'>+ 3.0 H+ + 3.0 malonyl-CoA --> 4.0 carbon dioxide + 4.0 coenzyme A +</p>\n",
       "                </td>\n",
       "            </tr><tr>\n",
       "                <td><strong>GPR</strong></td><td></td>\n",
       "            </tr><tr>\n",
       "                <td><strong>Lower bound</strong></td><td>0.0</td>\n",
       "            </tr><tr>\n",
       "                <td><strong>Upper bound</strong></td><td>1000.0</td>\n",
       "            </tr>\n",
       "        </table>\n",
       "        "
      ],
      "text/plain": [
       "<Reaction VVVST1 at 0x7fb9d9e4f850>"
      ]
     },
     "execution_count": 10,
     "metadata": {},
     "output_type": "execute_result"
    }
   ],
   "source": [
    "model.reactions.get_by_id('VVVST1')"
   ]
  },
  {
   "cell_type": "markdown",
   "metadata": {},
   "source": [
    "##### Calculating maximum productivity and theoretical yield.\n",
    "Using default medium concentration with minimum biomass set."
   ]
  },
  {
   "cell_type": "code",
   "execution_count": 11,
   "metadata": {},
   "outputs": [
    {
     "name": "stdout",
     "output_type": "stream",
     "text": [
      "Maximum resveatrol productivity  [mmol/gDW^-1 h^-1] =  0.1552470231681866\n",
      "Theoretical max. yield [mmol-resv/mmol-glc ]: 0.1552470231681866\n"
     ]
    }
   ],
   "source": [
    "## Setting the objective reaction to resveratrol production.\n",
    "with model:\n",
    "    model.objective = model.reactions.VVVST1\n",
    "    resv_production = model.optimize().objective_value\n",
    "    print(\"Maximum resveatrol productivity  [mmol/gDW^-1 h^-1] = \", resv_production)\n",
    "    print(\"Theoretical max. yield [mmol-resv/mmol-glc ]:\", resv_production / (-1*model.reactions.EX_glc__D_e.flux))"
   ]
  },
  {
   "cell_type": "markdown",
   "metadata": {},
   "source": [
    "### Maximum yield and productivity increasing carbon source."
   ]
  },
  {
   "cell_type": "code",
   "execution_count": 12,
   "metadata": {},
   "outputs": [
    {
     "name": "stdout",
     "output_type": "stream",
     "text": [
      "EX_nh4_e: nh4_e <=>  | ammonium exchange | conc. = 1000.0\n",
      "EX_glc__D_e: glc__D_e <=>  | D-glucose exchange | conc. = 1.0\n",
      "EX_h_e: h_e <=>  | H+ exchange | conc. = 1000.0\n",
      "EX_fe2_e: fe2_e <=>  | iron(2+) exchange | conc. = 1000.0\n",
      "EX_o2_e: o2_e <=>  | oxygen exchange | conc. = 1000.0\n",
      "EX_pi_e: pi_e <=>  | phosphate exchange | conc. = 1000.0\n",
      "EX_k_e: k_e <=>  | potassium exchange | conc. = 1000.0\n",
      "EX_na1_e: na1_e <=>  | sodium exchange | conc. = 1000.0\n",
      "EX_so4_e: so4_e <=>  | sulphate exchange | conc. = 1000.0\n",
      "EX_h2o_e: h2o_e <=>  | water exchange | conc. = 1000.0\n",
      "EX_cl_e: cl_e <=>  | chloride exchange | conc. = 1000.0\n",
      "EX_cu2_e: cu2_e <=>  | Cu2(+) exchange | conc. = 1000.0\n",
      "EX_mn2_e: mn2_e <=>  | Mn(2+) exchange | conc. = 1000.0\n",
      "EX_zn2_e: zn2_e <=>  | Zn(2+) exchange | conc. = 1000.0\n",
      "EX_mg2_e: mg2_e <=>  | Mg(2+) exchange | conc. = 1000.0\n",
      "EX_ca2_e: ca2_e <=>  | Ca(2+) exchange | conc. = 1000.0\n"
     ]
    }
   ],
   "source": [
    "# Get the medium composition concentration based on the exchange reactions.\n",
    "for m in model.medium.items():\n",
    "    print(model.reactions.get_by_id(m[0]), \"|\", model.reactions.get_by_id(m[0]).name, \"| conc. =\", m[1])"
   ]
  },
  {
   "cell_type": "markdown",
   "metadata": {},
   "source": [
    "Inscreasing glucose concentration."
   ]
  },
  {
   "cell_type": "code",
   "execution_count": 13,
   "metadata": {},
   "outputs": [
    {
     "data": {
      "text/plain": [
       "-1.0"
      ]
     },
     "execution_count": 13,
     "metadata": {},
     "output_type": "execute_result"
    }
   ],
   "source": [
    "model.reactions.EX_glc__D_e.flux "
   ]
  },
  {
   "cell_type": "code",
   "execution_count": 14,
   "metadata": {},
   "outputs": [
    {
     "name": "stdout",
     "output_type": "stream",
     "text": [
      "Glucose concentration is: 1.0\n",
      "Maximum growth rate is  [h^-1] =  0.082 \n",
      "\n",
      "Glucose concentration is: 4.0\n",
      "Maximum growth rate is  [h^-1] =  0.337 \n",
      "\n",
      "Glucose concentration is: 10.0\n",
      "Maximum growth rate is  [h^-1] =  0.847 \n",
      "\n",
      "Glucose concentration is: 30.0\n",
      "Maximum growth rate is  [h^-1] =  2.548\n"
     ]
    }
   ],
   "source": [
    "# Growth rate with default glucose cocnentration\n",
    "medium = model.medium\n",
    "with model:\n",
    "    growth_rate = model.optimize().objective_value  #Growth rate\n",
    "    glc_con = (-1*model.reactions.EX_glc__D_e.flux)\n",
    "    print(\"Glucose concentration is:\", round(glc_con,3))\n",
    "    print(\"Maximum growth rate is  [h^-1] = \", round(growth_rate,3), \"\\n\")\n",
    "\n",
    "    # Increase glucose concentration.\n",
    "    medium['EX_glc__D_e'] = 4 #Glucose concentration to have the max growth rate.\n",
    "    model.medium = medium\n",
    "\n",
    "    #Re-calculate growth rate with new glucose concentration\n",
    "    growth_rate = model.optimize().objective_value\n",
    "    glc_con = (-1*model.reactions.EX_glc__D_e.flux)\n",
    "    print(\"Glucose concentration is:\", round(glc_con,3))\n",
    "    print(\"Maximum growth rate is  [h^-1] = \",round(growth_rate,3), \"\\n\")\n",
    "\n",
    "    # Increase glucose concentration.\n",
    "    medium['EX_glc__D_e'] = 10 #Glucose concentration to have the max growth rate.\n",
    "    model.medium = medium\n",
    "\n",
    "    #Re-calculate growth rate with new glucose concentration\n",
    "    growth_rate = model.optimize().objective_value\n",
    "    glc_con = (-1*model.reactions.EX_glc__D_e.flux)\n",
    "    print(\"Glucose concentration is:\", round(glc_con,3))\n",
    "    print(\"Maximum growth rate is  [h^-1] = \",round(growth_rate,3), \"\\n\")\n",
    "\n",
    "        # Increase glucose concentration.\n",
    "    medium['EX_glc__D_e'] = 30 #Glucose concentration to have the max growth rate.\n",
    "    model.medium = medium\n",
    "\n",
    "    #Re-calculate growth rate with new glucose concentration\n",
    "    growth_rate = model.optimize().objective_value\n",
    "    glc_con = (-1*model.reactions.EX_glc__D_e.flux)\n",
    "    print(\"Glucose concentration is:\", round(glc_con,3))\n",
    "    print(\"Maximum growth rate is  [h^-1] = \",round(growth_rate,3))"
   ]
  },
  {
   "cell_type": "markdown",
   "metadata": {},
   "source": [
    "We performed this simulation to know the limits of our system. According to the results, a glucose concentration of 1646.00 results in the maximum cell growth rate. However this does not mean it is the ideal glucose concentration. To make assumptions it it necessary to also observ the effects increasing the glucose concentration has on resveratrol theoretical productivity and yield."
   ]
  },
  {
   "cell_type": "markdown",
   "metadata": {},
   "source": [
    "##### Now lets see the effects of increasing glucose concentration on resveratrol yield and production."
   ]
  },
  {
   "cell_type": "code",
   "execution_count": 16,
   "metadata": {},
   "outputs": [
    {
     "name": "stdout",
     "output_type": "stream",
     "text": [
      "With glucose concentration 1.0\n",
      "Maximum resveatrol productivity  [mmol gDW^-1 h^-1] =  0.155\n",
      "Theoretical max. yield [mmol-glc / mmol-resv]: 0.155 \n",
      "\n",
      "With glucose concentration 4.0\n",
      "Maximum resveatrol productivity  [mmol gDW^-1 h^-1] =  1.122\n",
      "Theoretical max. yield [mmol-glc / mmol-resv]: 0.28 \n",
      "\n",
      "With glucose concentration 10.0\n",
      "Maximum resveatrol productivity  [mmol gDW^-1 h^-1] =  3.054\n",
      "Theoretical max. yield [mmol-glc / mmol-resv]: 0.305 \n",
      "\n",
      "With glucose concentration 30.0\n",
      "Maximum resveatrol productivity  [mmol gDW^-1 h^-1] =  9.448\n",
      "Theoretical max. yield [mmol-glc / mmol-resv]: 0.315\n"
     ]
    }
   ],
   "source": [
    "medium = model.medium\n",
    "\n",
    "with model:\n",
    "    model.objective = model.reactions.VVVST1\n",
    "    resv_production = model.optimize().objective_value\n",
    "    print(\"With glucose concentration\", (-1*model.reactions.EX_glc__D_e.flux))\n",
    "    print(\"Maximum resveatrol productivity  [mmol gDW^-1 h^-1] = \",round(resv_production,3))\n",
    "    print(\"Theoretical max. yield [mmol-glc / mmol-resv]:\", round(resv_production / (-1*model.reactions.EX_glc__D_e.flux),3), \"\\n\")\n",
    "\n",
    "    medium['EX_glc__D_e'] = 4\n",
    "    model.medium = medium\n",
    "\n",
    "    resv_production = model.optimize().objective_value\n",
    "    print(\"With glucose concentration\",(-1*model.reactions.EX_glc__D_e.flux))\n",
    "    print(\"Maximum resveatrol productivity  [mmol gDW^-1 h^-1] = \",round(resv_production,3))\n",
    "    print(\"Theoretical max. yield [mmol-glc / mmol-resv]:\", round(resv_production / (-1*model.reactions.EX_glc__D_e.flux),3),  \"\\n\")\n",
    "\n",
    "\n",
    "    medium['EX_glc__D_e'] = 10\n",
    "    model.medium = medium\n",
    "\n",
    "    resv_production = model.optimize().objective_value\n",
    "    print(\"With glucose concentration\",(-1*model.reactions.EX_glc__D_e.flux))\n",
    "    print(\"Maximum resveatrol productivity  [mmol gDW^-1 h^-1] = \",round(resv_production,3))\n",
    "    print(\"Theoretical max. yield [mmol-glc / mmol-resv]:\", round(resv_production / (-1*model.reactions.EX_glc__D_e.flux),3),  \"\\n\")\n",
    "\n",
    "    medium['EX_glc__D_e'] = 30\n",
    "    model.medium = medium\n",
    "\n",
    "    resv_production = model.optimize().objective_value\n",
    "    print(\"With glucose concentration\",(-1*model.reactions.EX_glc__D_e.flux))\n",
    "    print(\"Maximum resveatrol productivity  [mmol gDW^-1 h^-1] = \",round(resv_production,3))\n",
    "    print(\"Theoretical max. yield [mmol-glc / mmol-resv]:\", round(resv_production / (-1*model.reactions.EX_glc__D_e.flux),3))"
   ]
  },
  {
   "cell_type": "code",
   "execution_count": 17,
   "metadata": {},
   "outputs": [
    {
     "data": {
      "text/html": [
       "<h3>Objective</h3><p>1.0 GROWTH = 0.08192811254621693</p><h4>Uptake</h4><table border=\"1\" class=\"dataframe\">\n",
       "  <thead>\n",
       "    <tr style=\"text-align: right;\">\n",
       "      <th>Metabolite</th>\n",
       "      <th>Reaction</th>\n",
       "      <th>Flux</th>\n",
       "      <th>C-Number</th>\n",
       "      <th>C-Flux</th>\n",
       "    </tr>\n",
       "  </thead>\n",
       "  <tbody>\n",
       "    <tr>\n",
       "      <td>ca2_e</td>\n",
       "      <td>EX_ca2_e</td>\n",
       "      <td>1.778E-05</td>\n",
       "      <td>0</td>\n",
       "      <td>0.00%</td>\n",
       "    </tr>\n",
       "    <tr>\n",
       "      <td>cl_e</td>\n",
       "      <td>EX_cl_e</td>\n",
       "      <td>0.0001057</td>\n",
       "      <td>0</td>\n",
       "      <td>0.00%</td>\n",
       "    </tr>\n",
       "    <tr>\n",
       "      <td>cu2_e</td>\n",
       "      <td>EX_cu2_e</td>\n",
       "      <td>5.399E-05</td>\n",
       "      <td>0</td>\n",
       "      <td>0.00%</td>\n",
       "    </tr>\n",
       "    <tr>\n",
       "      <td>fe2_e</td>\n",
       "      <td>EX_fe2_e</td>\n",
       "      <td>2.491E-06</td>\n",
       "      <td>0</td>\n",
       "      <td>0.00%</td>\n",
       "    </tr>\n",
       "    <tr>\n",
       "      <td>glc__D_e</td>\n",
       "      <td>EX_glc__D_e</td>\n",
       "      <td>1</td>\n",
       "      <td>6</td>\n",
       "      <td>100.00%</td>\n",
       "    </tr>\n",
       "    <tr>\n",
       "      <td>h_e</td>\n",
       "      <td>EX_h_e</td>\n",
       "      <td>0.04144</td>\n",
       "      <td>0</td>\n",
       "      <td>0.00%</td>\n",
       "    </tr>\n",
       "    <tr>\n",
       "      <td>k_e</td>\n",
       "      <td>EX_k_e</td>\n",
       "      <td>0.0002974</td>\n",
       "      <td>0</td>\n",
       "      <td>0.00%</td>\n",
       "    </tr>\n",
       "    <tr>\n",
       "      <td>mg2_e</td>\n",
       "      <td>EX_mg2_e</td>\n",
       "      <td>0.0001018</td>\n",
       "      <td>0</td>\n",
       "      <td>0.00%</td>\n",
       "    </tr>\n",
       "    <tr>\n",
       "      <td>mn2_e</td>\n",
       "      <td>EX_mn2_e</td>\n",
       "      <td>0.0002237</td>\n",
       "      <td>0</td>\n",
       "      <td>0.00%</td>\n",
       "    </tr>\n",
       "    <tr>\n",
       "      <td>na1_e</td>\n",
       "      <td>EX_na1_e</td>\n",
       "      <td>0.0003253</td>\n",
       "      <td>0</td>\n",
       "      <td>0.00%</td>\n",
       "    </tr>\n",
       "    <tr>\n",
       "      <td>nh4_e</td>\n",
       "      <td>EX_nh4_e</td>\n",
       "      <td>0.5858</td>\n",
       "      <td>0</td>\n",
       "      <td>0.00%</td>\n",
       "    </tr>\n",
       "    <tr>\n",
       "      <td>o2_e</td>\n",
       "      <td>EX_o2_e</td>\n",
       "      <td>2.332</td>\n",
       "      <td>0</td>\n",
       "      <td>0.00%</td>\n",
       "    </tr>\n",
       "    <tr>\n",
       "      <td>pi_e</td>\n",
       "      <td>EX_pi_e</td>\n",
       "      <td>0.5331</td>\n",
       "      <td>0</td>\n",
       "      <td>0.00%</td>\n",
       "    </tr>\n",
       "    <tr>\n",
       "      <td>so4_e</td>\n",
       "      <td>EX_so4_e</td>\n",
       "      <td>0.007047</td>\n",
       "      <td>0</td>\n",
       "      <td>0.00%</td>\n",
       "    </tr>\n",
       "    <tr>\n",
       "      <td>zn2_e</td>\n",
       "      <td>EX_zn2_e</td>\n",
       "      <td>6.128E-05</td>\n",
       "      <td>0</td>\n",
       "      <td>0.00%</td>\n",
       "    </tr>\n",
       "  </tbody>\n",
       "</table><h4>Secretion</h4><table border=\"1\" class=\"dataframe\">\n",
       "  <thead>\n",
       "    <tr style=\"text-align: right;\">\n",
       "      <th>Metabolite</th>\n",
       "      <th>Reaction</th>\n",
       "      <th>Flux</th>\n",
       "      <th>C-Number</th>\n",
       "      <th>C-Flux</th>\n",
       "    </tr>\n",
       "  </thead>\n",
       "  <tbody>\n",
       "    <tr>\n",
       "      <td>co2_e</td>\n",
       "      <td>EX_co2_e</td>\n",
       "      <td>-2.468</td>\n",
       "      <td>1</td>\n",
       "      <td>100.00%</td>\n",
       "    </tr>\n",
       "    <tr>\n",
       "      <td>gcald_e</td>\n",
       "      <td>EX_gcald_e</td>\n",
       "      <td>-5.293E-06</td>\n",
       "      <td>2</td>\n",
       "      <td>0.00%</td>\n",
       "    </tr>\n",
       "    <tr>\n",
       "      <td>h2o_e</td>\n",
       "      <td>EX_h2o_e</td>\n",
       "      <td>-4.339</td>\n",
       "      <td>0</td>\n",
       "      <td>0.00%</td>\n",
       "    </tr>\n",
       "    <tr>\n",
       "      <td>ppi_e</td>\n",
       "      <td>EX_ppi_e</td>\n",
       "      <td>-0.2461</td>\n",
       "      <td>0</td>\n",
       "      <td>0.00%</td>\n",
       "    </tr>\n",
       "    <tr>\n",
       "      <td>biomass_c</td>\n",
       "      <td>GROWTH</td>\n",
       "      <td>-0.08193</td>\n",
       "      <td>0</td>\n",
       "      <td>0.00%</td>\n",
       "    </tr>\n",
       "  </tbody>\n",
       "</table>"
      ],
      "text/plain": [
       "<cobra.summary.model_summary.ModelSummary at 0x7fb9d8703ad0>"
      ]
     },
     "execution_count": 17,
     "metadata": {},
     "output_type": "execute_result"
    }
   ],
   "source": [
    "model.summary() "
   ]
  }
 ],
 "metadata": {
  "kernelspec": {
   "display_name": "Python 3.7.15 ('dfba')",
   "language": "python",
   "name": "python3"
  },
  "language_info": {
   "codemirror_mode": {
    "name": "ipython",
    "version": 3
   },
   "file_extension": ".py",
   "mimetype": "text/x-python",
   "name": "python",
   "nbconvert_exporter": "python",
   "pygments_lexer": "ipython3",
   "version": "3.7.15"
  },
  "vscode": {
   "interpreter": {
    "hash": "8f0f585614878283aadaa4d96db6d3711d4761cbdcf137fd645d9156666ec168"
   }
  }
 },
 "nbformat": 4,
 "nbformat_minor": 4
}
