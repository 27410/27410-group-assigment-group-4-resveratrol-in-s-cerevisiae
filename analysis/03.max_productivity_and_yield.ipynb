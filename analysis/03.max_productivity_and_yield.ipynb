{
 "cells": [
  {
   "cell_type": "markdown",
   "metadata": {},
   "source": [
    "## Maximum roductivity and yield "
   ]
  },
  {
   "cell_type": "code",
   "execution_count": 2,
   "metadata": {},
   "outputs": [],
   "source": [
    "from cobra.io import read_sbml_model\n",
    "import os"
   ]
  },
  {
   "cell_type": "code",
   "execution_count": 7,
   "metadata": {},
   "outputs": [],
   "source": [
    "# Verify working directory and change it if needed\n",
    "os.getcwd()\n",
    "os.chdir(\"/Users/abril/Documents/DTU/CFD_Resveratrol/27410-group-assigment-group-4-resveratrol-in-s-cerevisiae\")"
   ]
  },
  {
   "cell_type": "code",
   "execution_count": 8,
   "metadata": {},
   "outputs": [],
   "source": [
    "model = read_sbml_model(\"data/models/yeast_resv.xml\")"
   ]
  },
  {
   "cell_type": "code",
   "execution_count": 10,
   "metadata": {},
   "outputs": [
    {
     "data": {
      "text/html": [
       "\n",
       "        <table>\n",
       "            <tr>\n",
       "                <td><strong>Name</strong></td>\n",
       "                <td>iMM904</td>\n",
       "            </tr><tr>\n",
       "                <td><strong>Memory address</strong></td>\n",
       "                <td>0x0105bb0df0</td>\n",
       "            </tr><tr>\n",
       "                <td><strong>Number of metabolites</strong></td>\n",
       "                <td>1229</td>\n",
       "            </tr><tr>\n",
       "                <td><strong>Number of reactions</strong></td>\n",
       "                <td>1581</td>\n",
       "            </tr><tr>\n",
       "                <td><strong>Number of groups</strong></td>\n",
       "                <td>0</td>\n",
       "            </tr><tr>\n",
       "                <td><strong>Objective expression</strong></td>\n",
       "                <td>1.0*BIOMASS_SC5_notrace - 1.0*BIOMASS_SC5_notrace_reverse_93090</td>\n",
       "            </tr><tr>\n",
       "                <td><strong>Compartments</strong></td>\n",
       "                <td>cytosol, extracellular space, mitochondria, peroxisome/glyoxysome, endoplasmic reticulum, vacuole, golgi apparatus, nucleus</td>\n",
       "            </tr>\n",
       "          </table>"
      ],
      "text/plain": [
       "<Model iMM904 at 0x105bb0df0>"
      ]
     },
     "execution_count": 10,
     "metadata": {},
     "output_type": "execute_result"
    }
   ],
   "source": [
    "# Model olverview\n",
    "model"
   ]
  },
  {
   "cell_type": "markdown",
   "metadata": {},
   "source": [
    "### Calculate theoretical maximum yields for chosen product for suitable carbon sources"
   ]
  },
  {
   "cell_type": "code",
   "execution_count": 13,
   "metadata": {},
   "outputs": [
    {
     "name": "stdout",
     "output_type": "stream",
     "text": [
      "Maximize\n",
      "1.0*BIOMASS_SC5_notrace - 1.0*BIOMASS_SC5_notrace_reverse_93090\n"
     ]
    }
   ],
   "source": [
    "# Verify if there is already an objective function (model exploration)\n",
    "print(model.objective)"
   ]
  },
  {
   "cell_type": "code",
   "execution_count": 14,
   "metadata": {},
   "outputs": [
    {
     "data": {
      "text/html": [
       "\n",
       "        <table>\n",
       "            <tr>\n",
       "                <td><strong>Reaction identifier</strong></td><td>BIOMASS_SC5_notrace</td>\n",
       "            </tr><tr>\n",
       "                <td><strong>Name</strong></td><td>Biomass SC5 notrace</td>\n",
       "            </tr><tr>\n",
       "                <td><strong>Memory address</strong></td>\n",
       "                <td>0x119943880</td>\n",
       "            </tr><tr>\n",
       "                <td><strong>Stoichiometry</strong></td>\n",
       "                <td>\n",
       "                    <p style='text-align:right'>1.1348 13BDglcn_c + 0.4588 ala__L_c + 0.046 amp_c + 0.1607 arg__L_c + 0.1017 asn__L_c + 0.2975 asp__L_c + 59.276 atp_c + 0.0447 cmp_c + 0.0066 cys__L_c + 0.0036 damp_c + 0.0024 dcmp_c + 0.0024...</p>\n",
       "                    <p style='text-align:right'>1.1348 1 3 beta D Glucan C6H10O5 + 0.4588 L-Alanine + 0.046 AMP C10H12N5O7P + 0.1607 L-Arginine + 0.1017 L-Asparagine + 0.2975 L-Aspartate + 59.276 ATP C10H12N5O13P3 + 0.0447 CMP C9H12N3O8P +...</p>\n",
       "                </td>\n",
       "            </tr><tr>\n",
       "                <td><strong>GPR</strong></td><td></td>\n",
       "            </tr><tr>\n",
       "                <td><strong>Lower bound</strong></td><td>0.0</td>\n",
       "            </tr><tr>\n",
       "                <td><strong>Upper bound</strong></td><td>999999.0</td>\n",
       "            </tr>\n",
       "        </table>\n",
       "        "
      ],
      "text/plain": [
       "<Reaction BIOMASS_SC5_notrace at 0x119943880>"
      ]
     },
     "execution_count": 14,
     "metadata": {},
     "output_type": "execute_result"
    }
   ],
   "source": [
    "# The present objective function belongs to:\n",
    "model.reactions.BIOMASS_SC5_notrace"
   ]
  },
  {
   "cell_type": "code",
   "execution_count": 15,
   "metadata": {},
   "outputs": [
    {
     "data": {
      "text/html": [
       "\n",
       "        <table>\n",
       "            <tr>\n",
       "                <td><strong>Reaction identifier</strong></td><td>VVVST1</td>\n",
       "            </tr><tr>\n",
       "                <td><strong>Name</strong></td><td></td>\n",
       "            </tr><tr>\n",
       "                <td><strong>Memory address</strong></td>\n",
       "                <td>0x1199e9900</td>\n",
       "            </tr><tr>\n",
       "                <td><strong>Stoichiometry</strong></td>\n",
       "                <td>\n",
       "                    <p style='text-align:right'>e4_coumaroyl_coa + 3.0 h_c + 3.0 malcoa_c --> 4.0 co2_c + 4.0 coa_c + trans_resv</p>\n",
       "                    <p style='text-align:right'>+ 3.0 H+ + 3.0 Malonyl CoA C24H33N7O19P3S --> 4.0 CO2 CO2 + 4.0 Coenzyme A +</p>\n",
       "                </td>\n",
       "            </tr><tr>\n",
       "                <td><strong>GPR</strong></td><td></td>\n",
       "            </tr><tr>\n",
       "                <td><strong>Lower bound</strong></td><td>0.0</td>\n",
       "            </tr><tr>\n",
       "                <td><strong>Upper bound</strong></td><td>999999.0</td>\n",
       "            </tr>\n",
       "        </table>\n",
       "        "
      ],
      "text/plain": [
       "<Reaction VVVST1 at 0x1199e9900>"
      ]
     },
     "execution_count": 15,
     "metadata": {},
     "output_type": "execute_result"
    }
   ],
   "source": [
    "model.reactions.get_by_id('VVVST1')"
   ]
  },
  {
   "cell_type": "markdown",
   "metadata": {},
   "source": [
    "##### Calculating maximum productivity and theoretical yield in mmol."
   ]
  },
  {
   "cell_type": "code",
   "execution_count": 45,
   "metadata": {},
   "outputs": [
    {
     "name": "stdout",
     "output_type": "stream",
     "text": [
      "Maximum resveatrol productivity =  1.178571428571428 mmol/gDW*h\n",
      "Maximum theoretical yield is =  0.1178571428571428 mmol/gDW*h\n"
     ]
    }
   ],
   "source": [
    "## Setting the objective reaction to resveratrol production\n",
    "with model:\n",
    "    model.objective = model.reactions.VVVST1\n",
    "    resveratrol_max_production = model.optimize().objective_value\n",
    "    print(\"Maximum resveatrol productivity = \",resveratrol_max_production , \"mmol/gDW*h\")\n",
    "\n",
    "    glucose_uptake_flux = model.reactions.EX_glc__D_e.flux #Glucose exchange reaction\n",
    "    max_yield = resveratrol_max_production / (-1*glucose_uptake_flux)\n",
    "    print(\"Maximum theoretical yield is = \", max_yield, \"mmol/gDW*h\")\n",
    "\n",
    "\n"
   ]
  },
  {
   "cell_type": "markdown",
   "metadata": {},
   "source": [
    "##### Calculating maximum productivity and theoretical yield in C-mole"
   ]
  },
  {
   "cell_type": "code",
   "execution_count": 47,
   "metadata": {},
   "outputs": [
    {
     "name": "stdout",
     "output_type": "stream",
     "text": [
      "Maximum productivity of lycopene = 0.005169172932330824 cmol-resv/gDW*h\n",
      "Maximum theoretical yield = 4.478571428571427 cmol-resv/cmol-glucose\n"
     ]
    }
   ],
   "source": [
    "##  Now lets convert mol to C-mol\n",
    "# Conversion factors\n",
    "C=12\n",
    "N=14\n",
    "H=1\n",
    "O=16\n",
    "\n",
    "resveatrol = C*14+H*12+O*3 #C14H12O3\n",
    "glucose = 6\n",
    "\n",
    "# Calculation \n",
    "resv_max_prod_cmol = (resveratrol_max_production)/(resveatrol)\n",
    "resv_max_yield_cmol = (max_yield*resveatrol)/(glucose)\n",
    "print('Maximum productivity of lycopene =', resv_max_prod_cmol, 'cmol-resv/gDW*h')\n",
    "print('Maximum theoretical yield =', resv_max_yield_cmol, 'cmol-resv/cmol-glucose')"
   ]
  },
  {
   "cell_type": "markdown",
   "metadata": {},
   "source": [
    "The results show a very low productivity and yield for resveratrol in our model.\n",
    "* Maximum productivity = 1.178 mmol/gDW*h \n",
    "* Maximum theoretical yield = 0.117 mmol/gDW*h \n",
    "\n",
    "* Maximum productivity =  0.005 cmol-resv/gDW*h\n",
    "* Maximum theoretical yield = 4.478 cmol-resv/cmol-glucose\n",
    "\n",
    "##### Now it is time to increase the productivity and yiend in the model."
   ]
  },
  {
   "cell_type": "markdown",
   "metadata": {},
   "source": []
  }
 ],
 "metadata": {
  "kernelspec": {
   "display_name": "Python 3 (ipykernel)",
   "language": "python",
   "name": "python3"
  },
  "language_info": {
   "codemirror_mode": {
    "name": "ipython",
    "version": 3
   },
   "file_extension": ".py",
   "mimetype": "text/x-python",
   "name": "python",
   "nbconvert_exporter": "python",
   "pygments_lexer": "ipython3",
   "version": "3.9.12"
  },
  "vscode": {
   "interpreter": {
    "hash": "4ad25b57962b0cddfe387bbbfd47a390a3687636eb6a16c64fb60bcd3f49932b"
   }
  }
 },
 "nbformat": 4,
 "nbformat_minor": 4
}
