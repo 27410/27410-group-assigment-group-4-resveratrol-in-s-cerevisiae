{
 "cells": [
  {
   "cell_type": "code",
   "execution_count": 109,
   "metadata": {},
   "outputs": [],
   "source": [
    "from cobra.io import read_sbml_model\n",
    "from cobra import Reaction, Metabolite\n",
    "import pandas as pd"
   ]
  },
  {
   "cell_type": "code",
   "execution_count": 110,
   "metadata": {},
   "outputs": [],
   "source": [
    "model = read_sbml_model('../data/models/iMM904.xml')\n",
    "model_new = model"
   ]
  },
  {
   "cell_type": "code",
   "execution_count": 111,
   "metadata": {},
   "outputs": [],
   "source": [
    "# Reaction 1 (HA-TAL):L-tyrosine <=> (E).4.coumarate +   NH4+\n",
    "new_reaction1 = Reaction('HA-TAL') # 3-(o)xopropanoate:(N)ADP+ (o)xidoreductase\n",
    "coumarate4 = Metabolite(id='coumarate4', compartment='c')\n",
    "new_reaction1.add_metabolites({model_new.metabolites.tyr__L_c: -1, # Search L-tyrisine ID\n",
    "                               coumarate4: 1, # 3-Oxopropanoate\n",
    "                               model_new.metabolites.nh4_c: 1, # Search fpr NH4 ID\n",
    "                              })\n",
    "model_new.add_reactions([new_reaction1])"
   ]
  },
  {
   "cell_type": "code",
   "execution_count": 116,
   "metadata": {},
   "outputs": [
    {
     "data": {
      "text/html": [
       "\n",
       "        <table>\n",
       "            <tr>\n",
       "                <td><strong>Metabolite identifier</strong></td><td>coumarate4</td>\n",
       "            </tr><tr>\n",
       "                <td><strong>Name</strong></td><td></td>\n",
       "            </tr><tr>\n",
       "                <td><strong>Memory address</strong></td>\n",
       "                <td>0x1e0c0c54400</td>\n",
       "            </tr><tr>\n",
       "                <td><strong>Formula</strong></td><td>None</td>\n",
       "            </tr><tr>\n",
       "                <td><strong>Compartment</strong></td><td>c</td>\n",
       "            </tr><tr>\n",
       "                <td><strong>In 1 reaction(s)</strong></td><td>\n",
       "                    HA-TAL\n",
       "                    </td>\n",
       "            </tr>\n",
       "        </table>"
      ],
      "text/plain": [
       "<Metabolite coumarate4 at 0x1e0c0c54400>"
      ]
     },
     "execution_count": 116,
     "metadata": {},
     "output_type": "execute_result"
    }
   ],
   "source": [
    "model_new.metabolites.coumarate4"
   ]
  },
  {
   "cell_type": "code",
   "execution_count": 117,
   "metadata": {},
   "outputs": [],
   "source": [
    "new_reaction2 = Reaction('AT-4CL1')\n",
    "E4_coumaroyl_CoA = Metabolite(id='e4_coumaroyl_coa', compartment='c')\n",
    "new_reaction2.add_metabolites({model_new.metabolites.coumarate4: -1,\n",
    "                               model_new.metabolites.atp_c: -1,\n",
    "                               model_new.metabolites.coa_c: -1,\n",
    "                               E4_coumaroyl_CoA: 1,\n",
    "                               model_new.metabolites.amp_c: 1,\n",
    "                               model_new.metabolites.ppi_c: 1,\n",
    "                              })\n",
    "model_new.add_reactions([new_reaction2])"
   ]
  },
  {
   "cell_type": "code",
   "execution_count": 118,
   "metadata": {},
   "outputs": [],
   "source": [
    "new_reaction3 = Reaction('VVVST1')\n",
    "trans_resv = Metabolite(id='trans_resv', compartment='c')\n",
    "new_reaction3.add_metabolites({model_new.metabolites.e4_coumaroyl_coa: -1,\n",
    "                               model_new.metabolites.h_c: -3,\n",
    "                               model_new.metabolites.malcoa_c: -3,\n",
    "                               model_new.metabolites.co2_c: 4,\n",
    "                               model_new.metabolites.coa_c: 4,\n",
    "                               trans_resv: 1\n",
    "                              })\n",
    "model_new.add_reactions([new_reaction3])"
   ]
  },
  {
   "cell_type": "code",
   "execution_count": 119,
   "metadata": {},
   "outputs": [
    {
     "data": {
      "text/html": [
       "\n",
       "        <table>\n",
       "            <tr>\n",
       "                <td><strong>Reaction identifier</strong></td><td>VVVST1</td>\n",
       "            </tr><tr>\n",
       "                <td><strong>Name</strong></td><td></td>\n",
       "            </tr><tr>\n",
       "                <td><strong>Memory address</strong></td>\n",
       "                <td>0x1e0c434c6d0</td>\n",
       "            </tr><tr>\n",
       "                <td><strong>Stoichiometry</strong></td>\n",
       "                <td>\n",
       "                    <p style='text-align:right'>e4_coumaroyl_coa + 3 h_c + 3 malcoa_c --> 4 co2_c + 4 coa_c + trans_resv</p>\n",
       "                    <p style='text-align:right'>+ 3 H+ + 3 Malonyl CoA C24H33N7O19P3S --> 4 CO2 CO2 + 4 Coenzyme A +</p>\n",
       "                </td>\n",
       "            </tr><tr>\n",
       "                <td><strong>GPR</strong></td><td></td>\n",
       "            </tr><tr>\n",
       "                <td><strong>Lower bound</strong></td><td>0.0</td>\n",
       "            </tr><tr>\n",
       "                <td><strong>Upper bound</strong></td><td>1000.0</td>\n",
       "            </tr>\n",
       "        </table>\n",
       "        "
      ],
      "text/plain": [
       "<Reaction VVVST1 at 0x1e0c434c6d0>"
      ]
     },
     "execution_count": 119,
     "metadata": {},
     "output_type": "execute_result"
    }
   ],
   "source": [
    "model_new.reactions.get_by_id('VVVST1')"
   ]
  },
  {
   "cell_type": "code",
   "execution_count": 120,
   "metadata": {},
   "outputs": [],
   "source": [
    "from cobra.io import write_sbml_model\n",
    "write_sbml_model(model_new,'data/models/yeast_resv.xml')"
   ]
  },
  {
   "cell_type": "markdown",
   "metadata": {},
   "source": [
    "#### how much resveratrol is produced?"
   ]
  },
  {
   "cell_type": "code",
   "execution_count": 121,
   "metadata": {},
   "outputs": [],
   "source": [
    "#model_new.add_boundary(model_new.metabolites.trans_resv, type='demand')"
   ]
  },
  {
   "cell_type": "code",
   "execution_count": 122,
   "metadata": {},
   "outputs": [
    {
     "data": {
      "text/plain": [
       "9.281337700198714e-32"
      ]
     },
     "execution_count": 122,
     "metadata": {},
     "output_type": "execute_result"
    }
   ],
   "source": [
    "with model_new:\n",
    "    model_new.objective=model_new.reactions.VVVST1\n",
    "    lets_produce_resv= model_new.optimize().objective_value\n",
    "lets_produce_resv"
   ]
  },
  {
   "cell_type": "markdown",
   "metadata": {},
   "source": [
    "## Model 2: Resveratrol from coumaric acid from https://doi.org/10.1128/AEM.00609-06"
   ]
  },
  {
   "cell_type": "code",
   "execution_count": 182,
   "metadata": {},
   "outputs": [],
   "source": [
    "model = read_sbml_model('../data/models/iMM904.xml')\n",
    "model_new2=model"
   ]
  },
  {
   "cell_type": "code",
   "execution_count": 183,
   "metadata": {},
   "outputs": [],
   "source": [
    "new_reaction2_1 = Reaction('AT-4CL3')\n",
    "coumarate4 = Metabolite(id='coumarate4', compartment='c')\n",
    "E4_coumaroyl_CoA = Metabolite(id='e4_coumaroyl_coa', compartment='c')\n",
    "new_reaction2_1.add_metabolites({coumarate4: -1,\n",
    "                               model_new2.metabolites.atp_c: -1,\n",
    "                               model_new2.metabolites.coa_c: -1,\n",
    "                               E4_coumaroyl_CoA: 1,\n",
    "                               model_new2.metabolites.amp_c: 1,\n",
    "                               model_new2.metabolites.ppi_c: 1,\n",
    "                              })\n",
    "\n",
    "model_new2.add_reactions([new_reaction2_1])"
   ]
  },
  {
   "cell_type": "code",
   "execution_count": null,
   "metadata": {
    "scrolled": false
   },
   "outputs": [],
   "source": []
  },
  {
   "cell_type": "code",
   "execution_count": 184,
   "metadata": {},
   "outputs": [
    {
     "data": {
      "text/html": [
       "\n",
       "        <table>\n",
       "            <tr>\n",
       "                <td><strong>Metabolite identifier</strong></td><td>coumarate4</td>\n",
       "            </tr><tr>\n",
       "                <td><strong>Name</strong></td><td></td>\n",
       "            </tr><tr>\n",
       "                <td><strong>Memory address</strong></td>\n",
       "                <td>0x1e0c8e28c40</td>\n",
       "            </tr><tr>\n",
       "                <td><strong>Formula</strong></td><td>None</td>\n",
       "            </tr><tr>\n",
       "                <td><strong>Compartment</strong></td><td>c</td>\n",
       "            </tr><tr>\n",
       "                <td><strong>In 1 reaction(s)</strong></td><td>\n",
       "                    AT-4CL3\n",
       "                    </td>\n",
       "            </tr>\n",
       "        </table>"
      ],
      "text/plain": [
       "<Metabolite coumarate4 at 0x1e0c8e28c40>"
      ]
     },
     "execution_count": 184,
     "metadata": {},
     "output_type": "execute_result"
    }
   ],
   "source": [
    "model_new2.metabolites.coumarate4"
   ]
  },
  {
   "cell_type": "code",
   "execution_count": 185,
   "metadata": {},
   "outputs": [],
   "source": [
    "new_reaction2_2 = Reaction('STS')\n",
    "trans_resv = Metabolite(id='trans_resv', compartment='c')\n",
    "new_reaction2_2.add_metabolites({model_new2.metabolites.e4_coumaroyl_coa: -1,\n",
    "                               model_new2.metabolites.h_c: -3,\n",
    "                               model_new2.metabolites.malcoa_c: -3,\n",
    "                               model_new2.metabolites.co2_c: 4,\n",
    "                               model_new2.metabolites.coa_c: 4,\n",
    "                               trans_resv: 1\n",
    "                              })\n",
    "model_new2.add_reactions([new_reaction2_2])\n",
    "\n"
   ]
  },
  {
   "cell_type": "code",
   "execution_count": 186,
   "metadata": {},
   "outputs": [],
   "source": [
    "from cobra.io import write_sbml_model\n",
    "write_sbml_model(model_new,'data/models/yeast_resv_coumaricacid.xml')"
   ]
  },
  {
   "cell_type": "code",
   "execution_count": 187,
   "metadata": {},
   "outputs": [
    {
     "data": {
      "text/plain": [
       "-3.389454704016765e-33"
      ]
     },
     "execution_count": 187,
     "metadata": {},
     "output_type": "execute_result"
    }
   ],
   "source": [
    "#how much resveratrol is produced?\n",
    "model_new2.add_boundary(model_new.metabolites.trans_resv, type='demand')\n",
    "with model_new2:\n",
    "    model_new2.objective=model_new2.reactions.STS\n",
    "    lets_produce_resv= model_new2.optimize().objective_value\n",
    "lets_produce_resv"
   ]
  },
  {
   "cell_type": "markdown",
   "metadata": {},
   "source": [
    "## Model 3: Resveratrol from Phenylalanine (https://doi.org/10.1016/j.ymben.2009.07.004)\n"
   ]
  },
  {
   "cell_type": "code",
   "execution_count": 175,
   "metadata": {},
   "outputs": [],
   "source": [
    "model = read_sbml_model('../data/models/iMM904.xml')\n",
    "model_new3 = model"
   ]
  },
  {
   "cell_type": "code",
   "execution_count": 176,
   "metadata": {},
   "outputs": [],
   "source": [
    "new_reaction3_1 = Reaction('PAL3')\n",
    "e_cinnamate_c = Metabolite(id='e_cinnamate_c', compartment='c')\n",
    "new_reaction3_1.add_metabolites({model_new3.metabolites.phe__L_c: -1,\n",
    "                               e_cinnamate_c: 1,\n",
    "                               model_new3.metabolites.nh4_c: 1,\n",
    "                              })\n",
    "model_new3.add_reactions([new_reaction3_1])"
   ]
  },
  {
   "cell_type": "code",
   "execution_count": 177,
   "metadata": {},
   "outputs": [],
   "source": [
    "new_reaction3_2 = Reaction('C4H') \n",
    "coumarate4 = Metabolite(id='coumarate4', compartment='c')\n",
    "new_reaction3_2.add_metabolites({model_new3.metabolites.e_cinnamate_c: -1,\n",
    "                               model_new3.metabolites.fmnh2_c: -1,\n",
    "                               model_new3.metabolites.o2_c: -1,\n",
    "                               coumarate4: 1, \n",
    "                               model_new3.metabolites.h2o_c: 1,\n",
    "                               model_new3.metabolites.h_c: 1,\n",
    "                               model_new3.metabolites.fmn_c: 1,\n",
    "                              })\n",
    "model_new3.add_reactions([new_reaction3_2])"
   ]
  },
  {
   "cell_type": "code",
   "execution_count": 178,
   "metadata": {},
   "outputs": [],
   "source": [
    "new_reaction3_3 = Reaction('AT-4CL2')\n",
    "E4_coumaroyl_CoA = Metabolite(id='e4_coumaroyl_coa', compartment='c')\n",
    "new_reaction3_3.add_metabolites({model_new.metabolites.coumarate4: -1,\n",
    "                               model_new.metabolites.atp_c: -1,\n",
    "                               model_new.metabolites.coa_c: -1,\n",
    "                               E4_coumaroyl_CoA: 1,\n",
    "                               model_new.metabolites.amp_c: 1,\n",
    "                               model_new.metabolites.ppi_c: 1,\n",
    "                              })\n",
    "model_new3.add_reactions([new_reaction3_3])"
   ]
  },
  {
   "cell_type": "code",
   "execution_count": 179,
   "metadata": {},
   "outputs": [],
   "source": [
    "new_reaction3_4 = Reaction('STS')\n",
    "trans_resv = Metabolite(id='trans_resv', compartment='c')\n",
    "new_reaction3_4.add_metabolites({model_new.metabolites.e4_coumaroyl_coa: -1,\n",
    "                               model_new.metabolites.h_c: -3,\n",
    "                               model_new.metabolites.malcoa_c: -3,\n",
    "                               model_new.metabolites.co2_c: 4,\n",
    "                               model_new.metabolites.coa_c: 4,\n",
    "                               trans_resv: 1\n",
    "                              })\n",
    "model_new3.add_reactions([new_reaction3_4])"
   ]
  },
  {
   "cell_type": "code",
   "execution_count": 180,
   "metadata": {},
   "outputs": [],
   "source": [
    "from cobra.io import write_sbml_model\n",
    "write_sbml_model(model_new,'data/models/yeast_resv_phenylalanine.xml')"
   ]
  },
  {
   "cell_type": "code",
   "execution_count": 181,
   "metadata": {},
   "outputs": [
    {
     "data": {
      "text/plain": [
       "1.0749185667752432"
      ]
     },
     "execution_count": 181,
     "metadata": {},
     "output_type": "execute_result"
    }
   ],
   "source": [
    "#how much resveratrol is produced?\n",
    "model_new3.add_boundary(model_new.metabolites.trans_resv, type='demand')\n",
    "with model_new3:\n",
    "    model_new3.objective=model_new3.reactions.STS\n",
    "    lets_produce_resv= model_new3.optimize().objective_value\n",
    "lets_produce_resv"
   ]
  },
  {
   "cell_type": "code",
   "execution_count": null,
   "metadata": {},
   "outputs": [],
   "source": []
  }
 ],
 "metadata": {
  "kernelspec": {
   "display_name": "Python 3 (ipykernel)",
   "language": "python",
   "name": "python3"
  },
  "language_info": {
   "codemirror_mode": {
    "name": "ipython",
    "version": 3
   },
   "file_extension": ".py",
   "mimetype": "text/x-python",
   "name": "python",
   "nbconvert_exporter": "python",
   "pygments_lexer": "ipython3",
   "version": "3.9.12"
  }
 },
 "nbformat": 4,
 "nbformat_minor": 4
}
