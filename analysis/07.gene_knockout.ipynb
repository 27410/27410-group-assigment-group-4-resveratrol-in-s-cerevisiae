{
 "cells": [
  {
   "cell_type": "markdown",
   "metadata": {},
   "source": [
    "##  Knockout\n"
   ]
  },
  {
   "cell_type": "code",
   "execution_count": 1,
   "metadata": {},
   "outputs": [],
   "source": [
    "#https://cobrapy.readthedocs.io/en/latest/deletions.html\n",
    "from cobra.io import read_sbml_model\n",
    "from cobra import Reaction, Metabolite\n",
    "from cobra.flux_analysis import single_reaction_deletion, double_reaction_deletion"
   ]
  },
  {
   "cell_type": "code",
   "execution_count": 2,
   "metadata": {},
   "outputs": [],
   "source": [
    "# Read model (resveratrol from glucose, S. cervisae)\n",
    "model = read_sbml_model('../data/models/yeast_resv.xml')"
   ]
  },
  {
   "cell_type": "code",
   "execution_count": 18,
   "metadata": {},
   "outputs": [
    {
     "data": {
      "text/plain": [
       "{'EX_fe2_e': 999999.0,\n",
       " 'EX_glc__D_e': 10.0,\n",
       " 'EX_h2o_e': 999999.0,\n",
       " 'EX_h_e': 999999.0,\n",
       " 'EX_k_e': 999999.0,\n",
       " 'EX_na1_e': 999999.0,\n",
       " 'EX_so4_e': 999999.0,\n",
       " 'EX_nh4_e': 999999.0,\n",
       " 'EX_o2_e': 2.0,\n",
       " 'EX_pi_e': 999999.0}"
      ]
     },
     "execution_count": 18,
     "metadata": {},
     "output_type": "execute_result"
    }
   ],
   "source": [
    "model.medium"
   ]
  },
  {
   "cell_type": "code",
   "execution_count": 19,
   "metadata": {},
   "outputs": [],
   "source": [
    "knockout=['ANS', 'PPNDH']"
   ]
  },
  {
   "cell_type": "code",
   "execution_count": 3,
   "metadata": {},
   "outputs": [
    {
     "data": {
      "text/html": [
       "\n",
       "        <table>\n",
       "            <tr>\n",
       "                <td><strong>Reaction identifier</strong></td><td>ANS</td>\n",
       "            </tr><tr>\n",
       "                <td><strong>Name</strong></td><td>Anthranilate synthase</td>\n",
       "            </tr><tr>\n",
       "                <td><strong>Memory address</strong></td>\n",
       "                <td>0x01a4396d3d08</td>\n",
       "            </tr><tr>\n",
       "                <td><strong>Stoichiometry</strong></td>\n",
       "                <td>\n",
       "                    <p style='text-align:right'>chor_c + gln__L_c --> anth_c + glu__L_c + h_c + pyr_c</p>\n",
       "                    <p style='text-align:right'>Chorismate + L-Glutamine --> Anthranilate + L-Glutamate + H+ + Pyruvate</p>\n",
       "                </td>\n",
       "            </tr><tr>\n",
       "                <td><strong>GPR</strong></td><td>YER090W and YKL211C</td>\n",
       "            </tr><tr>\n",
       "                <td><strong>Lower bound</strong></td><td>0.0</td>\n",
       "            </tr><tr>\n",
       "                <td><strong>Upper bound</strong></td><td>999999.0</td>\n",
       "            </tr>\n",
       "        </table>\n",
       "        "
      ],
      "text/plain": [
       "<Reaction ANS at 0x1a4396d3d08>"
      ]
     },
     "execution_count": 3,
     "metadata": {},
     "output_type": "execute_result"
    }
   ],
   "source": [
    "model.reactions.ANS"
   ]
  },
  {
   "cell_type": "code",
   "execution_count": 21,
   "metadata": {},
   "outputs": [],
   "source": [
    "m.reactions.ANS.knock_out()"
   ]
  },
  {
   "cell_type": "code",
   "execution_count": 22,
   "metadata": {},
   "outputs": [
    {
     "data": {
      "text/html": [
       "\n",
       "        <table>\n",
       "            <tr>\n",
       "                <td><strong>Reaction identifier</strong></td><td>ANS</td>\n",
       "            </tr><tr>\n",
       "                <td><strong>Name</strong></td><td>Anthranilate synthase</td>\n",
       "            </tr><tr>\n",
       "                <td><strong>Memory address</strong></td>\n",
       "                <td>0x01ffb6413c08</td>\n",
       "            </tr><tr>\n",
       "                <td><strong>Stoichiometry</strong></td>\n",
       "                <td>\n",
       "                    <p style='text-align:right'>chor_c + gln__L_c --> anth_c + glu__L_c + h_c + pyr_c</p>\n",
       "                    <p style='text-align:right'>Chorismate + L-Glutamine --> Anthranilate + L-Glutamate + H+ + Pyruvate</p>\n",
       "                </td>\n",
       "            </tr><tr>\n",
       "                <td><strong>GPR</strong></td><td>YER090W and YKL211C</td>\n",
       "            </tr><tr>\n",
       "                <td><strong>Lower bound</strong></td><td>0</td>\n",
       "            </tr><tr>\n",
       "                <td><strong>Upper bound</strong></td><td>0</td>\n",
       "            </tr>\n",
       "        </table>\n",
       "        "
      ],
      "text/plain": [
       "<Reaction ANS at 0x1ffb6413c08>"
      ]
     },
     "execution_count": 22,
     "metadata": {},
     "output_type": "execute_result"
    }
   ],
   "source": [
    "m.reactions.ANS"
   ]
  },
  {
   "cell_type": "code",
   "execution_count": 27,
   "metadata": {},
   "outputs": [],
   "source": [
    "ko_m=model"
   ]
  },
  {
   "cell_type": "code",
   "execution_count": 40,
   "metadata": {},
   "outputs": [
    {
     "name": "stdout",
     "output_type": "stream",
     "text": [
      "<Solution 0.288 at 0x1ffb7f20508>\n",
      "<Solution 0.300 at 0x1ffb7d20108>\n",
      "Maximum resveratrol productivity =  1.2214285714285713 mmol/gDW*h\n",
      "Maximum theoretical yield is =  0.12214285714285714 mmol/gDW*h\n"
     ]
    }
   ],
   "source": [
    "print(ko_m.optimize())\n",
    "with ko_m:\n",
    "    ko_m.reactions.ATPM.knock_out()\n",
    "    print(ko_m.optimize())\n",
    "    ko_m.objective=ko_m.reactions.VVVST1\n",
    "    \n",
    "    rv_maxp= ko_m.optimize().objective_value\n",
    "    print(\"Maximum resveratrol productivity = \",rv_maxp , \"mmol/gDW*h\")\n",
    "\n",
    "    glucose_uptake_flux=ko_m.reactions.EX_glc__D_e.flux #Glucose exchange reaction\n",
    "    max_yield = rv_maxp / (-1*glucose_uptake_flux)\n",
    "    print(\"Maximum theoretical yield is = \", max_yield, \"mmol/gDW*h\")"
   ]
  },
  {
   "cell_type": "code",
   "execution_count": 41,
   "metadata": {},
   "outputs": [
    {
     "data": {
      "text/html": [
       "<div>\n",
       "<style scoped>\n",
       "    .dataframe tbody tr th:only-of-type {\n",
       "        vertical-align: middle;\n",
       "    }\n",
       "\n",
       "    .dataframe tbody tr th {\n",
       "        vertical-align: top;\n",
       "    }\n",
       "\n",
       "    .dataframe thead th {\n",
       "        text-align: right;\n",
       "    }\n",
       "</style>\n",
       "<table border=\"1\" class=\"dataframe\">\n",
       "  <thead>\n",
       "    <tr style=\"text-align: right;\">\n",
       "      <th></th>\n",
       "      <th>ids</th>\n",
       "      <th>growth</th>\n",
       "      <th>status</th>\n",
       "    </tr>\n",
       "  </thead>\n",
       "  <tbody>\n",
       "    <tr>\n",
       "      <th>371</th>\n",
       "      <td>{ATPM}</td>\n",
       "      <td>2.997446e-01</td>\n",
       "      <td>optimal</td>\n",
       "    </tr>\n",
       "    <tr>\n",
       "      <th>1179</th>\n",
       "      <td>{VALt2r}</td>\n",
       "      <td>2.878657e-01</td>\n",
       "      <td>optimal</td>\n",
       "    </tr>\n",
       "    <tr>\n",
       "      <th>1177</th>\n",
       "      <td>{QULNS}</td>\n",
       "      <td>2.878657e-01</td>\n",
       "      <td>optimal</td>\n",
       "    </tr>\n",
       "    <tr>\n",
       "      <th>1176</th>\n",
       "      <td>{METB1}</td>\n",
       "      <td>2.878657e-01</td>\n",
       "      <td>optimal</td>\n",
       "    </tr>\n",
       "    <tr>\n",
       "      <th>1175</th>\n",
       "      <td>{ERGSTESTH_SCe}</td>\n",
       "      <td>2.878657e-01</td>\n",
       "      <td>optimal</td>\n",
       "    </tr>\n",
       "    <tr>\n",
       "      <th>...</th>\n",
       "      <td>...</td>\n",
       "      <td>...</td>\n",
       "      <td>...</td>\n",
       "    </tr>\n",
       "    <tr>\n",
       "      <th>1078</th>\n",
       "      <td>{GLUPRT}</td>\n",
       "      <td>-2.050005e-13</td>\n",
       "      <td>optimal</td>\n",
       "    </tr>\n",
       "    <tr>\n",
       "      <th>277</th>\n",
       "      <td>{PRPPS}</td>\n",
       "      <td>-3.231930e-13</td>\n",
       "      <td>optimal</td>\n",
       "    </tr>\n",
       "    <tr>\n",
       "      <th>1273</th>\n",
       "      <td>{ADSL2r}</td>\n",
       "      <td>-6.597813e-13</td>\n",
       "      <td>optimal</td>\n",
       "    </tr>\n",
       "    <tr>\n",
       "      <th>485</th>\n",
       "      <td>{GLCt1}</td>\n",
       "      <td>NaN</td>\n",
       "      <td>infeasible</td>\n",
       "    </tr>\n",
       "    <tr>\n",
       "      <th>1352</th>\n",
       "      <td>{EX_glc__D_e}</td>\n",
       "      <td>NaN</td>\n",
       "      <td>infeasible</td>\n",
       "    </tr>\n",
       "  </tbody>\n",
       "</table>\n",
       "<p>1581 rows × 3 columns</p>\n",
       "</div>"
      ],
      "text/plain": [
       "                  ids        growth      status\n",
       "371            {ATPM}  2.997446e-01     optimal\n",
       "1179         {VALt2r}  2.878657e-01     optimal\n",
       "1177          {QULNS}  2.878657e-01     optimal\n",
       "1176          {METB1}  2.878657e-01     optimal\n",
       "1175  {ERGSTESTH_SCe}  2.878657e-01     optimal\n",
       "...               ...           ...         ...\n",
       "1078         {GLUPRT} -2.050005e-13     optimal\n",
       "277           {PRPPS} -3.231930e-13     optimal\n",
       "1273         {ADSL2r} -6.597813e-13     optimal\n",
       "485           {GLCt1}           NaN  infeasible\n",
       "1352    {EX_glc__D_e}           NaN  infeasible\n",
       "\n",
       "[1581 rows x 3 columns]"
      ]
     },
     "execution_count": 41,
     "metadata": {},
     "output_type": "execute_result"
    }
   ],
   "source": [
    "df1=single_reaction_deletion(model, model.reactions)\n",
    "df1.sort_values(by=['growth'], ascending=False, inplace=True)\n",
    "df1"
   ]
  },
  {
   "cell_type": "code",
   "execution_count": 38,
   "metadata": {},
   "outputs": [
    {
     "data": {
      "text/html": [
       "\n",
       "        <table>\n",
       "            <tr>\n",
       "                <td><strong>Reaction identifier</strong></td><td>QULNS</td>\n",
       "            </tr><tr>\n",
       "                <td><strong>Name</strong></td><td>Quinolinate synthase</td>\n",
       "            </tr><tr>\n",
       "                <td><strong>Memory address</strong></td>\n",
       "                <td>0x01ffb7e28848</td>\n",
       "            </tr><tr>\n",
       "                <td><strong>Stoichiometry</strong></td>\n",
       "                <td>\n",
       "                    <p style='text-align:right'>dhap_c + iasp_c --> 2.0 h2o_c + pi_c + quln_c</p>\n",
       "                    <p style='text-align:right'>Dihydroxyacetone phosphate + Iminoaspartate --> 2.0 H2O H2O + Phosphate + Quinolinate</p>\n",
       "                </td>\n",
       "            </tr><tr>\n",
       "                <td><strong>GPR</strong></td><td></td>\n",
       "            </tr><tr>\n",
       "                <td><strong>Lower bound</strong></td><td>0.0</td>\n",
       "            </tr><tr>\n",
       "                <td><strong>Upper bound</strong></td><td>999999.0</td>\n",
       "            </tr>\n",
       "        </table>\n",
       "        "
      ],
      "text/plain": [
       "<Reaction QULNS at 0x1ffb7e28848>"
      ]
     },
     "execution_count": 38,
     "metadata": {},
     "output_type": "execute_result"
    }
   ],
   "source": [
    "model.reactions.QULNS"
   ]
  },
  {
   "cell_type": "code",
   "execution_count": null,
   "metadata": {},
   "outputs": [],
   "source": [
    "df2=double_reaction_deletion(model, model.reactions)\n",
    "df2.sort_values(by=['growth'], ascending=False, inplace=True)\n",
    "df2"
   ]
  },
  {
   "cell_type": "code",
   "execution_count": 6,
   "metadata": {},
   "outputs": [
    {
     "name": "stdout",
     "output_type": "stream",
     "text": [
      "<Solution 0.288 at 0x1a439c77d08>\n",
      "        ids    growth   status\n",
      "941  {ATPM}  0.299745  optimal\n",
      "<Solution 0.288 at 0x1a439cb1c88>\n",
      "Maximum resveratrol productivity =  1.1785714285714288 mmol/gDW*h\n",
      "Maximum theoretical yield is =  0.11785714285714288 mmol/gDW*h\n"
     ]
    }
   ],
   "source": [
    "mo=model\n",
    "print(mo.optimize())\n",
    "with mo:\n",
    "    single=single_reaction_deletion(mo)\n",
    "    res=single.knockout['ATPM']\n",
    "    print(res)\n",
    "    #mo.reactions.ATPM.knock_out()\n",
    "    print(mo.optimize())\n",
    "    mo.objective=mo.reactions.VVVST1\n",
    "    \n",
    "    rv_maxp= mo.optimize().objective_value\n",
    "    print(\"Maximum resveratrol productivity = \",rv_maxp , \"mmol/gDW*h\")\n",
    "\n",
    "    glucose_uptake_flux=mo.reactions.EX_glc__D_e.flux #Glucose exchange reaction\n",
    "    max_yield = rv_maxp / (-1*glucose_uptake_flux)\n",
    "    print(\"Maximum theoretical yield is = \", max_yield, \"mmol/gDW*h\")"
   ]
  },
  {
   "cell_type": "markdown",
   "metadata": {},
   "source": [
    "### Try with OptKnock"
   ]
  },
  {
   "cell_type": "code",
   "execution_count": null,
   "metadata": {},
   "outputs": [],
   "source": [
    "from cameo import models\n",
    "from cameo.visualization.plotting.with_plotly import PlotlyPlotter"
   ]
  }
 ],
 "metadata": {
  "kernelspec": {
   "display_name": "cellfactorydesign",
   "language": "python",
   "name": "cellfactorydesign"
  },
  "language_info": {
   "codemirror_mode": {
    "name": "ipython",
    "version": 3
   },
   "file_extension": ".py",
   "mimetype": "text/x-python",
   "name": "python",
   "nbconvert_exporter": "python",
   "pygments_lexer": "ipython3",
   "version": "3.7.6"
  },
  "vscode": {
   "interpreter": {
    "hash": "4ad25b57962b0cddfe387bbbfd47a390a3687636eb6a16c64fb60bcd3f49932b"
   }
  }
 },
 "nbformat": 4,
 "nbformat_minor": 4
}
