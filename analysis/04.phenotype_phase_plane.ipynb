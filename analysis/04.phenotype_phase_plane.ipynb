{
 "cells": [
  {
   "cell_type": "markdown",
   "metadata": {},
   "source": [
    "#  Phenotypic phase planes"
   ]
  },
  {
   "cell_type": "code",
   "execution_count": 23,
   "metadata": {},
   "outputs": [],
   "source": [
    "#In this screipt we analyse the phenotype phase planes for all relevant conditions: aerobic and anaerobic.\n",
    "import pandas as pd\n",
    "import matplotlib.pyplot as plt\n",
    "from cobra.io import read_sbml_model\n",
    "from cobra.flux_analysis.phenotype_phase_plane import production_envelope\n",
    "plt.style.use('ggplot')\n"
   ]
  },
  {
   "cell_type": "code",
   "execution_count": 24,
   "metadata": {},
   "outputs": [],
   "source": [
    "# Verify working directory and change it if needed\n",
    "# import os\n",
    "# os.getcwd()\n",
    "#os.chdir(\"DIR_PATH\") #change accordingly"
   ]
  },
  {
   "cell_type": "code",
   "execution_count": 68,
   "metadata": {},
   "outputs": [],
   "source": [
    "model = read_sbml_model(\"../data/models/yeast_resv_glc.xml\")"
   ]
  },
  {
   "cell_type": "code",
   "execution_count": 26,
   "metadata": {},
   "outputs": [],
   "source": [
    "# Original medium, no modifications done yet.\n",
    "medium = model.medium"
   ]
  },
  {
   "cell_type": "code",
   "execution_count": 27,
   "metadata": {},
   "outputs": [
    {
     "data": {
      "text/plain": [
       "<optlang.glpk_interface.Objective at 0x12516aaa0>"
      ]
     },
     "execution_count": 27,
     "metadata": {},
     "output_type": "execute_result"
    }
   ],
   "source": [
    "model.objective #check the model objective, since it is not biomass, we will change it to it."
   ]
  },
  {
   "cell_type": "markdown",
   "metadata": {},
   "source": [
    "## Phenotype phase plane for res-yeast.xml model\n",
    "### Focus on biomass"
   ]
  },
  {
   "cell_type": "code",
   "execution_count": 29,
   "metadata": {},
   "outputs": [],
   "source": [
    "ppp_biomass = production_envelope( model,\n",
    "    reactions = [model.reactions.EX_glc__D_e],\n",
    "    objective = model.reactions.BIOMASS_SC5_notrace)"
   ]
  },
  {
   "cell_type": "code",
   "execution_count": 30,
   "metadata": {},
   "outputs": [
    {
     "data": {
      "text/html": [
       "<div>\n",
       "<style scoped>\n",
       "    .dataframe tbody tr th:only-of-type {\n",
       "        vertical-align: middle;\n",
       "    }\n",
       "\n",
       "    .dataframe tbody tr th {\n",
       "        vertical-align: top;\n",
       "    }\n",
       "\n",
       "    .dataframe thead th {\n",
       "        text-align: right;\n",
       "    }\n",
       "</style>\n",
       "<table border=\"1\" class=\"dataframe\">\n",
       "  <thead>\n",
       "    <tr style=\"text-align: right;\">\n",
       "      <th></th>\n",
       "      <th>carbon_source</th>\n",
       "      <th>flux_minimum</th>\n",
       "      <th>carbon_yield_minimum</th>\n",
       "      <th>mass_yield_minimum</th>\n",
       "      <th>flux_maximum</th>\n",
       "      <th>carbon_yield_maximum</th>\n",
       "      <th>mass_yield_maximum</th>\n",
       "      <th>EX_glc__D_e</th>\n",
       "    </tr>\n",
       "  </thead>\n",
       "  <tbody>\n",
       "    <tr>\n",
       "      <th>0</th>\n",
       "      <td>EX_glc__D_e</td>\n",
       "      <td>0.0</td>\n",
       "      <td>0.0</td>\n",
       "      <td>NaN</td>\n",
       "      <td>0.287866</td>\n",
       "      <td>3.016363e+00</td>\n",
       "      <td>NaN</td>\n",
       "      <td>-10.000000</td>\n",
       "    </tr>\n",
       "    <tr>\n",
       "      <th>1</th>\n",
       "      <td>EX_glc__D_e</td>\n",
       "      <td>0.0</td>\n",
       "      <td>0.0</td>\n",
       "      <td>NaN</td>\n",
       "      <td>0.275435</td>\n",
       "      <td>3.045455e+00</td>\n",
       "      <td>NaN</td>\n",
       "      <td>-9.476780</td>\n",
       "    </tr>\n",
       "    <tr>\n",
       "      <th>2</th>\n",
       "      <td>EX_glc__D_e</td>\n",
       "      <td>0.0</td>\n",
       "      <td>0.0</td>\n",
       "      <td>NaN</td>\n",
       "      <td>0.263005</td>\n",
       "      <td>3.077947e+00</td>\n",
       "      <td>NaN</td>\n",
       "      <td>-8.953560</td>\n",
       "    </tr>\n",
       "    <tr>\n",
       "      <th>3</th>\n",
       "      <td>EX_glc__D_e</td>\n",
       "      <td>0.0</td>\n",
       "      <td>0.0</td>\n",
       "      <td>NaN</td>\n",
       "      <td>0.250574</td>\n",
       "      <td>3.114473e+00</td>\n",
       "      <td>NaN</td>\n",
       "      <td>-8.430341</td>\n",
       "    </tr>\n",
       "    <tr>\n",
       "      <th>4</th>\n",
       "      <td>EX_glc__D_e</td>\n",
       "      <td>0.0</td>\n",
       "      <td>0.0</td>\n",
       "      <td>NaN</td>\n",
       "      <td>0.238143</td>\n",
       "      <td>3.155832e+00</td>\n",
       "      <td>NaN</td>\n",
       "      <td>-7.907121</td>\n",
       "    </tr>\n",
       "    <tr>\n",
       "      <th>5</th>\n",
       "      <td>EX_glc__D_e</td>\n",
       "      <td>0.0</td>\n",
       "      <td>0.0</td>\n",
       "      <td>NaN</td>\n",
       "      <td>0.225713</td>\n",
       "      <td>3.203053e+00</td>\n",
       "      <td>NaN</td>\n",
       "      <td>-7.383901</td>\n",
       "    </tr>\n",
       "    <tr>\n",
       "      <th>6</th>\n",
       "      <td>EX_glc__D_e</td>\n",
       "      <td>0.0</td>\n",
       "      <td>0.0</td>\n",
       "      <td>NaN</td>\n",
       "      <td>0.213282</td>\n",
       "      <td>3.257476e+00</td>\n",
       "      <td>NaN</td>\n",
       "      <td>-6.860681</td>\n",
       "    </tr>\n",
       "    <tr>\n",
       "      <th>7</th>\n",
       "      <td>EX_glc__D_e</td>\n",
       "      <td>0.0</td>\n",
       "      <td>0.0</td>\n",
       "      <td>NaN</td>\n",
       "      <td>0.200852</td>\n",
       "      <td>3.320885e+00</td>\n",
       "      <td>NaN</td>\n",
       "      <td>-6.337461</td>\n",
       "    </tr>\n",
       "    <tr>\n",
       "      <th>8</th>\n",
       "      <td>EX_glc__D_e</td>\n",
       "      <td>0.0</td>\n",
       "      <td>0.0</td>\n",
       "      <td>NaN</td>\n",
       "      <td>0.188421</td>\n",
       "      <td>3.395707e+00</td>\n",
       "      <td>NaN</td>\n",
       "      <td>-5.814241</td>\n",
       "    </tr>\n",
       "    <tr>\n",
       "      <th>9</th>\n",
       "      <td>EX_glc__D_e</td>\n",
       "      <td>0.0</td>\n",
       "      <td>0.0</td>\n",
       "      <td>NaN</td>\n",
       "      <td>0.175991</td>\n",
       "      <td>3.485327e+00</td>\n",
       "      <td>NaN</td>\n",
       "      <td>-5.291022</td>\n",
       "    </tr>\n",
       "    <tr>\n",
       "      <th>10</th>\n",
       "      <td>EX_glc__D_e</td>\n",
       "      <td>0.0</td>\n",
       "      <td>0.0</td>\n",
       "      <td>NaN</td>\n",
       "      <td>0.163560</td>\n",
       "      <td>3.594617e+00</td>\n",
       "      <td>NaN</td>\n",
       "      <td>-4.767802</td>\n",
       "    </tr>\n",
       "    <tr>\n",
       "      <th>11</th>\n",
       "      <td>EX_glc__D_e</td>\n",
       "      <td>0.0</td>\n",
       "      <td>0.0</td>\n",
       "      <td>NaN</td>\n",
       "      <td>0.151129</td>\n",
       "      <td>3.730850e+00</td>\n",
       "      <td>NaN</td>\n",
       "      <td>-4.244582</td>\n",
       "    </tr>\n",
       "    <tr>\n",
       "      <th>12</th>\n",
       "      <td>EX_glc__D_e</td>\n",
       "      <td>0.0</td>\n",
       "      <td>0.0</td>\n",
       "      <td>NaN</td>\n",
       "      <td>0.138699</td>\n",
       "      <td>3.905392e+00</td>\n",
       "      <td>NaN</td>\n",
       "      <td>-3.721362</td>\n",
       "    </tr>\n",
       "    <tr>\n",
       "      <th>13</th>\n",
       "      <td>EX_glc__D_e</td>\n",
       "      <td>0.0</td>\n",
       "      <td>0.0</td>\n",
       "      <td>NaN</td>\n",
       "      <td>0.126268</td>\n",
       "      <td>4.137045e+00</td>\n",
       "      <td>NaN</td>\n",
       "      <td>-3.198142</td>\n",
       "    </tr>\n",
       "    <tr>\n",
       "      <th>14</th>\n",
       "      <td>EX_glc__D_e</td>\n",
       "      <td>0.0</td>\n",
       "      <td>0.0</td>\n",
       "      <td>NaN</td>\n",
       "      <td>0.113838</td>\n",
       "      <td>4.459321e+00</td>\n",
       "      <td>NaN</td>\n",
       "      <td>-2.674923</td>\n",
       "    </tr>\n",
       "    <tr>\n",
       "      <th>15</th>\n",
       "      <td>EX_glc__D_e</td>\n",
       "      <td>0.0</td>\n",
       "      <td>0.0</td>\n",
       "      <td>NaN</td>\n",
       "      <td>0.101407</td>\n",
       "      <td>4.938330e+00</td>\n",
       "      <td>NaN</td>\n",
       "      <td>-2.151703</td>\n",
       "    </tr>\n",
       "    <tr>\n",
       "      <th>16</th>\n",
       "      <td>EX_glc__D_e</td>\n",
       "      <td>0.0</td>\n",
       "      <td>0.0</td>\n",
       "      <td>NaN</td>\n",
       "      <td>0.088817</td>\n",
       "      <td>5.714896e+00</td>\n",
       "      <td>NaN</td>\n",
       "      <td>-1.628483</td>\n",
       "    </tr>\n",
       "    <tr>\n",
       "      <th>17</th>\n",
       "      <td>EX_glc__D_e</td>\n",
       "      <td>0.0</td>\n",
       "      <td>0.0</td>\n",
       "      <td>NaN</td>\n",
       "      <td>0.076010</td>\n",
       "      <td>7.206082e+00</td>\n",
       "      <td>NaN</td>\n",
       "      <td>-1.105263</td>\n",
       "    </tr>\n",
       "    <tr>\n",
       "      <th>18</th>\n",
       "      <td>EX_glc__D_e</td>\n",
       "      <td>0.0</td>\n",
       "      <td>0.0</td>\n",
       "      <td>NaN</td>\n",
       "      <td>0.051310</td>\n",
       "      <td>9.237118e+00</td>\n",
       "      <td>NaN</td>\n",
       "      <td>-0.582043</td>\n",
       "    </tr>\n",
       "    <tr>\n",
       "      <th>19</th>\n",
       "      <td>EX_glc__D_e</td>\n",
       "      <td>0.0</td>\n",
       "      <td>0.0</td>\n",
       "      <td>NaN</td>\n",
       "      <td>0.000000</td>\n",
       "      <td>3.757863e-13</td>\n",
       "      <td>NaN</td>\n",
       "      <td>-0.058824</td>\n",
       "    </tr>\n",
       "  </tbody>\n",
       "</table>\n",
       "</div>"
      ],
      "text/plain": [
       "   carbon_source  flux_minimum  carbon_yield_minimum  mass_yield_minimum  \\\n",
       "0    EX_glc__D_e           0.0                   0.0                 NaN   \n",
       "1    EX_glc__D_e           0.0                   0.0                 NaN   \n",
       "2    EX_glc__D_e           0.0                   0.0                 NaN   \n",
       "3    EX_glc__D_e           0.0                   0.0                 NaN   \n",
       "4    EX_glc__D_e           0.0                   0.0                 NaN   \n",
       "5    EX_glc__D_e           0.0                   0.0                 NaN   \n",
       "6    EX_glc__D_e           0.0                   0.0                 NaN   \n",
       "7    EX_glc__D_e           0.0                   0.0                 NaN   \n",
       "8    EX_glc__D_e           0.0                   0.0                 NaN   \n",
       "9    EX_glc__D_e           0.0                   0.0                 NaN   \n",
       "10   EX_glc__D_e           0.0                   0.0                 NaN   \n",
       "11   EX_glc__D_e           0.0                   0.0                 NaN   \n",
       "12   EX_glc__D_e           0.0                   0.0                 NaN   \n",
       "13   EX_glc__D_e           0.0                   0.0                 NaN   \n",
       "14   EX_glc__D_e           0.0                   0.0                 NaN   \n",
       "15   EX_glc__D_e           0.0                   0.0                 NaN   \n",
       "16   EX_glc__D_e           0.0                   0.0                 NaN   \n",
       "17   EX_glc__D_e           0.0                   0.0                 NaN   \n",
       "18   EX_glc__D_e           0.0                   0.0                 NaN   \n",
       "19   EX_glc__D_e           0.0                   0.0                 NaN   \n",
       "\n",
       "    flux_maximum  carbon_yield_maximum  mass_yield_maximum  EX_glc__D_e  \n",
       "0       0.287866          3.016363e+00                 NaN   -10.000000  \n",
       "1       0.275435          3.045455e+00                 NaN    -9.476780  \n",
       "2       0.263005          3.077947e+00                 NaN    -8.953560  \n",
       "3       0.250574          3.114473e+00                 NaN    -8.430341  \n",
       "4       0.238143          3.155832e+00                 NaN    -7.907121  \n",
       "5       0.225713          3.203053e+00                 NaN    -7.383901  \n",
       "6       0.213282          3.257476e+00                 NaN    -6.860681  \n",
       "7       0.200852          3.320885e+00                 NaN    -6.337461  \n",
       "8       0.188421          3.395707e+00                 NaN    -5.814241  \n",
       "9       0.175991          3.485327e+00                 NaN    -5.291022  \n",
       "10      0.163560          3.594617e+00                 NaN    -4.767802  \n",
       "11      0.151129          3.730850e+00                 NaN    -4.244582  \n",
       "12      0.138699          3.905392e+00                 NaN    -3.721362  \n",
       "13      0.126268          4.137045e+00                 NaN    -3.198142  \n",
       "14      0.113838          4.459321e+00                 NaN    -2.674923  \n",
       "15      0.101407          4.938330e+00                 NaN    -2.151703  \n",
       "16      0.088817          5.714896e+00                 NaN    -1.628483  \n",
       "17      0.076010          7.206082e+00                 NaN    -1.105263  \n",
       "18      0.051310          9.237118e+00                 NaN    -0.582043  \n",
       "19      0.000000          3.757863e-13                 NaN    -0.058824  "
      ]
     },
     "execution_count": 30,
     "metadata": {},
     "output_type": "execute_result"
    }
   ],
   "source": [
    "ppp_biomass"
   ]
  },
  {
   "cell_type": "code",
   "execution_count": 31,
   "metadata": {},
   "outputs": [
    {
     "data": {
      "text/plain": [
       "<AxesSubplot: xlabel='Glucose uptake [mmol/g DW/h]', ylabel='Biomass objective [1/h]'>"
      ]
     },
     "execution_count": 31,
     "metadata": {},
     "output_type": "execute_result"
    },
    {
     "data": {
      "image/png": "[encoded data removed]",
      "text/plain": [
       "<Figure size 640x480 with 1 Axes>"
      ]
     },
     "metadata": {},
     "output_type": "display_data"
    }
   ],
   "source": [
    "ppp_biomass.plot(x='EX_glc__D_e', y='flux_maximum', xlabel=\"Glucose uptake [mmol/g DW/h]\", ylabel=\"Biomass objective [1/h]\")\n"
   ]
  },
  {
   "cell_type": "markdown",
   "metadata": {},
   "source": [
    "As we can see, the biomass decreases as the glucose uptake does. This behaviour is expected. Now lets increment glucose concentration."
   ]
  },
  {
   "cell_type": "markdown",
   "metadata": {},
   "source": [
    "#### Increment glucose concentration"
   ]
  },
  {
   "cell_type": "code",
   "execution_count": 69,
   "metadata": {},
   "outputs": [
    {
     "name": "stdout",
     "output_type": "stream",
     "text": [
      "(-10.0, 999999.0)\n"
     ]
    }
   ],
   "source": [
    "print(model.reactions.EX_glc__D_e.bounds)"
   ]
  },
  {
   "cell_type": "code",
   "execution_count": 75,
   "metadata": {},
   "outputs": [],
   "source": [
    "medium = model.medium\n",
    "\n",
    "medium['EX_glc__D_e'] = 1646\n",
    "model.reactions.EX_glc__D_e.bounds = -20000, 999999.0"
   ]
  },
  {
   "cell_type": "code",
   "execution_count": 76,
   "metadata": {},
   "outputs": [
    {
     "name": "stdout",
     "output_type": "stream",
     "text": [
      "(-20000, 999999.0)\n"
     ]
    }
   ],
   "source": [
    "#print(model.reactions.EX_o2_e.bounds) #This is too little oxygen\n",
    "print(model.reactions.EX_glc__D_e.bounds)"
   ]
  },
  {
   "cell_type": "code",
   "execution_count": 77,
   "metadata": {},
   "outputs": [],
   "source": [
    "ppp_biomass = production_envelope( model,\n",
    "    reactions = [model.reactions.EX_glc__D_e],\n",
    "    objective = model.reactions.BIOMASS_SC5_notrace)"
   ]
  },
  {
   "cell_type": "code",
   "execution_count": 78,
   "metadata": {},
   "outputs": [
    {
     "data": {
      "text/plain": [
       "<AxesSubplot: xlabel='Glucose uptake [mmol/g DW/h]', ylabel='Biomass objective [1/h]'>"
      ]
     },
     "execution_count": 78,
     "metadata": {},
     "output_type": "execute_result"
    },
    {
     "data": {
      "image/png": "[encoded data removed]",
      "text/plain": [
       "<Figure size 640x480 with 1 Axes>"
      ]
     },
     "metadata": {},
     "output_type": "display_data"
    }
   ],
   "source": [
    "ppp_biomass.plot(x='EX_glc__D_e', y='flux_maximum', xlabel=\"Glucose uptake [mmol/g DW/h]\", ylabel=\"Biomass objective [1/h]\")\n"
   ]
  },
  {
   "cell_type": "markdown",
   "metadata": {},
   "source": [
    "##### Determining the optimal O2 uptake rate"
   ]
  },
  {
   "cell_type": "code",
   "execution_count": 38,
   "metadata": {},
   "outputs": [],
   "source": [
    "ppp_o2 = production_envelope(model,\n",
    "                    reactions=[model.reactions.EX_o2_e],\n",
    "                    objective=model.reactions.BIOMASS_SC5_notrace)\n",
    "                    "
   ]
  },
  {
   "cell_type": "code",
   "execution_count": 39,
   "metadata": {},
   "outputs": [
    {
     "data": {
      "text/plain": [
       "-2.0"
      ]
     },
     "execution_count": 39,
     "metadata": {},
     "output_type": "execute_result"
    }
   ],
   "source": [
    "ppp_o2.EX_o2_e[ppp_o2.flux_maximum.idxmax()]"
   ]
  },
  {
   "cell_type": "code",
   "execution_count": 40,
   "metadata": {},
   "outputs": [
    {
     "data": {
      "text/plain": [
       "<AxesSubplot: xlabel='EX_o2_e'>"
      ]
     },
     "execution_count": 40,
     "metadata": {},
     "output_type": "execute_result"
    },
    {
     "data": {
      "image/png": "[encoded data removed]",
      "text/plain": [
       "<Figure size 640x480 with 1 Axes>"
      ]
     },
     "metadata": {},
     "output_type": "display_data"
    }
   ],
   "source": [
    "ppp_o2.plot(x='EX_o2_e', y='flux_maximum')\n"
   ]
  },
  {
   "cell_type": "code",
   "execution_count": 50,
   "metadata": {},
   "outputs": [
    {
     "data": {
      "text/plain": [
       "(-2.0,)"
      ]
     },
     "execution_count": 50,
     "metadata": {},
     "output_type": "execute_result"
    }
   ],
   "source": [
    "model.reactions.EX_o2_e.flux,"
   ]
  },
  {
   "cell_type": "code",
   "execution_count": 57,
   "metadata": {},
   "outputs": [
    {
     "name": "stdout",
     "output_type": "stream",
     "text": [
      "With O2 concentration -2.0\n",
      "Maximum growth rate is 35.88087549336204 \n",
      "\n",
      "With O2 concentration -20.0\n",
      "Maximum growth rate is 219.07110053929108 \n",
      "\n",
      "With O2 concentration -200.0\n",
      "Maximum growth rate is 229.12564774372322 \n",
      "\n",
      "With O2 concentration -2000.0\n",
      "Maximum growth rate is 299.73273966001403 \n",
      "\n"
     ]
    }
   ],
   "source": [
    "with model:\n",
    "    model.objective = model.reactions.BIOMASS_SC5_notrace\n",
    "    growth_rate = model.optimize().objective_value\n",
    "    print(\"With O2 concentration\", model.reactions.EX_o2_e.flux)\n",
    "    print(\"Maximum growth rate is\", growth_rate, \"\\n\")\n",
    "    \n",
    "\n",
    "    medium['EX_o2_e'] = 20\n",
    "    model.medium = medium\n",
    "\n",
    "    model.objective = model.reactions.BIOMASS_SC5_notrace\n",
    "    growth_rate = model.optimize().objective_value\n",
    "    print(\"With O2 concentration\", model.reactions.EX_o2_e.flux)\n",
    "    print(\"Maximum growth rate is\", growth_rate, \"\\n\")\n",
    "\n",
    "\n",
    "    medium['EX_o2_e'] = 200\n",
    "    model.medium = medium\n",
    "\n",
    "    model.objective = model.reactions.BIOMASS_SC5_notrace\n",
    "    growth_rate = model.optimize().objective_value\n",
    "    print(\"With O2 concentration\", model.reactions.EX_o2_e.flux)\n",
    "    print(\"Maximum growth rate is\", growth_rate,\"\\n\")\n",
    "\n",
    "    medium['EX_o2_e'] = 2000\n",
    "    model.medium = medium\n",
    "\n",
    "    model.objective = model.reactions.BIOMASS_SC5_notrace\n",
    "    growth_rate = model.optimize().objective_value\n",
    "    print(\"With O2 concentration\", model.reactions.EX_o2_e.flux)\n",
    "    print(\"Maximum growth rate is\", growth_rate,\"\\n\")\n",
    "    "
   ]
  },
  {
   "cell_type": "markdown",
   "metadata": {},
   "source": [
    "### Now lets focus on glucose uptake.\n",
    "Resveratrol flux vs. glucose uptake"
   ]
  },
  {
   "cell_type": "code",
   "execution_count": 58,
   "metadata": {},
   "outputs": [
    {
     "data": {
      "text/html": [
       "<div>\n",
       "<style scoped>\n",
       "    .dataframe tbody tr th:only-of-type {\n",
       "        vertical-align: middle;\n",
       "    }\n",
       "\n",
       "    .dataframe tbody tr th {\n",
       "        vertical-align: top;\n",
       "    }\n",
       "\n",
       "    .dataframe thead th {\n",
       "        text-align: right;\n",
       "    }\n",
       "</style>\n",
       "<table border=\"1\" class=\"dataframe\">\n",
       "  <thead>\n",
       "    <tr style=\"text-align: right;\">\n",
       "      <th></th>\n",
       "      <th>carbon_source</th>\n",
       "      <th>flux_minimum</th>\n",
       "      <th>carbon_yield_minimum</th>\n",
       "      <th>mass_yield_minimum</th>\n",
       "      <th>flux_maximum</th>\n",
       "      <th>carbon_yield_maximum</th>\n",
       "      <th>mass_yield_maximum</th>\n",
       "      <th>EX_glc__D_e</th>\n",
       "    </tr>\n",
       "  </thead>\n",
       "  <tbody>\n",
       "    <tr>\n",
       "      <th>0</th>\n",
       "      <td>EX_glc__D_e</td>\n",
       "      <td>0.0</td>\n",
       "      <td>0.0</td>\n",
       "      <td>NaN</td>\n",
       "      <td>857.464286</td>\n",
       "      <td>1.028957e+00</td>\n",
       "      <td>NaN</td>\n",
       "      <td>-10000.000000</td>\n",
       "    </tr>\n",
       "    <tr>\n",
       "      <th>1</th>\n",
       "      <td>EX_glc__D_e</td>\n",
       "      <td>0.0</td>\n",
       "      <td>0.0</td>\n",
       "      <td>NaN</td>\n",
       "      <td>812.351769</td>\n",
       "      <td>1.028979e+00</td>\n",
       "      <td>NaN</td>\n",
       "      <td>-9473.687307</td>\n",
       "    </tr>\n",
       "    <tr>\n",
       "      <th>2</th>\n",
       "      <td>EX_glc__D_e</td>\n",
       "      <td>0.0</td>\n",
       "      <td>0.0</td>\n",
       "      <td>NaN</td>\n",
       "      <td>767.239253</td>\n",
       "      <td>1.029003e+00</td>\n",
       "      <td>NaN</td>\n",
       "      <td>-8947.374613</td>\n",
       "    </tr>\n",
       "    <tr>\n",
       "      <th>3</th>\n",
       "      <td>EX_glc__D_e</td>\n",
       "      <td>0.0</td>\n",
       "      <td>0.0</td>\n",
       "      <td>NaN</td>\n",
       "      <td>722.126736</td>\n",
       "      <td>1.029029e+00</td>\n",
       "      <td>NaN</td>\n",
       "      <td>-8421.061920</td>\n",
       "    </tr>\n",
       "    <tr>\n",
       "      <th>4</th>\n",
       "      <td>EX_glc__D_e</td>\n",
       "      <td>0.0</td>\n",
       "      <td>0.0</td>\n",
       "      <td>NaN</td>\n",
       "      <td>677.014219</td>\n",
       "      <td>1.029060e+00</td>\n",
       "      <td>NaN</td>\n",
       "      <td>-7894.749226</td>\n",
       "    </tr>\n",
       "    <tr>\n",
       "      <th>5</th>\n",
       "      <td>EX_glc__D_e</td>\n",
       "      <td>0.0</td>\n",
       "      <td>0.0</td>\n",
       "      <td>NaN</td>\n",
       "      <td>631.901703</td>\n",
       "      <td>1.029095e+00</td>\n",
       "      <td>NaN</td>\n",
       "      <td>-7368.436533</td>\n",
       "    </tr>\n",
       "    <tr>\n",
       "      <th>6</th>\n",
       "      <td>EX_glc__D_e</td>\n",
       "      <td>0.0</td>\n",
       "      <td>0.0</td>\n",
       "      <td>NaN</td>\n",
       "      <td>586.789186</td>\n",
       "      <td>1.029135e+00</td>\n",
       "      <td>NaN</td>\n",
       "      <td>-6842.123839</td>\n",
       "    </tr>\n",
       "    <tr>\n",
       "      <th>7</th>\n",
       "      <td>EX_glc__D_e</td>\n",
       "      <td>0.0</td>\n",
       "      <td>0.0</td>\n",
       "      <td>NaN</td>\n",
       "      <td>541.676670</td>\n",
       "      <td>1.029182e+00</td>\n",
       "      <td>NaN</td>\n",
       "      <td>-6315.811146</td>\n",
       "    </tr>\n",
       "    <tr>\n",
       "      <th>8</th>\n",
       "      <td>EX_glc__D_e</td>\n",
       "      <td>0.0</td>\n",
       "      <td>0.0</td>\n",
       "      <td>NaN</td>\n",
       "      <td>496.564153</td>\n",
       "      <td>1.029238e+00</td>\n",
       "      <td>NaN</td>\n",
       "      <td>-5789.498452</td>\n",
       "    </tr>\n",
       "    <tr>\n",
       "      <th>9</th>\n",
       "      <td>EX_glc__D_e</td>\n",
       "      <td>0.0</td>\n",
       "      <td>0.0</td>\n",
       "      <td>NaN</td>\n",
       "      <td>451.451636</td>\n",
       "      <td>1.029304e+00</td>\n",
       "      <td>NaN</td>\n",
       "      <td>-5263.185759</td>\n",
       "    </tr>\n",
       "    <tr>\n",
       "      <th>10</th>\n",
       "      <td>EX_glc__D_e</td>\n",
       "      <td>0.0</td>\n",
       "      <td>0.0</td>\n",
       "      <td>NaN</td>\n",
       "      <td>406.339120</td>\n",
       "      <td>1.029386e+00</td>\n",
       "      <td>NaN</td>\n",
       "      <td>-4736.873065</td>\n",
       "    </tr>\n",
       "    <tr>\n",
       "      <th>11</th>\n",
       "      <td>EX_glc__D_e</td>\n",
       "      <td>0.0</td>\n",
       "      <td>0.0</td>\n",
       "      <td>NaN</td>\n",
       "      <td>361.226603</td>\n",
       "      <td>1.029487e+00</td>\n",
       "      <td>NaN</td>\n",
       "      <td>-4210.560372</td>\n",
       "    </tr>\n",
       "    <tr>\n",
       "      <th>12</th>\n",
       "      <td>EX_glc__D_e</td>\n",
       "      <td>0.0</td>\n",
       "      <td>0.0</td>\n",
       "      <td>NaN</td>\n",
       "      <td>316.114087</td>\n",
       "      <td>1.029618e+00</td>\n",
       "      <td>NaN</td>\n",
       "      <td>-3684.247678</td>\n",
       "    </tr>\n",
       "    <tr>\n",
       "      <th>13</th>\n",
       "      <td>EX_glc__D_e</td>\n",
       "      <td>0.0</td>\n",
       "      <td>0.0</td>\n",
       "      <td>NaN</td>\n",
       "      <td>271.001570</td>\n",
       "      <td>1.029793e+00</td>\n",
       "      <td>NaN</td>\n",
       "      <td>-3157.934985</td>\n",
       "    </tr>\n",
       "    <tr>\n",
       "      <th>14</th>\n",
       "      <td>EX_glc__D_e</td>\n",
       "      <td>0.0</td>\n",
       "      <td>0.0</td>\n",
       "      <td>NaN</td>\n",
       "      <td>225.889054</td>\n",
       "      <td>1.030037e+00</td>\n",
       "      <td>NaN</td>\n",
       "      <td>-2631.622291</td>\n",
       "    </tr>\n",
       "    <tr>\n",
       "      <th>15</th>\n",
       "      <td>EX_glc__D_e</td>\n",
       "      <td>0.0</td>\n",
       "      <td>0.0</td>\n",
       "      <td>NaN</td>\n",
       "      <td>180.776537</td>\n",
       "      <td>1.030404e+00</td>\n",
       "      <td>NaN</td>\n",
       "      <td>-2105.309598</td>\n",
       "    </tr>\n",
       "    <tr>\n",
       "      <th>16</th>\n",
       "      <td>EX_glc__D_e</td>\n",
       "      <td>0.0</td>\n",
       "      <td>0.0</td>\n",
       "      <td>NaN</td>\n",
       "      <td>135.664020</td>\n",
       "      <td>1.031014e+00</td>\n",
       "      <td>NaN</td>\n",
       "      <td>-1578.996904</td>\n",
       "    </tr>\n",
       "    <tr>\n",
       "      <th>17</th>\n",
       "      <td>EX_glc__D_e</td>\n",
       "      <td>0.0</td>\n",
       "      <td>0.0</td>\n",
       "      <td>NaN</td>\n",
       "      <td>90.551504</td>\n",
       "      <td>1.032236e+00</td>\n",
       "      <td>NaN</td>\n",
       "      <td>-1052.684211</td>\n",
       "    </tr>\n",
       "    <tr>\n",
       "      <th>18</th>\n",
       "      <td>EX_glc__D_e</td>\n",
       "      <td>0.0</td>\n",
       "      <td>0.0</td>\n",
       "      <td>NaN</td>\n",
       "      <td>45.438987</td>\n",
       "      <td>1.035899e+00</td>\n",
       "      <td>NaN</td>\n",
       "      <td>-526.371517</td>\n",
       "    </tr>\n",
       "    <tr>\n",
       "      <th>19</th>\n",
       "      <td>EX_glc__D_e</td>\n",
       "      <td>0.0</td>\n",
       "      <td>0.0</td>\n",
       "      <td>NaN</td>\n",
       "      <td>0.000000</td>\n",
       "      <td>1.934147e-14</td>\n",
       "      <td>NaN</td>\n",
       "      <td>-0.058824</td>\n",
       "    </tr>\n",
       "  </tbody>\n",
       "</table>\n",
       "</div>"
      ],
      "text/plain": [
       "   carbon_source  flux_minimum  carbon_yield_minimum  mass_yield_minimum  \\\n",
       "0    EX_glc__D_e           0.0                   0.0                 NaN   \n",
       "1    EX_glc__D_e           0.0                   0.0                 NaN   \n",
       "2    EX_glc__D_e           0.0                   0.0                 NaN   \n",
       "3    EX_glc__D_e           0.0                   0.0                 NaN   \n",
       "4    EX_glc__D_e           0.0                   0.0                 NaN   \n",
       "5    EX_glc__D_e           0.0                   0.0                 NaN   \n",
       "6    EX_glc__D_e           0.0                   0.0                 NaN   \n",
       "7    EX_glc__D_e           0.0                   0.0                 NaN   \n",
       "8    EX_glc__D_e           0.0                   0.0                 NaN   \n",
       "9    EX_glc__D_e           0.0                   0.0                 NaN   \n",
       "10   EX_glc__D_e           0.0                   0.0                 NaN   \n",
       "11   EX_glc__D_e           0.0                   0.0                 NaN   \n",
       "12   EX_glc__D_e           0.0                   0.0                 NaN   \n",
       "13   EX_glc__D_e           0.0                   0.0                 NaN   \n",
       "14   EX_glc__D_e           0.0                   0.0                 NaN   \n",
       "15   EX_glc__D_e           0.0                   0.0                 NaN   \n",
       "16   EX_glc__D_e           0.0                   0.0                 NaN   \n",
       "17   EX_glc__D_e           0.0                   0.0                 NaN   \n",
       "18   EX_glc__D_e           0.0                   0.0                 NaN   \n",
       "19   EX_glc__D_e           0.0                   0.0                 NaN   \n",
       "\n",
       "    flux_maximum  carbon_yield_maximum  mass_yield_maximum   EX_glc__D_e  \n",
       "0     857.464286          1.028957e+00                 NaN -10000.000000  \n",
       "1     812.351769          1.028979e+00                 NaN  -9473.687307  \n",
       "2     767.239253          1.029003e+00                 NaN  -8947.374613  \n",
       "3     722.126736          1.029029e+00                 NaN  -8421.061920  \n",
       "4     677.014219          1.029060e+00                 NaN  -7894.749226  \n",
       "5     631.901703          1.029095e+00                 NaN  -7368.436533  \n",
       "6     586.789186          1.029135e+00                 NaN  -6842.123839  \n",
       "7     541.676670          1.029182e+00                 NaN  -6315.811146  \n",
       "8     496.564153          1.029238e+00                 NaN  -5789.498452  \n",
       "9     451.451636          1.029304e+00                 NaN  -5263.185759  \n",
       "10    406.339120          1.029386e+00                 NaN  -4736.873065  \n",
       "11    361.226603          1.029487e+00                 NaN  -4210.560372  \n",
       "12    316.114087          1.029618e+00                 NaN  -3684.247678  \n",
       "13    271.001570          1.029793e+00                 NaN  -3157.934985  \n",
       "14    225.889054          1.030037e+00                 NaN  -2631.622291  \n",
       "15    180.776537          1.030404e+00                 NaN  -2105.309598  \n",
       "16    135.664020          1.031014e+00                 NaN  -1578.996904  \n",
       "17     90.551504          1.032236e+00                 NaN  -1052.684211  \n",
       "18     45.438987          1.035899e+00                 NaN   -526.371517  \n",
       "19      0.000000          1.934147e-14                 NaN     -0.058824  "
      ]
     },
     "execution_count": 58,
     "metadata": {},
     "output_type": "execute_result"
    }
   ],
   "source": [
    "ppp_resveratrol = production_envelope(model,\n",
    "                    reactions=[model.reactions.EX_glc__D_e],\n",
    "                    objective=model.reactions.VVVST1)\n",
    "ppp_resveratrol"
   ]
  },
  {
   "cell_type": "code",
   "execution_count": 59,
   "metadata": {},
   "outputs": [
    {
     "data": {
      "text/plain": [
       "<AxesSubplot: xlabel='Glucose uptake [mmol/g DW/h]', ylabel='Resveratrol objective [mmol/g DW/h]'>"
      ]
     },
     "execution_count": 59,
     "metadata": {},
     "output_type": "execute_result"
    },
    {
     "data": {
      "image/png": "[encoded data removed]",
      "text/plain": [
       "<Figure size 640x480 with 1 Axes>"
      ]
     },
     "metadata": {},
     "output_type": "display_data"
    }
   ],
   "source": [
    "ppp_resveratrol.plot(x='EX_glc__D_e', y='flux_maximum', xlabel=\"Glucose uptake [mmol/g DW/h]\", \n",
    "                         ylabel=\"Resveratrol objective [mmol/g DW/h]\", grid=True)#.set_ylim(0, 3)"
   ]
  },
  {
   "cell_type": "markdown",
   "metadata": {},
   "source": [
    "Now lets analyze biomass formation vs. O2 uptake"
   ]
  },
  {
   "cell_type": "code",
   "execution_count": 79,
   "metadata": {},
   "outputs": [
    {
     "name": "stdout",
     "output_type": "stream",
     "text": [
      "(-2.0, 999999.0)\n"
     ]
    }
   ],
   "source": [
    "print(model.reactions.EX_o2_e.bounds) #This is too little oxygen"
   ]
  },
  {
   "cell_type": "code",
   "execution_count": 85,
   "metadata": {},
   "outputs": [],
   "source": [
    "medium = model.medium #Increase oxygen concentration\n",
    "\n",
    "medium['EX_o2_e'] = 600\n",
    "model.reactions.EX_o2_e.bounds = -1000, 0"
   ]
  },
  {
   "cell_type": "code",
   "execution_count": 86,
   "metadata": {},
   "outputs": [
    {
     "name": "stdout",
     "output_type": "stream",
     "text": [
      "(-1000, 0)\n"
     ]
    }
   ],
   "source": [
    "print(model.reactions.EX_o2_e.bounds) #This is too little oxygen"
   ]
  },
  {
   "cell_type": "code",
   "execution_count": 87,
   "metadata": {},
   "outputs": [
    {
     "data": {
      "text/html": [
       "<div>\n",
       "<style scoped>\n",
       "    .dataframe tbody tr th:only-of-type {\n",
       "        vertical-align: middle;\n",
       "    }\n",
       "\n",
       "    .dataframe tbody tr th {\n",
       "        vertical-align: top;\n",
       "    }\n",
       "\n",
       "    .dataframe thead th {\n",
       "        text-align: right;\n",
       "    }\n",
       "</style>\n",
       "<table border=\"1\" class=\"dataframe\">\n",
       "  <thead>\n",
       "    <tr style=\"text-align: right;\">\n",
       "      <th></th>\n",
       "      <th>carbon_source</th>\n",
       "      <th>flux_minimum</th>\n",
       "      <th>carbon_yield_minimum</th>\n",
       "      <th>mass_yield_minimum</th>\n",
       "      <th>flux_maximum</th>\n",
       "      <th>carbon_yield_maximum</th>\n",
       "      <th>mass_yield_maximum</th>\n",
       "      <th>EX_o2_e</th>\n",
       "    </tr>\n",
       "  </thead>\n",
       "  <tbody>\n",
       "    <tr>\n",
       "      <th>0</th>\n",
       "      <td>EX_glc__D_e</td>\n",
       "      <td>0.0</td>\n",
       "      <td>2.981508e-15</td>\n",
       "      <td>NaN</td>\n",
       "      <td>1896.385714</td>\n",
       "      <td>1.137831</td>\n",
       "      <td>NaN</td>\n",
       "      <td>-1000.000000</td>\n",
       "    </tr>\n",
       "    <tr>\n",
       "      <th>1</th>\n",
       "      <td>EX_glc__D_e</td>\n",
       "      <td>0.0</td>\n",
       "      <td>4.325720e-14</td>\n",
       "      <td>NaN</td>\n",
       "      <td>1886.799248</td>\n",
       "      <td>1.132080</td>\n",
       "      <td>NaN</td>\n",
       "      <td>-947.368421</td>\n",
       "    </tr>\n",
       "    <tr>\n",
       "      <th>2</th>\n",
       "      <td>EX_glc__D_e</td>\n",
       "      <td>0.0</td>\n",
       "      <td>4.772440e-14</td>\n",
       "      <td>NaN</td>\n",
       "      <td>1877.212782</td>\n",
       "      <td>1.126328</td>\n",
       "      <td>NaN</td>\n",
       "      <td>-894.736842</td>\n",
       "    </tr>\n",
       "    <tr>\n",
       "      <th>3</th>\n",
       "      <td>EX_glc__D_e</td>\n",
       "      <td>0.0</td>\n",
       "      <td>4.444045e-14</td>\n",
       "      <td>NaN</td>\n",
       "      <td>1867.626316</td>\n",
       "      <td>1.120576</td>\n",
       "      <td>NaN</td>\n",
       "      <td>-842.105263</td>\n",
       "    </tr>\n",
       "    <tr>\n",
       "      <th>4</th>\n",
       "      <td>EX_glc__D_e</td>\n",
       "      <td>0.0</td>\n",
       "      <td>4.528073e-14</td>\n",
       "      <td>NaN</td>\n",
       "      <td>1858.039850</td>\n",
       "      <td>1.114824</td>\n",
       "      <td>NaN</td>\n",
       "      <td>-789.473684</td>\n",
       "    </tr>\n",
       "    <tr>\n",
       "      <th>5</th>\n",
       "      <td>EX_glc__D_e</td>\n",
       "      <td>0.0</td>\n",
       "      <td>4.341154e-14</td>\n",
       "      <td>NaN</td>\n",
       "      <td>1848.453383</td>\n",
       "      <td>1.109072</td>\n",
       "      <td>NaN</td>\n",
       "      <td>-736.842105</td>\n",
       "    </tr>\n",
       "    <tr>\n",
       "      <th>6</th>\n",
       "      <td>EX_glc__D_e</td>\n",
       "      <td>0.0</td>\n",
       "      <td>4.522071e-14</td>\n",
       "      <td>NaN</td>\n",
       "      <td>1838.866917</td>\n",
       "      <td>1.103320</td>\n",
       "      <td>NaN</td>\n",
       "      <td>-684.210526</td>\n",
       "    </tr>\n",
       "    <tr>\n",
       "      <th>7</th>\n",
       "      <td>EX_glc__D_e</td>\n",
       "      <td>0.0</td>\n",
       "      <td>4.278562e-14</td>\n",
       "      <td>NaN</td>\n",
       "      <td>1829.280451</td>\n",
       "      <td>1.097568</td>\n",
       "      <td>NaN</td>\n",
       "      <td>-631.578947</td>\n",
       "    </tr>\n",
       "    <tr>\n",
       "      <th>8</th>\n",
       "      <td>EX_glc__D_e</td>\n",
       "      <td>0.0</td>\n",
       "      <td>4.966218e-14</td>\n",
       "      <td>NaN</td>\n",
       "      <td>1819.693985</td>\n",
       "      <td>1.091816</td>\n",
       "      <td>NaN</td>\n",
       "      <td>-578.947368</td>\n",
       "    </tr>\n",
       "    <tr>\n",
       "      <th>9</th>\n",
       "      <td>EX_glc__D_e</td>\n",
       "      <td>0.0</td>\n",
       "      <td>4.462051e-14</td>\n",
       "      <td>NaN</td>\n",
       "      <td>1810.107519</td>\n",
       "      <td>1.086065</td>\n",
       "      <td>NaN</td>\n",
       "      <td>-526.315789</td>\n",
       "    </tr>\n",
       "    <tr>\n",
       "      <th>10</th>\n",
       "      <td>EX_glc__D_e</td>\n",
       "      <td>0.0</td>\n",
       "      <td>4.823885e-14</td>\n",
       "      <td>NaN</td>\n",
       "      <td>1800.521053</td>\n",
       "      <td>1.080313</td>\n",
       "      <td>NaN</td>\n",
       "      <td>-473.684211</td>\n",
       "    </tr>\n",
       "    <tr>\n",
       "      <th>11</th>\n",
       "      <td>EX_glc__D_e</td>\n",
       "      <td>0.0</td>\n",
       "      <td>5.009090e-14</td>\n",
       "      <td>NaN</td>\n",
       "      <td>1790.934586</td>\n",
       "      <td>1.074561</td>\n",
       "      <td>NaN</td>\n",
       "      <td>-421.052632</td>\n",
       "    </tr>\n",
       "    <tr>\n",
       "      <th>12</th>\n",
       "      <td>EX_glc__D_e</td>\n",
       "      <td>0.0</td>\n",
       "      <td>5.079399e-14</td>\n",
       "      <td>NaN</td>\n",
       "      <td>1781.348120</td>\n",
       "      <td>1.068809</td>\n",
       "      <td>NaN</td>\n",
       "      <td>-368.421053</td>\n",
       "    </tr>\n",
       "    <tr>\n",
       "      <th>13</th>\n",
       "      <td>EX_glc__D_e</td>\n",
       "      <td>0.0</td>\n",
       "      <td>5.000515e-14</td>\n",
       "      <td>NaN</td>\n",
       "      <td>1771.761654</td>\n",
       "      <td>1.063057</td>\n",
       "      <td>NaN</td>\n",
       "      <td>-315.789474</td>\n",
       "    </tr>\n",
       "    <tr>\n",
       "      <th>14</th>\n",
       "      <td>EX_glc__D_e</td>\n",
       "      <td>0.0</td>\n",
       "      <td>4.582091e-14</td>\n",
       "      <td>NaN</td>\n",
       "      <td>1762.175188</td>\n",
       "      <td>1.057305</td>\n",
       "      <td>NaN</td>\n",
       "      <td>-263.157895</td>\n",
       "    </tr>\n",
       "    <tr>\n",
       "      <th>15</th>\n",
       "      <td>EX_glc__D_e</td>\n",
       "      <td>0.0</td>\n",
       "      <td>4.878761e-14</td>\n",
       "      <td>NaN</td>\n",
       "      <td>1752.588722</td>\n",
       "      <td>1.051553</td>\n",
       "      <td>NaN</td>\n",
       "      <td>-210.526316</td>\n",
       "    </tr>\n",
       "    <tr>\n",
       "      <th>16</th>\n",
       "      <td>EX_glc__D_e</td>\n",
       "      <td>0.0</td>\n",
       "      <td>4.820456e-14</td>\n",
       "      <td>NaN</td>\n",
       "      <td>1743.002256</td>\n",
       "      <td>1.045801</td>\n",
       "      <td>NaN</td>\n",
       "      <td>-157.894737</td>\n",
       "    </tr>\n",
       "    <tr>\n",
       "      <th>17</th>\n",
       "      <td>EX_glc__D_e</td>\n",
       "      <td>0.0</td>\n",
       "      <td>3.060080e-14</td>\n",
       "      <td>NaN</td>\n",
       "      <td>1733.415789</td>\n",
       "      <td>1.040049</td>\n",
       "      <td>NaN</td>\n",
       "      <td>-105.263158</td>\n",
       "    </tr>\n",
       "    <tr>\n",
       "      <th>18</th>\n",
       "      <td>EX_glc__D_e</td>\n",
       "      <td>0.0</td>\n",
       "      <td>8.692675e-13</td>\n",
       "      <td>NaN</td>\n",
       "      <td>1723.829323</td>\n",
       "      <td>1.034298</td>\n",
       "      <td>NaN</td>\n",
       "      <td>-52.631579</td>\n",
       "    </tr>\n",
       "    <tr>\n",
       "      <th>19</th>\n",
       "      <td>EX_glc__D_e</td>\n",
       "      <td>0.0</td>\n",
       "      <td>1.805412e-12</td>\n",
       "      <td>NaN</td>\n",
       "      <td>1714.242857</td>\n",
       "      <td>1.028546</td>\n",
       "      <td>NaN</td>\n",
       "      <td>0.000000</td>\n",
       "    </tr>\n",
       "  </tbody>\n",
       "</table>\n",
       "</div>"
      ],
      "text/plain": [
       "   carbon_source  flux_minimum  carbon_yield_minimum  mass_yield_minimum  \\\n",
       "0    EX_glc__D_e           0.0          2.981508e-15                 NaN   \n",
       "1    EX_glc__D_e           0.0          4.325720e-14                 NaN   \n",
       "2    EX_glc__D_e           0.0          4.772440e-14                 NaN   \n",
       "3    EX_glc__D_e           0.0          4.444045e-14                 NaN   \n",
       "4    EX_glc__D_e           0.0          4.528073e-14                 NaN   \n",
       "5    EX_glc__D_e           0.0          4.341154e-14                 NaN   \n",
       "6    EX_glc__D_e           0.0          4.522071e-14                 NaN   \n",
       "7    EX_glc__D_e           0.0          4.278562e-14                 NaN   \n",
       "8    EX_glc__D_e           0.0          4.966218e-14                 NaN   \n",
       "9    EX_glc__D_e           0.0          4.462051e-14                 NaN   \n",
       "10   EX_glc__D_e           0.0          4.823885e-14                 NaN   \n",
       "11   EX_glc__D_e           0.0          5.009090e-14                 NaN   \n",
       "12   EX_glc__D_e           0.0          5.079399e-14                 NaN   \n",
       "13   EX_glc__D_e           0.0          5.000515e-14                 NaN   \n",
       "14   EX_glc__D_e           0.0          4.582091e-14                 NaN   \n",
       "15   EX_glc__D_e           0.0          4.878761e-14                 NaN   \n",
       "16   EX_glc__D_e           0.0          4.820456e-14                 NaN   \n",
       "17   EX_glc__D_e           0.0          3.060080e-14                 NaN   \n",
       "18   EX_glc__D_e           0.0          8.692675e-13                 NaN   \n",
       "19   EX_glc__D_e           0.0          1.805412e-12                 NaN   \n",
       "\n",
       "    flux_maximum  carbon_yield_maximum  mass_yield_maximum      EX_o2_e  \n",
       "0    1896.385714              1.137831                 NaN -1000.000000  \n",
       "1    1886.799248              1.132080                 NaN  -947.368421  \n",
       "2    1877.212782              1.126328                 NaN  -894.736842  \n",
       "3    1867.626316              1.120576                 NaN  -842.105263  \n",
       "4    1858.039850              1.114824                 NaN  -789.473684  \n",
       "5    1848.453383              1.109072                 NaN  -736.842105  \n",
       "6    1838.866917              1.103320                 NaN  -684.210526  \n",
       "7    1829.280451              1.097568                 NaN  -631.578947  \n",
       "8    1819.693985              1.091816                 NaN  -578.947368  \n",
       "9    1810.107519              1.086065                 NaN  -526.315789  \n",
       "10   1800.521053              1.080313                 NaN  -473.684211  \n",
       "11   1790.934586              1.074561                 NaN  -421.052632  \n",
       "12   1781.348120              1.068809                 NaN  -368.421053  \n",
       "13   1771.761654              1.063057                 NaN  -315.789474  \n",
       "14   1762.175188              1.057305                 NaN  -263.157895  \n",
       "15   1752.588722              1.051553                 NaN  -210.526316  \n",
       "16   1743.002256              1.045801                 NaN  -157.894737  \n",
       "17   1733.415789              1.040049                 NaN  -105.263158  \n",
       "18   1723.829323              1.034298                 NaN   -52.631579  \n",
       "19   1714.242857              1.028546                 NaN     0.000000  "
      ]
     },
     "execution_count": 87,
     "metadata": {},
     "output_type": "execute_result"
    }
   ],
   "source": [
    "ppp_resv_o2 = production_envelope(model,\n",
    "                    reactions=[model.reactions.EX_o2_e],\n",
    "                    objective=model.reactions.VVVST1)\n",
    "ppp_resv_o2"
   ]
  },
  {
   "cell_type": "code",
   "execution_count": 88,
   "metadata": {},
   "outputs": [
    {
     "data": {
      "text/plain": [
       "<AxesSubplot: xlabel='Oxygen uptake rate [mmol/g DW/h]', ylabel='Resveratrol objective [mmol/g DW/h]'>"
      ]
     },
     "execution_count": 88,
     "metadata": {},
     "output_type": "execute_result"
    },
    {
     "data": {
      "image/png": "[encoded data removed]",
      "text/plain": [
       "<Figure size 640x480 with 1 Axes>"
      ]
     },
     "metadata": {},
     "output_type": "display_data"
    }
   ],
   "source": [
    "ppp_resv_o2.plot(x='EX_o2_e', y='flux_maximum', xlabel=\"Oxygen uptake rate [mmol/g DW/h]\", ylabel=\"Resveratrol objective [mmol/g DW/h]\", grid=True)"
   ]
  }
 ],
 "metadata": {
  "kernelspec": {
   "display_name": "Python 3.10.7 64-bit",
   "language": "python",
   "name": "python3"
  },
  "language_info": {
   "codemirror_mode": {
    "name": "ipython",
    "version": 3
   },
   "file_extension": ".py",
   "mimetype": "text/x-python",
   "name": "python",
   "nbconvert_exporter": "python",
   "pygments_lexer": "ipython3",
   "version": "3.10.7"
  },
  "orig_nbformat": 4,
  "vscode": {
   "interpreter": {
    "hash": "aee8b7b246df8f9039afb4144a1f6fd8d2ca17a180786b69acc140d282b71a49"
   }
  }
 },
 "nbformat": 4,
 "nbformat_minor": 2
}
